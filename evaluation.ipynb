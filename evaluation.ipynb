{
 "cells": [
  {
   "cell_type": "code",
   "execution_count": 1,
   "id": "fddb2beb-cf9f-4064-8fd1-7fdb9c92d2fd",
   "metadata": {},
   "outputs": [],
   "source": [
    "import torch\n",
    "import numpy as np\n",
    "import pandas as pd\n",
    "\n",
    "from train_model import run_model, MODELS, WordModel, train_model, test_model\n",
    "from data_processor import DoqProcessor, VerbProcessor, ProstProcessor\n",
    "\n",
    "from matplotlib import pyplot as plt"
   ]
  },
  {
   "cell_type": "code",
   "execution_count": 2,
   "id": "652652bd-62a2-46d9-9c73-89ed8caa1fe2",
   "metadata": {},
   "outputs": [],
   "source": [
    "doq_train = DoqProcessor('train')\n",
    "train_labels, _, train_sentences, _ = doq_train.forward()\n",
    "\n",
    "doq_test = DoqProcessor('test')\n",
    "test_labels, _, test_sentences, _ = doq_test.forward()\n",
    "\n",
    "doq = {'name': 'doq'}\n",
    "doq['train'] = {\n",
    "    'labels': train_labels,\n",
    "    'sents': train_sentences,\n",
    "}\n",
    "\n",
    "doq['test'] = {\n",
    "    'labels': test_labels,\n",
    "    'sents': test_sentences,\n",
    "}"
   ]
  },
  {
   "cell_type": "code",
   "execution_count": 2,
   "id": "9c507423-0fa9-4576-9f37-39435fda7671",
   "metadata": {
    "tags": []
   },
   "outputs": [
    {
     "name": "stderr",
     "output_type": "stream",
     "text": [
      "Using custom data configuration default\n",
      "Reusing dataset prost (/Users/g/.cache/huggingface/datasets/corypaik___prost/default/1.0.1/5723fec956da2bd5e34a0ac6f53f398b771fbb743fc979c6a50b513888d537c7)\n",
      "Loading cached split indices for dataset at /Users/g/.cache/huggingface/datasets/corypaik___prost/default/1.0.1/5723fec956da2bd5e34a0ac6f53f398b771fbb743fc979c6a50b513888d537c7/cache-3ba89f75d16d1d23.arrow and /Users/g/.cache/huggingface/datasets/corypaik___prost/default/1.0.1/5723fec956da2bd5e34a0ac6f53f398b771fbb743fc979c6a50b513888d537c7/cache-dea55751f6b71d2b.arrow\n",
      "Using custom data configuration default\n",
      "Reusing dataset prost (/Users/g/.cache/huggingface/datasets/corypaik___prost/default/1.0.1/5723fec956da2bd5e34a0ac6f53f398b771fbb743fc979c6a50b513888d537c7)\n",
      "Loading cached split indices for dataset at /Users/g/.cache/huggingface/datasets/corypaik___prost/default/1.0.1/5723fec956da2bd5e34a0ac6f53f398b771fbb743fc979c6a50b513888d537c7/cache-556ac204ac069f7c.arrow and /Users/g/.cache/huggingface/datasets/corypaik___prost/default/1.0.1/5723fec956da2bd5e34a0ac6f53f398b771fbb743fc979c6a50b513888d537c7/cache-746b2ee70a966be3.arrow\n"
     ]
    }
   ],
   "source": [
    "prost_train = ProstProcessor('train', batch_size=0, attribute='all')\n",
    "train_labels, _, train_sentences, _ = prost_train.forward()\n",
    "\n",
    "prost_test = ProstProcessor('test', batch_size=0, attribute='all')\n",
    "test_labels, _, test_sentences, _ = prost_test.forward()\n",
    "\n",
    "test_labels = np.array(test_labels)\n",
    "test_sentences = np.array(test_sentences)"
   ]
  },
  {
   "cell_type": "code",
   "execution_count": 3,
   "id": "dc4fa3d1-9266-43c8-9ea3-f4f3d5cce48d",
   "metadata": {
    "tags": []
   },
   "outputs": [
    {
     "name": "stdout",
     "output_type": "stream",
     "text": [
      "7496 7496\n"
     ]
    }
   ],
   "source": [
    "overlap = np.array(set(train_sentences) & set(test_sentences))\n",
    "\n",
    "indexs = []\n",
    "for i, sent in enumerate(test_sentences):\n",
    "    if sent not in overlap:\n",
    "        indexs += [i]\n",
    "\n",
    "indexs = np.array(indexs)\n",
    "\n",
    "test_labels = list(test_labels[indexs])\n",
    "test_sentences = list(test_sentences[indexs])\n",
    "\n",
    "print(len(test_labels), len(test_sentences))\n",
    "\n",
    "prost = {'name': 'prost'}\n",
    "prost['train'] = {\n",
    "    'labels': train_labels,\n",
    "    'sents': train_sentences,\n",
    "}\n",
    "\n",
    "prost['test'] = {\n",
    "    'labels': test_labels[-1000:],\n",
    "    'sents': test_sentences[-1000:],\n",
    "}"
   ]
  },
  {
   "cell_type": "code",
   "execution_count": 5,
   "id": "737ce818-745b-405a-9e6e-c52786dbecee",
   "metadata": {},
   "outputs": [],
   "source": [
    "# verb = {}\n",
    "# for attr in ['weight', 'speed', 'size', 'strength', 'rigidness']:\n",
    "#     verb_train = VerbProcessor(attr, 20, 'train', 0)\n",
    "#     train_labels, _, train_sentences, _ = verb_train.forward()\n",
    "\n",
    "#     verb_test = VerbProcessor(attr, 20, 'test', 0)\n",
    "#     test_labels, _, test_sentences, _ = verb_test.forward()\n",
    "\n",
    "#     verb[attr] = {}\n",
    "#     verb[attr]['train'] = {\n",
    "#         'labels': train_labels,\n",
    "#         'sents': train_sentences,\n",
    "#     }\n",
    "\n",
    "#     verb[attr]['test'] = {\n",
    "#         'labels': test_labels,\n",
    "#         'sents': test_sentences,\n",
    "#     }\n",
    "\n",
    "verb = {\n",
    "    'name': 'verb',\n",
    "    'train': {\n",
    "        'sents': [],\n",
    "        'labels': [],\n",
    "    },\n",
    "    'test': {\n",
    "        'sents': [],\n",
    "        'labels': [],\n",
    "    }\n",
    "}\n",
    "\n",
    "for attr in ['weight', 'speed', 'size', 'strength', 'rigidness']:\n",
    "    verb_train = VerbProcessor(attr, 20, 'train', 0)\n",
    "    train_labels, _, train_sentences, _ = verb_train.forward()\n",
    "    \n",
    "    verb['train']['labels'] += train_labels\n",
    "    verb['train']['sents'] += train_sentences\n",
    "\n",
    "    verb_test = VerbProcessor(attr, 20, 'test', 0)\n",
    "    test_labels, _, test_sentences, _ = verb_test.forward()\n",
    "    \n",
    "    verb['test']['labels'] += test_labels\n",
    "    verb['test']['sents'] += test_sentences\n",
    "    break"
   ]
  },
  {
   "cell_type": "code",
   "execution_count": 15,
   "id": "9f1b3f82-f48e-4103-b3cd-5b6155d556da",
   "metadata": {},
   "outputs": [],
   "source": [
    "def evaluate_prost(model, try_encoder=True):    \n",
    "    m = WordModel(model, try_encoder=try_encoder)\n",
    "    train_features = m.get_features(prost['train']['sents'])\n",
    "    test_features = m.get_features(prost['test']['sents'])\n",
    "    \n",
    "    print(train_features.shape, test_features.shape)\n",
    "    \n",
    "    \n",
    "    lr = train_model(train_features, prost['train']['labels'])\n",
    "    acc, probs, errors = test_model(lr, test_features, prost['test']['labels'], return_probs=True)\n",
    "    \n",
    "    assert len(probs) % 4 == 0\n",
    "    \n",
    "    correct_count = 0.0\n",
    "    \n",
    "    for i in range(0, probs.shape[0], 4):\n",
    "        example = probs[i:i+4]\n",
    "        true_pred = np.max(example, axis=0)\n",
    "        \n",
    "        for j, ex in enumerate(example):\n",
    "            if ex[1] == true_pred[1] and prost['test']['labels'][i + j]:\n",
    "                correct_count += 1\n",
    "                break\n",
    "    \n",
    "    return correct_count / (probs.shape[0] / 4) * 100, errors, probs"
   ]
  },
  {
   "cell_type": "code",
   "execution_count": 10,
   "id": "113d15a0-9a50-484d-8814-33e1a572f4d1",
   "metadata": {},
   "outputs": [
    {
     "data": {
      "text/plain": [
       "{'divide': 'ignore', 'over': 'warn', 'under': 'ignore', 'invalid': 'ignore'}"
      ]
     },
     "execution_count": 10,
     "metadata": {},
     "output_type": "execute_result"
    }
   ],
   "source": [
    "np.seterr(divide='ignore', invalid='ignore')"
   ]
  },
  {
   "cell_type": "code",
   "execution_count": 19,
   "id": "75cb3efb-25ae-4f0b-9725-898bb24cdf14",
   "metadata": {},
   "outputs": [],
   "source": [
    "model_preds = {}"
   ]
  },
  {
   "cell_type": "code",
   "execution_count": 20,
   "id": "ede02aec-7fcc-4440-91f3-5d020e0ac540",
   "metadata": {},
   "outputs": [],
   "source": [
    "model_accs = {model: {} for model in MODELS}"
   ]
  },
  {
   "cell_type": "code",
   "execution_count": 22,
   "id": "dc1b2424-b107-4d67-ae4d-e96e65dee8ce",
   "metadata": {
    "tags": []
   },
   "outputs": [
    {
     "name": "stdout",
     "output_type": "stream",
     "text": [
      "t5 doq\n",
      "Model doesn't have native encoder support, use embeddings\n",
      "t5 verb\n",
      "Model doesn't have native encoder support, use embeddings\n",
      "t5 prost\n",
      "Model doesn't have native encoder support, use embeddings\n",
      "lxmert doq\n",
      "Model doesn't have native encoder support, use embeddings\n",
      "lxmert verb\n",
      "Model doesn't have native encoder support, use embeddings\n",
      "lxmert prost\n",
      "Model doesn't have native encoder support, use embeddings\n",
      "uniter doq\n",
      "forward() got an unexpected keyword argument 'input_ids'\n",
      "uniter verb\n",
      "forward() got an unexpected keyword argument 'input_ids'\n",
      "uniter prost\n",
      "forward() got an unexpected keyword argument 'input_ids'\n"
     ]
    }
   ],
   "source": [
    "# Non-pooled evaluation\n",
    "for model in MODELS:\n",
    "    if model not in model_preds:\n",
    "        model_preds[model] = {}\n",
    "    \n",
    "    m = WordModel(model, try_encoder=True)\n",
    "    for d in [doq, verb, prost]:\n",
    "        if d['name'] in model_preds[model]:\n",
    "            continue\n",
    "\n",
    "        print(model, d['name'])\n",
    "        # train\n",
    "        try:\n",
    "            train_features = m.get_features(d['train']['sents'])\n",
    "            lr = train_model(train_features, d['train']['labels'])\n",
    "\n",
    "            test_features = m.get_features(d['test']['sents'])\n",
    "            model_preds[model][d['name']] = [x[0] for x in np.array(lr.predict_proba(test_features))]\n",
    "            accs, _ = test_model(lr, test_features, d['test']['labels'])\n",
    "            model_accs[model][d['name']] = accs\n",
    "        except Exception as e:\n",
    "             print(e)"
   ]
  },
  {
   "cell_type": "code",
   "execution_count": null,
   "id": "b473ceed-f05f-4eca-8e04-883e55d9cdbc",
   "metadata": {},
   "outputs": [],
   "source": []
  },
  {
   "cell_type": "code",
   "execution_count": 6,
   "id": "e4b53340-548e-4f0a-bb63-779958b0d4f3",
   "metadata": {},
   "outputs": [],
   "source": [
    "d = prost\n",
    "m = WordModel('roberta_small', try_encoder=False)\n",
    "train_features = m.get_features(d['train']['sents'])\n",
    "lr = train_model(train_features, d['train']['labels'])\n",
    "\n",
    "test_features = m.get_features(d['test']['sents'])\n",
    "probs = [x[0] for x in np.array(lr.predict_proba(test_features))]\n",
    "acc1, _ = test_model(lr, test_features, d['test']['labels'])"
   ]
  },
  {
   "cell_type": "code",
   "execution_count": 7,
   "id": "bfa17150-fde5-477b-8dd0-5183558f79bc",
   "metadata": {},
   "outputs": [],
   "source": [
    "m = WordModel('roberta', try_encoder=False)\n",
    "train_features = m.get_features(d['train']['sents'])\n",
    "lr2 = train_model(train_features, d['train']['labels'])\n",
    "\n",
    "test_features = m.get_features(d['test']['sents'])\n",
    "probs2 = [x[0] for x in np.array(lr.predict_proba(test_features))]\n",
    "acc2, _ = test_model(lr, test_features, d['test']['labels'])\n"
   ]
  },
  {
   "cell_type": "code",
   "execution_count": 16,
   "id": "fbea9c4b-6d2e-4b5a-a46a-3d791b832b4d",
   "metadata": {
    "tags": []
   },
   "outputs": [
    {
     "name": "stdout",
     "output_type": "stream",
     "text": [
      "(2000, 76800) (1000, 76800)\n"
     ]
    }
   ],
   "source": [
    "acc1, _, probs1 = evaluate_prost('roberta', try_encoder=False)"
   ]
  },
  {
   "cell_type": "code",
   "execution_count": 17,
   "id": "6a4993d0-7ab1-42a0-8b30-e672da860a5f",
   "metadata": {},
   "outputs": [
    {
     "name": "stdout",
     "output_type": "stream",
     "text": [
      "(2000, 76800) (1000, 76800)\n"
     ]
    }
   ],
   "source": [
    "acc2, _, probs2 = evaluate_prost('roberta_small', try_encoder=False)"
   ]
  },
  {
   "cell_type": "code",
   "execution_count": 25,
   "id": "04fbb7d4-99a5-4f28-b35d-2afcfe875942",
   "metadata": {},
   "outputs": [],
   "source": [
    "df = pd.DataFrame({'roberta': [x[0] for x in probs1], 'roberta_small': [x[0] for x in probs2]}.items())"
   ]
  },
  {
   "cell_type": "code",
   "execution_count": 35,
   "id": "59380a7c-a758-4329-8f71-928c4a3e1256",
   "metadata": {},
   "outputs": [],
   "source": []
  },
  {
   "cell_type": "code",
   "execution_count": 38,
   "id": "a4757178-9f22-4cdc-ba63-4e7b929af97e",
   "metadata": {},
   "outputs": [
    {
     "data": {
      "text/plain": [
       "0.8531758476416049"
      ]
     },
     "execution_count": 38,
     "metadata": {},
     "output_type": "execute_result"
    }
   ],
   "source": [
    "1- scipy.spatial.distance.cosine([x[0] for x in probs1], [x[0] for x in probs2])"
   ]
  },
  {
   "cell_type": "code",
   "execution_count": 93,
   "id": "4d082768-7cd9-4967-bc93-79821e51ee16",
   "metadata": {},
   "outputs": [],
   "source": [
    "verbose = {}\n",
    "for model in model_preds:\n",
    "    verbose[model] = []\n",
    "    for d in model_preds[model]:\n",
    "        if d == 'verb':\n",
    "            verbose[model] += model_preds[model][d]"
   ]
  },
  {
   "cell_type": "code",
   "execution_count": 94,
   "id": "1e8c8430-793a-4306-a864-93c7f8624b62",
   "metadata": {},
   "outputs": [],
   "source": [
    "df = pd.DataFrame(verbose)\n",
    "df = df[['roberta_small', 'roberta', 't5', 'clip', 'lxmert', 'visualbert', 'uniter']]"
   ]
  },
  {
   "cell_type": "markdown",
   "id": "7c1cf5c0-899a-44e2-8652-70cf8f7c6d5f",
   "metadata": {},
   "source": [
    "# import seaborn as sns\n",
    "\n",
    "fig = plt.figure(figsize=(12, 10))\n",
    "\n",
    "sns.heatmap(df.corr(), annot = True).set(title='Correlation of VERB probabilities using model embeddings')\n"
   ]
  },
  {
   "cell_type": "code",
   "execution_count": 12,
   "id": "efdd2488-8a08-4c92-ab03-f353e9cbcfe2",
   "metadata": {},
   "outputs": [],
   "source": [
    "df_errors_word = pd.DataFrame(model_errors)\n",
    "df_accs_word = pd.DataFrame(model_accs)"
   ]
  },
  {
   "cell_type": "code",
   "execution_count": 14,
   "id": "c856c8ab-ba01-48bf-a7f7-e2f185a7569a",
   "metadata": {},
   "outputs": [],
   "source": [
    "df_errors_full = pd.DataFrame(model_errors)\n",
    "df_accs_full = pd.DataFrame(model_accs)\n",
    "\n",
    "df_accs_full.to_csv(\"./checkpoint_embed_accs.csv\")\n",
    "df_errors_full.to_csv(\"./checkpoint_embed_errors.csv\")"
   ]
  },
  {
   "cell_type": "code",
   "execution_count": 49,
   "id": "bc293cef-3693-49de-b603-acc469f4e93e",
   "metadata": {},
   "outputs": [],
   "source": [
    "df_accs_full = pd.DataFrame(model_accs)"
   ]
  },
  {
   "cell_type": "code",
   "execution_count": 279,
   "id": "f464a9de-afdf-42fa-b26e-38f7d6137737",
   "metadata": {},
   "outputs": [],
   "source": [
    "df_t = df_accs_full.T\n",
    "df_t['verb'] = (df_accs_full.T.verb_weight + df_accs_full.T.verb_size + df_accs_full.T.verb_strength + df_accs_full.T.verb_speed + df_accs_full.T.verb_rigidness) / 5\n",
    "\n"
   ]
  },
  {
   "cell_type": "code",
   "execution_count": null,
   "id": "af7ec557-b318-4fc9-a398-e5c97074e819",
   "metadata": {},
   "outputs": [
    {
     "ename": "NameError",
     "evalue": "name 'df_t' is not defined",
     "output_type": "error",
     "traceback": [
      "\u001b[0;31m---------------------------------------------------------------------------\u001b[0m",
      "\u001b[0;31mNameError\u001b[0m                                 Traceback (most recent call last)",
      "\u001b[0;32m/var/folders/vm/3klq9ws57lv3xsf2yb4311pc0000gn/T/ipykernel_29479/1797416140.py\u001b[0m in \u001b[0;36m<module>\u001b[0;34m\u001b[0m\n\u001b[0;32m----> 1\u001b[0;31m \u001b[0mdf_t\u001b[0m\u001b[0;34m\u001b[0m\u001b[0;34m\u001b[0m\u001b[0m\n\u001b[0m",
      "\u001b[0;31mNameError\u001b[0m: name 'df_t' is not defined"
     ]
    }
   ],
   "source": [
    "df_t"
   ]
  },
  {
   "cell_type": "code",
   "execution_count": null,
   "id": "b68f033e-7c86-4983-a3b5-732ba852f2e9",
   "metadata": {},
   "outputs": [],
   "source": [
    "df_t.verb = pd.round"
   ]
  },
  {
   "cell_type": "code",
   "execution_count": 374,
   "id": "78997222-d1d8-4a8f-8c31-8a5f78cf0bdf",
   "metadata": {},
   "outputs": [],
   "source": [
    "from transformers import T5Tokenizer, T5ForConditionalGeneration, T5Model\n",
    "\n",
    "tokenizer = T5Tokenizer.from_pretrained(\"t5-small\")\n",
    "model = T5ForConditionalGeneration.from_pretrained(\"t5-small\")"
   ]
  },
  {
   "cell_type": "code",
   "execution_count": 381,
   "id": "e2f697d6-9053-48bd-b3bb-6641a55414af",
   "metadata": {},
   "outputs": [
    {
     "name": "stdout",
     "output_type": "stream",
     "text": [
      "Ich bin nicht aus Deutschland.\n"
     ]
    }
   ],
   "source": [
    "input_ids = tokenizer('translate English to German: I am not from germany', return_tensors='pt').input_ids\n",
    "outputs = model.generate(input_ids)\n",
    "\n",
    "print(tokenizer.decode(outputs[0], skip_special_tokens=True))"
   ]
  },
  {
   "cell_type": "code",
   "execution_count": 301,
   "id": "3362f501-e35b-452e-8c47-47fe61d03e62",
   "metadata": {},
   "outputs": [],
   "source": [
    "from tqdm import tqdm"
   ]
  },
  {
   "cell_type": "code",
   "execution_count": 290,
   "id": "d9627c99-27dc-4041-9fe2-645b92f8de3c",
   "metadata": {},
   "outputs": [],
   "source": [
    "tokenizer = T5Tokenizer.from_pretrained('t5-small')\n",
    "model = T5Model.from_pretrained('t5-small')\n",
    "\n",
    "\n",
    "\n",
    "input_ids = tokenizer(\"Studies have been shown that owning a dog is good for you\", return_tensors=\"pt\").input_ids  # Batch size 1\n",
    "decoder_input_ids = tokenizer(\"Studies show that\", return_tensors=\"pt\").input_ids  # Batch size 1\n",
    "\n",
    "outputs = model(input_ids=input_ids, decoder_input_ids=decoder_input_ids)\n",
    "last_hidden_states = outputs.last_hidden_state"
   ]
  },
  {
   "cell_type": "code",
   "execution_count": 306,
   "id": "1bc23485-88e5-466d-92d5-7fc6d6ee105e",
   "metadata": {},
   "outputs": [],
   "source": [
    "tokenizer = T5Tokenizer.from_pretrained('t5-small')\n",
    "model = T5Model.from_pretrained('t5-small')\n",
    "\n",
    "def get_features(input_sentences, pooled=False):\n",
    "    all_features = []\n",
    "    iters = len(input_sentences)\n",
    "\n",
    "    for i in tqdm(range(iters)):\n",
    "        input_ids = tokenizer(input_sentences[i], return_tensors=\"pt\", padding='max_length', truncation=True, max_length=20).input_ids\n",
    "        \n",
    "        prompt = \"\"\n",
    "        if '[SEP]' in input_sentences[i]:\n",
    "            prompt = input_sentences[i].split('[SEP]')[0]\n",
    "        else:\n",
    "            prompt = input_sentences[i].split('than')[0]\n",
    "        \n",
    "        decoder_input_ids = tokenizer(prompt, return_tensors=\"pt\", padding='max_length', truncation=True, max_length=20).input_ids  # Batch size 1\n",
    "        outputs = model(input_ids=input_ids, decoder_input_ids=decoder_input_ids)\n",
    "        all_features += [outputs.last_hidden_state.reshape(1, -1)]\n",
    "\n",
    "    with torch.no_grad():\n",
    "        out = torch.cat(all_features).cpu().numpy()\n",
    "\n",
    "    return out"
   ]
  },
  {
   "cell_type": "code",
   "execution_count": 316,
   "id": "281df6ff-f75a-4229-8571-0d5398f1e6e6",
   "metadata": {},
   "outputs": [
    {
     "name": "stderr",
     "output_type": "stream",
     "text": [
      "100%|███████████████████████████████████████████████████████████████████████████████████| 518/518 [00:38<00:00, 13.57it/s]\n",
      "100%|█████████████████████████████████████████████████████████████████████████████████| 1289/1289 [01:38<00:00, 13.13it/s]\n",
      "100%|███████████████████████████████████████████████████████████████████████████████████| 449/449 [00:33<00:00, 13.57it/s]\n",
      "100%|█████████████████████████████████████████████████████████████████████████████████| 1096/1096 [01:21<00:00, 13.51it/s]\n",
      "100%|███████████████████████████████████████████████████████████████████████████████████| 517/517 [00:38<00:00, 13.47it/s]\n",
      "100%|█████████████████████████████████████████████████████████████████████████████████| 1265/1265 [01:34<00:00, 13.42it/s]\n",
      "100%|███████████████████████████████████████████████████████████████████████████████████| 470/470 [00:35<00:00, 13.32it/s]\n",
      "100%|█████████████████████████████████████████████████████████████████████████████████| 1177/1177 [01:28<00:00, 13.25it/s]\n",
      "100%|███████████████████████████████████████████████████████████████████████████████████| 463/463 [00:33<00:00, 13.65it/s]\n",
      "100%|█████████████████████████████████████████████████████████████████████████████████| 1180/1180 [01:29<00:00, 13.13it/s]\n"
     ]
    }
   ],
   "source": [
    "accs = []\n",
    "for attr in ['weight', 'speed', 'size', 'rigidness', 'strength']:\n",
    "    features = get_features(verb[attr]['train']['sents'])\n",
    "    lr = train_model(features, verb[attr]['train']['labels'])\n",
    "\n",
    "    test_features = get_features(verb[attr]['test']['sents'])\n",
    "    acc, errors = test_model(lr, test_features, verb[attr]['test']['labels'])\n",
    "    \n",
    "    accs += [acc]"
   ]
  },
  {
   "cell_type": "code",
   "execution_count": 319,
   "id": "e5ec4efa-13eb-4c2a-b8f7-e964a5ff1d8a",
   "metadata": {},
   "outputs": [
    {
     "data": {
      "text/plain": [
       "74.7171526595102"
      ]
     },
     "execution_count": 319,
     "metadata": {},
     "output_type": "execute_result"
    }
   ],
   "source": [
    "np.mean(accs)"
   ]
  },
  {
   "cell_type": "code",
   "execution_count": 311,
   "id": "0bbace18-65d3-4864-b2f5-bc994807c76a",
   "metadata": {},
   "outputs": [
    {
     "name": "stderr",
     "output_type": "stream",
     "text": [
      "100%|█████████████████████████████████████████████████████████████████████████████████| 2000/2000 [02:32<00:00, 13.11it/s]\n",
      "100%|█████████████████████████████████████████████████████████████████████████████████| 1000/1000 [01:16<00:00, 13.12it/s]\n"
     ]
    }
   ],
   "source": [
    "features = get_features(prost['train']['sents'])\n",
    "lr = train_model(features, prost['train']['labels'])\n",
    "\n",
    "test_features = get_features(prost['test']['sents'])\n",
    "acc, errors = test_model(lr, test_features, prost['test']['labels'])"
   ]
  },
  {
   "cell_type": "code",
   "execution_count": 315,
   "id": "d245b227-8d39-4fd6-9049-c9cfd9129503",
   "metadata": {},
   "outputs": [
    {
     "data": {
      "text/plain": [
       "87.5"
      ]
     },
     "execution_count": 315,
     "metadata": {},
     "output_type": "execute_result"
    }
   ],
   "source": [
    "acc"
   ]
  },
  {
   "cell_type": "code",
   "execution_count": 88,
   "id": "3dbf250a-c07c-4d98-a977-a77e76d79769",
   "metadata": {},
   "outputs": [
    {
     "name": "stdout",
     "output_type": "stream",
     "text": [
      "The ball dropped onto the carpet bounces the fewest times. [SEP] A person is trying to bounce a rubber ball. They drop a first ball onto rubber, a second ball onto carpet, a third ball onto steel, and a fourth ball onto concrete.\n"
     ]
    }
   ],
   "source": [
    "print(prost['train']['sents'][13])"
   ]
  },
  {
   "cell_type": "code",
   "execution_count": 96,
   "id": "a79427e7-e752-4adc-a81f-2dd64a2a0915",
   "metadata": {},
   "outputs": [
    {
     "ename": "NameError",
     "evalue": "name 'df_accs_full' is not defined",
     "output_type": "error",
     "traceback": [
      "\u001b[0;31m---------------------------------------------------------------------------\u001b[0m",
      "\u001b[0;31mNameError\u001b[0m                                 Traceback (most recent call last)",
      "\u001b[0;32m/var/folders/vm/3klq9ws57lv3xsf2yb4311pc0000gn/T/ipykernel_36707/908731092.py\u001b[0m in \u001b[0;36m<module>\u001b[0;34m\u001b[0m\n\u001b[1;32m      4\u001b[0m \u001b[0mplt\u001b[0m\u001b[0;34m.\u001b[0m\u001b[0mfigure\u001b[0m\u001b[0;34m(\u001b[0m\u001b[0mfigsize\u001b[0m\u001b[0;34m=\u001b[0m\u001b[0;34m(\u001b[0m\u001b[0;36m8\u001b[0m\u001b[0;34m,\u001b[0m \u001b[0;36m6\u001b[0m\u001b[0;34m)\u001b[0m\u001b[0;34m,\u001b[0m \u001b[0mdpi\u001b[0m\u001b[0;34m=\u001b[0m\u001b[0;36m120\u001b[0m\u001b[0;34m)\u001b[0m\u001b[0;34m\u001b[0m\u001b[0;34m\u001b[0m\u001b[0m\n\u001b[1;32m      5\u001b[0m \u001b[0;34m\u001b[0m\u001b[0m\n\u001b[0;32m----> 6\u001b[0;31m \u001b[0mcov\u001b[0m \u001b[0;34m=\u001b[0m \u001b[0mnp\u001b[0m\u001b[0;34m.\u001b[0m\u001b[0mcov\u001b[0m\u001b[0;34m(\u001b[0m\u001b[0mdf_accs_full\u001b[0m\u001b[0;34m,\u001b[0m \u001b[0mbias\u001b[0m\u001b[0;34m=\u001b[0m\u001b[0;32mTrue\u001b[0m\u001b[0;34m)\u001b[0m\u001b[0;34m\u001b[0m\u001b[0;34m\u001b[0m\u001b[0m\n\u001b[0m\u001b[1;32m      7\u001b[0m \u001b[0;34m\u001b[0m\u001b[0m\n\u001b[1;32m      8\u001b[0m \u001b[0msns\u001b[0m\u001b[0;34m.\u001b[0m\u001b[0mheatmap\u001b[0m\u001b[0;34m(\u001b[0m\u001b[0mcov\u001b[0m\u001b[0;34m,\u001b[0m \u001b[0mannot\u001b[0m\u001b[0;34m=\u001b[0m\u001b[0;32mTrue\u001b[0m\u001b[0;34m,\u001b[0m \u001b[0mfmt\u001b[0m\u001b[0;34m=\u001b[0m\u001b[0;34m'g'\u001b[0m\u001b[0;34m,\u001b[0m \u001b[0mxticklabels\u001b[0m\u001b[0;34m=\u001b[0m\u001b[0mdf_accs_full\u001b[0m\u001b[0;34m.\u001b[0m\u001b[0mcolumns\u001b[0m\u001b[0;34m,\u001b[0m \u001b[0myticklabels\u001b[0m\u001b[0;34m=\u001b[0m\u001b[0mdf_accs_full\u001b[0m\u001b[0;34m.\u001b[0m\u001b[0mcolumns\u001b[0m\u001b[0;34m)\u001b[0m\u001b[0;34m\u001b[0m\u001b[0;34m\u001b[0m\u001b[0m\n",
      "\u001b[0;31mNameError\u001b[0m: name 'df_accs_full' is not defined"
     ]
    },
    {
     "data": {
      "text/plain": [
       "<Figure size 960x720 with 0 Axes>"
      ]
     },
     "metadata": {},
     "output_type": "display_data"
    }
   ],
   "source": [
    "import seaborn as sns\n",
    "import matplotlib.pyplot as plt\n",
    "\n",
    "plt.figure(figsize=(8, 6), dpi=120)\n",
    "\n",
    "cov = np.cov(df_accs_full, bias=True)\n",
    "\n",
    "sns.heatmap(cov, annot=True, fmt='g', xticklabels=df_accs_full.columns, yticklabels=df_accs_full.columns)"
   ]
  },
  {
   "cell_type": "code",
   "execution_count": 176,
   "id": "ed5d2d6c-65ff-437e-8eed-afec28857ba3",
   "metadata": {
    "tags": []
   },
   "outputs": [
    {
     "data": {
      "text/html": [
       "<div>\n",
       "<style scoped>\n",
       "    .dataframe tbody tr th:only-of-type {\n",
       "        vertical-align: middle;\n",
       "    }\n",
       "\n",
       "    .dataframe tbody tr th {\n",
       "        vertical-align: top;\n",
       "    }\n",
       "\n",
       "    .dataframe thead th {\n",
       "        text-align: right;\n",
       "    }\n",
       "</style>\n",
       "<table border=\"1\" class=\"dataframe\">\n",
       "  <thead>\n",
       "    <tr style=\"text-align: right;\">\n",
       "      <th></th>\n",
       "      <th>doq</th>\n",
       "      <th>prost</th>\n",
       "      <th>verb_weight</th>\n",
       "      <th>verb_speed</th>\n",
       "      <th>verb_size</th>\n",
       "      <th>verb_strength</th>\n",
       "      <th>verb_rigidness</th>\n",
       "    </tr>\n",
       "  </thead>\n",
       "  <tbody>\n",
       "    <tr>\n",
       "      <th>clip</th>\n",
       "      <td>[1, 9, 10, 11, 12, 14, 17, 18, 19, 20, 22, 23,...</td>\n",
       "      <td>[1, 7, 8, 12, 13, 19, 27, 28, 29, 30, 31, 32, ...</td>\n",
       "      <td>[0, 2, 7, 10, 17, 18, 26, 32, 36, 39, 58, 64, ...</td>\n",
       "      <td>[0, 2, 7, 11, 12, 13, 18, 26, 28, 31, 37, 43, ...</td>\n",
       "      <td>[0, 5, 7, 18, 19, 29, 33, 44, 50, 53, 55, 58, ...</td>\n",
       "      <td>[6, 15, 16, 24, 26, 28, 31, 36, 37, 39, 45, 52...</td>\n",
       "      <td>[0, 1, 5, 8, 13, 14, 17, 21, 22, 23, 26, 32, 3...</td>\n",
       "    </tr>\n",
       "    <tr>\n",
       "      <th>roberta</th>\n",
       "      <td>[1, 7, 10, 11, 12, 17, 19, 20, 24, 26, 35, 38,...</td>\n",
       "      <td>[3, 7, 8, 15, 18, 19, 20, 31, 32, 37, 40, 47, ...</td>\n",
       "      <td>[0, 7, 10, 16, 17, 18, 20, 26, 32, 36, 38, 39,...</td>\n",
       "      <td>[4, 7, 11, 12, 18, 26, 30, 31, 37, 45, 47, 50,...</td>\n",
       "      <td>[0, 2, 5, 7, 18, 19, 29, 33, 44, 50, 53, 58, 5...</td>\n",
       "      <td>[0, 4, 6, 14, 16, 24, 26, 28, 31, 35, 36, 39, ...</td>\n",
       "      <td>[1, 5, 8, 13, 14, 21, 22, 23, 26, 28, 32, 34, ...</td>\n",
       "    </tr>\n",
       "    <tr>\n",
       "      <th>roberta_small</th>\n",
       "      <td>[1, 6, 10, 11, 12, 14, 16, 20, 22, 24, 25, 26,...</td>\n",
       "      <td>[7, 18, 19, 20, 29, 30, 32, 55, 57, 63, 67, 69...</td>\n",
       "      <td>[0, 2, 5, 7, 8, 16, 17, 18, 23, 26, 29, 32, 36...</td>\n",
       "      <td>[0, 2, 4, 7, 8, 11, 13, 16, 18, 19, 26, 30, 31...</td>\n",
       "      <td>[1, 2, 5, 7, 8, 17, 18, 19, 29, 33, 34, 39, 44...</td>\n",
       "      <td>[2, 4, 6, 7, 16, 24, 26, 28, 31, 35, 36, 37, 4...</td>\n",
       "      <td>[0, 1, 2, 4, 5, 6, 7, 8, 14, 16, 18, 19, 21, 2...</td>\n",
       "    </tr>\n",
       "    <tr>\n",
       "      <th>visualbert</th>\n",
       "      <td>[7, 8, 10, 12, 19, 20, 24, 28, 31, 32, 33, 34,...</td>\n",
       "      <td>[3, 7, 8, 10, 12, 13, 15, 19, 20, 27, 30, 31, ...</td>\n",
       "      <td>[0, 7, 10, 16, 17, 18, 20, 26, 32, 36, 37, 38,...</td>\n",
       "      <td>[0, 1, 4, 7, 8, 11, 12, 13, 18, 26, 28, 31, 37...</td>\n",
       "      <td>[0, 1, 2, 5, 7, 18, 19, 29, 33, 34, 39, 44, 45...</td>\n",
       "      <td>[6, 15, 16, 24, 26, 28, 31, 35, 39, 45, 47, 52...</td>\n",
       "      <td>[0, 1, 5, 8, 14, 17, 21, 23, 26, 28, 32, 33, 3...</td>\n",
       "    </tr>\n",
       "    <tr>\n",
       "      <th>t5</th>\n",
       "      <td>[1, 2, 3, 5, 8, 10, 11, 12, 14, 17, 19, 20, 23...</td>\n",
       "      <td>[3, 5, 6, 7, 8, 12, 13, 15, 19, 27, 29, 30, 31...</td>\n",
       "      <td>[0, 7, 10, 18, 26, 29, 32, 36, 39, 58, 61, 64,...</td>\n",
       "      <td>[1, 4, 7, 12, 13, 26, 28, 30, 31, 37, 40, 47, ...</td>\n",
       "      <td>[0, 1, 5, 7, 19, 29, 33, 44, 50, 53, 55, 58, 6...</td>\n",
       "      <td>[4, 6, 8, 16, 24, 26, 28, 31, 35, 39, 47, 52, ...</td>\n",
       "      <td>[0, 1, 5, 8, 9, 14, 21, 22, 23, 26, 28, 30, 32...</td>\n",
       "    </tr>\n",
       "    <tr>\n",
       "      <th>lxmert</th>\n",
       "      <td>[0, 1, 4, 7, 8, 9, 10, 11, 12, 14, 19, 20, 22,...</td>\n",
       "      <td>[3, 7, 8, 15, 18, 20, 31, 32, 37, 40, 47, 49, ...</td>\n",
       "      <td>[0, 7, 10, 17, 18, 26, 29, 32, 36, 38, 49, 58,...</td>\n",
       "      <td>[0, 1, 7, 11, 12, 13, 26, 28, 30, 31, 37, 43, ...</td>\n",
       "      <td>[0, 5, 7, 18, 29, 34, 35, 38, 39, 44, 50, 53, ...</td>\n",
       "      <td>[4, 6, 8, 15, 16, 24, 26, 28, 31, 36, 39, 45, ...</td>\n",
       "      <td>[0, 1, 8, 9, 13, 14, 17, 21, 23, 26, 28, 32, 3...</td>\n",
       "    </tr>\n",
       "    <tr>\n",
       "      <th>uniter</th>\n",
       "      <td>[1, 8, 9, 10, 12, 14, 20, 24, 28, 37, 38, 39, ...</td>\n",
       "      <td>[3, 7, 8, 15, 19, 27, 31, 32, 37, 42, 47, 50, ...</td>\n",
       "      <td>[0, 2, 7, 10, 17, 26, 29, 32, 36, 37, 39, 49, ...</td>\n",
       "      <td>[0, 4, 6, 7, 11, 12, 13, 18, 26, 28, 30, 31, 3...</td>\n",
       "      <td>[0, 1, 7, 8, 18, 29, 34, 38, 50, 55, 58, 66, 7...</td>\n",
       "      <td>[1, 2, 5, 6, 15, 16, 24, 26, 28, 31, 36, 37, 3...</td>\n",
       "      <td>[0, 1, 5, 8, 9, 10, 13, 17, 18, 21, 23, 26, 28...</td>\n",
       "    </tr>\n",
       "  </tbody>\n",
       "</table>\n",
       "</div>"
      ],
      "text/plain": [
       "                                                             doq  \\\n",
       "clip           [1, 9, 10, 11, 12, 14, 17, 18, 19, 20, 22, 23,...   \n",
       "roberta        [1, 7, 10, 11, 12, 17, 19, 20, 24, 26, 35, 38,...   \n",
       "roberta_small  [1, 6, 10, 11, 12, 14, 16, 20, 22, 24, 25, 26,...   \n",
       "visualbert     [7, 8, 10, 12, 19, 20, 24, 28, 31, 32, 33, 34,...   \n",
       "t5             [1, 2, 3, 5, 8, 10, 11, 12, 14, 17, 19, 20, 23...   \n",
       "lxmert         [0, 1, 4, 7, 8, 9, 10, 11, 12, 14, 19, 20, 22,...   \n",
       "uniter         [1, 8, 9, 10, 12, 14, 20, 24, 28, 37, 38, 39, ...   \n",
       "\n",
       "                                                           prost  \\\n",
       "clip           [1, 7, 8, 12, 13, 19, 27, 28, 29, 30, 31, 32, ...   \n",
       "roberta        [3, 7, 8, 15, 18, 19, 20, 31, 32, 37, 40, 47, ...   \n",
       "roberta_small  [7, 18, 19, 20, 29, 30, 32, 55, 57, 63, 67, 69...   \n",
       "visualbert     [3, 7, 8, 10, 12, 13, 15, 19, 20, 27, 30, 31, ...   \n",
       "t5             [3, 5, 6, 7, 8, 12, 13, 15, 19, 27, 29, 30, 31...   \n",
       "lxmert         [3, 7, 8, 15, 18, 20, 31, 32, 37, 40, 47, 49, ...   \n",
       "uniter         [3, 7, 8, 15, 19, 27, 31, 32, 37, 42, 47, 50, ...   \n",
       "\n",
       "                                                     verb_weight  \\\n",
       "clip           [0, 2, 7, 10, 17, 18, 26, 32, 36, 39, 58, 64, ...   \n",
       "roberta        [0, 7, 10, 16, 17, 18, 20, 26, 32, 36, 38, 39,...   \n",
       "roberta_small  [0, 2, 5, 7, 8, 16, 17, 18, 23, 26, 29, 32, 36...   \n",
       "visualbert     [0, 7, 10, 16, 17, 18, 20, 26, 32, 36, 37, 38,...   \n",
       "t5             [0, 7, 10, 18, 26, 29, 32, 36, 39, 58, 61, 64,...   \n",
       "lxmert         [0, 7, 10, 17, 18, 26, 29, 32, 36, 38, 49, 58,...   \n",
       "uniter         [0, 2, 7, 10, 17, 26, 29, 32, 36, 37, 39, 49, ...   \n",
       "\n",
       "                                                      verb_speed  \\\n",
       "clip           [0, 2, 7, 11, 12, 13, 18, 26, 28, 31, 37, 43, ...   \n",
       "roberta        [4, 7, 11, 12, 18, 26, 30, 31, 37, 45, 47, 50,...   \n",
       "roberta_small  [0, 2, 4, 7, 8, 11, 13, 16, 18, 19, 26, 30, 31...   \n",
       "visualbert     [0, 1, 4, 7, 8, 11, 12, 13, 18, 26, 28, 31, 37...   \n",
       "t5             [1, 4, 7, 12, 13, 26, 28, 30, 31, 37, 40, 47, ...   \n",
       "lxmert         [0, 1, 7, 11, 12, 13, 26, 28, 30, 31, 37, 43, ...   \n",
       "uniter         [0, 4, 6, 7, 11, 12, 13, 18, 26, 28, 30, 31, 3...   \n",
       "\n",
       "                                                       verb_size  \\\n",
       "clip           [0, 5, 7, 18, 19, 29, 33, 44, 50, 53, 55, 58, ...   \n",
       "roberta        [0, 2, 5, 7, 18, 19, 29, 33, 44, 50, 53, 58, 5...   \n",
       "roberta_small  [1, 2, 5, 7, 8, 17, 18, 19, 29, 33, 34, 39, 44...   \n",
       "visualbert     [0, 1, 2, 5, 7, 18, 19, 29, 33, 34, 39, 44, 45...   \n",
       "t5             [0, 1, 5, 7, 19, 29, 33, 44, 50, 53, 55, 58, 6...   \n",
       "lxmert         [0, 5, 7, 18, 29, 34, 35, 38, 39, 44, 50, 53, ...   \n",
       "uniter         [0, 1, 7, 8, 18, 29, 34, 38, 50, 55, 58, 66, 7...   \n",
       "\n",
       "                                                   verb_strength  \\\n",
       "clip           [6, 15, 16, 24, 26, 28, 31, 36, 37, 39, 45, 52...   \n",
       "roberta        [0, 4, 6, 14, 16, 24, 26, 28, 31, 35, 36, 39, ...   \n",
       "roberta_small  [2, 4, 6, 7, 16, 24, 26, 28, 31, 35, 36, 37, 4...   \n",
       "visualbert     [6, 15, 16, 24, 26, 28, 31, 35, 39, 45, 47, 52...   \n",
       "t5             [4, 6, 8, 16, 24, 26, 28, 31, 35, 39, 47, 52, ...   \n",
       "lxmert         [4, 6, 8, 15, 16, 24, 26, 28, 31, 36, 39, 45, ...   \n",
       "uniter         [1, 2, 5, 6, 15, 16, 24, 26, 28, 31, 36, 37, 3...   \n",
       "\n",
       "                                                  verb_rigidness  \n",
       "clip           [0, 1, 5, 8, 13, 14, 17, 21, 22, 23, 26, 32, 3...  \n",
       "roberta        [1, 5, 8, 13, 14, 21, 22, 23, 26, 28, 32, 34, ...  \n",
       "roberta_small  [0, 1, 2, 4, 5, 6, 7, 8, 14, 16, 18, 19, 21, 2...  \n",
       "visualbert     [0, 1, 5, 8, 14, 17, 21, 23, 26, 28, 32, 33, 3...  \n",
       "t5             [0, 1, 5, 8, 9, 14, 21, 22, 23, 26, 28, 30, 32...  \n",
       "lxmert         [0, 1, 8, 9, 13, 14, 17, 21, 23, 26, 28, 32, 3...  \n",
       "uniter         [0, 1, 5, 8, 9, 10, 13, 17, 18, 21, 23, 26, 28...  "
      ]
     },
     "execution_count": 176,
     "metadata": {},
     "output_type": "execute_result"
    }
   ],
   "source": [
    "emodel = df_errors_full.T\n",
    "emodel"
   ]
  },
  {
   "cell_type": "code",
   "execution_count": 242,
   "id": "d692be54-f9e6-42e5-9a23-8cb0a292139d",
   "metadata": {},
   "outputs": [
    {
     "name": "stdout",
     "output_type": "stream",
     "text": [
      "All 4 mmm miss 138:\n",
      "{0, 7, 10, 527, 17, 26, 1051, 1055, 32, 1056, 36, 553, 1068, 1070, 559, 562, 563, 58, 1083, 572, 64, 1090, 1096, 592, 90, 91, 603, 93, 605, 607, 1118, 612, 106, 618, 110, 622, 1141, 633, 1149, 127, 1156, 645, 649, 142, 1167, 1176, 156, 1181, 670, 162, 163, 675, 165, 167, 1197, 687, 178, 181, 694, 184, 1208, 699, 1216, 194, 710, 205, 1236, 725, 730, 1244, 734, 1248, 1255, 237, 1273, 1279, 1280, 1284, 778, 267, 788, 790, 279, 281, 283, 285, 801, 292, 297, 821, 315, 321, 322, 324, 840, 845, 846, 344, 862, 352, 358, 361, 365, 877, 367, 887, 376, 889, 380, 896, 386, 387, 390, 902, 398, 408, 932, 425, 427, 939, 429, 956, 958, 452, 454, 465, 466, 980, 469, 475, 990, 479, 992, 1006, 496, 501, 1016, 509}\n",
      "\n",
      "How many of these does roberta miss?\n",
      "128\n",
      "\n",
      "The following are the 10 sentences that NO mmm get, but roberta does:\n",
      "(801, 'A scissors is heavier than a hand', False)\n",
      "(1096, 'A shoulder is heavier than a door', False)\n",
      "(939, 'A messenger is heavier than a king', 'Ambigious')\n",
      "(398, 'A person is heavier than a brother', 'Ambigious')\n",
      "(559, 'A person is heavier than a coach', 'Ambigious')\n",
      "(1141, 'A throat is heavier than a hand', False)\n",
      "(889, 'A coach is heavier than a friend', 'Ambigious')\n",
      "(281, 'A person is heavier than a lady', 'Ambigious')\n",
      "(380, 'A body is heavier than a friend', 'Ambigious')\n",
      "(862, 'A town is heavier than a store', True)\n",
      "\n",
      "Here are the 29 questions that VisualBert got correct, but roberta didn't:\n",
      "(257, 'A hat is heavier than a soul', True)\n",
      "(642, 'A cup is heavier than a face', False)\n",
      "(382, 'A bayonet is heavier than a hand', True)\n",
      "(1158, 'A arm is heavier than a hand', True)\n",
      "(519, 'A car is heavier than a road', False)\n",
      "(1161, 'A watch is heavier than a eye', True)\n",
      "(907, 'A office is heavier than a street', False)\n",
      "(664, 'A hat is heavier than a bag', False)\n",
      "(692, 'A cup is heavier than a head', False)\n",
      "(1215, 'A hair is heavier than a chin', False)\n",
      "(462, 'A person is heavier than a pedestal', True)\n",
      "(81, 'A head is heavier than a skirt', True)\n",
      "(346, 'A pocket is heavier than a knife', False)\n",
      "(1243, 'A finger is heavier than a lip', True)\n",
      "(987, 'A magistrate is heavier than a home', False)\n",
      "(477, 'A bow is heavier than a end', False)\n",
      "(95, 'A clock is heavier than a lamp', False)\n",
      "(480, 'A person is heavier than a bayonet', True)\n",
      "(993, 'A poet is heavier than a bed', False)\n",
      "(105, 'A arm is heavier than a fist', True)\n",
      "(113, 'A bayonet is heavier than a mouth', True)\n",
      "(625, 'A arm is heavier than a knee', True)\n",
      "(626, 'A piece is heavier than a face', False)\n",
      "(1015, 'A nose is heavier than a book', False)\n",
      "(373, 'A window is heavier than a tree', False)\n",
      "(1013, 'A bow is heavier than a hand', False)\n",
      "(254, 'A king is heavier than a bed', False)\n",
      "(1148, 'A lamp is heavier than a hand', True)\n",
      "(1278, 'A clock is heavier than a face', False)\n",
      "\n",
      "Here are the 32 questions that CLIP got correct, but roberta didn't:\n",
      "(382, 'A bayonet is heavier than a hand', True)\n",
      "(1158, 'A arm is heavier than a hand', True)\n",
      "(774, 'A knife is heavier than a mouth', True)\n",
      "(1161, 'A watch is heavier than a eye', True)\n",
      "(269, 'A house is heavier than a town', False)\n",
      "(270, 'A boat is heavier than a train', False)\n",
      "(16, 'A foot is heavier than a grass', True)\n",
      "(656, 'A coast is heavier than a sea', False)\n",
      "(20, 'A hair is heavier than a shirt', False)\n",
      "(664, 'A hat is heavier than a bag', False)\n",
      "(1278, 'A clock is heavier than a face', False)\n",
      "(38, 'A purse is heavier than a hand', True)\n",
      "(433, 'A gentleman is heavier than a daughter', True)\n",
      "(955, 'A hand is heavier than a face', False)\n",
      "(1215, 'A hair is heavier than a chin', False)\n",
      "(196, 'A victim is heavier than a tree', False)\n",
      "(81, 'A head is heavier than a skirt', True)\n",
      "(1233, 'A gentleman is heavier than a boy', True)\n",
      "(1243, 'A finger is heavier than a lip', True)\n",
      "(95, 'A clock is heavier than a lamp', False)\n",
      "(480, 'A person is heavier than a bayonet', True)\n",
      "(993, 'A poet is heavier than a bed', False)\n",
      "(1124, 'A sea is heavier than a ship', True)\n",
      "(105, 'A arm is heavier than a fist', True)\n",
      "(749, 'A horse is heavier than a train', False)\n",
      "(880, 'A house is heavier than a city', False)\n",
      "(113, 'A bayonet is heavier than a mouth', True)\n",
      "(245, 'A bank is heavier than a town', False)\n",
      "(373, 'A window is heavier than a tree', False)\n",
      "(1015, 'A nose is heavier than a book', False)\n",
      "(1148, 'A lamp is heavier than a hand', True)\n",
      "(254, 'A king is heavier than a bed', False)\n",
      "\n",
      "Here are the 42 questions that UNITER got correct, but roberta didn't:\n",
      "(642, 'A cup is heavier than a face', False)\n",
      "(1154, 'A breath is heavier than a grass', False)\n",
      "(1158, 'A arm is heavier than a hand', True)\n",
      "(1031, 'A everything is heavier than a camp', True)\n",
      "(519, 'A car is heavier than a road', False)\n",
      "(774, 'A knife is heavier than a mouth', True)\n",
      "(1288, 'A way is heavier than a child', False)\n",
      "(265, 'A bank is heavier than a sun', False)\n",
      "(907, 'A office is heavier than a street', False)\n",
      "(270, 'A boat is heavier than a train', False)\n",
      "(16, 'A foot is heavier than a grass', True)\n",
      "(18, 'A lady is heavier than a gentleman', False)\n",
      "(20, 'A hair is heavier than a shirt', False)\n",
      "(664, 'A hat is heavier than a bag', False)\n",
      "(1052, 'A person is heavier than a bower', True)\n",
      "(1278, 'A clock is heavier than a face', False)\n",
      "(1060, 'A everything is heavier than a shore', True)\n",
      "(38, 'A purse is heavier than a hand', True)\n",
      "(428, 'A dinner is heavier than a bottle', 'Ambigious')\n",
      "(433, 'A gentleman is heavier than a daughter', True)\n",
      "(692, 'A cup is heavier than a head', False)\n",
      "(440, 'A body is heavier than a cross', False)\n",
      "(589, 'A everything is heavier than a town', True)\n",
      "(462, 'A person is heavier than a pedestal', True)\n",
      "(847, 'A car is heavier than a tree', False)\n",
      "(81, 'A head is heavier than a skirt', True)\n",
      "(977, 'A book is heavier than a knee', False)\n",
      "(213, 'A hat is heavier than a strap', False)\n",
      "(728, 'A child is heavier than a seal', False)\n",
      "(1243, 'A finger is heavier than a lip', True)\n",
      "(860, 'A cup is heavier than a step', False)\n",
      "(993, 'A poet is heavier than a bed', False)\n",
      "(1123, 'A foot is heavier than a coal', True)\n",
      "(1253, 'A dress is heavier than a hand', True)\n",
      "(1126, 'A cup is heavier than a elbow', False)\n",
      "(359, 'A car is heavier than a truck', False)\n",
      "(105, 'A arm is heavier than a fist', True)\n",
      "(1136, 'A bayonet is heavier than a head', False)\n",
      "(373, 'A window is heavier than a tree', False)\n",
      "(502, 'A body is heavier than a base', True)\n",
      "(1148, 'A lamp is heavier than a hand', True)\n",
      "(254, 'A king is heavier than a bed', False)\n"
     ]
    }
   ],
   "source": [
    "# Verb Weight is connonical, all models (excluding rob_small) are within 7% accuracy\n",
    "# However, we see significant differences in which questions the text models miss and which the mmm miss\n",
    "\n",
    "mmm_weight = set(emodel.T.visualbert.verb_weight) & set(emodel.T.lxmert.verb_weight) & set(emodel.T.uniter.verb_weight) & set(emodel.T['clip'].verb_weight)\n",
    "print(f\"All 4 mmm miss {len(mmm_weight)}:\\n{mmm_weight}\\n\")\n",
    "\n",
    "rob_weight = set(emodel.T.roberta.verb_weight)\n",
    "print(f\"How many of these does roberta miss?\\n{len(rob_weight & mmm_weight)}\")\n",
    "\n",
    "print(f\"\\nThe following are the 10 sentences that NO mmm get, but roberta does:\") \n",
    "for i in mmm_weight - rob_weight:\n",
    "    print(get_q(i, verb['weight']['test']))\n",
    "\n",
    "print(f\"\\nHere are the {len(rob_weight - set(emodel.T.visualbert.verb_weight))} questions that VisualBert got correct, but roberta didn't:\")\n",
    "for i in rob_weight - set(emodel.T.visualbert.verb_weight):\n",
    "    print(get_q(i, verb['weight']['test']))\n",
    "    \n",
    "print(f\"\\nHere are the {len(rob_weight - set(emodel.T['clip'].verb_weight))} questions that CLIP got correct, but roberta didn't:\")\n",
    "for i in rob_weight - set(emodel.T['clip'].verb_weight):\n",
    "    print(get_q(i, verb['weight']['test']))\n",
    "    \n",
    "print(f\"\\nHere are the {len(rob_weight - set(emodel.T.uniter.verb_weight))} questions that UNITER got correct, but roberta didn't:\")\n",
    "for i in rob_weight - set(emodel.T.uniter.verb_weight):\n",
    "    print(get_q(i, verb['weight']['test']))"
   ]
  },
  {
   "cell_type": "code",
   "execution_count": null,
   "id": "ebdb7f77-fca1-4417-8752-55e0d444cf4a",
   "metadata": {},
   "outputs": [],
   "source": []
  },
  {
   "cell_type": "code",
   "execution_count": 252,
   "id": "74109552-361d-43b5-830a-aca34f4d4b3e",
   "metadata": {},
   "outputs": [
    {
     "name": "stdout",
     "output_type": "stream",
     "text": [
      "All 4 mmm miss 222:\n",
      "{0, 515, 1027, 517, 518, 7, 520, 1028, 11, 12, 13, 524, 525, 526, 1038, 1040, 533, 1048, 26, 539, 28, 1053, 31, 37, 549, 1063, 552, 43, 1067, 557, 1068, 47, 561, 565, 54, 58, 59, 571, 573, 1083, 1085, 1086, 1090, 1091, 584, 73, 591, 80, 81, 593, 83, 84, 594, 596, 600, 90, 607, 609, 611, 612, 616, 619, 620, 109, 624, 625, 114, 626, 628, 631, 122, 636, 128, 132, 646, 649, 143, 144, 145, 147, 151, 663, 153, 665, 669, 164, 685, 175, 688, 177, 692, 696, 190, 702, 192, 194, 707, 199, 716, 720, 212, 726, 217, 730, 221, 736, 226, 740, 741, 231, 743, 233, 745, 747, 236, 748, 751, 247, 760, 762, 253, 766, 259, 776, 265, 780, 785, 274, 786, 277, 278, 280, 282, 795, 800, 289, 290, 293, 295, 297, 298, 809, 308, 309, 820, 311, 824, 825, 314, 323, 836, 326, 838, 329, 333, 850, 851, 340, 853, 854, 855, 858, 348, 350, 864, 354, 355, 877, 883, 373, 374, 376, 889, 383, 384, 899, 905, 395, 907, 404, 916, 407, 411, 413, 926, 416, 418, 935, 936, 938, 436, 950, 439, 446, 960, 452, 458, 459, 972, 975, 464, 470, 982, 472, 1016, 986, 477, 480, 481, 994, 484, 486, 998, 1004, 1005, 1007, 497, 1010, 1014, 504, 510, 511}\n",
      "\n",
      "How many of these does roberta miss?\n",
      "191\n",
      "\n",
      "The following are the 31 sentences that NO mmm get, but roberta does:\n",
      "(0, 'A daughter is faster than a fool', 'Ambigious')\n",
      "(515, 'A lady is faster than a horse', False)\n",
      "(899, 'A place is faster than a door', 'Ambigious')\n",
      "(907, 'A master is faster than a head', 'Ambigious')\n",
      "(525, 'A arm is faster than a knee', 'Ambigious')\n",
      "(13, 'A bench is faster than a sun', 'Ambigious')\n",
      "(147, 'A someone is faster than a head', 'Ambigious')\n",
      "(663, 'A hill is faster than a scene', 'Ambigious')\n",
      "(28, 'A hill is faster than a road', 'Ambigious')\n",
      "(669, 'A wall is faster than a tree', 'Ambigious')\n",
      "(295, 'A brother is faster than a horse', False)\n",
      "(43, 'A king is faster than a face', 'Ambigious')\n",
      "(1067, 'A dress is faster than a hand', False)\n",
      "(1068, 'A boy is faster than a ear', 'Ambigious')\n",
      "(175, 'A gentleman is faster than a body', 'Ambigious')\n",
      "(314, 'A office is faster than a state', 'Ambigious')\n",
      "(59, 'A daughter is faster than a horse', False)\n",
      "(446, 'A hill is faster than a town', 'Ambigious')\n",
      "(960, 'A breath is faster than a hand', 'Ambigious')\n",
      "(972, 'A lady is faster than a skirt', True)\n",
      "(975, 'A finger is faster than a ear', 'Ambigious')\n",
      "(593, 'A chest is faster than a front', 'Ambigious')\n",
      "(986, 'A place is faster than a fist', False)\n",
      "(226, 'A house is faster than a town', 'Ambigious')\n",
      "(740, 'A king is faster than a head', 'Ambigious')\n",
      "(486, 'A wife is faster than a stream', False)\n",
      "(504, 'A nose is faster than a face', 'Ambigious')\n",
      "(233, 'A eye is faster than a lip', 'Ambigious')\n",
      "(626, 'A window is faster than a place', 'Ambigious')\n",
      "(373, 'A glass is faster than a bottle', 'Ambigious')\n",
      "(376, 'A gentleman is faster than a master', 'Ambigious')\n",
      "\n",
      "Here are the 57 questions that VisualBert got correct, but roberta didn't:\n",
      "(385, 'A master is faster than a someone', 'Ambigious')\n",
      "(774, 'A abode is faster than a hill', 'Ambigious')\n",
      "(1032, 'A boy is faster than a lip', True)\n",
      "(892, 'A lady is faster than a cross', True)\n",
      "(1035, 'A scene is faster than a head', False)\n",
      "(146, 'A scene is faster than a hand', False)\n",
      "(792, 'A arm is faster than a cross', True)\n",
      "(537, 'A daughter is faster than a ear', True)\n",
      "(281, 'A phone is faster than a floor', 'Ambigious')\n",
      "(542, 'A brother is faster than a friend', 'Ambigious')\n",
      "(30, 'A boy is faster than a throat', True)\n",
      "(544, 'A back is faster than a wall', True)\n",
      "(161, 'A friend is faster than a dress', True)\n",
      "(286, 'A arm is faster than a brick', True)\n",
      "(799, 'A clock is faster than a servant', False)\n",
      "(802, 'A food is faster than a mouth', False)\n",
      "(165, 'A foot is faster than a factory', True)\n",
      "(421, 'A office is faster than a watch', False)\n",
      "(1064, 'A clothes is faster than a house', True)\n",
      "(553, 'A shop is faster than a eye', False)\n",
      "(169, 'A horse is faster than a mouth', True)\n",
      "(170, 'A current is faster than a vessel', True)\n",
      "(684, 'A brother is faster than a dress', True)\n",
      "(45, 'A corner is faster than a sea', False)\n",
      "(426, 'A dinner is faster than a room', True)\n",
      "(1074, 'A person is faster than a cross', True)\n",
      "(691, 'A nose is faster than a fist', 'Ambigious')\n",
      "(306, 'A office is faster than a king', False)\n",
      "(57, 'A hat is faster than a grass', True)\n",
      "(186, 'A office is faster than a seal', False)\n",
      "(315, 'A office is faster than a head', False)\n",
      "(572, 'A gentleman is faster than a head', True)\n",
      "(442, 'A meal is faster than a home', True)\n",
      "(574, 'A ice is faster than a body', False)\n",
      "(193, 'A train is faster than a car', True)\n",
      "(324, 'A person is faster than a brother', 'Ambigious')\n",
      "(839, 'A stream is faster than a torrent', False)\n",
      "(74, 'A office is faster than a hand', False)\n",
      "(970, 'A arm is faster than a bed', True)\n",
      "(977, 'A arm is faster than a tree', True)\n",
      "(724, 'A gate is faster than a farm', True)\n",
      "(86, 'A king is faster than a cross', True)\n",
      "(984, 'A cup is faster than a sink', True)\n",
      "(91, 'A phone is faster than a bed', 'Ambigious')\n",
      "(478, 'A beard is faster than a picture', True)\n",
      "(735, 'A cup is faster than a step', True)\n",
      "(351, 'A foot is faster than a cross', True)\n",
      "(990, 'A newspaper is faster than a hand', False)\n",
      "(488, 'A head is faster than a phone', True)\n",
      "(746, 'A arm is faster than a ear', True)\n",
      "(237, 'A book is faster than a hand', False)\n",
      "(369, 'A arm is faster than a town', True)\n",
      "(759, 'A street is faster than a head', False)\n",
      "(506, 'A stone is faster than a mouth', False)\n",
      "(763, 'A horse is faster than a ball', True)\n",
      "(380, 'A finger is faster than a shoulder', True)\n",
      "(127, 'A hair is faster than a hand', False)\n",
      "\n",
      "Here are the 61 questions that CLIP got correct, but roberta didn't:\n",
      "Number of clip errors: 327, number of roberta errors: 300\n",
      "(771, 'A shoulder is faster than a arm', False)\n",
      "(4, 'A arm is faster than a breath', False)\n",
      "(774, 'A abode is faster than a hill', 'Ambigious')\n",
      "(1032, 'A boy is faster than a lip', True)\n",
      "(892, 'A lady is faster than a cross', True)\n",
      "(1035, 'A scene is faster than a head', False)\n",
      "(400, 'A step is faster than a friend', False)\n",
      "(792, 'A arm is faster than a cross', True)\n",
      "(537, 'A daughter is faster than a ear', True)\n",
      "(154, 'A dinner is faster than a mouth', False)\n",
      "(794, 'A bag is faster than a room', True)\n",
      "(30, 'A boy is faster than a throat', True)\n",
      "(286, 'A arm is faster than a brick', True)\n",
      "(544, 'A back is faster than a wall', True)\n",
      "(161, 'A friend is faster than a dress', True)\n",
      "(799, 'A clock is faster than a servant', False)\n",
      "(802, 'A food is faster than a mouth', False)\n",
      "(421, 'A office is faster than a watch', False)\n",
      "(1064, 'A clothes is faster than a house', True)\n",
      "(553, 'A shop is faster than a eye', False)\n",
      "(680, 'A cross is faster than a floor', True)\n",
      "(426, 'A dinner is faster than a room', True)\n",
      "(684, 'A brother is faster than a dress', True)\n",
      "(50, 'A tree is faster than a mouth', False)\n",
      "(1074, 'A person is faster than a cross', True)\n",
      "(310, 'A bayonet is faster than a hand', 'Ambigious')\n",
      "(822, 'A bank is faster than a everything', False)\n",
      "(57, 'A hat is faster than a grass', True)\n",
      "(442, 'A meal is faster than a home', True)\n",
      "(315, 'A office is faster than a head', False)\n",
      "(575, 'A window is faster than a sun', False)\n",
      "(193, 'A train is faster than a car', True)\n",
      "(834, 'A rope is faster than a hand', False)\n",
      "(324, 'A person is faster than a brother', 'Ambigious')\n",
      "(966, 'A patient is faster than a train', False)\n",
      "(970, 'A arm is faster than a bed', True)\n",
      "(843, 'A book is faster than a knee', False)\n",
      "(977, 'A arm is faster than a tree', True)\n",
      "(210, 'A lady is faster than a finger', True)\n",
      "(722, 'A step is faster than a head', False)\n",
      "(724, 'A gate is faster than a farm', True)\n",
      "(978, 'A stone is faster than a master', False)\n",
      "(86, 'A king is faster than a cross', True)\n",
      "(478, 'A beard is faster than a picture', True)\n",
      "(223, 'A bank is faster than a sun', False)\n",
      "(735, 'A cup is faster than a step', True)\n",
      "(351, 'A foot is faster than a cross', True)\n",
      "(990, 'A newspaper is faster than a hand', False)\n",
      "(488, 'A head is faster than a phone', True)\n",
      "(1001, 'A city is faster than a piece', True)\n",
      "(746, 'A arm is faster than a ear', True)\n",
      "(364, 'A body is faster than a cross', True)\n",
      "(237, 'A book is faster than a hand', False)\n",
      "(369, 'A arm is faster than a town', True)\n",
      "(506, 'A stone is faster than a mouth', False)\n",
      "(630, 'A messenger is faster than a hand', True)\n",
      "(759, 'A street is faster than a head', False)\n",
      "(1018, 'A fool is faster than a head', True)\n",
      "(763, 'A horse is faster than a ball', True)\n",
      "(380, 'A finger is faster than a shoulder', True)\n",
      "(127, 'A hair is faster than a hand', False)\n",
      "\n",
      "Here are the 42 questions that UNITER got correct, but roberta didn't:\n",
      "(385, 'A master is faster than a someone', 'Ambigious')\n",
      "(774, 'A abode is faster than a hill', 'Ambigious')\n",
      "(396, 'A bow is faster than a end', 'Ambigious')\n",
      "(784, 'A foot is faster than a world', True)\n",
      "(536, 'A place is faster than a cross', 'Ambigious')\n",
      "(537, 'A daughter is faster than a ear', True)\n",
      "(154, 'A dinner is faster than a mouth', False)\n",
      "(794, 'A bag is faster than a room', True)\n",
      "(286, 'A arm is faster than a brick', True)\n",
      "(161, 'A friend is faster than a dress', True)\n",
      "(802, 'A food is faster than a mouth', False)\n",
      "(165, 'A foot is faster than a factory', True)\n",
      "(550, 'A shop is faster than a friend', False)\n",
      "(421, 'A office is faster than a watch', False)\n",
      "(680, 'A cross is faster than a floor', True)\n",
      "(554, 'A poet is faster than a mouth', 'Ambigious')\n",
      "(426, 'A dinner is faster than a room', True)\n",
      "(684, 'A brother is faster than a dress', True)\n",
      "(815, 'A poet is faster than a hand', 'Ambigious')\n",
      "(50, 'A tree is faster than a mouth', False)\n",
      "(1074, 'A person is faster than a cross', True)\n",
      "(52, 'A boy is faster than a daughter', 'Ambigious')\n",
      "(821, 'A hand is faster than a face', True)\n",
      "(695, 'A basin is faster than a face', False)\n",
      "(186, 'A office is faster than a seal', False)\n",
      "(315, 'A office is faster than a head', False)\n",
      "(955, 'A place is faster than a camp', 'Ambigious')\n",
      "(575, 'A window is faster than a sun', False)\n",
      "(320, 'A foot is faster than a messenger', 'Ambigious')\n",
      "(966, 'A patient is faster than a train', False)\n",
      "(839, 'A stream is faster than a torrent', False)\n",
      "(586, 'A poet is faster than a king', 'Ambigious')\n",
      "(77, 'A bow is faster than a eye', True)\n",
      "(848, 'A person is faster than a mosquito', False)\n",
      "(724, 'A gate is faster than a farm', True)\n",
      "(86, 'A king is faster than a cross', True)\n",
      "(731, 'A shirt is faster than a floor', True)\n",
      "(488, 'A head is faster than a phone', True)\n",
      "(759, 'A street is faster than a head', False)\n",
      "(506, 'A stone is faster than a mouth', False)\n",
      "(380, 'A finger is faster than a shoulder', True)\n",
      "(127, 'A hair is faster than a hand', False)\n"
     ]
    }
   ],
   "source": [
    "# Verb verb_speed is the hardest\n",
    "# However, we see significant differences in which questions the text models miss and which the mmm miss\n",
    "\n",
    "mmm_speed = set(emodel.T.visualbert.verb_speed) & set(emodel.T.lxmert.verb_speed) & set(emodel.T.uniter.verb_speed) & set(emodel.T['clip'].verb_speed)\n",
    "print(f\"All 4 mmm miss {len(mmm_speed)}:\\n{mmm_speed}\\n\")\n",
    "\n",
    "rob_speed = set(emodel.T.roberta.verb_speed)\n",
    "print(f\"How many of these does roberta miss?\\n{len(rob_speed & mmm_speed)}\")\n",
    "\n",
    "print(f\"\\nThe following are the {len(mmm_speed - rob_speed)} sentences that NO mmm get, but roberta does:\") \n",
    "for i in mmm_speed - rob_speed:\n",
    "    print(get_q(i, verb['speed']['test']))\n",
    "\n",
    "print(f\"\\nHere are the {len(rob_speed - set(emodel.T.visualbert.verb_speed))} questions that VisualBert got correct, but roberta didn't:\")\n",
    "for i in rob_speed - set(emodel.T.visualbert.verb_speed):\n",
    "    print(get_q(i, verb['speed']['test']))\n",
    "    \n",
    "print(f\"\\nHere are the {len(rob_speed - set(emodel.T['clip'].verb_speed))} questions that CLIP got correct, but roberta didn't:\")\n",
    "print(f\"Number of clip errors: {len(emodel.T['clip'].verb_speed)}, number of roberta errors: {len(rob_speed)}\")\n",
    "for i in rob_speed - set(emodel.T['clip'].verb_speed):\n",
    "    print(get_q(i, verb['speed']['test']))\n",
    "    \n",
    "print(f\"\\nHere are the {len(rob_speed - set(emodel.T.uniter.verb_speed))} questions that UNITER got correct, but roberta didn't:\")\n",
    "for i in rob_speed - set(emodel.T.uniter.verb_speed):\n",
    "    print(get_q(i, verb['speed']['test']))"
   ]
  },
  {
   "cell_type": "code",
   "execution_count": null,
   "id": "5f0763ab-fccd-42b9-9c43-f163217bdc79",
   "metadata": {},
   "outputs": [],
   "source": []
  },
  {
   "cell_type": "code",
   "execution_count": 254,
   "id": "fd684f45-5fd2-4f98-8a3a-e002c623c6b3",
   "metadata": {},
   "outputs": [
    {
     "data": {
      "text/plain": [
       "'A watermelon is heavier than a wasabi'"
      ]
     },
     "execution_count": 254,
     "metadata": {},
     "output_type": "execute_result"
    }
   ],
   "source": [
    "doq['train']['sents'][4]"
   ]
  },
  {
   "cell_type": "code",
   "execution_count": null,
   "id": "043f28ba-ba58-4796-9edb-ae52f7b53e0c",
   "metadata": {},
   "outputs": [],
   "source": []
  },
  {
   "cell_type": "code",
   "execution_count": 150,
   "id": "79be4c3c-eacc-4f08-a1fe-c7311fc4fae1",
   "metadata": {},
   "outputs": [],
   "source": [
    "common_doq_errors = set(range(10000))\n",
    "\n",
    "for model, errors in zip(emodel.index, emodel.doq):\n",
    "    common_doq_errors = common_doq_errors & set(errors)\n",
    "\n",
    "out = []\n",
    "for e in common_doq_errors:\n",
    "    out += [get_q(e, prost[''])]\n",
    "\n",
    "common_misses = pd.DataFrame(out)\n",
    "common_misses.to_csv('./common_misses.csv')\n",
    "\n",
    "# Of the 92 questions all get wrong, many are understandable. Human baseline (panel of 3): only get around 50% right. Dataset Errors\n",
    "human_baseline_misses = human_baseline.inedx[human_baseline.Correct == False].values\n",
    "human_baseline_makes = human_baseline.inedx[human_baseline.Correct == True].values\n",
    "\n",
    "# The indexs of sentences that ALL models missed, but we would expect them to guess correctly\n",
    "human_baseline_makes\n",
    "\n",
    "# Of the 92 questions all get wrong, only 12 body part\n",
    "body_part_misses = [10, 556, 59, 63, 113, 673, 676, 191, 752, 284, 319, 476]\n",
    "\n",
    "# Of the 12 body part misses, human baseline only got 5 right --> very difficult questions"
   ]
  },
  {
   "cell_type": "code",
   "execution_count": 142,
   "id": "76e72354-026f-459e-a836-781764ff394a",
   "metadata": {},
   "outputs": [],
   "source": [
    "human_baseline = pd.read_csv('common_misses_human.csv', header=1)"
   ]
  },
  {
   "cell_type": "code",
   "execution_count": 158,
   "id": "167dc586-6d5b-4dd0-9b44-b0b8cf2d1299",
   "metadata": {},
   "outputs": [
    {
     "name": "stdout",
     "output_type": "stream",
     "text": [
      "(10, 'A vagina is bigger than a throat', False)\n",
      "(556, 'A tongue is bigger than a neck', False)\n",
      "(676, 'A muscle is bigger than a tract', True)\n",
      "(284, 'A nose is bigger than a arse', False)\n",
      "(319, 'A abdomen is bigger than a tummy', False)\n"
     ]
    }
   ],
   "source": [
    "for i in human_baseline_makes:\n",
    "    if i not in body_part_misses:\n",
    "        continue\n",
    "    print(get_q(i, doq['test']['sents']))"
   ]
  },
  {
   "cell_type": "code",
   "execution_count": 175,
   "id": "2ea22d54-07df-49be-80b7-b25ad1213d5a",
   "metadata": {},
   "outputs": [
    {
     "data": {
      "text/plain": [
       "{'A',\n",
       " 'a',\n",
       " 'abdomen',\n",
       " 'arse',\n",
       " 'artery',\n",
       " 'bigger',\n",
       " 'brain',\n",
       " 'breast',\n",
       " 'ear',\n",
       " 'foot',\n",
       " 'head',\n",
       " 'is',\n",
       " 'muscle',\n",
       " 'neck',\n",
       " 'nerve',\n",
       " 'nose',\n",
       " 'rectum',\n",
       " 'scalp',\n",
       " 'skull',\n",
       " 'than',\n",
       " 'throat',\n",
       " 'tongue',\n",
       " 'tract',\n",
       " 'tummy',\n",
       " 'vagina'}"
      ]
     },
     "execution_count": 175,
     "metadata": {},
     "output_type": "execute_result"
    }
   ],
   "source": [
    "b = []\n",
    "for x in body_part_misses:\n",
    "    b += get_q(x)[1].split(' ')\n",
    "\n",
    "set(b)"
   ]
  },
  {
   "cell_type": "code",
   "execution_count": 63,
   "id": "a6afb9ed-50d1-49c6-8ae0-c351ea775e7b",
   "metadata": {},
   "outputs": [
    {
     "data": {
      "text/plain": [
       "(65, 27)"
      ]
     },
     "execution_count": 63,
     "metadata": {},
     "output_type": "execute_result"
    }
   ],
   "source": [
    "# 92 questions ALL models get wrong\n",
    "idx = np.array(list(common_doq_errors))\n",
    "\n",
    "labels = [bool(x == 1) for x in np.array(doq['test']['labels'])[idx]]\n",
    "labels.count(False), labels.count(True)"
   ]
  },
  {
   "cell_type": "code",
   "execution_count": 77,
   "id": "c934961c-a13f-4bb0-81b0-5e71dcb8b07a",
   "metadata": {},
   "outputs": [
    {
     "name": "stdout",
     "output_type": "stream",
     "text": [
      "Top terms per cluster:\n",
      "Cluster 0:\n",
      " faster\n",
      " lunging\n",
      " sprinting\n",
      " throwing\n",
      " running\n",
      " rocket\n",
      " toy\n",
      " stomping\n",
      " pushing\n",
      " turning\n",
      "Cluster 1:\n",
      " heavier\n",
      " ssd\n",
      " sugarcane\n",
      " parsnip\n",
      " bean\n",
      " receiver\n",
      " jatropha\n",
      " celery\n",
      " lemon\n",
      " leek\n",
      "Cluster 2:\n",
      " bigger\n",
      " arm\n",
      " pavilion\n",
      " nose\n",
      " foot\n",
      " groin\n",
      " retina\n",
      " ear\n",
      " eyeball\n",
      " skull\n"
     ]
    },
    {
     "name": "stderr",
     "output_type": "stream",
     "text": [
      "/opt/miniconda3/lib/python3.9/site-packages/sklearn/utils/deprecation.py:87: FutureWarning: Function get_feature_names is deprecated; get_feature_names is deprecated in 1.0 and will be removed in 1.2. Please use get_feature_names_out instead.\n",
      "  warnings.warn(msg, category=FutureWarning)\n"
     ]
    }
   ],
   "source": [
    "from sklearn.cluster import KMeans\n",
    "from sklearn.feature_extraction.text import TfidfVectorizer\n",
    "\n",
    "vectorizer = TfidfVectorizer(stop_words='english')\n",
    "X = vectorizer.fit_transform(doq['test']['sents'])\n",
    "\n",
    "true_k = 3\n",
    "model = KMeans(n_clusters=true_k, init='k-means++', max_iter=100, n_init=1)\n",
    "model.fit(X)\n",
    "\n",
    "print(\"Top terms per cluster:\")\n",
    "order_centroids = model.cluster_centers_.argsort()[:, ::-1]\n",
    "terms = vectorizer.get_feature_names()\n",
    "for i in range(true_k):\n",
    "    print(\"Cluster %d:\" % i),\n",
    "    for ind in order_centroids[i, :10]:\n",
    "        print(' %s' % terms[ind]),\n",
    "    print"
   ]
  },
  {
   "cell_type": "code",
   "execution_count": 127,
   "id": "1c8871d2-7269-4fe2-83e5-53dd296ace62",
   "metadata": {},
   "outputs": [
    {
     "name": "stdout",
     "output_type": "stream",
     "text": [
      "Top terms per cluster:\n",
      "Cluster 0:\n",
      " bigger\n",
      " arm\n",
      " pavilion\n",
      " nose\n",
      " foot\n",
      " groin\n",
      " retina\n",
      " ear\n",
      " eyeball\n",
      " skull\n",
      "Cluster 1:\n",
      " heavier\n",
      " ssd\n",
      " sugarcane\n",
      " bean\n",
      " receiver\n",
      " celery\n",
      " parsnip\n",
      " lemon\n",
      " leek\n",
      " endive\n",
      "Cluster 2:\n",
      " whizzing\n",
      " rolling\n",
      " faster\n",
      " driving\n",
      " slithering\n",
      " moping\n",
      " traversing\n",
      " marching\n",
      " waddling\n",
      " meandering\n",
      "Cluster 3:\n",
      " parsley\n",
      " jicama\n",
      " heavier\n",
      " fennel\n",
      " tarragon\n",
      " lavender\n",
      " canola\n",
      " sesame\n",
      " orange\n",
      " jatropha\n",
      "Cluster 4:\n",
      " faster\n",
      " lunging\n",
      " throwing\n",
      " running\n",
      " rocket\n",
      " toy\n",
      " pushing\n",
      " turning\n",
      " sprinting\n",
      " pigeon\n"
     ]
    },
    {
     "name": "stderr",
     "output_type": "stream",
     "text": [
      "/opt/miniconda3/lib/python3.9/site-packages/sklearn/utils/deprecation.py:87: FutureWarning: Function get_feature_names is deprecated; get_feature_names is deprecated in 1.0 and will be removed in 1.2. Please use get_feature_names_out instead.\n",
      "  warnings.warn(msg, category=FutureWarning)\n"
     ]
    },
    {
     "data": {
      "text/plain": [
       "<matplotlib.collections.PathCollection at 0x7fa2218939a0>"
      ]
     },
     "execution_count": 127,
     "metadata": {},
     "output_type": "execute_result"
    },
    {
     "data": {
      "image/png": "[encoded data removed]",
      "text/plain": [
       "<Figure size 432x288 with 1 Axes>"
      ]
     },
     "metadata": {
      "needs_background": "light"
     },
     "output_type": "display_data"
    }
   ],
   "source": [
    "vectorizer = TfidfVectorizer(stop_words='english')\n",
    "\n",
    "# sents = [x for x in np.array(doq['test']['sents'])[idx]]\n",
    "\n",
    "X = vectorizer.fit_transform(doq['test']['sents'])\n",
    "\n",
    "true_k = 5\n",
    "model = KMeans(n_clusters=true_k, init='k-means++', max_iter=100, n_init=1)\n",
    "out = model.fit_transform(X)\n",
    "\n",
    "print(\"Top terms per cluster:\")\n",
    "order_centroids = model.cluster_centers_.argsort()[:, ::-1]\n",
    "terms = vectorizer.get_feature_names()\n",
    "for i in range(true_k):\n",
    "    print(\"Cluster %d:\" % i),\n",
    "    for ind in order_centroids[i, :10]:\n",
    "        print(' %s' % terms[ind]),\n",
    "    print\n",
    "    \n",
    "from sklearn.decomposition import TruncatedSVD\n",
    "\n",
    "pca = TruncatedSVD(n_components=2)\n",
    "out = pca.fit_transform(out)\n",
    "\n",
    "all_idx = np.array(list(range(len(doq['test']['sents']))))\n",
    "\n",
    "x, y = zip(*out)\n",
    "\n",
    "cmap1 = []\n",
    "for i in all_idx:\n",
    "    if i in idx:\n",
    "        cmap1 += ['red']\n",
    "    else:\n",
    "        cmap1 += ['blue']\n",
    "\n",
    "plt.scatter(x, y, c=cmap1)"
   ]
  },
  {
   "cell_type": "code",
   "execution_count": 122,
   "id": "ce0e405e-a7e9-4fa0-ae3a-c4eb155c4658",
   "metadata": {},
   "outputs": [
    {
     "data": {
      "text/plain": [
       "('A moose is heavier than a poodle', True)"
      ]
     },
     "execution_count": 122,
     "metadata": {},
     "output_type": "execute_result"
    }
   ],
   "source": [
    "# The only Model to get example 1 correct was VisualBert. Why? \n",
    "\n",
    "doq['test']['sents'][1], bool(doq['test']['labels'][1] == 1)\n",
    "\n",
    "# Requires specific knowledge!\n"
   ]
  },
  {
   "cell_type": "code",
   "execution_count": 39,
   "id": "8015ea5b-3c36-476b-b545-3c1c63c39d0d",
   "metadata": {},
   "outputs": [
    {
     "data": {
      "text/plain": [
       "('A vagina is bigger than a throat', False)"
      ]
     },
     "execution_count": 39,
     "metadata": {},
     "output_type": "execute_result"
    }
   ],
   "source": [
    "# Every model gets example 10 wrong, why? \n",
    "\n",
    "doq['test']['sents'][10], bool(doq['test']['labels'][10] == 1)\n",
    "\n",
    "# Could this higlight the outsized importance of sexual organs? \"Percieved larger?\" \n",
    "# Very few photos of vaginas in dataset presumably\n",
    "\n"
   ]
  },
  {
   "cell_type": "code",
   "execution_count": 241,
   "id": "76dd10f6-af2b-4877-be66-4f428d0e63ab",
   "metadata": {},
   "outputs": [],
   "source": [
    "def get_q(num, data):\n",
    "    label = {'-1': False, '0': 'Ambigious', '1': True}\n",
    "    return(num, data['sents'][num], label[str(int(data['labels'][num]))])"
   ]
  },
  {
   "cell_type": "code",
   "execution_count": 46,
   "id": "8aa5a43a-100b-4145-b3a8-86cc7603b409",
   "metadata": {},
   "outputs": [
    {
     "name": "stdout",
     "output_type": "stream",
     "text": [
      "A throwing is faster than a crawling True\n",
      "A pizzeria is bigger than a studio False\n"
     ]
    }
   ],
   "source": [
    "# Only Uniter and VisualBert get question 11 correct, why?\n",
    "get_q(11)\n",
    "\n",
    "# A comparison of throwing vs. crawling --> many photos of babies crawling, people throwing\n",
    "# People actions are in photos\n",
    "\n",
    "# Q12 every model gets wrong\n",
    "get_q(12)\n",
    "\n",
    "# about buildings, not actions people do.\n"
   ]
  },
  {
   "cell_type": "code",
   "execution_count": 47,
   "id": "5aa61eb1-5d4d-48d2-b447-46650e8475b7",
   "metadata": {},
   "outputs": [
    {
     "name": "stdout",
     "output_type": "stream",
     "text": [
      "A shop is bigger than a plaza False\n"
     ]
    }
   ],
   "source": [
    "# Interestingly, all models get question 13 correct\n",
    "get_q(13)\n"
   ]
  },
  {
   "cell_type": "code",
   "execution_count": 49,
   "id": "2d4c4057-5b07-44e2-8858-1d2c0d2ea215",
   "metadata": {},
   "outputs": [
    {
     "name": "stdout",
     "output_type": "stream",
     "text": [
      "A sanctuary is bigger than a cafeteria True\n"
     ]
    }
   ],
   "source": [
    "# Visualbert and Roberta Large only models to get question 14 correct\n",
    "\n",
    "get_q(14)\n",
    "\n",
    "# pretty ambigious "
   ]
  },
  {
   "cell_type": "code",
   "execution_count": null,
   "id": "c9bfac8a-0c32-4ea4-aab7-c873ee8b49a4",
   "metadata": {},
   "outputs": [],
   "source": []
  },
  {
   "cell_type": "code",
   "execution_count": 259,
   "id": "f9dcf6fc-8acd-402c-904f-f6039f64586b",
   "metadata": {},
   "outputs": [
    {
     "name": "stdout",
     "output_type": "stream",
     "text": [
      "37.652 7.0 7.0\n"
     ]
    }
   ],
   "source": [
    "prost_lens = [len(x.split()) for x in prost['test']['sents']]\n",
    "doq_lens = [len(x.split()) for x in doq['test']['sents']]\n",
    "verb_lens = [len(x.split()) for x in verb['weight']['test']['sents']]\n",
    "\n",
    "print(np.mean(prost_lens), np.mean(doq_lens), np.mean(verb_lens))"
   ]
  },
  {
   "cell_type": "code",
   "execution_count": 21,
   "id": "ee77e336-9244-47bf-a206-c91dbd72e174",
   "metadata": {},
   "outputs": [],
   "source": [
    "pf = df.mean(axis=1)"
   ]
  },
  {
   "cell_type": "code",
   "execution_count": 33,
   "id": "8eecce31-374b-4bb9-845d-e4820393e2a5",
   "metadata": {
    "collapsed": true,
    "jupyter": {
     "outputs_hidden": true
    },
    "tags": []
   },
   "outputs": [
    {
     "ename": "TypeError",
     "evalue": "unsupported operand type(s) for +: 'method' and 'float'",
     "output_type": "error",
     "traceback": [
      "\u001b[0;31m---------------------------------------------------------------------------\u001b[0m",
      "\u001b[0;31mTypeError\u001b[0m                                 Traceback (most recent call last)",
      "\u001b[0;32m/var/folders/nb/76jp2vmd3yg4dq6tm9mcsddh0000gn/T/ipykernel_29763/1122273076.py\u001b[0m in \u001b[0;36m<module>\u001b[0;34m\u001b[0m\n\u001b[0;32m----> 1\u001b[0;31m \u001b[0mmultimodal\u001b[0m \u001b[0;34m=\u001b[0m \u001b[0mdf\u001b[0m\u001b[0;34m.\u001b[0m\u001b[0mclip\u001b[0m \u001b[0;34m+\u001b[0m \u001b[0mdf\u001b[0m\u001b[0;34m.\u001b[0m\u001b[0mvisualbert\u001b[0m\u001b[0;34m\u001b[0m\u001b[0;34m\u001b[0m\u001b[0m\n\u001b[0m",
      "\u001b[0;32m~/Desktop/ClassesFall21/cs197/.env/lib/python3.9/site-packages/pandas/core/ops/common.py\u001b[0m in \u001b[0;36mnew_method\u001b[0;34m(self, other)\u001b[0m\n\u001b[1;32m     67\u001b[0m         \u001b[0mother\u001b[0m \u001b[0;34m=\u001b[0m \u001b[0mitem_from_zerodim\u001b[0m\u001b[0;34m(\u001b[0m\u001b[0mother\u001b[0m\u001b[0;34m)\u001b[0m\u001b[0;34m\u001b[0m\u001b[0;34m\u001b[0m\u001b[0m\n\u001b[1;32m     68\u001b[0m \u001b[0;34m\u001b[0m\u001b[0m\n\u001b[0;32m---> 69\u001b[0;31m         \u001b[0;32mreturn\u001b[0m \u001b[0mmethod\u001b[0m\u001b[0;34m(\u001b[0m\u001b[0mself\u001b[0m\u001b[0;34m,\u001b[0m \u001b[0mother\u001b[0m\u001b[0;34m)\u001b[0m\u001b[0;34m\u001b[0m\u001b[0;34m\u001b[0m\u001b[0m\n\u001b[0m\u001b[1;32m     70\u001b[0m \u001b[0;34m\u001b[0m\u001b[0m\n\u001b[1;32m     71\u001b[0m     \u001b[0;32mreturn\u001b[0m \u001b[0mnew_method\u001b[0m\u001b[0;34m\u001b[0m\u001b[0;34m\u001b[0m\u001b[0m\n",
      "\u001b[0;32m~/Desktop/ClassesFall21/cs197/.env/lib/python3.9/site-packages/pandas/core/arraylike.py\u001b[0m in \u001b[0;36m__radd__\u001b[0;34m(self, other)\u001b[0m\n\u001b[1;32m     94\u001b[0m     \u001b[0;34m@\u001b[0m\u001b[0munpack_zerodim_and_defer\u001b[0m\u001b[0;34m(\u001b[0m\u001b[0;34m\"__radd__\"\u001b[0m\u001b[0;34m)\u001b[0m\u001b[0;34m\u001b[0m\u001b[0;34m\u001b[0m\u001b[0m\n\u001b[1;32m     95\u001b[0m     \u001b[0;32mdef\u001b[0m \u001b[0m__radd__\u001b[0m\u001b[0;34m(\u001b[0m\u001b[0mself\u001b[0m\u001b[0;34m,\u001b[0m \u001b[0mother\u001b[0m\u001b[0;34m)\u001b[0m\u001b[0;34m:\u001b[0m\u001b[0;34m\u001b[0m\u001b[0;34m\u001b[0m\u001b[0m\n\u001b[0;32m---> 96\u001b[0;31m         \u001b[0;32mreturn\u001b[0m \u001b[0mself\u001b[0m\u001b[0;34m.\u001b[0m\u001b[0m_arith_method\u001b[0m\u001b[0;34m(\u001b[0m\u001b[0mother\u001b[0m\u001b[0;34m,\u001b[0m \u001b[0mroperator\u001b[0m\u001b[0;34m.\u001b[0m\u001b[0mradd\u001b[0m\u001b[0;34m)\u001b[0m\u001b[0;34m\u001b[0m\u001b[0;34m\u001b[0m\u001b[0m\n\u001b[0m\u001b[1;32m     97\u001b[0m \u001b[0;34m\u001b[0m\u001b[0m\n\u001b[1;32m     98\u001b[0m     \u001b[0;34m@\u001b[0m\u001b[0munpack_zerodim_and_defer\u001b[0m\u001b[0;34m(\u001b[0m\u001b[0;34m\"__sub__\"\u001b[0m\u001b[0;34m)\u001b[0m\u001b[0;34m\u001b[0m\u001b[0;34m\u001b[0m\u001b[0m\n",
      "\u001b[0;32m~/Desktop/ClassesFall21/cs197/.env/lib/python3.9/site-packages/pandas/core/series.py\u001b[0m in \u001b[0;36m_arith_method\u001b[0;34m(self, other, op)\u001b[0m\n\u001b[1;32m   5524\u001b[0m \u001b[0;34m\u001b[0m\u001b[0m\n\u001b[1;32m   5525\u001b[0m         \u001b[0;32mwith\u001b[0m \u001b[0mnp\u001b[0m\u001b[0;34m.\u001b[0m\u001b[0merrstate\u001b[0m\u001b[0;34m(\u001b[0m\u001b[0mall\u001b[0m\u001b[0;34m=\u001b[0m\u001b[0;34m\"ignore\"\u001b[0m\u001b[0;34m)\u001b[0m\u001b[0;34m:\u001b[0m\u001b[0;34m\u001b[0m\u001b[0;34m\u001b[0m\u001b[0m\n\u001b[0;32m-> 5526\u001b[0;31m             \u001b[0mresult\u001b[0m \u001b[0;34m=\u001b[0m \u001b[0mops\u001b[0m\u001b[0;34m.\u001b[0m\u001b[0marithmetic_op\u001b[0m\u001b[0;34m(\u001b[0m\u001b[0mlvalues\u001b[0m\u001b[0;34m,\u001b[0m \u001b[0mrvalues\u001b[0m\u001b[0;34m,\u001b[0m \u001b[0mop\u001b[0m\u001b[0;34m)\u001b[0m\u001b[0;34m\u001b[0m\u001b[0;34m\u001b[0m\u001b[0m\n\u001b[0m\u001b[1;32m   5527\u001b[0m \u001b[0;34m\u001b[0m\u001b[0m\n\u001b[1;32m   5528\u001b[0m         \u001b[0;32mreturn\u001b[0m \u001b[0mself\u001b[0m\u001b[0;34m.\u001b[0m\u001b[0m_construct_result\u001b[0m\u001b[0;34m(\u001b[0m\u001b[0mresult\u001b[0m\u001b[0;34m,\u001b[0m \u001b[0mname\u001b[0m\u001b[0;34m=\u001b[0m\u001b[0mres_name\u001b[0m\u001b[0;34m)\u001b[0m\u001b[0;34m\u001b[0m\u001b[0;34m\u001b[0m\u001b[0m\n",
      "\u001b[0;32m~/Desktop/ClassesFall21/cs197/.env/lib/python3.9/site-packages/pandas/core/ops/array_ops.py\u001b[0m in \u001b[0;36marithmetic_op\u001b[0;34m(left, right, op)\u001b[0m\n\u001b[1;32m    222\u001b[0m         \u001b[0m_bool_arith_check\u001b[0m\u001b[0;34m(\u001b[0m\u001b[0mop\u001b[0m\u001b[0;34m,\u001b[0m \u001b[0mleft\u001b[0m\u001b[0;34m,\u001b[0m \u001b[0mright\u001b[0m\u001b[0;34m)\u001b[0m\u001b[0;34m\u001b[0m\u001b[0;34m\u001b[0m\u001b[0m\n\u001b[1;32m    223\u001b[0m \u001b[0;34m\u001b[0m\u001b[0m\n\u001b[0;32m--> 224\u001b[0;31m         \u001b[0mres_values\u001b[0m \u001b[0;34m=\u001b[0m \u001b[0m_na_arithmetic_op\u001b[0m\u001b[0;34m(\u001b[0m\u001b[0mleft\u001b[0m\u001b[0;34m,\u001b[0m \u001b[0mright\u001b[0m\u001b[0;34m,\u001b[0m \u001b[0mop\u001b[0m\u001b[0;34m)\u001b[0m\u001b[0;34m\u001b[0m\u001b[0;34m\u001b[0m\u001b[0m\n\u001b[0m\u001b[1;32m    225\u001b[0m \u001b[0;34m\u001b[0m\u001b[0m\n\u001b[1;32m    226\u001b[0m     \u001b[0;32mreturn\u001b[0m \u001b[0mres_values\u001b[0m\u001b[0;34m\u001b[0m\u001b[0;34m\u001b[0m\u001b[0m\n",
      "\u001b[0;32m~/Desktop/ClassesFall21/cs197/.env/lib/python3.9/site-packages/pandas/core/ops/array_ops.py\u001b[0m in \u001b[0;36m_na_arithmetic_op\u001b[0;34m(left, right, op, is_cmp)\u001b[0m\n\u001b[1;32m    164\u001b[0m \u001b[0;34m\u001b[0m\u001b[0m\n\u001b[1;32m    165\u001b[0m     \u001b[0;32mtry\u001b[0m\u001b[0;34m:\u001b[0m\u001b[0;34m\u001b[0m\u001b[0;34m\u001b[0m\u001b[0m\n\u001b[0;32m--> 166\u001b[0;31m         \u001b[0mresult\u001b[0m \u001b[0;34m=\u001b[0m \u001b[0mfunc\u001b[0m\u001b[0;34m(\u001b[0m\u001b[0mleft\u001b[0m\u001b[0;34m,\u001b[0m \u001b[0mright\u001b[0m\u001b[0;34m)\u001b[0m\u001b[0;34m\u001b[0m\u001b[0;34m\u001b[0m\u001b[0m\n\u001b[0m\u001b[1;32m    167\u001b[0m     \u001b[0;32mexcept\u001b[0m \u001b[0mTypeError\u001b[0m\u001b[0;34m:\u001b[0m\u001b[0;34m\u001b[0m\u001b[0;34m\u001b[0m\u001b[0m\n\u001b[1;32m    168\u001b[0m         \u001b[0;32mif\u001b[0m \u001b[0mis_object_dtype\u001b[0m\u001b[0;34m(\u001b[0m\u001b[0mleft\u001b[0m\u001b[0;34m)\u001b[0m \u001b[0;32mor\u001b[0m \u001b[0mis_object_dtype\u001b[0m\u001b[0;34m(\u001b[0m\u001b[0mright\u001b[0m\u001b[0;34m)\u001b[0m \u001b[0;32mand\u001b[0m \u001b[0;32mnot\u001b[0m \u001b[0mis_cmp\u001b[0m\u001b[0;34m:\u001b[0m\u001b[0;34m\u001b[0m\u001b[0;34m\u001b[0m\u001b[0m\n",
      "\u001b[0;32m~/Desktop/ClassesFall21/cs197/.env/lib/python3.9/site-packages/pandas/core/computation/expressions.py\u001b[0m in \u001b[0;36mevaluate\u001b[0;34m(op, a, b, use_numexpr)\u001b[0m\n\u001b[1;32m    237\u001b[0m         \u001b[0;32mif\u001b[0m \u001b[0muse_numexpr\u001b[0m\u001b[0;34m:\u001b[0m\u001b[0;34m\u001b[0m\u001b[0;34m\u001b[0m\u001b[0m\n\u001b[1;32m    238\u001b[0m             \u001b[0;31m# error: \"None\" not callable\u001b[0m\u001b[0;34m\u001b[0m\u001b[0;34m\u001b[0m\u001b[0m\n\u001b[0;32m--> 239\u001b[0;31m             \u001b[0;32mreturn\u001b[0m \u001b[0m_evaluate\u001b[0m\u001b[0;34m(\u001b[0m\u001b[0mop\u001b[0m\u001b[0;34m,\u001b[0m \u001b[0mop_str\u001b[0m\u001b[0;34m,\u001b[0m \u001b[0ma\u001b[0m\u001b[0;34m,\u001b[0m \u001b[0mb\u001b[0m\u001b[0;34m)\u001b[0m  \u001b[0;31m# type: ignore[misc]\u001b[0m\u001b[0;34m\u001b[0m\u001b[0;34m\u001b[0m\u001b[0m\n\u001b[0m\u001b[1;32m    240\u001b[0m     \u001b[0;32mreturn\u001b[0m \u001b[0m_evaluate_standard\u001b[0m\u001b[0;34m(\u001b[0m\u001b[0mop\u001b[0m\u001b[0;34m,\u001b[0m \u001b[0mop_str\u001b[0m\u001b[0;34m,\u001b[0m \u001b[0ma\u001b[0m\u001b[0;34m,\u001b[0m \u001b[0mb\u001b[0m\u001b[0;34m)\u001b[0m\u001b[0;34m\u001b[0m\u001b[0;34m\u001b[0m\u001b[0m\n\u001b[1;32m    241\u001b[0m \u001b[0;34m\u001b[0m\u001b[0m\n",
      "\u001b[0;32m~/Desktop/ClassesFall21/cs197/.env/lib/python3.9/site-packages/pandas/core/computation/expressions.py\u001b[0m in \u001b[0;36m_evaluate_standard\u001b[0;34m(op, op_str, a, b)\u001b[0m\n\u001b[1;32m     67\u001b[0m     \u001b[0;32mif\u001b[0m \u001b[0m_TEST_MODE\u001b[0m\u001b[0;34m:\u001b[0m\u001b[0;34m\u001b[0m\u001b[0;34m\u001b[0m\u001b[0m\n\u001b[1;32m     68\u001b[0m         \u001b[0m_store_test_result\u001b[0m\u001b[0;34m(\u001b[0m\u001b[0;32mFalse\u001b[0m\u001b[0;34m)\u001b[0m\u001b[0;34m\u001b[0m\u001b[0;34m\u001b[0m\u001b[0m\n\u001b[0;32m---> 69\u001b[0;31m     \u001b[0;32mreturn\u001b[0m \u001b[0mop\u001b[0m\u001b[0;34m(\u001b[0m\u001b[0ma\u001b[0m\u001b[0;34m,\u001b[0m \u001b[0mb\u001b[0m\u001b[0;34m)\u001b[0m\u001b[0;34m\u001b[0m\u001b[0;34m\u001b[0m\u001b[0m\n\u001b[0m\u001b[1;32m     70\u001b[0m \u001b[0;34m\u001b[0m\u001b[0m\n\u001b[1;32m     71\u001b[0m \u001b[0;34m\u001b[0m\u001b[0m\n",
      "\u001b[0;32m~/Desktop/ClassesFall21/cs197/.env/lib/python3.9/site-packages/pandas/core/roperator.py\u001b[0m in \u001b[0;36mradd\u001b[0;34m(left, right)\u001b[0m\n\u001b[1;32m      7\u001b[0m \u001b[0;34m\u001b[0m\u001b[0m\n\u001b[1;32m      8\u001b[0m \u001b[0;32mdef\u001b[0m \u001b[0mradd\u001b[0m\u001b[0;34m(\u001b[0m\u001b[0mleft\u001b[0m\u001b[0;34m,\u001b[0m \u001b[0mright\u001b[0m\u001b[0;34m)\u001b[0m\u001b[0;34m:\u001b[0m\u001b[0;34m\u001b[0m\u001b[0;34m\u001b[0m\u001b[0m\n\u001b[0;32m----> 9\u001b[0;31m     \u001b[0;32mreturn\u001b[0m \u001b[0mright\u001b[0m \u001b[0;34m+\u001b[0m \u001b[0mleft\u001b[0m\u001b[0;34m\u001b[0m\u001b[0;34m\u001b[0m\u001b[0m\n\u001b[0m\u001b[1;32m     10\u001b[0m \u001b[0;34m\u001b[0m\u001b[0m\n\u001b[1;32m     11\u001b[0m \u001b[0;34m\u001b[0m\u001b[0m\n",
      "\u001b[0;31mTypeError\u001b[0m: unsupported operand type(s) for +: 'method' and 'float'"
     ]
    }
   ],
   "source": [
    "multimodal = df.clip + df.visualbert"
   ]
  },
  {
   "cell_type": "code",
   "execution_count": 50,
   "id": "194bb468-c33d-449f-af94-6775ea291dc9",
   "metadata": {},
   "outputs": [],
   "source": [
    "pf = pf.T"
   ]
  },
  {
   "cell_type": "code",
   "execution_count": 54,
   "id": "0f12000d-2cb0-412c-b667-a5d1adae69ec",
   "metadata": {},
   "outputs": [],
   "source": [
    "multimodal = (pf['clip'] + pf['visualbert'])/2\n",
    "unimodal = (pf['roberta'] + pf['roberta_small'])/2"
   ]
  },
  {
   "cell_type": "code",
   "execution_count": 69,
   "id": "44445d15-ac19-486c-9180-4a74d65cb2a2",
   "metadata": {},
   "outputs": [
    {
     "data": {
      "text/html": [
       "<div>\n",
       "<style scoped>\n",
       "    .dataframe tbody tr th:only-of-type {\n",
       "        vertical-align: middle;\n",
       "    }\n",
       "\n",
       "    .dataframe tbody tr th {\n",
       "        vertical-align: top;\n",
       "    }\n",
       "\n",
       "    .dataframe thead th {\n",
       "        text-align: right;\n",
       "    }\n",
       "</style>\n",
       "<table border=\"1\" class=\"dataframe\">\n",
       "  <thead>\n",
       "    <tr style=\"text-align: right;\">\n",
       "      <th></th>\n",
       "      <th>doq</th>\n",
       "      <th>prost</th>\n",
       "      <th>verb_weight</th>\n",
       "      <th>verb_speed</th>\n",
       "      <th>verb_size</th>\n",
       "      <th>verb_strength</th>\n",
       "      <th>verb_rigidness</th>\n",
       "    </tr>\n",
       "  </thead>\n",
       "  <tbody>\n",
       "    <tr>\n",
       "      <th>visual+language</th>\n",
       "      <td>64.772727</td>\n",
       "      <td>33.057631</td>\n",
       "      <td>79.674166</td>\n",
       "      <td>73.357664</td>\n",
       "      <td>81.541502</td>\n",
       "      <td>76.483051</td>\n",
       "      <td>71.070518</td>\n",
       "    </tr>\n",
       "    <tr>\n",
       "      <th>language</th>\n",
       "      <td>61.772727</td>\n",
       "      <td>65.955176</td>\n",
       "      <td>77.928627</td>\n",
       "      <td>68.750000</td>\n",
       "      <td>77.588933</td>\n",
       "      <td>73.771186</td>\n",
       "      <td>67.926933</td>\n",
       "    </tr>\n",
       "  </tbody>\n",
       "</table>\n",
       "</div>"
      ],
      "text/plain": [
       "                       doq      prost  verb_weight  verb_speed  verb_size  \\\n",
       "visual+language  64.772727  33.057631    79.674166   73.357664  81.541502   \n",
       "language         61.772727  65.955176    77.928627   68.750000  77.588933   \n",
       "\n",
       "                 verb_strength  verb_rigidness  \n",
       "visual+language      76.483051       71.070518  \n",
       "language             73.771186       67.926933  "
      ]
     },
     "execution_count": 69,
     "metadata": {},
     "output_type": "execute_result"
    }
   ],
   "source": [
    "models = pd.concat([multimodal, unimodal], axis=1)\n",
    "models.columns =['visual+language', 'language']\n",
    "models.T"
   ]
  },
  {
   "cell_type": "code",
   "execution_count": 4,
   "id": "8c6cbb87-546c-4c2a-a406-a4360b6092a4",
   "metadata": {},
   "outputs": [],
   "source": [
    "def evaluate_prost(model):\n",
    "    m = WordModel(model, try_encoder=True)\n",
    "    train_features = m.get_features(prost['train']['sents'])\n",
    "    test_features = m.get_features(prost['test']['sents'])\n",
    "    \n",
    "    lr = train_model(train_features, prost['train']['labels'])\n",
    "    acc, probs = test_model(lr, test_features, prost['test']['labels'], return_probs=True)\n",
    "    \n",
    "    assert len(probs) % 4 == 0\n",
    "    \n",
    "    correct_count = 0.0\n",
    "    \n",
    "    for i in range(0, probs.shape[0], 4):\n",
    "        example = probs[i:i+4]\n",
    "        true_pred = np.max(example, axis=0)\n",
    "        \n",
    "        for j, ex in enumerate(example):\n",
    "            if ex[1] == true_pred[1] and prost['test']['labels'][i + j]:\n",
    "                correct_count += 1\n",
    "                break\n",
    "    \n",
    "    return correct_count / (probs.shape[0] / 4) * 100"
   ]
  },
  {
   "cell_type": "code",
   "execution_count": 36,
   "id": "bbb7204c-afc4-4527-8d3f-7a33452c38b0",
   "metadata": {},
   "outputs": [
    {
     "name": "stderr",
     "output_type": "stream",
     "text": [
      "100%|███████████████████████████████████████████| 55/55 [00:01<00:00, 51.48it/s]"
     ]
    },
    {
     "name": "stdout",
     "output_type": "stream",
     "text": [
      "Expected 2D array, got 1D array instead:\n",
      "array=[-2.6959957e-11 -4.3043177e-11  2.5684849e-12 ... -1.0659615e-02\n",
      " -2.2763608e-02 -1.0907674e-02].\n",
      "Reshape your data either using array.reshape(-1, 1) if your data has a single feature or array.reshape(1, -1) if it contains a single sample.\n"
     ]
    },
    {
     "name": "stderr",
     "output_type": "stream",
     "text": [
      "\n"
     ]
    },
    {
     "ename": "NameError",
     "evalue": "name 'verb' is not defined",
     "output_type": "error",
     "traceback": [
      "\u001b[0;31m---------------------------------------------------------------------------\u001b[0m",
      "\u001b[0;31mNameError\u001b[0m                                 Traceback (most recent call last)",
      "\u001b[0;32m/var/folders/nb/76jp2vmd3yg4dq6tm9mcsddh0000gn/T/ipykernel_41672/1169996577.py\u001b[0m in \u001b[0;36m<module>\u001b[0;34m\u001b[0m\n\u001b[1;32m     22\u001b[0m     }\n\u001b[1;32m     23\u001b[0m \u001b[0;34m\u001b[0m\u001b[0m\n\u001b[0;32m---> 24\u001b[0;31m     \u001b[0;32mfor\u001b[0m \u001b[0mattr\u001b[0m \u001b[0;32min\u001b[0m \u001b[0mverb\u001b[0m\u001b[0;34m:\u001b[0m\u001b[0;34m\u001b[0m\u001b[0;34m\u001b[0m\u001b[0m\n\u001b[0m\u001b[1;32m     25\u001b[0m         \u001b[0maccs_embed\u001b[0m\u001b[0;34m[\u001b[0m\u001b[0mmodel\u001b[0m\u001b[0;34m]\u001b[0m\u001b[0;34m[\u001b[0m\u001b[0;34mf'verb_{attr}'\u001b[0m\u001b[0;34m]\u001b[0m \u001b[0;34m=\u001b[0m \u001b[0mverb_acc\u001b[0m\u001b[0;34m[\u001b[0m\u001b[0mattr\u001b[0m\u001b[0;34m]\u001b[0m\u001b[0;34m\u001b[0m\u001b[0;34m\u001b[0m\u001b[0m\n",
      "\u001b[0;31mNameError\u001b[0m: name 'verb' is not defined"
     ]
    }
   ],
   "source": [
    "accs_embed = {}\n",
    "\n",
    "# Non-pooled evaluation\n",
    "for model in MODELS:\n",
    "    doq_acc = None\n",
    "    prost_acc = None\n",
    "    try:\n",
    "        doq_acc = run_model(model, doq['train']['labels'], doq['train']['sents'], doq['test']['labels'], doq['test']['sents'], try_encoder=False, verbose=False)\n",
    "        print(\"doq\", doq_acc)\n",
    "        verb_acc = {}\n",
    "        for attr in verb:\n",
    "            verb_acc[attr] = run_model(model, verb[attr]['train']['labels'], verb[attr]['train']['sents'], verb[attr]['test']['labels'], verb[attr]['test']['sents'], try_encoder=False, verbose=False)\n",
    "            print(f\"verb-{attr}\", verb_acc[attr])\n",
    "        prost_acc = evaluate_prost(model)\n",
    "        print(\"prost\", prost_acc)\n",
    "    except Exception as e:\n",
    "        print(e)\n",
    "    \n",
    "    accs_embed[model] = {\n",
    "        'doq': doq_acc,\n",
    "        'prost': prost_acc,\n",
    "    }\n",
    "    \n",
    "    for attr in verb:\n",
    "        accs_embed[model][f'verb_{attr}'] = verb_acc[attr]"
   ]
  },
  {
   "cell_type": "code",
   "execution_count": null,
   "id": "250c0a76-3fb9-4ee5-a1a9-a8f6e4f463ed",
   "metadata": {},
   "outputs": [],
   "source": []
  },
  {
   "cell_type": "code",
   "execution_count": null,
   "id": "08e5778f-c633-4405-b994-500b65493281",
   "metadata": {},
   "outputs": [],
   "source": []
  },
  {
   "cell_type": "code",
   "execution_count": null,
   "id": "fff07962-0321-4703-be2d-7bd18c145697",
   "metadata": {},
   "outputs": [],
   "source": []
  },
  {
   "cell_type": "code",
   "execution_count": 28,
   "id": "3e1560c7-92a5-4fd3-b9be-9dcd76d85a37",
   "metadata": {},
   "outputs": [],
   "source": [
    "accs_df = accs_df.T"
   ]
  },
  {
   "cell_type": "code",
   "execution_count": 17,
   "id": "2c7209b1-491c-424a-9518-7f910bf14fe1",
   "metadata": {},
   "outputs": [],
   "source": [
    "multimodal = (accs_df['clip'] + accs_df['lxmert'] + accs_df['visualbert'])/3\n",
    "unimodal = (accs_df['roberta'] + accs_df['t5'] + accs_df['roberta_small'])/3"
   ]
  },
  {
   "cell_type": "code",
   "execution_count": 18,
   "id": "c4392251-5b3b-4738-a3ff-b48a14cc0b89",
   "metadata": {},
   "outputs": [
    {
     "data": {
      "text/html": [
       "<div>\n",
       "<style scoped>\n",
       "    .dataframe tbody tr th:only-of-type {\n",
       "        vertical-align: middle;\n",
       "    }\n",
       "\n",
       "    .dataframe tbody tr th {\n",
       "        vertical-align: top;\n",
       "    }\n",
       "\n",
       "    .dataframe thead th {\n",
       "        text-align: right;\n",
       "    }\n",
       "</style>\n",
       "<table border=\"1\" class=\"dataframe\">\n",
       "  <thead>\n",
       "    <tr style=\"text-align: right;\">\n",
       "      <th></th>\n",
       "      <th>doq</th>\n",
       "      <th>prost</th>\n",
       "      <th>verb_weight</th>\n",
       "      <th>verb_speed</th>\n",
       "      <th>verb_size</th>\n",
       "      <th>verb_strength</th>\n",
       "      <th>verb_rigidness</th>\n",
       "    </tr>\n",
       "  </thead>\n",
       "  <tbody>\n",
       "    <tr>\n",
       "      <th>visual+language</th>\n",
       "      <td>63.484848</td>\n",
       "      <td>34.009249</td>\n",
       "      <td>81.872252</td>\n",
       "      <td>71.472019</td>\n",
       "      <td>82.29249</td>\n",
       "      <td>77.966102</td>\n",
       "      <td>71.651090</td>\n",
       "    </tr>\n",
       "    <tr>\n",
       "      <th>language</th>\n",
       "      <td>62.606061</td>\n",
       "      <td>49.501957</td>\n",
       "      <td>78.019136</td>\n",
       "      <td>68.248175</td>\n",
       "      <td>78.26087</td>\n",
       "      <td>73.389831</td>\n",
       "      <td>68.677428</td>\n",
       "    </tr>\n",
       "  </tbody>\n",
       "</table>\n",
       "</div>"
      ],
      "text/plain": [
       "                       doq      prost  verb_weight  verb_speed  verb_size  \\\n",
       "visual+language  63.484848  34.009249    81.872252   71.472019   82.29249   \n",
       "language         62.606061  49.501957    78.019136   68.248175   78.26087   \n",
       "\n",
       "                 verb_strength  verb_rigidness  \n",
       "visual+language      77.966102       71.651090  \n",
       "language             73.389831       68.677428  "
      ]
     },
     "execution_count": 18,
     "metadata": {},
     "output_type": "execute_result"
    }
   ],
   "source": [
    "models = pd.concat([multimodal, unimodal], axis=1)\n",
    "models.columns =['visual+language', 'language']\n",
    "models.T"
   ]
  },
  {
   "cell_type": "code",
   "execution_count": null,
   "id": "c143b410-1e4a-41c0-a0e8-4380c93376b1",
   "metadata": {},
   "outputs": [],
   "source": []
  },
  {
   "cell_type": "code",
   "execution_count": null,
   "id": "27cb3835-85ee-47a7-9ad3-ae9b88b08dab",
   "metadata": {},
   "outputs": [],
   "source": []
  },
  {
   "cell_type": "code",
   "execution_count": 24,
   "id": "8f91ecd8-2aa0-4c04-801a-eabca5269cfd",
   "metadata": {},
   "outputs": [],
   "source": [
    "from sklearn.decomposition import PCA\n",
    "from sklearn.linear_model import SGDClassifier\n",
    "from sklearn.preprocessing import StandardScaler\n",
    "from sklearn.pipeline import make_pipeline"
   ]
  },
  {
   "cell_type": "code",
   "execution_count": 20,
   "id": "b16ad7f0-adcd-419a-9b2e-24a8d6bccd79",
   "metadata": {
    "tags": []
   },
   "outputs": [
    {
     "name": "stderr",
     "output_type": "stream",
     "text": [
      "100%|█████████████████████████████████████████| 100/100 [01:16<00:00,  1.30it/s]\n",
      "100%|███████████████████████████████████████████| 50/50 [00:36<00:00,  1.36it/s]\n"
     ]
    }
   ],
   "source": [
    "m = WordModel('roberta', try_encoder=True)\n",
    "\n",
    "train_features = m.get_features(prost['train']['sents'])\n",
    "test_features = m.get_features(prost['test']['sents'])"
   ]
  },
  {
   "cell_type": "code",
   "execution_count": null,
   "id": "50add8f1-be62-4af4-9900-7c246be19b2c",
   "metadata": {},
   "outputs": [],
   "source": []
  },
  {
   "cell_type": "code",
   "execution_count": 337,
   "id": "66883d26-4156-4a6c-978f-f5d5df1d579e",
   "metadata": {},
   "outputs": [
    {
     "name": "stdout",
     "output_type": "stream",
     "text": [
      "tensor([  101,  1109,  2473,  2262,  1114,  2949,  1110,  1103, 20773,  1111,\n",
      "         1103,  5003,  1106,  7253,  1506,   119,   102,   138,  1825,  1110,\n",
      "         7989,  1300, 15453,  1506,  1300,  1662,  9902,   119,  1109,  1148,\n",
      "         2473,  1110,  2262,  1114,  2949,   117,  1103,  1248,  2473,  1110,\n",
      "         2262,  1114, 11898,   117,  1103,  1503,  2473,  1110,  2262,  1114,\n",
      "         2854,   117,  1105,  1103,  2223,  2473,  1110,  2262,  1114,  8439,\n",
      "          119,   102,     0,     0,     0,     0,     0,     0,     0,     0])\n"
     ]
    }
   ],
   "source": [
    "m = WordModel('uniter', try_encoder=False)\n",
    "\n",
    "batch = prost['train']['sents'][:30]\n",
    "tokens = m.tokenizer(batch, return_tensors=\"pt\", padding='max_length', truncation=True, max_length=70)\n",
    "\n",
    "print(tokens.input_ids[0])\n",
    "# train_features = m.get_features(prost['train']['sents'])\n",
    "# test_features = m.get_features(prost['test']['sents'])"
   ]
  },
  {
   "cell_type": "code",
   "execution_count": 21,
   "id": "1e4d08e7-b9c0-48f6-b26e-0d41a70b8ad4",
   "metadata": {},
   "outputs": [
    {
     "data": {
      "text/plain": [
       "(2000, 15360)"
      ]
     },
     "execution_count": 21,
     "metadata": {},
     "output_type": "execute_result"
    }
   ],
   "source": [
    "train_features.shape"
   ]
  },
  {
   "cell_type": "code",
   "execution_count": 22,
   "id": "167e1087-d1f6-45c3-9a3a-a542d471e864",
   "metadata": {},
   "outputs": [
    {
     "data": {
      "text/plain": [
       "(1000, 15360)"
      ]
     },
     "execution_count": 22,
     "metadata": {},
     "output_type": "execute_result"
    }
   ],
   "source": [
    "test_features.shape"
   ]
  },
  {
   "cell_type": "code",
   "execution_count": 25,
   "id": "258c4367-3a20-41ae-b8de-ea184e8c4e4f",
   "metadata": {},
   "outputs": [],
   "source": [
    "lr = make_pipeline(StandardScaler(), SGDClassifier(random_state=0, max_iter=1000, loss=\"log\", n_jobs=-1))\n",
    "\n",
    "with torch.no_grad():\n",
    "    lr.fit(train_features, prost['train']['labels'])"
   ]
  },
  {
   "cell_type": "code",
   "execution_count": 14,
   "id": "613b5ddb-0c18-4d76-894c-89c925394dc3",
   "metadata": {},
   "outputs": [],
   "source": []
  },
  {
   "cell_type": "code",
   "execution_count": 27,
   "id": "74d89b7b-34b7-4dc7-8b88-40d8e1a58151",
   "metadata": {},
   "outputs": [],
   "source": [
    "acc, probs = test_model(lr, test_features, prost['test']['labels'], return_probs=True, verbose=False)"
   ]
  },
  {
   "cell_type": "code",
   "execution_count": null,
   "id": "8ea0d9b9-a5fa-4e8d-ae50-3c934c634d53",
   "metadata": {},
   "outputs": [],
   "source": []
  },
  {
   "cell_type": "code",
   "execution_count": 30,
   "id": "04d9223b-05fb-4c87-9265-7b7a944f4feb",
   "metadata": {},
   "outputs": [
    {
     "name": "stdout",
     "output_type": "stream",
     "text": [
      "[1. 0.] The circle around the car takes the least amount of paint. [SEP] A person paints a circle around a car, a house, a book, and a table.\n",
      "[1. 0.] The lamps are the easiest to stack. [SEP] A person is trying to stack lamps, bottles, boxes, and eggs.\n",
      "[0. 1.] The mirror is the hardest to roll. [SEP] A person is trying to roll a mirror, a bottle, a ball, and a can.\n",
      "[1. 0.] The puck hit by the microwave slides the shortest distance. [SEP] A microwave, a brick, a leaf, and an egg moving at identical speeds each collide with a static hockey puck.\n",
      "[1. 0.] The side of the seesaw with the coin moves up. [SEP] A coin and a brick are placed in baskets on either end of a perfectly balanced seesaw.\n",
      "[1.00000000e+000 1.49446914e-161] The staircase leading to the top of the book is the easiest to walk up. [SEP] There are four staircases. The first leads to the top of a book, the second leads to the top of a mountain, the third leads to the top of a table, and the fourth leads to the top of a microwave.\n",
      "[1.39690843e-06 9.99998603e-01] The ball dropped onto the rubber bounces the fewest times. [SEP] A person is trying to bounce a rubber ball. They drop a first ball onto rubber, a second ball onto concrete, a third ball onto foam, and a fourth ball onto steel.\n",
      "[1.00000000e+000 1.37416735e-229] The ball dropped onto the snow bounces the most times. [SEP] A person is trying to bounce a rubber ball. They drop a first ball onto snow, a second ball onto concrete, a third ball onto leaves, and a fourth ball onto grass.\n",
      "[0. 1.] The ball dropped onto the leaves bounces the most times. [SEP] A person is trying to bounce a rubber ball. They drop a first ball onto rubber, a second ball onto leaves, a third ball onto grass, and a fourth ball onto carpet.\n",
      "[1. 0.] The ball dropped onto the grass bounces the most times. [SEP] A person is trying to bounce a rubber ball. They drop a first ball onto grass, a second ball onto brick, a third ball onto snow, and a fourth ball onto leaves.\n",
      "[1. 0.] The surface covered with frost is the hardest for the brick to slide across. [SEP] A person is sliding four bricks across four hard surfaces. The first surface is covered with frost, the second surface is covered with gravel, the third surface is covered with oil, and the fourth surface is covered with ice.\n",
      "[1.00000000e+000 1.64971193e-138] The eggs are the easiest to stack. [SEP] A person is trying to stack eggs, plates, flowers, and lamps.\n",
      "[1.00000000e+00 3.09562723e-91] The can is the hardest to roll. [SEP] A person is trying to roll a can, a book, an apple, and an egg.\n",
      "[1. 0.] The ball dropped onto the brick bounces the fewest times. [SEP] A person is trying to bounce a rubber ball. They drop a first ball onto brick, a second ball onto concrete, a third ball onto steel, and a fourth ball onto grass.\n",
      "[1.00000000e+00 4.74031762e-60] The lamps are the hardest to stack. [SEP] A person is trying to stack lamps, books, boxes, and coins.\n",
      "[1. 0.] The microwave takes the shortest amount of time to walk around. [SEP] Four people are walking at identical speeds. The first walks around a microwave, the second walks around a mountain, the third walks around a house, and the fourth walks around a car.\n",
      "[1. 0.] The pile of sugar is the easiest to move. [SEP] A person is trying to move a pile of sugar, a pile of salt, a pile of blocks, and a pile of flour from one side of a room to the other using only one hand.\n",
      "[1. 0.] The shirt is the most likely to break. [SEP] A person drops a shirt, a ball, an egg, and a pen from a balcony.\n",
      "[1. 0.] The pile of balls is the hardest to move. [SEP] A person is trying to move a pile of balls, a pile of books, a pile of flowers, and a pile of flour from one side of a room to the other using only one hand.\n",
      "[1. 0.] The boxes are the hardest to stack. [SEP] A person is trying to stack boxes, blocks, books, and bottles.\n",
      "[0. 1.] The ball dropped onto the asphalt bounces the most times. [SEP] A person is trying to bounce a rubber ball. They drop a first ball onto asphalt, a second ball onto foam, a third ball onto carpet, and a fourth ball onto leaves.\n",
      "[1.00000000e+000 3.42945131e-307] The surface covered with gravel is the easiest for the brick to slide across. [SEP] A person is sliding four bricks across four hard surfaces. The first surface is covered with gravel, the second surface is covered with oil, the third surface is covered with rubber, and the fourth surface is covered with carpet.\n",
      "[1. 0.] The can is the hardest to roll. [SEP] A person is trying to roll a can, a book, a ball, and an apple.\n",
      "[1.00000000e+000 9.28175572e-168] The blocks are the easiest to stack. [SEP] A person is trying to stack blocks, eggs, flowers, and balls.\n",
      "[1. 0.] The bottle is the hardest to roll. [SEP] A person is trying to roll a bottle, an egg, a block, and a ball.\n",
      "[1.00000000e+000 1.63481707e-303] The egg is the least likely to break. [SEP] A person drops an egg, a plate, a glass, and a ball from a balcony.\n",
      "[0. 1.] The pen is the most likely to break. [SEP] A person drops a pen, a coin, a glass, and a pillow from a balcony.\n",
      "[1. 0.] The ball dropped onto the concrete bounces the fewest times. [SEP] A person is trying to bounce a rubber ball. They drop a first ball onto concrete, a second ball onto brick, a third ball onto steel, and a fourth ball onto grass.\n",
      "[1. 0.] The coins are the hardest to stack. [SEP] A person is trying to stack coins, bottles, books, and boxes.\n",
      "[0. 1.] The puck hit by the apple slides the longest distance. [SEP] An apple, a leaf, an egg, and a brick moving at identical speeds each collide with a static hockey puck.\n",
      "[1. 0.] The side of the seesaw with the microwave moves down. [SEP] A microwave and a brick are placed in baskets on either end of a perfectly balanced seesaw.\n",
      "[1. 0.] The shirt is the most likely to break. [SEP] A person drops a shirt, a pillow, a pen, and a bottle from a balcony.\n",
      "[1. 0.] The ball dropped onto the brick bounces the fewest times. [SEP] A person is trying to bounce a rubber ball. They drop a first ball onto brick, a second ball onto rubber, a third ball onto concrete, and a fourth ball onto grass.\n",
      "[1. 0.] The balls are the easiest to stack. [SEP] A person is trying to stack balls, plates, eggs, and bottles.\n",
      "[1. 0.] The ball dropped onto the brick bounces the fewest times. [SEP] A person is trying to bounce a rubber ball. They drop a first ball onto brick, a second ball onto grass, a third ball onto steel, and a fourth ball onto rubber.\n",
      "[0. 1.] The pile of bottles is the hardest to move. [SEP] A person is trying to move a pile of bottles, a pile of flowers, a pile of balls, and a pile of rice from one side of a room to the other using only one hand.\n",
      "[1. 0.] The mirror is the easiest to roll. [SEP] A person is trying to roll a mirror, a ball, a block, and a book.\n",
      "[0. 1.] The surface covered with frost is the hardest for the brick to slide across. [SEP] A person is sliding four bricks across four hard surfaces. The first surface is covered with frost, the second surface is covered with frost, the third surface is covered with ice, and the fourth surface is covered with grass.\n",
      "[1. 0.] The egg is the easiest to roll. [SEP] A person is trying to roll an egg, a microwave, a mirror, and a block.\n",
      "[1. 0.] The ball dropped from the height of the car takes the shortest amount of time to fall. [SEP] Four balls are dropped. The first is dropped from the height equivalent of a car, the second is dropped from the height equivalent of a table, the third is dropped from the height equivalent of a mountain, and the fourth is dropped from the height equivalent of a book.\n",
      "[1. 0.] The surface covered with gravel is the easiest for the brick to slide across. [SEP] A person is sliding four bricks across four hard surfaces. The first surface is covered with gravel, the second surface is covered with grass, the third surface is covered with soap, and the fourth surface is covered with carpet.\n",
      "[2.20477801e-05 9.99977952e-01] The pen is the most likely to break. [SEP] A person drops a pen, an egg, a shirt, and a pillow from a balcony.\n",
      "[1. 0.] The ball dropped onto the carpet bounces the most times. [SEP] A person is trying to bounce a rubber ball. They drop a first ball onto rubber, a second ball onto carpet, a third ball onto leaves, and a fourth ball onto snow.\n",
      "[1. 0.] The circle around the table takes the most amount of paint. [SEP] A person paints a circle around a table, a mountain, a car, and a microwave.\n",
      "[1.00000000e+000 1.37416735e-229] The pile of sugar is the easiest to move. [SEP] A person is trying to move a pile of sugar, a pile of flowers, a pile of salt, and a pile of flour from one side of a room to the other using only one hand.\n",
      "[1.00000000e+00 2.26706576e-75] The surface covered with frost is the hardest for the brick to slide across. [SEP] A person is sliding four bricks across four hard surfaces. The first surface is covered with frost, the second surface is covered with oil, the third surface is covered with concrete, and the fourth surface is covered with grease.\n",
      "[1. 0.] The pile of bottles is the hardest to move. [SEP] A person is trying to move a pile of bottles, a pile of snow, a pile of flowers, and a pile of balls from one side of a room to the other using only one hand.\n",
      "[1. 0.] The pile of salt is the easiest to move. [SEP] A person is trying to move a pile of salt, a pile of blocks, a pile of snow, and a pile of rice from one side of a room to the other using only one hand.\n",
      "[1.00000000e+000 1.64971193e-138] The egg is the least likely to break. [SEP] A person drops an egg, a bottle, a ball, and a glass from a balcony.\n",
      "[0. 1.] The surface covered with carpet is the easiest for the brick to slide across. [SEP] A person is sliding four bricks across four hard surfaces. The first surface is covered with carpet, the second surface is covered with grease, the third surface is covered with gravel, and the fourth surface is covered with rubber.\n",
      "[1. 0.] The pile of sugar is the easiest to move. [SEP] A person is trying to move a pile of sugar, a pile of flour, a pile of blocks, and a pile of salt from one side of a room to the other using only one hand.\n",
      "[1. 0.] The ball dropped onto the brick bounces the fewest times. [SEP] A person is trying to bounce a rubber ball. They drop a first ball onto brick, a second ball onto leaves, a third ball onto concrete, and a fourth ball onto rubber.\n",
      "[1. 0.] The pile of blocks is the hardest to move. [SEP] A person is trying to move a pile of blocks, a pile of books, a pile of flour, and a pile of balls from one side of a room to the other using only one hand.\n",
      "[1.00000000e+000 1.63481707e-303] The pen is the least likely to break. [SEP] A person drops a pen, a glass, a bottle, and a plate from a balcony.\n",
      "[1. 0.] The ball is the most likely to break. [SEP] A person drops a ball, a mirror, a pillow, and a coin from a balcony.\n",
      "[0. 1.] The staircase leading to the top of the microwave is the hardest to walk up. [SEP] There are four staircases. The first leads to the top of a microwave, the second leads to the top of a table, the third leads to the top of a book, and the fourth leads to the top of a car.\n",
      "[0. 1.] The ball dropped onto the foam bounces the fewest times. [SEP] A person is trying to bounce a rubber ball. They drop a first ball onto foam, a second ball onto concrete, a third ball onto brick, and a fourth ball onto asphalt.\n",
      "[1. 0.] The ball dropped from the height of the table takes the shortest amount of time to fall. [SEP] Four balls are dropped. The first is dropped from the height equivalent of a table, the second is dropped from the height equivalent of a car, the third is dropped from the height equivalent of a book, and the fourth is dropped from the height equivalent of a house.\n",
      "[1. 0.] The side of the seesaw with the apple moves down. [SEP] An apple and a leaf are placed in baskets on either end of a perfectly balanced seesaw.\n",
      "[1. 0.] The ball dropped onto the grass bounces the most times. [SEP] A person is trying to bounce a rubber ball. They drop a first ball onto concrete, a second ball onto grass, a third ball onto leaves, and a fourth ball onto snow.\n",
      "[0. 1.] The pile of bottles is the hardest to move. [SEP] A person is trying to move a pile of bottles, a pile of books, a pile of rice, and a pile of flowers from one side of a room to the other using only one hand.\n",
      "[1. 0.] The ball dropped onto the concrete bounces the fewest times. [SEP] A person is trying to bounce a rubber ball. They drop a first ball onto concrete, a second ball onto asphalt, a third ball onto brick, and a fourth ball onto carpet.\n",
      "[1. 0.] The can is the hardest to roll. [SEP] A person is trying to roll a can, an egg, a block, and a ball.\n",
      "[1. 0.] The house takes the longest amount of time to walk around. [SEP] Four people are walking at identical speeds. The first walks around a house, the second walks around a book, the third walks around a microwave, and the fourth walks around a mountain.\n",
      "[1. 0.] The plates are the hardest to stack. [SEP] A person is trying to stack plates, balls, coins, and blocks.\n",
      "[1.00000000e+000 4.29626417e-182] The surface covered with grease is the hardest for the brick to slide across. [SEP] A person is sliding four bricks across four hard surfaces. The first surface is covered with grease, the second surface is covered with ice, the third surface is covered with gravel, and the fourth surface is covered with soap.\n",
      "[1.00000000e+00 8.64619441e-19] The pile of flowers is the hardest to move. [SEP] A person is trying to move a pile of flowers, a pile of salt, a pile of blocks, and a pile of books from one side of a room to the other using only one hand.\n",
      "[1.00000000e+000 8.23656948e-126] The surface covered with soap is the hardest for the brick to slide across. [SEP] A person is sliding four bricks across four hard surfaces. The first surface is covered with soap, the second surface is covered with soap, the third surface is covered with oil, and the fourth surface is covered with grass.\n",
      "[1.000000e+000 1.459335e-195] The book is the easiest to roll. [SEP] A person is trying to roll a book, a block, a microwave, and an apple.\n",
      "[1. 0.] The ball dropped from the height of the book takes the longest amount of time to fall. [SEP] Four balls are dropped. The first is dropped from the height equivalent of a book, the second is dropped from the height equivalent of a car, the third is dropped from the height equivalent of a mountain, and the fourth is dropped from the height equivalent of a table.\n",
      "[0. 1.] The surface covered with oil is the hardest for the brick to slide across. [SEP] A person is sliding four bricks across four hard surfaces. The first surface is covered with oil, the second surface is covered with frost, the third surface is covered with gravel, and the fourth surface is covered with soap.\n",
      "[1.0000000e+000 9.2830162e-143] The bottle is the hardest to roll. [SEP] A person is trying to roll a bottle, a ball, an egg, and a box.\n",
      "[1. 0.] The pile of blocks is the easiest to move. [SEP] A person is trying to move a pile of blocks, a pile of salt, a pile of sugar, and a pile of snow from one side of a room to the other using only one hand.\n",
      "[1. 0.] The staircase leading to the top of the table is the hardest to walk up. [SEP] There are four staircases. The first leads to the top of a table, the second leads to the top of a microwave, the third leads to the top of a book, and the fourth leads to the top of a house.\n",
      "[1. 0.] The ball dropped onto the asphalt bounces the fewest times. [SEP] A person is trying to bounce a rubber ball. They drop a first ball onto asphalt, a second ball onto rubber, a third ball onto steel, and a fourth ball onto foam.\n",
      "[0. 1.] The blocks are the easiest to stack. [SEP] A person is trying to stack blocks, lamps, bottles, and balls.\n",
      "[1. 0.] The books are the hardest to stack. [SEP] A person is trying to stack books, plates, coins, and lamps.\n",
      "[1. 0.] The balls are the easiest to stack. [SEP] A person is trying to stack balls, flowers, bottles, and boxes.\n",
      "[1. 0.] The surface covered with carpet is the easiest for the brick to slide across. [SEP] A person is sliding four bricks across four hard surfaces. The first surface is covered with carpet, the second surface is covered with ice, the third surface is covered with concrete, and the fourth surface is covered with gravel.\n",
      "[4.85326801e-09 9.99999995e-01] The flowers are the easiest to stack. [SEP] A person is trying to stack flowers, bottles, balls, and books.\n",
      "[0. 1.] The pile of blocks is the hardest to move. [SEP] A person is trying to move a pile of blocks, a pile of bottles, a pile of balls, and a pile of sugar from one side of a room to the other using only one hand.\n",
      "[1. 0.] The balls are the easiest to stack. [SEP] A person is trying to stack balls, plates, flowers, and bottles.\n",
      "[1. 0.] The boxes are the hardest to stack. [SEP] A person is trying to stack boxes, coins, flowers, and blocks.\n",
      "[1. 0.] The pillow is the most likely to break. [SEP] A person drops a pillow, a mirror, a coin, and a shirt from a balcony.\n",
      "[1.00000000e+000 1.38660046e-251] The staircase leading to the top of the house is the easiest to walk up. [SEP] There are four staircases. The first leads to the top of a house, the second leads to the top of a microwave, the third leads to the top of a table, and the fourth leads to the top of a car.\n",
      "[8.33559043e-07 9.99999166e-01] The ball dropped from the height of the house takes the longest amount of time to fall. [SEP] Four balls are dropped. The first is dropped from the height equivalent of a house, the second is dropped from the height equivalent of a microwave, the third is dropped from the height equivalent of a table, and the fourth is dropped from the height equivalent of a mountain.\n",
      "[1. 0.] The coins are the hardest to stack. [SEP] A person is trying to stack coins, plates, balls, and blocks.\n",
      "[1. 0.] The surface covered with ice is the hardest for the brick to slide across. [SEP] A person is sliding four bricks across four hard surfaces. The first surface is covered with ice, the second surface is covered with ice, the third surface is covered with grease, and the fourth surface is covered with carpet.\n",
      "[1.00000000e+000 1.64971193e-138] The coins are the hardest to stack. [SEP] A person is trying to stack coins, blocks, lamps, and boxes.\n",
      "[0. 1.] The plate is the least likely to break. [SEP] A person drops a plate, a ball, an egg, and a mirror from a balcony.\n",
      "[1. 0.] The surface covered with grease is the hardest for the brick to slide across. [SEP] A person is sliding four bricks across four hard surfaces. The first surface is covered with grease, the second surface is covered with grease, the third surface is covered with oil, and the fourth surface is covered with grass.\n",
      "[1. 0.] The books are the hardest to stack. [SEP] A person is trying to stack books, boxes, balls, and coins.\n",
      "[1.00000000e+000 3.54030645e-185] The ball dropped onto the concrete bounces the fewest times. [SEP] A person is trying to bounce a rubber ball. They drop a first ball onto concrete, a second ball onto rubber, a third ball onto asphalt, and a fourth ball onto foam.\n",
      "[1.00000000e+000 1.37416735e-229] The surface covered with ice is the hardest for the brick to slide across. [SEP] A person is sliding four bricks across four hard surfaces. The first surface is covered with ice, the second surface is covered with ice, the third surface is covered with frost, and the fourth surface is covered with rubber.\n",
      "[1. 0.] The ball dropped onto the rubber bounces the most times. [SEP] A person is trying to bounce a rubber ball. They drop a first ball onto rubber, a second ball onto leaves, a third ball onto carpet, and a fourth ball onto snow.\n",
      "[1.0000000e+00 2.3399788e-66] The surface covered with frost is the hardest for the brick to slide across. [SEP] A person is sliding four bricks across four hard surfaces. The first surface is covered with frost, the second surface is covered with ice, the third surface is covered with rubber, and the fourth surface is covered with oil.\n",
      "[1. 0.] The blocks are the hardest to stack. [SEP] A person is trying to stack blocks, bottles, books, and plates.\n",
      "[1. 0.] The coin is the least likely to break. [SEP] A person drops a coin, a mirror, a bottle, and a plate from a balcony.\n",
      "[0. 1.] The lamps are the easiest to stack. [SEP] A person is trying to stack lamps, blocks, bottles, and balls.\n",
      "[1. 0.] The ball is the most likely to break. [SEP] A person drops a ball, an egg, a shirt, and a pen from a balcony.\n",
      "[1.00000000e+000 1.00399126e-163] The pile of flowers is the hardest to move. [SEP] A person is trying to move a pile of flowers, a pile of sugar, a pile of bottles, and a pile of blocks from one side of a room to the other using only one hand.\n",
      "[1. 0.] The ball dropped onto the asphalt bounces the most times. [SEP] A person is trying to bounce a rubber ball. They drop a first ball onto asphalt, a second ball onto leaves, a third ball onto snow, and a fourth ball onto foam.\n",
      "[1. 0.] The lamps are the hardest to stack. [SEP] A person is trying to stack lamps, coins, boxes, and plates.\n",
      "[0. 1.] The pen is the most likely to break. [SEP] A person drops a pen, a pillow, a shirt, and a bottle from a balcony.\n",
      "[0. 1.] The surface covered with concrete is the easiest for the brick to slide across. [SEP] A person is sliding four bricks across four hard surfaces. The first surface is covered with concrete, the second surface is covered with grass, the third surface is covered with oil, and the fourth surface is covered with gravel.\n",
      "[1.00000000e+000 2.22815046e-224] The plates are the easiest to stack. [SEP] A person is trying to stack plates, eggs, flowers, and lamps.\n",
      "[1.00000000e+000 3.40909803e-150] The surface covered with ice is the easiest for the brick to slide across. [SEP] A person is sliding four bricks across four hard surfaces. The first surface is covered with ice, the second surface is covered with grass, the third surface is covered with carpet, and the fourth surface is covered with rubber.\n",
      "[1.00000000e+000 4.06342324e-234] The bottle is the hardest to roll. [SEP] A person is trying to roll a bottle, an egg, a can, and a microwave.\n",
      "[1.00000000e+000 1.63481707e-303] The pile of snow is the hardest to move. [SEP] A person is trying to move a pile of snow, a pile of blocks, a pile of flowers, and a pile of bottles from one side of a room to the other using only one hand.\n",
      "[1. 0.] The lamps are the easiest to stack. [SEP] A person is trying to stack lamps, eggs, bottles, and coins.\n",
      "[1. 0.] The bottles are the easiest to stack. [SEP] A person is trying to stack bottles, flowers, balls, and books.\n",
      "[0. 1.] The ball dropped from the height of the car takes the shortest amount of time to fall. [SEP] Four balls are dropped. The first is dropped from the height equivalent of a car, the second is dropped from the height equivalent of a microwave, the third is dropped from the height equivalent of a mountain, and the fourth is dropped from the height equivalent of a table.\n",
      "[1. 0.] The surface covered with gravel is the hardest for the brick to slide across. [SEP] A person is sliding four bricks across four hard surfaces. The first surface is covered with gravel, the second surface is covered with oil, the third surface is covered with frost, and the fourth surface is covered with soap.\n",
      "[4.85326801e-09 9.99999995e-01] The ball dropped from the height of the house takes the shortest amount of time to fall. [SEP] Four balls are dropped. The first is dropped from the height equivalent of a house, the second is dropped from the height equivalent of a mountain, the third is dropped from the height equivalent of a microwave, and the fourth is dropped from the height equivalent of a car.\n",
      "[1. 0.] The plates are the hardest to stack. [SEP] A person is trying to stack plates, boxes, blocks, and flowers.\n",
      "[1. 0.] The coin is the most likely to break. [SEP] A person drops a coin, a shirt, an egg, and a ball from a balcony.\n",
      "[8.55191355e-07 9.99999145e-01] The ball dropped onto the steel bounces the fewest times. [SEP] A person is trying to bounce a rubber ball. They drop a first ball onto steel, a second ball onto snow, a third ball onto brick, and a fourth ball onto concrete.\n",
      "[1.00000000e+000 2.61413124e-305] The surface covered with rubber is the easiest for the brick to slide across. [SEP] A person is sliding four bricks across four hard surfaces. The first surface is covered with rubber, the second surface is covered with gravel, the third surface is covered with soap, and the fourth surface is covered with grass.\n",
      "[1. 0.] The ball dropped onto the foam bounces the fewest times. [SEP] A person is trying to bounce a rubber ball. They drop a first ball onto foam, a second ball onto asphalt, a third ball onto rubber, and a fourth ball onto steel.\n",
      "[1. 0.] The surface covered with carpet is the easiest for the brick to slide across. [SEP] A person is sliding four bricks across four hard surfaces. The first surface is covered with carpet, the second surface is covered with gravel, the third surface is covered with rubber, and the fourth surface is covered with oil.\n",
      "[1.00000000e+000 1.15308202e-187] The ball dropped onto the foam bounces the most times. [SEP] A person is trying to bounce a rubber ball. They drop a first ball onto foam, a second ball onto brick, a third ball onto grass, and a fourth ball onto snow.\n",
      "[1. 0.] The surface covered with grass is the easiest for the brick to slide across. [SEP] A person is sliding four bricks across four hard surfaces. The first surface is covered with grass, the second surface is covered with soap, the third surface is covered with concrete, and the fourth surface is covered with carpet.\n",
      "[1. 0.] The circle around the car takes the most amount of paint. [SEP] A person paints a circle around a car, a house, a microwave, and a table.\n",
      "[1. 0.] The ball dropped onto the snow bounces the most times. [SEP] A person is trying to bounce a rubber ball. They drop a first ball onto snow, a second ball onto asphalt, a third ball onto carpet, and a fourth ball onto foam.\n",
      "[1.000000e+000 1.459335e-195] The staircase leading to the top of the book is the hardest to walk up. [SEP] There are four staircases. The first leads to the top of a book, the second leads to the top of a table, the third leads to the top of a house, and the fourth leads to the top of a mountain.\n",
      "[1.00000000e+000 4.38948656e-275] The circle around the table takes the least amount of paint. [SEP] A person paints a circle around a table, a car, a house, and a mountain.\n",
      "[1.0000000e+000 9.2830162e-143] The ball dropped from the height of the microwave takes the shortest amount of time to fall. [SEP] Four balls are dropped. The first is dropped from the height equivalent of a microwave, the second is dropped from the height equivalent of a mountain, the third is dropped from the height equivalent of a house, and the fourth is dropped from the height equivalent of a car.\n",
      "[0. 1.] The staircase leading to the top of the microwave is the hardest to walk up. [SEP] There are four staircases. The first leads to the top of a microwave, the second leads to the top of a mountain, the third leads to the top of a house, and the fourth leads to the top of a table.\n",
      "[1. 0.] The surface covered with oil is the easiest for the brick to slide across. [SEP] A person is sliding four bricks across four hard surfaces. The first surface is covered with oil, the second surface is covered with carpet, the third surface is covered with concrete, and the fourth surface is covered with gravel.\n",
      "[1. 0.] The pillow is the most likely to break. [SEP] A person drops a pillow, a shirt, a mirror, and a coin from a balcony.\n",
      "[1.00000000e+000 1.63481707e-303] The bottle is the least likely to break. [SEP] A person drops a bottle, a shirt, a plate, and a glass from a balcony.\n",
      "[0. 1.] The microwave is the easiest to roll. [SEP] A person is trying to roll a microwave, a ball, a mirror, and a box.\n",
      "[1.0000000e+00 2.3399788e-66] The ball dropped onto the grass bounces the most times. [SEP] A person is trying to bounce a rubber ball. They drop a first ball onto grass, a second ball onto concrete, a third ball onto carpet, and a fourth ball onto snow.\n",
      "[1.00000000e+00 2.26706576e-75] The surface covered with soap is the hardest for the brick to slide across. [SEP] A person is sliding four bricks across four hard surfaces. The first surface is covered with soap, the second surface is covered with soap, the third surface is covered with frost, and the fourth surface is covered with rubber.\n",
      "[1.00000000e+000 1.37416735e-229] The ball dropped onto the grass bounces the most times. [SEP] A person is trying to bounce a rubber ball. They drop a first ball onto asphalt, a second ball onto grass, a third ball onto leaves, and a fourth ball onto foam.\n",
      "[1.00000000e+000 1.49446914e-161] The surface covered with grass is the hardest for the brick to slide across. [SEP] A person is sliding four bricks across four hard surfaces. The first surface is covered with grass, the second surface is covered with soap, the third surface is covered with oil, and the fourth surface is covered with frost.\n",
      "[1. 0.] The apple is the hardest to roll. [SEP] A person is trying to roll an apple, an egg, a ball, and a mirror.\n",
      "[0. 1.] The mirror is the easiest to roll. [SEP] A person is trying to roll a mirror, a box, a microwave, and a can.\n",
      "[1. 0.] The ball dropped from the height of the mountain takes the longest amount of time to fall. [SEP] Four balls are dropped. The first is dropped from the height equivalent of a mountain, the second is dropped from the height equivalent of a car, the third is dropped from the height equivalent of a microwave, and the fourth is dropped from the height equivalent of a book.\n",
      "[1. 0.] The books are the hardest to stack. [SEP] A person is trying to stack books, balls, coins, and blocks.\n",
      "[1. 0.] The pile of books is the easiest to move. [SEP] A person is trying to move a pile of books, a pile of salt, a pile of snow, and a pile of rice from one side of a room to the other using only one hand.\n",
      "[1. 0.] The side of the seesaw with the microwave moves down. [SEP] A microwave and a coin are placed in baskets on either end of a perfectly balanced seesaw.\n",
      "[1. 0.] The staircase leading to the top of the mountain is the easiest to walk up. [SEP] There are four staircases. The first leads to the top of a mountain, the second leads to the top of a house, the third leads to the top of a table, and the fourth leads to the top of a car.\n",
      "[0. 1.] The pile of rice is the hardest to move. [SEP] A person is trying to move a pile of rice, a pile of flowers, a pile of blocks, and a pile of balls from one side of a room to the other using only one hand.\n",
      "[1. 0.] The pillow is the most likely to break. [SEP] A person drops a pillow, a plate, a ball, and a coin from a balcony.\n",
      "[3.4303671e-12 1.0000000e+00] The egg is the hardest to roll. [SEP] A person is trying to roll an egg, an apple, a ball, and a box.\n",
      "[1. 0.] The pile of rice is the hardest to move. [SEP] A person is trying to move a pile of rice, a pile of blocks, a pile of flowers, and a pile of books from one side of a room to the other using only one hand.\n",
      "[1. 0.] The bottle is the most likely to break. [SEP] A person drops a bottle, a coin, a pen, and a pillow from a balcony.\n",
      "[1. 0.] The staircase leading to the top of the car is the hardest to walk up. [SEP] There are four staircases. The first leads to the top of a car, the second leads to the top of a table, the third leads to the top of a mountain, and the fourth leads to the top of a microwave.\n",
      "[1. 0.] The side of the seesaw with the apple moves up. [SEP] An apple and a leaf are placed in baskets on either end of a perfectly balanced seesaw.\n",
      "[1. 0.] The shirt is the most likely to break. [SEP] A person drops a shirt, a pen, a pillow, and a bottle from a balcony.\n",
      "[1.83323308e-04 9.99816677e-01] The apple is the hardest to roll. [SEP] A person is trying to roll an apple, a can, a microwave, and a ball.\n",
      "[0. 1.] The ball is the most likely to break. [SEP] A person drops a ball, a pen, a coin, and a glass from a balcony.\n",
      "[1.00000000e+000 8.48384622e-210] The pile of sugar is the easiest to move. [SEP] A person is trying to move a pile of sugar, a pile of rice, a pile of blocks, and a pile of salt from one side of a room to the other using only one hand.\n",
      "[1. 0.] The pillow is the least likely to break. [SEP] A person drops a pillow, a glass, an egg, and a plate from a balcony.\n",
      "[1. 0.] The mirror is the hardest to roll. [SEP] A person is trying to roll a mirror, a bottle, an egg, and a can.\n",
      "[1. 0.] The puck hit by the coin slides the longest distance. [SEP] A coin, an apple, a microwave, and an egg moving at identical speeds each collide with a static hockey puck.\n",
      "[1. 0.] The ball dropped onto the concrete bounces the fewest times. [SEP] A person is trying to bounce a rubber ball. They drop a first ball onto concrete, a second ball onto brick, a third ball onto asphalt, and a fourth ball onto leaves.\n",
      "[1. 0.] The ball dropped from the height of the mountain takes the longest amount of time to fall. [SEP] Four balls are dropped. The first is dropped from the height equivalent of a mountain, the second is dropped from the height equivalent of a microwave, the third is dropped from the height equivalent of a house, and the fourth is dropped from the height equivalent of a table.\n",
      "[0. 1.] The bottle is the easiest to roll. [SEP] A person is trying to roll a bottle, a book, a microwave, and a mirror.\n",
      "[1.00000000e+000 1.38660046e-251] The circle around the table takes the most amount of paint. [SEP] A person paints a circle around a table, a car, a house, and a mountain.\n",
      "[1. 0.] The egg is the least likely to break. [SEP] A person drops an egg, a plate, a mirror, and a pillow from a balcony.\n",
      "[0.39642656 0.60357344] The box is the easiest to roll. [SEP] A person is trying to roll a box, a microwave, a block, and a bottle.\n",
      "[1. 0.] The shirt is the most likely to break. [SEP] A person drops a shirt, a coin, a ball, and a plate from a balcony.\n",
      "[0. 1.] The surface covered with rubber is the easiest for the brick to slide across. [SEP] A person is sliding four bricks across four hard surfaces. The first surface is covered with rubber, the second surface is covered with gravel, the third surface is covered with carpet, and the fourth surface is covered with soap.\n",
      "[0. 1.] The egg is the hardest to roll. [SEP] A person is trying to roll an egg, a ball, an apple, and a microwave.\n",
      "[1.00000000e+000 3.11311987e-200] The surface covered with gravel is the hardest for the brick to slide across. [SEP] A person is sliding four bricks across four hard surfaces. The first surface is covered with gravel, the second surface is covered with soap, the third surface is covered with frost, and the fourth surface is covered with ice.\n",
      "[1.00000000e+000 4.06342324e-234] The ball dropped onto the leaves bounces the fewest times. [SEP] A person is trying to bounce a rubber ball. They drop a first ball onto leaves, a second ball onto rubber, a third ball onto steel, and a fourth ball onto concrete.\n",
      "[1. 0.] The block is the easiest to roll. [SEP] A person is trying to roll a block, an egg, a microwave, and a box.\n",
      "[1. 0.] The ball dropped onto the snow bounces the most times. [SEP] A person is trying to bounce a rubber ball. They drop a first ball onto brick, a second ball onto snow, a third ball onto foam, and a fourth ball onto grass.\n",
      "[1. 0.] The ball dropped onto the carpet bounces the most times. [SEP] A person is trying to bounce a rubber ball. They drop a first ball onto carpet, a second ball onto foam, a third ball onto asphalt, and a fourth ball onto snow.\n",
      "[0. 1.] The side of the seesaw with the egg moves down. [SEP] An egg and a coin are placed in baskets on either end of a perfectly balanced seesaw.\n",
      "[1. 0.] The circle around the microwave takes the most amount of paint. [SEP] A person paints a circle around a microwave, a book, a mountain, and a car.\n",
      "[0. 1.] The pile of flowers is the hardest to move. [SEP] A person is trying to move a pile of flowers, a pile of blocks, a pile of balls, and a pile of flour from one side of a room to the other using only one hand.\n",
      "[1. 0.] The pile of bottles is the hardest to move. [SEP] A person is trying to move a pile of bottles, a pile of books, a pile of sugar, and a pile of flowers from one side of a room to the other using only one hand.\n",
      "[1. 0.] The pile of flowers is the hardest to move. [SEP] A person is trying to move a pile of flowers, a pile of balls, a pile of books, and a pile of snow from one side of a room to the other using only one hand.\n",
      "[1. 0.] The pen is the most likely to break. [SEP] A person drops a pen, a bottle, a ball, and a coin from a balcony.\n",
      "[0. 1.] The bottle is the hardest to roll. [SEP] A person is trying to roll a bottle, a microwave, a ball, and an apple.\n",
      "[1.00000000e+000 4.29626417e-182] The puck hit by the apple slides the longest distance. [SEP] An apple, a leaf, a microwave, and a brick moving at identical speeds each collide with a static hockey puck.\n",
      "[1.00000000e+000 8.23656948e-126] The ball dropped onto the grass bounces the most times. [SEP] A person is trying to bounce a rubber ball. They drop a first ball onto grass, a second ball onto concrete, a third ball onto foam, and a fourth ball onto leaves.\n",
      "[1. 0.] The surface covered with soap is the hardest for the brick to slide across. [SEP] A person is sliding four bricks across four hard surfaces. The first surface is covered with soap, the second surface is covered with oil, the third surface is covered with carpet, and the fourth surface is covered with grease.\n",
      "[1. 0.] The ball dropped onto the grass bounces the most times. [SEP] A person is trying to bounce a rubber ball. They drop a first ball onto concrete, a second ball onto grass, a third ball onto foam, and a fourth ball onto carpet.\n",
      "[0.00101284 0.99898716] The pile of snow is the easiest to move. [SEP] A person is trying to move a pile of snow, a pile of rice, a pile of books, and a pile of flour from one side of a room to the other using only one hand.\n",
      "[1. 0.] The bottle is the hardest to roll. [SEP] A person is trying to roll a bottle, a ball, a mirror, and an egg.\n",
      "[1. 0.] The pillow is the most likely to break. [SEP] A person drops a pillow, a shirt, a plate, and a pen from a balcony.\n",
      "[0. 1.] The book is the easiest to roll. [SEP] A person is trying to roll a book, a ball, a microwave, and a block.\n",
      "[1. 0.] The mountain takes the longest amount of time to walk around. [SEP] Four people are walking at identical speeds. The first walks around a mountain, the second walks around a microwave, the third walks around a book, and the fourth walks around a house.\n",
      "[1. 0.] The egg is the least likely to break. [SEP] A person drops an egg, a plate, a pillow, and a bottle from a balcony.\n",
      "[1.00000000e+000 4.29626417e-182] The pile of blocks is the hardest to move. [SEP] A person is trying to move a pile of blocks, a pile of flowers, a pile of books, and a pile of snow from one side of a room to the other using only one hand.\n",
      "[1.00000000e+00 8.64619441e-19] The mirror is the easiest to roll. [SEP] A person is trying to roll a mirror, an egg, a box, and a microwave.\n",
      "[1.00000000e+000 7.00462625e-212] The pillow is the most likely to break. [SEP] A person drops a pillow, a ball, a shirt, and an egg from a balcony.\n",
      "[1.00000000e+000 7.24718176e-154] The mirror is the least likely to break. [SEP] A person drops a mirror, a pillow, a bottle, and an egg from a balcony.\n",
      "[1.00000000e+000 1.00399126e-163] The puck hit by the microwave slides the shortest distance. [SEP] A microwave, a brick, an egg, and an apple moving at identical speeds each collide with a static hockey puck.\n",
      "[1.00000000e+000 4.24538988e-304] The balls are the easiest to stack. [SEP] A person is trying to stack balls, bottles, blocks, and eggs.\n",
      "[0. 1.] The ball dropped onto the steel bounces the fewest times. [SEP] A person is trying to bounce a rubber ball. They drop a first ball onto steel, a second ball onto rubber, a third ball onto concrete, and a fourth ball onto grass.\n",
      "[1. 0.] The bottle is the hardest to roll. [SEP] A person is trying to roll a bottle, a box, an egg, and a can.\n",
      "[1. 0.] The surface covered with grass is the easiest for the brick to slide across. [SEP] A person is sliding four bricks across four hard surfaces. The first surface is covered with grass, the second surface is covered with carpet, the third surface is covered with frost, and the fourth surface is covered with gravel.\n",
      "[1.00000000e+00 6.73953377e-27] The surface covered with carpet is the easiest for the brick to slide across. [SEP] A person is sliding four bricks across four hard surfaces. The first surface is covered with carpet, the second surface is covered with rubber, the third surface is covered with gravel, and the fourth surface is covered with oil.\n",
      "[1.00000000e+000 1.38660046e-251] The apple is the hardest to roll. [SEP] A person is trying to roll an apple, a can, a mirror, and an egg.\n",
      "[1. 0.] The puck hit by the apple slides the longest distance. [SEP] An apple, a microwave, a coin, and an egg moving at identical speeds each collide with a static hockey puck.\n",
      "[1. 0.] The circle around the car takes the least amount of paint. [SEP] A person paints a circle around a car, a microwave, a house, and a table.\n",
      "[1.00000000e+000 8.23656948e-126] The bottle is the easiest to roll. [SEP] A person is trying to roll a bottle, a box, a microwave, and a book.\n",
      "[1.00000000e+00 8.64619441e-19] The surface covered with ice is the hardest for the brick to slide across. [SEP] A person is sliding four bricks across four hard surfaces. The first surface is covered with ice, the second surface is covered with frost, the third surface is covered with rubber, and the fourth surface is covered with soap.\n",
      "[1.00000000e+000 4.29626417e-182] The staircase leading to the top of the table is the hardest to walk up. [SEP] There are four staircases. The first leads to the top of a table, the second leads to the top of a mountain, the third leads to the top of a house, and the fourth leads to the top of a car.\n",
      "[1. 0.] The bottles are the easiest to stack. [SEP] A person is trying to stack bottles, flowers, books, and balls.\n",
      "[0. 1.] The shirt is the most likely to break. [SEP] A person drops a shirt, a coin, a glass, and a pillow from a balcony.\n",
      "[1.00000000e+000 1.63481707e-303] The pile of sugar is the easiest to move. [SEP] A person is trying to move a pile of sugar, a pile of flowers, a pile of flour, and a pile of rice from one side of a room to the other using only one hand.\n",
      "[1. 0.] The surface covered with rubber is the easiest for the brick to slide across. [SEP] A person is sliding four bricks across four hard surfaces. The first surface is covered with rubber, the second surface is covered with grease, the third surface is covered with grass, and the fourth surface is covered with concrete.\n",
      "[1. 0.] The ball dropped onto the carpet bounces the most times. [SEP] A person is trying to bounce a rubber ball. They drop a first ball onto carpet, a second ball onto grass, a third ball onto concrete, and a fourth ball onto leaves.\n",
      "[1. 0.] The ball is the hardest to roll. [SEP] A person is trying to roll a ball, a block, a bottle, and an apple.\n",
      "[0. 1.] The coins are the hardest to stack. [SEP] A person is trying to stack coins, blocks, flowers, and boxes.\n",
      "[1. 0.] The ball dropped onto the grass bounces the most times. [SEP] A person is trying to bounce a rubber ball. They drop a first ball onto grass, a second ball onto carpet, a third ball onto rubber, and a fourth ball onto snow.\n",
      "[0. 1.] The balls are the easiest to stack. [SEP] A person is trying to stack balls, eggs, boxes, and flowers.\n",
      "[1. 0.] The plate is the least likely to break. [SEP] A person drops a plate, a mirror, a pillow, and a bottle from a balcony.\n",
      "[1.00000000e+00 3.07924368e-98] The blocks are the easiest to stack. [SEP] A person is trying to stack blocks, bottles, balls, and eggs.\n",
      "[1. 0.] The pile of books is the easiest to move. [SEP] A person is trying to move a pile of books, a pile of snow, a pile of flour, and a pile of sugar from one side of a room to the other using only one hand.\n",
      "[1. 0.] The plate is the most likely to break. [SEP] A person drops a plate, a pen, a pillow, and a coin from a balcony.\n",
      "[0. 1.] The side of the seesaw with the microwave moves down. [SEP] A microwave and a coin are placed in baskets on either end of a perfectly balanced seesaw.\n",
      "[1.00000000e+000 1.60660247e-233] The box is the easiest to roll. [SEP] A person is trying to roll a box, a microwave, a mirror, and a can.\n",
      "[1. 0.] The surface covered with grass is the hardest for the brick to slide across. [SEP] A person is sliding four bricks across four hard surfaces. The first surface is covered with grass, the second surface is covered with grease, the third surface is covered with oil, and the fourth surface is covered with ice.\n",
      "[1. 0.] The ball dropped onto the grass bounces the fewest times. [SEP] A person is trying to bounce a rubber ball. They drop a first ball onto grass, a second ball onto asphalt, a third ball onto rubber, and a fourth ball onto concrete.\n",
      "[1. 0.] The ball dropped onto the foam bounces the most times. [SEP] A person is trying to bounce a rubber ball. They drop a first ball onto foam, a second ball onto concrete, a third ball onto carpet, and a fourth ball onto grass.\n",
      "[1.00000000e+000 6.79482042e-169] The books are the hardest to stack. [SEP] A person is trying to stack books, bottles, coins, and plates.\n",
      "[1. 0.] The pile of sugar is the easiest to move. [SEP] A person is trying to move a pile of sugar, a pile of books, a pile of snow, and a pile of rice from one side of a room to the other using only one hand.\n",
      "[0. 1.] The staircase leading to the top of the microwave is the easiest to walk up. [SEP] There are four staircases. The first leads to the top of a microwave, the second leads to the top of a table, the third leads to the top of a house, and the fourth leads to the top of a mountain.\n",
      "[1.00000000e+000 1.63481707e-303] The ball dropped onto the brick bounces the fewest times. [SEP] A person is trying to bounce a rubber ball. They drop a first ball onto brick, a second ball onto leaves, a third ball onto concrete, and a fourth ball onto steel.\n",
      "[1. 0.] The book is the hardest to roll. [SEP] A person is trying to roll a book, a can, an egg, and an apple.\n",
      "[1. 0.] The surface covered with rubber is the hardest for the brick to slide across. [SEP] A person is sliding four bricks across four hard surfaces. The first surface is covered with rubber, the second surface is covered with soap, the third surface is covered with oil, and the fourth surface is covered with ice.\n",
      "[1. 0.] The pile of flowers is the hardest to move. [SEP] A person is trying to move a pile of flowers, a pile of books, a pile of sugar, and a pile of bottles from one side of a room to the other using only one hand.\n",
      "[1. 0.] The mirror is the easiest to roll. [SEP] A person is trying to roll a mirror, an apple, a block, and a book.\n",
      "[0. 1.] The book is the easiest to roll. [SEP] A person is trying to roll a book, an egg, a mirror, and a microwave.\n",
      "[1. 0.] The surface covered with grease is the easiest for the brick to slide across. [SEP] A person is sliding four bricks across four hard surfaces. The first surface is covered with grease, the second surface is covered with grass, the third surface is covered with gravel, and the fourth surface is covered with concrete.\n",
      "[1. 0.] The pillow is the least likely to break. [SEP] A person drops a pillow, a glass, a bottle, and an egg from a balcony.\n",
      "[1.00000e+000 3.79429e-291] The surface covered with grass is the easiest for the brick to slide across. [SEP] A person is sliding four bricks across four hard surfaces. The first surface is covered with grass, the second surface is covered with oil, the third surface is covered with rubber, and the fourth surface is covered with concrete.\n",
      "[1. 0.] The surface covered with carpet is the easiest for the brick to slide across. [SEP] A person is sliding four bricks across four hard surfaces. The first surface is covered with carpet, the second surface is covered with oil, the third surface is covered with grass, and the fourth surface is covered with rubber.\n",
      "[1. 0.] The mirror is the least likely to break. [SEP] A person drops a mirror, an egg, a shirt, and a plate from a balcony.\n",
      "[1. 0.] The bottles are the hardest to stack. [SEP] A person is trying to stack bottles, coins, books, and blocks.\n",
      "[1. 0.] The side of the seesaw with the leaf moves up. [SEP] A leaf and a microwave are placed in baskets on either end of a perfectly balanced seesaw.\n",
      "[1. 0.] The egg is the hardest to roll. [SEP] A person is trying to roll an egg, a book, a ball, and a can.\n",
      "[0. 1.] The side of the seesaw with the leaf moves up. [SEP] A leaf and an egg are placed in baskets on either end of a perfectly balanced seesaw.\n",
      "[1. 0.] The ball is the most likely to break. [SEP] A person drops a ball, a shirt, a plate, and a pillow from a balcony.\n",
      "[1. 0.] The puck hit by the apple slides the shortest distance. [SEP] An apple, a coin, an egg, and a brick moving at identical speeds each collide with a static hockey puck.\n",
      "[0. 1.] The microwave is the easiest to roll. [SEP] A person is trying to roll a microwave, a block, a mirror, and a ball.\n",
      "[1. 0.] The circle around the microwave takes the least amount of paint. [SEP] A person paints a circle around a microwave, a book, a car, and a house.\n",
      "[1.00000000e+000 1.63481707e-303] The plate is the least likely to break. [SEP] A person drops a plate, a glass, a shirt, and an egg from a balcony.\n",
      "[1. 0.] The pillow is the most likely to break. [SEP] A person drops a pillow, an egg, a pen, and a shirt from a balcony.\n",
      "[1. 0.] The ball dropped onto the brick bounces the most times. [SEP] A person is trying to bounce a rubber ball. They drop a first ball onto brick, a second ball onto carpet, a third ball onto snow, and a fourth ball onto foam.\n",
      "[0. 1.] The lamps are the easiest to stack. [SEP] A person is trying to stack lamps, bottles, eggs, and boxes.\n",
      "[1.00000000e+000 1.64971193e-138] The circle around the mountain takes the least amount of paint. [SEP] A person paints a circle around a mountain, a book, a car, and a table.\n",
      "[1. 0.] The ball is the hardest to roll. [SEP] A person is trying to roll a ball, a microwave, an apple, and a bottle.\n"
     ]
    }
   ],
   "source": [
    "l = []\n",
    "for i, s in enumerate(prost['test']['sents']):\n",
    "    if i % 4 == 0:\n",
    "        l += [s]\n",
    "\n",
    "for ex, prob in zip(l, probs):\n",
    "    print(prob, ex)"
   ]
  },
  {
   "cell_type": "code",
   "execution_count": 19,
   "id": "716b5061-d5a4-4424-8d41-83dc3edf5b2f",
   "metadata": {},
   "outputs": [
    {
     "name": "stderr",
     "output_type": "stream",
     "text": [
      "100%|█████████████████████████████████████████| 100/100 [01:15<00:00,  1.33it/s]\n",
      "100%|███████████████████████████████████████████| 50/50 [00:35<00:00,  1.41it/s]\n"
     ]
    },
    {
     "data": {
      "text/plain": [
       "91.2"
      ]
     },
     "execution_count": 19,
     "metadata": {},
     "output_type": "execute_result"
    }
   ],
   "source": [
    "evaluate_prost('roberta')"
   ]
  },
  {
   "cell_type": "code",
   "execution_count": null,
   "id": "0a9369b2-89d6-4628-a95e-a244292ef354",
   "metadata": {},
   "outputs": [],
   "source": []
  }
 ],
 "metadata": {
  "kernelspec": {
   "display_name": "Python 3 (ipykernel)",
   "language": "python",
   "name": "python3"
  },
  "language_info": {
   "codemirror_mode": {
    "name": "ipython",
    "version": 3
   },
   "file_extension": ".py",
   "mimetype": "text/x-python",
   "name": "python",
   "nbconvert_exporter": "python",
   "pygments_lexer": "ipython3",
   "version": "3.9.5"
  }
 },
 "nbformat": 4,
 "nbformat_minor": 5
}
