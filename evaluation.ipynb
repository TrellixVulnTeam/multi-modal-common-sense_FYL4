{
 "cells": [
  {
   "cell_type": "code",
   "execution_count": 23,
   "id": "fddb2beb-cf9f-4064-8fd1-7fdb9c92d2fd",
   "metadata": {},
   "outputs": [],
   "source": [
    "import torch\n",
    "import numpy as np\n",
    "import pandas as pd\n",
    "\n",
    "from train_model import run_model, MODELS, WordModel, train_model, test_model\n",
    "from data_processor import DoqProcessor, VerbProcessor, ProstProcessor"
   ]
  },
  {
   "cell_type": "code",
   "execution_count": 2,
   "id": "652652bd-62a2-46d9-9c73-89ed8caa1fe2",
   "metadata": {},
   "outputs": [],
   "source": [
    "doq_train = DoqProcessor('train')\n",
    "train_labels, _, train_sentences, _ = doq_train.forward()\n",
    "\n",
    "doq_test = DoqProcessor('test')\n",
    "test_labels, _, test_sentences, _ = doq_test.forward()\n",
    "\n",
    "doq = {}\n",
    "doq['train'] = {\n",
    "    'labels': train_labels,\n",
    "    'sents': train_sentences,\n",
    "}\n",
    "\n",
    "doq['test'] = {\n",
    "    'labels': test_labels,\n",
    "    'sents': test_sentences,\n",
    "}"
   ]
  },
  {
   "cell_type": "code",
   "execution_count": 3,
   "id": "dc4fa3d1-9266-43c8-9ea3-f4f3d5cce48d",
   "metadata": {
    "tags": []
   },
   "outputs": [
    {
     "name": "stderr",
     "output_type": "stream",
     "text": [
      "Using custom data configuration default\n",
      "Reusing dataset prost (/Users/g/.cache/huggingface/datasets/corypaik___prost/default/1.0.1/5723fec956da2bd5e34a0ac6f53f398b771fbb743fc979c6a50b513888d537c7)\n",
      "Loading cached split indices for dataset at /Users/g/.cache/huggingface/datasets/corypaik___prost/default/1.0.1/5723fec956da2bd5e34a0ac6f53f398b771fbb743fc979c6a50b513888d537c7/cache-3ba89f75d16d1d23.arrow and /Users/g/.cache/huggingface/datasets/corypaik___prost/default/1.0.1/5723fec956da2bd5e34a0ac6f53f398b771fbb743fc979c6a50b513888d537c7/cache-dea55751f6b71d2b.arrow\n",
      "Using custom data configuration default\n",
      "Reusing dataset prost (/Users/g/.cache/huggingface/datasets/corypaik___prost/default/1.0.1/5723fec956da2bd5e34a0ac6f53f398b771fbb743fc979c6a50b513888d537c7)\n",
      "Loading cached split indices for dataset at /Users/g/.cache/huggingface/datasets/corypaik___prost/default/1.0.1/5723fec956da2bd5e34a0ac6f53f398b771fbb743fc979c6a50b513888d537c7/cache-556ac204ac069f7c.arrow and /Users/g/.cache/huggingface/datasets/corypaik___prost/default/1.0.1/5723fec956da2bd5e34a0ac6f53f398b771fbb743fc979c6a50b513888d537c7/cache-746b2ee70a966be3.arrow\n"
     ]
    }
   ],
   "source": [
    "prost_train = ProstProcessor('train', batch_size=0)\n",
    "train_labels, _, train_sentences, _ = prost_train.forward()\n",
    "\n",
    "prost_test = ProstProcessor('test', batch_size=0)\n",
    "test_labels, _, test_sentences, _ = prost_test.forward()\n",
    "\n",
    "prost = {}\n",
    "prost['train'] = {\n",
    "    'labels': train_labels,\n",
    "    'sents': train_sentences,\n",
    "}\n",
    "\n",
    "prost['test'] = {\n",
    "    'labels': test_labels,\n",
    "    'sents': test_sentences,\n",
    "}"
   ]
  },
  {
   "cell_type": "code",
   "execution_count": 4,
   "id": "737ce818-745b-405a-9e6e-c52786dbecee",
   "metadata": {},
   "outputs": [],
   "source": [
    "verb = {}\n",
    "for attr in ['weight', 'speed', 'size', 'strength', 'rigidness']:\n",
    "    verb_train = VerbProcessor(attr, 20, 'train', 0)\n",
    "    train_labels, _, train_sentences, _ = verb_train.forward()\n",
    "\n",
    "    verb_test = VerbProcessor(attr, 20, 'test', 0)\n",
    "    test_labels, _, test_sentences, _ = verb_test.forward()\n",
    "\n",
    "    verb[attr] = {}\n",
    "    verb[attr]['train'] = {\n",
    "        'labels': train_labels,\n",
    "        'sents': train_sentences,\n",
    "    }\n",
    "\n",
    "    verb[attr]['test'] = {\n",
    "        'labels': test_labels,\n",
    "        'sents': test_sentences,\n",
    "    }"
   ]
  },
  {
   "cell_type": "code",
   "execution_count": 6,
   "id": "9f1b3f82-f48e-4103-b3cd-5b6155d556da",
   "metadata": {},
   "outputs": [],
   "source": [
    "def evaluate_prost(model):\n",
    "    if model == 'roberta':\n",
    "        return None\n",
    "    \n",
    "    m = WordModel(model, try_encoder=True)\n",
    "    train_features = m.get_features(prost['train']['sents'])\n",
    "    test_features = m.get_features(prost['test']['sents'])\n",
    "    \n",
    "    lr = train_model(train_features, prost['train']['labels'])\n",
    "    acc, probs = test_model(lr, test_features, prost['test']['labels'], return_probs=True)\n",
    "    \n",
    "    assert len(probs) % 4 == 0\n",
    "    \n",
    "    correct_count = 0.0\n",
    "    \n",
    "    for i in range(0, probs.shape[0], 4):\n",
    "        example = probs[i:i+4]\n",
    "        true_pred = np.max(example, axis=0)\n",
    "        \n",
    "        for j, ex in enumerate(example):\n",
    "            if ex[1] == true_pred[1] and prost['test']['labels'][i + j]:\n",
    "                correct_count += 1\n",
    "                break\n",
    "    \n",
    "    return correct_count / (probs.shape[0] / 4) * 100"
   ]
  },
  {
   "cell_type": "code",
   "execution_count": null,
   "id": "dc1b2424-b107-4d67-ae4d-e96e65dee8ce",
   "metadata": {
    "tags": []
   },
   "outputs": [
    {
     "name": "stdout",
     "output_type": "stream",
     "text": [
      "visualbert\n"
     ]
    }
   ],
   "source": [
    "# Non-pooled evaluation\n",
    "for model in ['visualbert']:\n",
    "    print(model)\n",
    "    doq_acc = None\n",
    "    prost_acc = None\n",
    "    try:\n",
    "        # doq_acc = run_model(model, doq['train']['labels'], doq['train']['sents'], doq['test']['labels'], doq['test']['sents'], try_encoder=True, verbose=False)\n",
    "        # print(\"doq\", doq_acc)\n",
    "        # verb_acc = {}\n",
    "        # for attr in verb:\n",
    "        #     verb_acc[attr] = run_model(model, verb[attr]['train']['labels'], verb[attr]['train']['sents'], verb[attr]['test']['labels'], verb[attr]['test']['sents'], try_encoder=True, verbose=False)\n",
    "        #     print(f\"verb-{attr}\", verb_acc[attr])\n",
    "        prost_acc = evaluate_prost(model)\n",
    "        print(\"prost\", prost_acc)\n",
    "    except Exception as e:\n",
    "        print(e)\n",
    "    \n",
    "    # model_accs[model] = {\n",
    "    #     'doq': doq_acc,\n",
    "    #     'prost': prost_acc,\n",
    "    # }\n",
    "    \n",
    "    # for attr in verb:\n",
    "    #     model_accs[model][f'verb_{attr}'] = verb_acc[attr]\n",
    "    model_accs[model]['prost'] = prost_acc"
   ]
  },
  {
   "cell_type": "code",
   "execution_count": null,
   "id": "efdd2488-8a08-4c92-ab03-f353e9cbcfe2",
   "metadata": {},
   "outputs": [],
   "source": [
    "model_accs"
   ]
  },
  {
   "cell_type": "code",
   "execution_count": null,
   "id": "4e15c19f-62ba-4104-ad5a-d6d29c0f2d69",
   "metadata": {},
   "outputs": [],
   "source": [
    "# Roberta fails on prost! bummer Also visualbert??\n",
    "prost_acc = evaluate_prost('roberta')"
   ]
  },
  {
   "cell_type": "code",
   "execution_count": null,
   "id": "a95cfff4-8201-4b15-8b67-0b43bc2b3cd9",
   "metadata": {},
   "outputs": [],
   "source": [
    "prost_acc"
   ]
  },
  {
   "cell_type": "code",
   "execution_count": 14,
   "id": "bc293cef-3693-49de-b603-acc469f4e93e",
   "metadata": {},
   "outputs": [],
   "source": [
    "df = pd.DataFrame(model_accs)"
   ]
  },
  {
   "cell_type": "code",
   "execution_count": 18,
   "id": "ed5d2d6c-65ff-437e-8eed-afec28857ba3",
   "metadata": {},
   "outputs": [
    {
     "data": {
      "text/html": [
       "<div>\n",
       "<style scoped>\n",
       "    .dataframe tbody tr th:only-of-type {\n",
       "        vertical-align: middle;\n",
       "    }\n",
       "\n",
       "    .dataframe tbody tr th {\n",
       "        vertical-align: top;\n",
       "    }\n",
       "\n",
       "    .dataframe thead th {\n",
       "        text-align: right;\n",
       "    }\n",
       "</style>\n",
       "<table border=\"1\" class=\"dataframe\">\n",
       "  <thead>\n",
       "    <tr style=\"text-align: right;\">\n",
       "      <th></th>\n",
       "      <th>doq</th>\n",
       "      <th>prost</th>\n",
       "      <th>verb_weight</th>\n",
       "      <th>verb_speed</th>\n",
       "      <th>verb_size</th>\n",
       "      <th>verb_strength</th>\n",
       "      <th>verb_rigidness</th>\n",
       "    </tr>\n",
       "  </thead>\n",
       "  <tbody>\n",
       "    <tr>\n",
       "      <th>clip</th>\n",
       "      <td>66.727273</td>\n",
       "      <td>0.336179</td>\n",
       "      <td>78.510473</td>\n",
       "      <td>69.890511</td>\n",
       "      <td>79.209486</td>\n",
       "      <td>72.966102</td>\n",
       "      <td>67.799490</td>\n",
       "    </tr>\n",
       "    <tr>\n",
       "      <th>roberta</th>\n",
       "      <td>64.000000</td>\n",
       "      <td>NaN</td>\n",
       "      <td>84.173778</td>\n",
       "      <td>75.273723</td>\n",
       "      <td>82.608696</td>\n",
       "      <td>78.559322</td>\n",
       "      <td>71.452846</td>\n",
       "    </tr>\n",
       "    <tr>\n",
       "      <th>roberta_small</th>\n",
       "      <td>59.545455</td>\n",
       "      <td>0.659552</td>\n",
       "      <td>71.683476</td>\n",
       "      <td>62.226277</td>\n",
       "      <td>72.569170</td>\n",
       "      <td>68.983051</td>\n",
       "      <td>64.401020</td>\n",
       "    </tr>\n",
       "    <tr>\n",
       "      <th>visualbert</th>\n",
       "      <td>62.818182</td>\n",
       "      <td>0.324973</td>\n",
       "      <td>80.837859</td>\n",
       "      <td>76.824818</td>\n",
       "      <td>83.873518</td>\n",
       "      <td>80.000000</td>\n",
       "      <td>74.341546</td>\n",
       "    </tr>\n",
       "  </tbody>\n",
       "</table>\n",
       "</div>"
      ],
      "text/plain": [
       "                     doq     prost  verb_weight  verb_speed  verb_size  \\\n",
       "clip           66.727273  0.336179    78.510473   69.890511  79.209486   \n",
       "roberta        64.000000       NaN    84.173778   75.273723  82.608696   \n",
       "roberta_small  59.545455  0.659552    71.683476   62.226277  72.569170   \n",
       "visualbert     62.818182  0.324973    80.837859   76.824818  83.873518   \n",
       "\n",
       "               verb_strength  verb_rigidness  \n",
       "clip               72.966102       67.799490  \n",
       "roberta            78.559322       71.452846  \n",
       "roberta_small      68.983051       64.401020  \n",
       "visualbert         80.000000       74.341546  "
      ]
     },
     "execution_count": 18,
     "metadata": {},
     "output_type": "execute_result"
    }
   ],
   "source": [
    "df.T"
   ]
  },
  {
   "cell_type": "code",
   "execution_count": 21,
   "id": "ee77e336-9244-47bf-a206-c91dbd72e174",
   "metadata": {},
   "outputs": [],
   "source": [
    "pf = df.mean(axis=1)"
   ]
  },
  {
   "cell_type": "code",
   "execution_count": 33,
   "id": "8eecce31-374b-4bb9-845d-e4820393e2a5",
   "metadata": {},
   "outputs": [
    {
     "ename": "TypeError",
     "evalue": "unsupported operand type(s) for +: 'method' and 'float'",
     "output_type": "error",
     "traceback": [
      "\u001b[0;31m---------------------------------------------------------------------------\u001b[0m",
      "\u001b[0;31mTypeError\u001b[0m                                 Traceback (most recent call last)",
      "\u001b[0;32m/var/folders/nb/76jp2vmd3yg4dq6tm9mcsddh0000gn/T/ipykernel_29763/1122273076.py\u001b[0m in \u001b[0;36m<module>\u001b[0;34m\u001b[0m\n\u001b[0;32m----> 1\u001b[0;31m \u001b[0mmultimodal\u001b[0m \u001b[0;34m=\u001b[0m \u001b[0mdf\u001b[0m\u001b[0;34m.\u001b[0m\u001b[0mclip\u001b[0m \u001b[0;34m+\u001b[0m \u001b[0mdf\u001b[0m\u001b[0;34m.\u001b[0m\u001b[0mvisualbert\u001b[0m\u001b[0;34m\u001b[0m\u001b[0;34m\u001b[0m\u001b[0m\n\u001b[0m",
      "\u001b[0;32m~/Desktop/ClassesFall21/cs197/.env/lib/python3.9/site-packages/pandas/core/ops/common.py\u001b[0m in \u001b[0;36mnew_method\u001b[0;34m(self, other)\u001b[0m\n\u001b[1;32m     67\u001b[0m         \u001b[0mother\u001b[0m \u001b[0;34m=\u001b[0m \u001b[0mitem_from_zerodim\u001b[0m\u001b[0;34m(\u001b[0m\u001b[0mother\u001b[0m\u001b[0;34m)\u001b[0m\u001b[0;34m\u001b[0m\u001b[0;34m\u001b[0m\u001b[0m\n\u001b[1;32m     68\u001b[0m \u001b[0;34m\u001b[0m\u001b[0m\n\u001b[0;32m---> 69\u001b[0;31m         \u001b[0;32mreturn\u001b[0m \u001b[0mmethod\u001b[0m\u001b[0;34m(\u001b[0m\u001b[0mself\u001b[0m\u001b[0;34m,\u001b[0m \u001b[0mother\u001b[0m\u001b[0;34m)\u001b[0m\u001b[0;34m\u001b[0m\u001b[0;34m\u001b[0m\u001b[0m\n\u001b[0m\u001b[1;32m     70\u001b[0m \u001b[0;34m\u001b[0m\u001b[0m\n\u001b[1;32m     71\u001b[0m     \u001b[0;32mreturn\u001b[0m \u001b[0mnew_method\u001b[0m\u001b[0;34m\u001b[0m\u001b[0;34m\u001b[0m\u001b[0m\n",
      "\u001b[0;32m~/Desktop/ClassesFall21/cs197/.env/lib/python3.9/site-packages/pandas/core/arraylike.py\u001b[0m in \u001b[0;36m__radd__\u001b[0;34m(self, other)\u001b[0m\n\u001b[1;32m     94\u001b[0m     \u001b[0;34m@\u001b[0m\u001b[0munpack_zerodim_and_defer\u001b[0m\u001b[0;34m(\u001b[0m\u001b[0;34m\"__radd__\"\u001b[0m\u001b[0;34m)\u001b[0m\u001b[0;34m\u001b[0m\u001b[0;34m\u001b[0m\u001b[0m\n\u001b[1;32m     95\u001b[0m     \u001b[0;32mdef\u001b[0m \u001b[0m__radd__\u001b[0m\u001b[0;34m(\u001b[0m\u001b[0mself\u001b[0m\u001b[0;34m,\u001b[0m \u001b[0mother\u001b[0m\u001b[0;34m)\u001b[0m\u001b[0;34m:\u001b[0m\u001b[0;34m\u001b[0m\u001b[0;34m\u001b[0m\u001b[0m\n\u001b[0;32m---> 96\u001b[0;31m         \u001b[0;32mreturn\u001b[0m \u001b[0mself\u001b[0m\u001b[0;34m.\u001b[0m\u001b[0m_arith_method\u001b[0m\u001b[0;34m(\u001b[0m\u001b[0mother\u001b[0m\u001b[0;34m,\u001b[0m \u001b[0mroperator\u001b[0m\u001b[0;34m.\u001b[0m\u001b[0mradd\u001b[0m\u001b[0;34m)\u001b[0m\u001b[0;34m\u001b[0m\u001b[0;34m\u001b[0m\u001b[0m\n\u001b[0m\u001b[1;32m     97\u001b[0m \u001b[0;34m\u001b[0m\u001b[0m\n\u001b[1;32m     98\u001b[0m     \u001b[0;34m@\u001b[0m\u001b[0munpack_zerodim_and_defer\u001b[0m\u001b[0;34m(\u001b[0m\u001b[0;34m\"__sub__\"\u001b[0m\u001b[0;34m)\u001b[0m\u001b[0;34m\u001b[0m\u001b[0;34m\u001b[0m\u001b[0m\n",
      "\u001b[0;32m~/Desktop/ClassesFall21/cs197/.env/lib/python3.9/site-packages/pandas/core/series.py\u001b[0m in \u001b[0;36m_arith_method\u001b[0;34m(self, other, op)\u001b[0m\n\u001b[1;32m   5524\u001b[0m \u001b[0;34m\u001b[0m\u001b[0m\n\u001b[1;32m   5525\u001b[0m         \u001b[0;32mwith\u001b[0m \u001b[0mnp\u001b[0m\u001b[0;34m.\u001b[0m\u001b[0merrstate\u001b[0m\u001b[0;34m(\u001b[0m\u001b[0mall\u001b[0m\u001b[0;34m=\u001b[0m\u001b[0;34m\"ignore\"\u001b[0m\u001b[0;34m)\u001b[0m\u001b[0;34m:\u001b[0m\u001b[0;34m\u001b[0m\u001b[0;34m\u001b[0m\u001b[0m\n\u001b[0;32m-> 5526\u001b[0;31m             \u001b[0mresult\u001b[0m \u001b[0;34m=\u001b[0m \u001b[0mops\u001b[0m\u001b[0;34m.\u001b[0m\u001b[0marithmetic_op\u001b[0m\u001b[0;34m(\u001b[0m\u001b[0mlvalues\u001b[0m\u001b[0;34m,\u001b[0m \u001b[0mrvalues\u001b[0m\u001b[0;34m,\u001b[0m \u001b[0mop\u001b[0m\u001b[0;34m)\u001b[0m\u001b[0;34m\u001b[0m\u001b[0;34m\u001b[0m\u001b[0m\n\u001b[0m\u001b[1;32m   5527\u001b[0m \u001b[0;34m\u001b[0m\u001b[0m\n\u001b[1;32m   5528\u001b[0m         \u001b[0;32mreturn\u001b[0m \u001b[0mself\u001b[0m\u001b[0;34m.\u001b[0m\u001b[0m_construct_result\u001b[0m\u001b[0;34m(\u001b[0m\u001b[0mresult\u001b[0m\u001b[0;34m,\u001b[0m \u001b[0mname\u001b[0m\u001b[0;34m=\u001b[0m\u001b[0mres_name\u001b[0m\u001b[0;34m)\u001b[0m\u001b[0;34m\u001b[0m\u001b[0;34m\u001b[0m\u001b[0m\n",
      "\u001b[0;32m~/Desktop/ClassesFall21/cs197/.env/lib/python3.9/site-packages/pandas/core/ops/array_ops.py\u001b[0m in \u001b[0;36marithmetic_op\u001b[0;34m(left, right, op)\u001b[0m\n\u001b[1;32m    222\u001b[0m         \u001b[0m_bool_arith_check\u001b[0m\u001b[0;34m(\u001b[0m\u001b[0mop\u001b[0m\u001b[0;34m,\u001b[0m \u001b[0mleft\u001b[0m\u001b[0;34m,\u001b[0m \u001b[0mright\u001b[0m\u001b[0;34m)\u001b[0m\u001b[0;34m\u001b[0m\u001b[0;34m\u001b[0m\u001b[0m\n\u001b[1;32m    223\u001b[0m \u001b[0;34m\u001b[0m\u001b[0m\n\u001b[0;32m--> 224\u001b[0;31m         \u001b[0mres_values\u001b[0m \u001b[0;34m=\u001b[0m \u001b[0m_na_arithmetic_op\u001b[0m\u001b[0;34m(\u001b[0m\u001b[0mleft\u001b[0m\u001b[0;34m,\u001b[0m \u001b[0mright\u001b[0m\u001b[0;34m,\u001b[0m \u001b[0mop\u001b[0m\u001b[0;34m)\u001b[0m\u001b[0;34m\u001b[0m\u001b[0;34m\u001b[0m\u001b[0m\n\u001b[0m\u001b[1;32m    225\u001b[0m \u001b[0;34m\u001b[0m\u001b[0m\n\u001b[1;32m    226\u001b[0m     \u001b[0;32mreturn\u001b[0m \u001b[0mres_values\u001b[0m\u001b[0;34m\u001b[0m\u001b[0;34m\u001b[0m\u001b[0m\n",
      "\u001b[0;32m~/Desktop/ClassesFall21/cs197/.env/lib/python3.9/site-packages/pandas/core/ops/array_ops.py\u001b[0m in \u001b[0;36m_na_arithmetic_op\u001b[0;34m(left, right, op, is_cmp)\u001b[0m\n\u001b[1;32m    164\u001b[0m \u001b[0;34m\u001b[0m\u001b[0m\n\u001b[1;32m    165\u001b[0m     \u001b[0;32mtry\u001b[0m\u001b[0;34m:\u001b[0m\u001b[0;34m\u001b[0m\u001b[0;34m\u001b[0m\u001b[0m\n\u001b[0;32m--> 166\u001b[0;31m         \u001b[0mresult\u001b[0m \u001b[0;34m=\u001b[0m \u001b[0mfunc\u001b[0m\u001b[0;34m(\u001b[0m\u001b[0mleft\u001b[0m\u001b[0;34m,\u001b[0m \u001b[0mright\u001b[0m\u001b[0;34m)\u001b[0m\u001b[0;34m\u001b[0m\u001b[0;34m\u001b[0m\u001b[0m\n\u001b[0m\u001b[1;32m    167\u001b[0m     \u001b[0;32mexcept\u001b[0m \u001b[0mTypeError\u001b[0m\u001b[0;34m:\u001b[0m\u001b[0;34m\u001b[0m\u001b[0;34m\u001b[0m\u001b[0m\n\u001b[1;32m    168\u001b[0m         \u001b[0;32mif\u001b[0m \u001b[0mis_object_dtype\u001b[0m\u001b[0;34m(\u001b[0m\u001b[0mleft\u001b[0m\u001b[0;34m)\u001b[0m \u001b[0;32mor\u001b[0m \u001b[0mis_object_dtype\u001b[0m\u001b[0;34m(\u001b[0m\u001b[0mright\u001b[0m\u001b[0;34m)\u001b[0m \u001b[0;32mand\u001b[0m \u001b[0;32mnot\u001b[0m \u001b[0mis_cmp\u001b[0m\u001b[0;34m:\u001b[0m\u001b[0;34m\u001b[0m\u001b[0;34m\u001b[0m\u001b[0m\n",
      "\u001b[0;32m~/Desktop/ClassesFall21/cs197/.env/lib/python3.9/site-packages/pandas/core/computation/expressions.py\u001b[0m in \u001b[0;36mevaluate\u001b[0;34m(op, a, b, use_numexpr)\u001b[0m\n\u001b[1;32m    237\u001b[0m         \u001b[0;32mif\u001b[0m \u001b[0muse_numexpr\u001b[0m\u001b[0;34m:\u001b[0m\u001b[0;34m\u001b[0m\u001b[0;34m\u001b[0m\u001b[0m\n\u001b[1;32m    238\u001b[0m             \u001b[0;31m# error: \"None\" not callable\u001b[0m\u001b[0;34m\u001b[0m\u001b[0;34m\u001b[0m\u001b[0m\n\u001b[0;32m--> 239\u001b[0;31m             \u001b[0;32mreturn\u001b[0m \u001b[0m_evaluate\u001b[0m\u001b[0;34m(\u001b[0m\u001b[0mop\u001b[0m\u001b[0;34m,\u001b[0m \u001b[0mop_str\u001b[0m\u001b[0;34m,\u001b[0m \u001b[0ma\u001b[0m\u001b[0;34m,\u001b[0m \u001b[0mb\u001b[0m\u001b[0;34m)\u001b[0m  \u001b[0;31m# type: ignore[misc]\u001b[0m\u001b[0;34m\u001b[0m\u001b[0;34m\u001b[0m\u001b[0m\n\u001b[0m\u001b[1;32m    240\u001b[0m     \u001b[0;32mreturn\u001b[0m \u001b[0m_evaluate_standard\u001b[0m\u001b[0;34m(\u001b[0m\u001b[0mop\u001b[0m\u001b[0;34m,\u001b[0m \u001b[0mop_str\u001b[0m\u001b[0;34m,\u001b[0m \u001b[0ma\u001b[0m\u001b[0;34m,\u001b[0m \u001b[0mb\u001b[0m\u001b[0;34m)\u001b[0m\u001b[0;34m\u001b[0m\u001b[0;34m\u001b[0m\u001b[0m\n\u001b[1;32m    241\u001b[0m \u001b[0;34m\u001b[0m\u001b[0m\n",
      "\u001b[0;32m~/Desktop/ClassesFall21/cs197/.env/lib/python3.9/site-packages/pandas/core/computation/expressions.py\u001b[0m in \u001b[0;36m_evaluate_standard\u001b[0;34m(op, op_str, a, b)\u001b[0m\n\u001b[1;32m     67\u001b[0m     \u001b[0;32mif\u001b[0m \u001b[0m_TEST_MODE\u001b[0m\u001b[0;34m:\u001b[0m\u001b[0;34m\u001b[0m\u001b[0;34m\u001b[0m\u001b[0m\n\u001b[1;32m     68\u001b[0m         \u001b[0m_store_test_result\u001b[0m\u001b[0;34m(\u001b[0m\u001b[0;32mFalse\u001b[0m\u001b[0;34m)\u001b[0m\u001b[0;34m\u001b[0m\u001b[0;34m\u001b[0m\u001b[0m\n\u001b[0;32m---> 69\u001b[0;31m     \u001b[0;32mreturn\u001b[0m \u001b[0mop\u001b[0m\u001b[0;34m(\u001b[0m\u001b[0ma\u001b[0m\u001b[0;34m,\u001b[0m \u001b[0mb\u001b[0m\u001b[0;34m)\u001b[0m\u001b[0;34m\u001b[0m\u001b[0;34m\u001b[0m\u001b[0m\n\u001b[0m\u001b[1;32m     70\u001b[0m \u001b[0;34m\u001b[0m\u001b[0m\n\u001b[1;32m     71\u001b[0m \u001b[0;34m\u001b[0m\u001b[0m\n",
      "\u001b[0;32m~/Desktop/ClassesFall21/cs197/.env/lib/python3.9/site-packages/pandas/core/roperator.py\u001b[0m in \u001b[0;36mradd\u001b[0;34m(left, right)\u001b[0m\n\u001b[1;32m      7\u001b[0m \u001b[0;34m\u001b[0m\u001b[0m\n\u001b[1;32m      8\u001b[0m \u001b[0;32mdef\u001b[0m \u001b[0mradd\u001b[0m\u001b[0;34m(\u001b[0m\u001b[0mleft\u001b[0m\u001b[0;34m,\u001b[0m \u001b[0mright\u001b[0m\u001b[0;34m)\u001b[0m\u001b[0;34m:\u001b[0m\u001b[0;34m\u001b[0m\u001b[0;34m\u001b[0m\u001b[0m\n\u001b[0;32m----> 9\u001b[0;31m     \u001b[0;32mreturn\u001b[0m \u001b[0mright\u001b[0m \u001b[0;34m+\u001b[0m \u001b[0mleft\u001b[0m\u001b[0;34m\u001b[0m\u001b[0;34m\u001b[0m\u001b[0m\n\u001b[0m\u001b[1;32m     10\u001b[0m \u001b[0;34m\u001b[0m\u001b[0m\n\u001b[1;32m     11\u001b[0m \u001b[0;34m\u001b[0m\u001b[0m\n",
      "\u001b[0;31mTypeError\u001b[0m: unsupported operand type(s) for +: 'method' and 'float'"
     ]
    }
   ],
   "source": [
    "multimodal = df.clip + df.visualbert"
   ]
  },
  {
   "cell_type": "code",
   "execution_count": 50,
   "id": "194bb468-c33d-449f-af94-6775ea291dc9",
   "metadata": {},
   "outputs": [],
   "source": [
    "pf = pf.T"
   ]
  },
  {
   "cell_type": "code",
   "execution_count": 54,
   "id": "0f12000d-2cb0-412c-b667-a5d1adae69ec",
   "metadata": {},
   "outputs": [],
   "source": [
    "multimodal = (pf['clip'] + pf['visualbert'])/2\n",
    "unimodal = (pf['roberta'] + pf['roberta_small'])/2"
   ]
  },
  {
   "cell_type": "code",
   "execution_count": 55,
   "id": "9f3cbfe7-af46-4fc8-9d6e-5cfe842b32ce",
   "metadata": {},
   "outputs": [
    {
     "data": {
      "text/plain": [
       "doq               64.772727\n",
       "prost             33.057631\n",
       "verb_weight       79.674166\n",
       "verb_speed        73.357664\n",
       "verb_size         81.541502\n",
       "verb_strength     76.483051\n",
       "verb_rigidness    71.070518\n",
       "dtype: float64"
      ]
     },
     "execution_count": 55,
     "metadata": {},
     "output_type": "execute_result"
    }
   ],
   "source": [
    "multimodal"
   ]
  },
  {
   "cell_type": "code",
   "execution_count": 58,
   "id": "bdded6e2-ae91-478c-ba04-b4612d0dc5b1",
   "metadata": {},
   "outputs": [
    {
     "data": {
      "text/plain": [
       "doq               61.772727\n",
       "prost             65.955176\n",
       "verb_weight       77.928627\n",
       "verb_speed        68.750000\n",
       "verb_size         77.588933\n",
       "verb_strength     73.771186\n",
       "verb_rigidness    67.926933\n",
       "dtype: float64"
      ]
     },
     "execution_count": 58,
     "metadata": {},
     "output_type": "execute_result"
    }
   ],
   "source": [
    "unimodal"
   ]
  },
  {
   "cell_type": "code",
   "execution_count": 69,
   "id": "44445d15-ac19-486c-9180-4a74d65cb2a2",
   "metadata": {},
   "outputs": [
    {
     "data": {
      "text/html": [
       "<div>\n",
       "<style scoped>\n",
       "    .dataframe tbody tr th:only-of-type {\n",
       "        vertical-align: middle;\n",
       "    }\n",
       "\n",
       "    .dataframe tbody tr th {\n",
       "        vertical-align: top;\n",
       "    }\n",
       "\n",
       "    .dataframe thead th {\n",
       "        text-align: right;\n",
       "    }\n",
       "</style>\n",
       "<table border=\"1\" class=\"dataframe\">\n",
       "  <thead>\n",
       "    <tr style=\"text-align: right;\">\n",
       "      <th></th>\n",
       "      <th>doq</th>\n",
       "      <th>prost</th>\n",
       "      <th>verb_weight</th>\n",
       "      <th>verb_speed</th>\n",
       "      <th>verb_size</th>\n",
       "      <th>verb_strength</th>\n",
       "      <th>verb_rigidness</th>\n",
       "    </tr>\n",
       "  </thead>\n",
       "  <tbody>\n",
       "    <tr>\n",
       "      <th>visual+language</th>\n",
       "      <td>64.772727</td>\n",
       "      <td>33.057631</td>\n",
       "      <td>79.674166</td>\n",
       "      <td>73.357664</td>\n",
       "      <td>81.541502</td>\n",
       "      <td>76.483051</td>\n",
       "      <td>71.070518</td>\n",
       "    </tr>\n",
       "    <tr>\n",
       "      <th>language</th>\n",
       "      <td>61.772727</td>\n",
       "      <td>65.955176</td>\n",
       "      <td>77.928627</td>\n",
       "      <td>68.750000</td>\n",
       "      <td>77.588933</td>\n",
       "      <td>73.771186</td>\n",
       "      <td>67.926933</td>\n",
       "    </tr>\n",
       "  </tbody>\n",
       "</table>\n",
       "</div>"
      ],
      "text/plain": [
       "                       doq      prost  verb_weight  verb_speed  verb_size  \\\n",
       "visual+language  64.772727  33.057631    79.674166   73.357664  81.541502   \n",
       "language         61.772727  65.955176    77.928627   68.750000  77.588933   \n",
       "\n",
       "                 verb_strength  verb_rigidness  \n",
       "visual+language      76.483051       71.070518  \n",
       "language             73.771186       67.926933  "
      ]
     },
     "execution_count": 69,
     "metadata": {},
     "output_type": "execute_result"
    }
   ],
   "source": [
    "models = pd.concat([multimodal, unimodal], axis=1)\n",
    "models.columns =['visual+language', 'language']\n",
    "models.T"
   ]
  },
  {
   "cell_type": "code",
   "execution_count": 19,
   "id": "8c6cbb87-546c-4c2a-a406-a4360b6092a4",
   "metadata": {},
   "outputs": [],
   "source": [
    "def evaluate_prost(model):\n",
    "    m = WordModel(model, try_encoder=True)\n",
    "    train_features = m.get_features(prost['train']['sents'])\n",
    "    test_features = m.get_features(prost['test']['sents'])\n",
    "    \n",
    "    lr = train_model(train_features, prost['train']['labels'])\n",
    "    acc, probs = test_model(lr, test_features, prost['test']['labels'], return_probs=True)\n",
    "    \n",
    "    assert len(probs) % 4 == 0\n",
    "    \n",
    "    correct_count = 0.0\n",
    "    \n",
    "    for i in range(0, probs.shape[0], 4):\n",
    "        example = probs[i:i+4]\n",
    "        true_pred = np.max(example, axis=0)\n",
    "        \n",
    "        for j, ex in enumerate(example):\n",
    "            if ex[1] == true_pred[1] and prost['test']['labels'][i + j]:\n",
    "                correct_count += 1\n",
    "                break\n",
    "    \n",
    "    return correct_count / (probs.shape[0] / 4) * 100"
   ]
  },
  {
   "cell_type": "code",
   "execution_count": 6,
   "id": "4a9ee1c3-c83c-4733-9de4-bf33f0a4dabf",
   "metadata": {},
   "outputs": [
    {
     "name": "stdout",
     "output_type": "stream",
     "text": [
      "roberta 0.925\n",
      "roberta_small 0.79\n"
     ]
    },
    {
     "ename": "AttributeError",
     "evalue": "'VisualBertForQuestionAnswering' object has no attribute 'embeddings'",
     "output_type": "error",
     "traceback": [
      "\u001b[0;31m---------------------------------------------------------------------------\u001b[0m",
      "\u001b[0;31mAttributeError\u001b[0m                            Traceback (most recent call last)",
      "\u001b[0;32m/var/folders/nb/76jp2vmd3yg4dq6tm9mcsddh0000gn/T/ipykernel_28173/1267906336.py\u001b[0m in \u001b[0;36m<module>\u001b[0;34m\u001b[0m\n\u001b[1;32m      1\u001b[0m \u001b[0;32mfor\u001b[0m \u001b[0mmodel\u001b[0m \u001b[0;32min\u001b[0m \u001b[0;34m[\u001b[0m\u001b[0;34m'roberta'\u001b[0m\u001b[0;34m,\u001b[0m \u001b[0;34m'roberta_small'\u001b[0m\u001b[0;34m,\u001b[0m \u001b[0;34m'visualbert'\u001b[0m\u001b[0;34m]\u001b[0m\u001b[0;34m:\u001b[0m\u001b[0;34m\u001b[0m\u001b[0;34m\u001b[0m\u001b[0m\n\u001b[0;32m----> 2\u001b[0;31m     \u001b[0mprost_acc\u001b[0m \u001b[0;34m=\u001b[0m \u001b[0mevaluate_prost\u001b[0m\u001b[0;34m(\u001b[0m\u001b[0mmodel\u001b[0m\u001b[0;34m)\u001b[0m\u001b[0;34m\u001b[0m\u001b[0;34m\u001b[0m\u001b[0m\n\u001b[0m\u001b[1;32m      3\u001b[0m     \u001b[0mprint\u001b[0m\u001b[0;34m(\u001b[0m\u001b[0mmodel\u001b[0m\u001b[0;34m,\u001b[0m \u001b[0mprost_acc\u001b[0m\u001b[0;34m)\u001b[0m\u001b[0;34m\u001b[0m\u001b[0;34m\u001b[0m\u001b[0m\n",
      "\u001b[0;32m/var/folders/nb/76jp2vmd3yg4dq6tm9mcsddh0000gn/T/ipykernel_28173/2335554544.py\u001b[0m in \u001b[0;36mevaluate_prost\u001b[0;34m(model)\u001b[0m\n\u001b[1;32m      1\u001b[0m \u001b[0;32mdef\u001b[0m \u001b[0mevaluate_prost\u001b[0m\u001b[0;34m(\u001b[0m\u001b[0mmodel\u001b[0m\u001b[0;34m)\u001b[0m\u001b[0;34m:\u001b[0m\u001b[0;34m\u001b[0m\u001b[0;34m\u001b[0m\u001b[0m\n\u001b[0;32m----> 2\u001b[0;31m     \u001b[0mm\u001b[0m \u001b[0;34m=\u001b[0m \u001b[0mWordModel\u001b[0m\u001b[0;34m(\u001b[0m\u001b[0mmodel\u001b[0m\u001b[0;34m,\u001b[0m \u001b[0mtry_encoder\u001b[0m\u001b[0;34m=\u001b[0m\u001b[0;32mTrue\u001b[0m\u001b[0;34m)\u001b[0m\u001b[0;34m\u001b[0m\u001b[0;34m\u001b[0m\u001b[0m\n\u001b[0m\u001b[1;32m      3\u001b[0m     \u001b[0mtrain_features\u001b[0m \u001b[0;34m=\u001b[0m \u001b[0mm\u001b[0m\u001b[0;34m.\u001b[0m\u001b[0mget_features\u001b[0m\u001b[0;34m(\u001b[0m\u001b[0mprost\u001b[0m\u001b[0;34m[\u001b[0m\u001b[0;34m'train'\u001b[0m\u001b[0;34m]\u001b[0m\u001b[0;34m[\u001b[0m\u001b[0;34m'sents'\u001b[0m\u001b[0;34m]\u001b[0m\u001b[0;34m)\u001b[0m\u001b[0;34m\u001b[0m\u001b[0;34m\u001b[0m\u001b[0m\n\u001b[1;32m      4\u001b[0m     \u001b[0mtest_features\u001b[0m \u001b[0;34m=\u001b[0m \u001b[0mm\u001b[0m\u001b[0;34m.\u001b[0m\u001b[0mget_features\u001b[0m\u001b[0;34m(\u001b[0m\u001b[0mprost\u001b[0m\u001b[0;34m[\u001b[0m\u001b[0;34m'test'\u001b[0m\u001b[0;34m]\u001b[0m\u001b[0;34m[\u001b[0m\u001b[0;34m'sents'\u001b[0m\u001b[0;34m]\u001b[0m\u001b[0;34m[\u001b[0m\u001b[0;34m:\u001b[0m\u001b[0;36m800\u001b[0m\u001b[0;34m]\u001b[0m\u001b[0;34m)\u001b[0m\u001b[0;34m\u001b[0m\u001b[0;34m\u001b[0m\u001b[0m\n\u001b[1;32m      5\u001b[0m \u001b[0;34m\u001b[0m\u001b[0m\n",
      "\u001b[0;32m~/Desktop/ClassesFall21/cs197/multi_modal_common_sense/train_model.py\u001b[0m in \u001b[0;36m__init__\u001b[0;34m(self, model, try_encoder, verbose)\u001b[0m\n\u001b[1;32m     57\u001b[0m         \u001b[0mself\u001b[0m\u001b[0;34m.\u001b[0m\u001b[0mmodel\u001b[0m \u001b[0;34m=\u001b[0m \u001b[0mMODELS\u001b[0m\u001b[0;34m[\u001b[0m\u001b[0mmodel\u001b[0m\u001b[0;34m]\u001b[0m\u001b[0;34m[\u001b[0m\u001b[0;34m'model'\u001b[0m\u001b[0;34m]\u001b[0m\u001b[0;34m\u001b[0m\u001b[0;34m\u001b[0m\u001b[0m\n\u001b[1;32m     58\u001b[0m         \u001b[0;31m# print(self.model)\u001b[0m\u001b[0;34m\u001b[0m\u001b[0;34m\u001b[0m\u001b[0m\n\u001b[0;32m---> 59\u001b[0;31m         \u001b[0mself\u001b[0m\u001b[0;34m.\u001b[0m\u001b[0membedding\u001b[0m \u001b[0;34m=\u001b[0m \u001b[0mself\u001b[0m\u001b[0;34m.\u001b[0m\u001b[0m_set_word_embeddings\u001b[0m\u001b[0;34m(\u001b[0m\u001b[0;34m)\u001b[0m\u001b[0;34m\u001b[0m\u001b[0;34m\u001b[0m\u001b[0m\n\u001b[0m\u001b[1;32m     60\u001b[0m \u001b[0;34m\u001b[0m\u001b[0m\n\u001b[1;32m     61\u001b[0m         \u001b[0;32mif\u001b[0m \u001b[0mself\u001b[0m\u001b[0;34m.\u001b[0m\u001b[0mverbose\u001b[0m\u001b[0;34m:\u001b[0m\u001b[0;34m\u001b[0m\u001b[0;34m\u001b[0m\u001b[0m\n",
      "\u001b[0;32m~/Desktop/ClassesFall21/cs197/multi_modal_common_sense/train_model.py\u001b[0m in \u001b[0;36m_set_word_embeddings\u001b[0;34m(self)\u001b[0m\n\u001b[1;32m     72\u001b[0m             \u001b[0membeds\u001b[0m \u001b[0;34m=\u001b[0m \u001b[0mself\u001b[0m\u001b[0;34m.\u001b[0m\u001b[0mmodel\u001b[0m\u001b[0;34m.\u001b[0m\u001b[0mencoder\u001b[0m\u001b[0;34m.\u001b[0m\u001b[0membed_tokens\u001b[0m\u001b[0;34m\u001b[0m\u001b[0;34m\u001b[0m\u001b[0m\n\u001b[1;32m     73\u001b[0m         \u001b[0;32melse\u001b[0m\u001b[0;34m:\u001b[0m\u001b[0;34m\u001b[0m\u001b[0;34m\u001b[0m\u001b[0m\n\u001b[0;32m---> 74\u001b[0;31m             \u001b[0membeds\u001b[0m \u001b[0;34m=\u001b[0m \u001b[0mself\u001b[0m\u001b[0;34m.\u001b[0m\u001b[0mmodel\u001b[0m\u001b[0;34m.\u001b[0m\u001b[0membeddings\u001b[0m\u001b[0;34m.\u001b[0m\u001b[0mword_embeddings\u001b[0m\u001b[0;34m\u001b[0m\u001b[0;34m\u001b[0m\u001b[0m\n\u001b[0m\u001b[1;32m     75\u001b[0m \u001b[0;34m\u001b[0m\u001b[0m\n\u001b[1;32m     76\u001b[0m         \u001b[0;32mif\u001b[0m \u001b[0mself\u001b[0m\u001b[0;34m.\u001b[0m\u001b[0mverbose\u001b[0m\u001b[0;34m:\u001b[0m\u001b[0;34m\u001b[0m\u001b[0;34m\u001b[0m\u001b[0m\n",
      "\u001b[0;32m~/Desktop/ClassesFall21/cs197/.env/lib/python3.9/site-packages/torch/nn/modules/module.py\u001b[0m in \u001b[0;36m__getattr__\u001b[0;34m(self, name)\u001b[0m\n\u001b[1;32m   1128\u001b[0m             \u001b[0;32mif\u001b[0m \u001b[0mname\u001b[0m \u001b[0;32min\u001b[0m \u001b[0mmodules\u001b[0m\u001b[0;34m:\u001b[0m\u001b[0;34m\u001b[0m\u001b[0;34m\u001b[0m\u001b[0m\n\u001b[1;32m   1129\u001b[0m                 \u001b[0;32mreturn\u001b[0m \u001b[0mmodules\u001b[0m\u001b[0;34m[\u001b[0m\u001b[0mname\u001b[0m\u001b[0;34m]\u001b[0m\u001b[0;34m\u001b[0m\u001b[0;34m\u001b[0m\u001b[0m\n\u001b[0;32m-> 1130\u001b[0;31m         raise AttributeError(\"'{}' object has no attribute '{}'\".format(\n\u001b[0m\u001b[1;32m   1131\u001b[0m             type(self).__name__, name))\n\u001b[1;32m   1132\u001b[0m \u001b[0;34m\u001b[0m\u001b[0m\n",
      "\u001b[0;31mAttributeError\u001b[0m: 'VisualBertForQuestionAnswering' object has no attribute 'embeddings'"
     ]
    }
   ],
   "source": [
    "for model in ['roberta_small', 'roberta', 't5', 'clip', 'visualbert', 'lxmert']:\n",
    "    prost_acc = evaluate_prost(model)"
   ]
  },
  {
   "cell_type": "code",
   "execution_count": 12,
   "id": "f39562e0-abd1-450f-b095-c3f19cf84d10",
   "metadata": {},
   "outputs": [],
   "source": [
    "from sklearn.linear_model import LogisticRegression, SGDClassifier\n"
   ]
  },
  {
   "cell_type": "code",
   "execution_count": 14,
   "id": "2fa3d475-decd-4843-bb80-e07434878076",
   "metadata": {},
   "outputs": [
    {
     "data": {
      "text/plain": [
       "\u001b[0;31mSignature:\u001b[0m\n",
       "\u001b[0mSGDClassifier\u001b[0m\u001b[0;34m.\u001b[0m\u001b[0mfit\u001b[0m\u001b[0;34m(\u001b[0m\u001b[0;34m\u001b[0m\n",
       "\u001b[0;34m\u001b[0m    \u001b[0mself\u001b[0m\u001b[0;34m,\u001b[0m\u001b[0;34m\u001b[0m\n",
       "\u001b[0;34m\u001b[0m    \u001b[0mX\u001b[0m\u001b[0;34m,\u001b[0m\u001b[0;34m\u001b[0m\n",
       "\u001b[0;34m\u001b[0m    \u001b[0my\u001b[0m\u001b[0;34m,\u001b[0m\u001b[0;34m\u001b[0m\n",
       "\u001b[0;34m\u001b[0m    \u001b[0mcoef_init\u001b[0m\u001b[0;34m=\u001b[0m\u001b[0;32mNone\u001b[0m\u001b[0;34m,\u001b[0m\u001b[0;34m\u001b[0m\n",
       "\u001b[0;34m\u001b[0m    \u001b[0mintercept_init\u001b[0m\u001b[0;34m=\u001b[0m\u001b[0;32mNone\u001b[0m\u001b[0;34m,\u001b[0m\u001b[0;34m\u001b[0m\n",
       "\u001b[0;34m\u001b[0m    \u001b[0msample_weight\u001b[0m\u001b[0;34m=\u001b[0m\u001b[0;32mNone\u001b[0m\u001b[0;34m,\u001b[0m\u001b[0;34m\u001b[0m\n",
       "\u001b[0;34m\u001b[0m\u001b[0;34m)\u001b[0m\u001b[0;34m\u001b[0m\u001b[0;34m\u001b[0m\u001b[0m\n",
       "\u001b[0;31mDocstring:\u001b[0m\n",
       "Fit linear model with Stochastic Gradient Descent.\n",
       "\n",
       "Parameters\n",
       "----------\n",
       "X : {array-like, sparse matrix}, shape (n_samples, n_features)\n",
       "    Training data.\n",
       "\n",
       "y : ndarray of shape (n_samples,)\n",
       "    Target values.\n",
       "\n",
       "coef_init : ndarray of shape (n_classes, n_features), default=None\n",
       "    The initial coefficients to warm-start the optimization.\n",
       "\n",
       "intercept_init : ndarray of shape (n_classes,), default=None\n",
       "    The initial intercept to warm-start the optimization.\n",
       "\n",
       "sample_weight : array-like, shape (n_samples,), default=None\n",
       "    Weights applied to individual samples.\n",
       "    If not provided, uniform weights are assumed. These weights will\n",
       "    be multiplied with class_weight (passed through the\n",
       "    constructor) if class_weight is specified.\n",
       "\n",
       "Returns\n",
       "-------\n",
       "self : object\n",
       "    Returns an instance of self.\n",
       "\u001b[0;31mFile:\u001b[0m      ~/Desktop/ClassesFall21/cs197/.env/lib/python3.9/site-packages/sklearn/linear_model/_stochastic_gradient.py\n",
       "\u001b[0;31mType:\u001b[0m      function\n"
      ]
     },
     "metadata": {},
     "output_type": "display_data"
    }
   ],
   "source": [
    "?SGDClassifier.fit"
   ]
  },
  {
   "cell_type": "code",
   "execution_count": null,
   "id": "002596c6-57da-4207-b61b-0b90ef2fe018",
   "metadata": {},
   "outputs": [],
   "source": []
  },
  {
   "cell_type": "code",
   "execution_count": 20,
   "id": "bbb7204c-afc4-4527-8d3f-7a33452c38b0",
   "metadata": {},
   "outputs": [
    {
     "name": "stdout",
     "output_type": "stream",
     "text": [
      "clip\n",
      "doq 63.36363636363637\n",
      "verb-weight 80.99301784328937\n",
      "verb-speed 70.71167883211679\n",
      "verb-size 82.84584980237155\n",
      "verb-strength 77.37288135593221\n",
      "verb-rigidness 73.06711979609176\n",
      "prost 91.94236926360726\n",
      "roberta_small\n",
      "doq 61.0\n",
      "verb-weight 69.27851047323506\n",
      "verb-speed 60.31021897810219\n",
      "verb-size 69.56521739130434\n",
      "verb-strength 64.40677966101696\n",
      "verb-rigidness 61.34239592183518\n",
      "prost 84.15154749199573\n"
     ]
    }
   ],
   "source": [
    "accs_embed = {}\n",
    "\n",
    "# Non-pooled evaluation\n",
    "for model in ['clip', 'roberta_small']:\n",
    "    print(model)\n",
    "    doq_acc = None\n",
    "    prost_acc = None\n",
    "    try:\n",
    "        doq_acc = run_model(model, doq['train']['labels'], doq['train']['sents'], doq['test']['labels'], doq['test']['sents'], try_encoder=False, verbose=False)\n",
    "        print(\"doq\", doq_acc)\n",
    "        verb_acc = {}\n",
    "        for attr in verb:\n",
    "            verb_acc[attr] = run_model(model, verb[attr]['train']['labels'], verb[attr]['train']['sents'], verb[attr]['test']['labels'], verb[attr]['test']['sents'], try_encoder=False, verbose=False)\n",
    "            print(f\"verb-{attr}\", verb_acc[attr])\n",
    "        prost_acc = evaluate_prost(model)\n",
    "        print(\"prost\", prost_acc)\n",
    "    except Exception as e:\n",
    "        print(e)\n",
    "    \n",
    "    accs_embed[model] = {\n",
    "        'doq': doq_acc,\n",
    "        'prost': prost_acc,\n",
    "    }\n",
    "    \n",
    "    for attr in verb:\n",
    "        accs_embed[model][f'verb_{attr}'] = verb_acc[attr]"
   ]
  },
  {
   "cell_type": "code",
   "execution_count": null,
   "id": "250c0a76-3fb9-4ee5-a1a9-a8f6e4f463ed",
   "metadata": {},
   "outputs": [],
   "source": []
  },
  {
   "cell_type": "code",
   "execution_count": null,
   "id": "08e5778f-c633-4405-b994-500b65493281",
   "metadata": {},
   "outputs": [],
   "source": []
  },
  {
   "cell_type": "code",
   "execution_count": null,
   "id": "fff07962-0321-4703-be2d-7bd18c145697",
   "metadata": {},
   "outputs": [],
   "source": []
  },
  {
   "cell_type": "code",
   "execution_count": 28,
   "id": "3e1560c7-92a5-4fd3-b9be-9dcd76d85a37",
   "metadata": {},
   "outputs": [],
   "source": [
    "accs_df = accs_df.T"
   ]
  },
  {
   "cell_type": "code",
   "execution_count": 17,
   "id": "2c7209b1-491c-424a-9518-7f910bf14fe1",
   "metadata": {},
   "outputs": [],
   "source": [
    "multimodal = (accs_df['clip'] + accs_df['lxmert'] + accs_df['visualbert'])/3\n",
    "unimodal = (accs_df['roberta'] + accs_df['t5'] + accs_df['roberta_small'])/3"
   ]
  },
  {
   "cell_type": "code",
   "execution_count": 18,
   "id": "c4392251-5b3b-4738-a3ff-b48a14cc0b89",
   "metadata": {},
   "outputs": [
    {
     "data": {
      "text/html": [
       "<div>\n",
       "<style scoped>\n",
       "    .dataframe tbody tr th:only-of-type {\n",
       "        vertical-align: middle;\n",
       "    }\n",
       "\n",
       "    .dataframe tbody tr th {\n",
       "        vertical-align: top;\n",
       "    }\n",
       "\n",
       "    .dataframe thead th {\n",
       "        text-align: right;\n",
       "    }\n",
       "</style>\n",
       "<table border=\"1\" class=\"dataframe\">\n",
       "  <thead>\n",
       "    <tr style=\"text-align: right;\">\n",
       "      <th></th>\n",
       "      <th>doq</th>\n",
       "      <th>prost</th>\n",
       "      <th>verb_weight</th>\n",
       "      <th>verb_speed</th>\n",
       "      <th>verb_size</th>\n",
       "      <th>verb_strength</th>\n",
       "      <th>verb_rigidness</th>\n",
       "    </tr>\n",
       "  </thead>\n",
       "  <tbody>\n",
       "    <tr>\n",
       "      <th>visual+language</th>\n",
       "      <td>63.484848</td>\n",
       "      <td>34.009249</td>\n",
       "      <td>81.872252</td>\n",
       "      <td>71.472019</td>\n",
       "      <td>82.29249</td>\n",
       "      <td>77.966102</td>\n",
       "      <td>71.651090</td>\n",
       "    </tr>\n",
       "    <tr>\n",
       "      <th>language</th>\n",
       "      <td>62.606061</td>\n",
       "      <td>49.501957</td>\n",
       "      <td>78.019136</td>\n",
       "      <td>68.248175</td>\n",
       "      <td>78.26087</td>\n",
       "      <td>73.389831</td>\n",
       "      <td>68.677428</td>\n",
       "    </tr>\n",
       "  </tbody>\n",
       "</table>\n",
       "</div>"
      ],
      "text/plain": [
       "                       doq      prost  verb_weight  verb_speed  verb_size  \\\n",
       "visual+language  63.484848  34.009249    81.872252   71.472019   82.29249   \n",
       "language         62.606061  49.501957    78.019136   68.248175   78.26087   \n",
       "\n",
       "                 verb_strength  verb_rigidness  \n",
       "visual+language      77.966102       71.651090  \n",
       "language             73.389831       68.677428  "
      ]
     },
     "execution_count": 18,
     "metadata": {},
     "output_type": "execute_result"
    }
   ],
   "source": [
    "models = pd.concat([multimodal, unimodal], axis=1)\n",
    "models.columns =['visual+language', 'language']\n",
    "models.T"
   ]
  },
  {
   "cell_type": "code",
   "execution_count": null,
   "id": "c143b410-1e4a-41c0-a0e8-4380c93376b1",
   "metadata": {},
   "outputs": [],
   "source": []
  },
  {
   "cell_type": "code",
   "execution_count": null,
   "id": "27cb3835-85ee-47a7-9ad3-ae9b88b08dab",
   "metadata": {},
   "outputs": [],
   "source": []
  },
  {
   "cell_type": "code",
   "execution_count": 27,
   "id": "8f91ecd8-2aa0-4c04-801a-eabca5269cfd",
   "metadata": {},
   "outputs": [],
   "source": [
    "from sklearn.decomposition import PCA"
   ]
  },
  {
   "cell_type": "code",
   "execution_count": 31,
   "id": "b16ad7f0-adcd-419a-9b2e-24a8d6bccd79",
   "metadata": {},
   "outputs": [],
   "source": [
    "m = WordModel('roberta')\n",
    "\n",
    "train_features = m.get_features(prost['train']['sents'])"
   ]
  },
  {
   "cell_type": "code",
   "execution_count": 34,
   "id": "1e4d08e7-b9c0-48f6-b26e-0d41a70b8ad4",
   "metadata": {},
   "outputs": [
    {
     "data": {
      "text/plain": [
       "torch.Size([2000, 15360])"
      ]
     },
     "execution_count": 34,
     "metadata": {},
     "output_type": "execute_result"
    }
   ],
   "source": [
    "train_features.shape"
   ]
  },
  {
   "cell_type": "code",
   "execution_count": null,
   "id": "167e1087-d1f6-45c3-9a3a-a542d471e864",
   "metadata": {},
   "outputs": [],
   "source": []
  }
 ],
 "metadata": {
  "kernelspec": {
   "display_name": "cs197",
   "language": "python",
   "name": "cs197"
  },
  "language_info": {
   "codemirror_mode": {
    "name": "ipython",
    "version": 3
   },
   "file_extension": ".py",
   "mimetype": "text/x-python",
   "name": "python",
   "nbconvert_exporter": "python",
   "pygments_lexer": "ipython3",
   "version": "3.9.7"
  }
 },
 "nbformat": 4,
 "nbformat_minor": 5
}
