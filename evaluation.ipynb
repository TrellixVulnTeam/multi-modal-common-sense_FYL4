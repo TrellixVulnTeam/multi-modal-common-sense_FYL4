{
 "cells": [
  {
   "cell_type": "code",
   "execution_count": 1,
   "id": "fddb2beb-cf9f-4064-8fd1-7fdb9c92d2fd",
   "metadata": {},
   "outputs": [],
   "source": [
    "import torch\n",
    "import numpy as np\n",
    "import pandas as pd\n",
    "\n",
    "from train_model import run_model, MODELS, WordModel, train_model, test_model\n",
    "from data_processor import DoqProcessor, VerbProcessor, ProstProcessor"
   ]
  },
  {
   "cell_type": "code",
   "execution_count": 37,
   "id": "652652bd-62a2-46d9-9c73-89ed8caa1fe2",
   "metadata": {},
   "outputs": [],
   "source": [
    "doq_train = DoqProcessor('train')\n",
    "train_labels, _, train_sentences, _ = doq_train.forward()\n",
    "\n",
    "doq_test = DoqProcessor('test')\n",
    "test_labels, _, test_sentences, _ = doq_test.forward()\n",
    "\n",
    "doq = {}\n",
    "doq['train'] = {\n",
    "    'labels': train_labels,\n",
    "    'sents': train_sentences,\n",
    "}\n",
    "\n",
    "doq['test'] = {\n",
    "    'labels': test_labels,\n",
    "    'sents': test_sentences,\n",
    "}"
   ]
  },
  {
   "cell_type": "code",
   "execution_count": 38,
   "id": "dc4fa3d1-9266-43c8-9ea3-f4f3d5cce48d",
   "metadata": {
    "tags": []
   },
   "outputs": [
    {
     "name": "stderr",
     "output_type": "stream",
     "text": [
      "Using custom data configuration default\n",
      "Reusing dataset prost (/Users/g/.cache/huggingface/datasets/corypaik___prost/default/1.0.1/5723fec956da2bd5e34a0ac6f53f398b771fbb743fc979c6a50b513888d537c7)\n",
      "Loading cached split indices for dataset at /Users/g/.cache/huggingface/datasets/corypaik___prost/default/1.0.1/5723fec956da2bd5e34a0ac6f53f398b771fbb743fc979c6a50b513888d537c7/cache-556ac204ac069f7c.arrow and /Users/g/.cache/huggingface/datasets/corypaik___prost/default/1.0.1/5723fec956da2bd5e34a0ac6f53f398b771fbb743fc979c6a50b513888d537c7/cache-746b2ee70a966be3.arrow\n",
      "Using custom data configuration default\n",
      "Reusing dataset prost (/Users/g/.cache/huggingface/datasets/corypaik___prost/default/1.0.1/5723fec956da2bd5e34a0ac6f53f398b771fbb743fc979c6a50b513888d537c7)\n",
      "Loading cached split indices for dataset at /Users/g/.cache/huggingface/datasets/corypaik___prost/default/1.0.1/5723fec956da2bd5e34a0ac6f53f398b771fbb743fc979c6a50b513888d537c7/cache-556ac204ac069f7c.arrow and /Users/g/.cache/huggingface/datasets/corypaik___prost/default/1.0.1/5723fec956da2bd5e34a0ac6f53f398b771fbb743fc979c6a50b513888d537c7/cache-746b2ee70a966be3.arrow\n"
     ]
    }
   ],
   "source": [
    "prost_train = ProstProcessor('train', batch_size=0, attribute='all')\n",
    "train_labels, _, train_sentences, _ = prost_train.forward()\n",
    "\n",
    "prost_test = ProstProcessor('test', batch_size=0, attribute='all')\n",
    "test_labels, _, test_sentences, _ = prost_test.forward()\n",
    "\n",
    "prost = {}\n",
    "prost['train'] = {\n",
    "    'labels': train_labels,\n",
    "    'sents': train_sentences,\n",
    "}\n",
    "\n",
    "prost['test'] = {\n",
    "    'labels': test_labels[:1000],\n",
    "    'sents': test_sentences[:1000],\n",
    "}"
   ]
  },
  {
   "cell_type": "code",
   "execution_count": null,
   "id": "7a2ff5a6-68ce-4a58-86b0-bcfa3383578a",
   "metadata": {},
   "outputs": [],
   "source": [
    "verb = {}\n",
    "for attr in ['weight', 'speed', 'size', 'strength', 'rigidness']:\n",
    "    verb_train = VerbProcessor(attr, 20, 'train', 0)\n",
    "    train_labels, _, train_sentences, _ = verb_train.forward()\n",
    "\n",
    "    verb_test = VerbProcessor(attr, 20, 'test', 0)\n",
    "    test_labels, _, test_sentences, _ = verb_test.forward()\n",
    "\n",
    "    verb[attr] = {}\n",
    "    verb[attr]['train'] = {\n",
    "        'labels': train_labels,\n",
    "        'sents': train_sentences,\n",
    "    }\n",
    "\n",
    "    verb[attr]['test'] = {\n",
    "        'labels': test_labels,\n",
    "        'sents': test_sentences,\n",
    "    }"
   ]
  },
  {
   "cell_type": "code",
   "execution_count": 4,
   "id": "737ce818-745b-405a-9e6e-c52786dbecee",
   "metadata": {},
   "outputs": [],
   "source": [
    "verb = {}\n",
    "for attr in ['weight', 'speed', 'size', 'strength', 'rigidness']:\n",
    "    verb_train = VerbProcessor(attr, 20, 'train', 0)\n",
    "    train_labels, _, train_sentences, _ = verb_train.forward()\n",
    "\n",
    "    verb_test = VerbProcessor(attr, 20, 'test', 0)\n",
    "    test_labels, _, test_sentences, _ = verb_test.forward()\n",
    "\n",
    "    verb[attr] = {}\n",
    "    verb[attr]['train'] = {\n",
    "        'labels': train_labels,\n",
    "        'sents': train_sentences,\n",
    "    }\n",
    "\n",
    "    verb[attr]['test'] = {\n",
    "        'labels': test_labels,\n",
    "        'sents': test_sentences,\n",
    "    }"
   ]
  },
  {
   "cell_type": "code",
   "execution_count": 1,
   "id": "9f1b3f82-f48e-4103-b3cd-5b6155d556da",
   "metadata": {},
   "outputs": [],
   "source": [
    "def evaluate_prost(model, try_encoder=True):    \n",
    "    m = WordModel(model, try_encoder=try_encoder)\n",
    "    train_features = m.get_features(prost['train']['sents'])\n",
    "    test_features = m.get_features(prost['test']['sents'])\n",
    "    \n",
    "    lr = train_model(train_features, prost['train']['labels'])\n",
    "    acc, probs = test_model(lr, test_features, prost['test']['labels'], return_probs=True)\n",
    "    \n",
    "    assert len(probs) % 4 == 0\n",
    "    \n",
    "    correct_count = 0.0\n",
    "    \n",
    "    for i in range(0, probs.shape[0], 4):\n",
    "        example = probs[i:i+4]\n",
    "        true_pred = np.max(example, axis=0)\n",
    "        \n",
    "        for j, ex in enumerate(example):\n",
    "            if ex[1] == true_pred[1] and prost['test']['labels'][i + j]:\n",
    "                correct_count += 1\n",
    "                break\n",
    "    \n",
    "    return correct_count / (probs.shape[0] / 4) * 100"
   ]
  },
  {
   "cell_type": "code",
   "execution_count": 2,
   "id": "dc1b2424-b107-4d67-ae4d-e96e65dee8ce",
   "metadata": {
    "tags": []
   },
   "outputs": [
    {
     "ename": "NameError",
     "evalue": "name 'MODELS' is not defined",
     "output_type": "error",
     "traceback": [
      "\u001b[0;31m---------------------------------------------------------------------------\u001b[0m",
      "\u001b[0;31mNameError\u001b[0m                                 Traceback (most recent call last)",
      "\u001b[0;32m/var/folders/nb/76jp2vmd3yg4dq6tm9mcsddh0000gn/T/ipykernel_51090/2741834764.py\u001b[0m in \u001b[0;36m<module>\u001b[0;34m\u001b[0m\n\u001b[1;32m      1\u001b[0m \u001b[0;31m# Non-pooled evaluation\u001b[0m\u001b[0;34m\u001b[0m\u001b[0;34m\u001b[0m\u001b[0m\n\u001b[0;32m----> 2\u001b[0;31m \u001b[0;32mfor\u001b[0m \u001b[0mmodel\u001b[0m \u001b[0;32min\u001b[0m \u001b[0mMODELS\u001b[0m\u001b[0;34m:\u001b[0m\u001b[0;34m\u001b[0m\u001b[0;34m\u001b[0m\u001b[0m\n\u001b[0m\u001b[1;32m      3\u001b[0m     \u001b[0mprint\u001b[0m\u001b[0;34m(\u001b[0m\u001b[0mmodel\u001b[0m\u001b[0;34m)\u001b[0m\u001b[0;34m\u001b[0m\u001b[0;34m\u001b[0m\u001b[0m\n\u001b[1;32m      4\u001b[0m     \u001b[0mdoq_acc\u001b[0m \u001b[0;34m=\u001b[0m \u001b[0;32mNone\u001b[0m\u001b[0;34m\u001b[0m\u001b[0;34m\u001b[0m\u001b[0m\n\u001b[1;32m      5\u001b[0m     \u001b[0mprost_acc\u001b[0m \u001b[0;34m=\u001b[0m \u001b[0;32mNone\u001b[0m\u001b[0;34m\u001b[0m\u001b[0;34m\u001b[0m\u001b[0m\n",
      "\u001b[0;31mNameError\u001b[0m: name 'MODELS' is not defined"
     ]
    }
   ],
   "source": [
    "# Non-pooled evaluation\n",
    "for model in MODELS:\n",
    "    print(model)\n",
    "    doq_acc = None\n",
    "    prost_acc = None\n",
    "    try:\n",
    "        doq_acc = run_model(model, doq['train']['labels'], doq['train']['sents'], doq['test']['labels'], doq['test']['sents'], try_encoder=True, verbose=False)\n",
    "        print(\"doq\", doq_acc)\n",
    "        verb_acc = {}\n",
    "        for attr in verb:\n",
    "            verb_acc[attr] = run_model(model, verb[attr]['train']['labels'], verb[attr]['train']['sents'], verb[attr]['test']['labels'], verb[attr]['test']['sents'], try_encoder=True, verbose=False)\n",
    "            print(f\"verb-{attr}\", verb_acc[attr])\n",
    "        prost_acc = evaluate_prost(model, try_encoder=True)\n",
    "        print(\"prost\", prost_acc)\n",
    "    except Exception as e:\n",
    "        print(e)\n",
    "    \n",
    "    model_accs[model] = {\n",
    "        'doq': doq_acc,\n",
    "        'prost': prost_acc,\n",
    "    }\n",
    "    \n",
    "    for attr in verb:\n",
    "        model_accs[model][f'verb_{attr}'] = verb_acc[attr]\n",
    "    model_accs[model]['prost'] = prost_acc"
   ]
  },
  {
   "cell_type": "code",
   "execution_count": null,
   "id": "efdd2488-8a08-4c92-ab03-f353e9cbcfe2",
   "metadata": {},
   "outputs": [],
   "source": [
    "model_accs"
   ]
  },
  {
   "cell_type": "code",
   "execution_count": 14,
   "id": "bc293cef-3693-49de-b603-acc469f4e93e",
   "metadata": {},
   "outputs": [],
   "source": [
    "df = pd.DataFrame(model_accs)"
   ]
  },
  {
   "cell_type": "code",
   "execution_count": 18,
   "id": "ed5d2d6c-65ff-437e-8eed-afec28857ba3",
   "metadata": {},
   "outputs": [
    {
     "data": {
      "text/html": [
       "<div>\n",
       "<style scoped>\n",
       "    .dataframe tbody tr th:only-of-type {\n",
       "        vertical-align: middle;\n",
       "    }\n",
       "\n",
       "    .dataframe tbody tr th {\n",
       "        vertical-align: top;\n",
       "    }\n",
       "\n",
       "    .dataframe thead th {\n",
       "        text-align: right;\n",
       "    }\n",
       "</style>\n",
       "<table border=\"1\" class=\"dataframe\">\n",
       "  <thead>\n",
       "    <tr style=\"text-align: right;\">\n",
       "      <th></th>\n",
       "      <th>doq</th>\n",
       "      <th>prost</th>\n",
       "      <th>verb_weight</th>\n",
       "      <th>verb_speed</th>\n",
       "      <th>verb_size</th>\n",
       "      <th>verb_strength</th>\n",
       "      <th>verb_rigidness</th>\n",
       "    </tr>\n",
       "  </thead>\n",
       "  <tbody>\n",
       "    <tr>\n",
       "      <th>clip</th>\n",
       "      <td>66.727273</td>\n",
       "      <td>0.336179</td>\n",
       "      <td>78.510473</td>\n",
       "      <td>69.890511</td>\n",
       "      <td>79.209486</td>\n",
       "      <td>72.966102</td>\n",
       "      <td>67.799490</td>\n",
       "    </tr>\n",
       "    <tr>\n",
       "      <th>roberta</th>\n",
       "      <td>64.000000</td>\n",
       "      <td>NaN</td>\n",
       "      <td>84.173778</td>\n",
       "      <td>75.273723</td>\n",
       "      <td>82.608696</td>\n",
       "      <td>78.559322</td>\n",
       "      <td>71.452846</td>\n",
       "    </tr>\n",
       "    <tr>\n",
       "      <th>roberta_small</th>\n",
       "      <td>59.545455</td>\n",
       "      <td>0.659552</td>\n",
       "      <td>71.683476</td>\n",
       "      <td>62.226277</td>\n",
       "      <td>72.569170</td>\n",
       "      <td>68.983051</td>\n",
       "      <td>64.401020</td>\n",
       "    </tr>\n",
       "    <tr>\n",
       "      <th>visualbert</th>\n",
       "      <td>62.818182</td>\n",
       "      <td>0.324973</td>\n",
       "      <td>80.837859</td>\n",
       "      <td>76.824818</td>\n",
       "      <td>83.873518</td>\n",
       "      <td>80.000000</td>\n",
       "      <td>74.341546</td>\n",
       "    </tr>\n",
       "  </tbody>\n",
       "</table>\n",
       "</div>"
      ],
      "text/plain": [
       "                     doq     prost  verb_weight  verb_speed  verb_size  \\\n",
       "clip           66.727273  0.336179    78.510473   69.890511  79.209486   \n",
       "roberta        64.000000       NaN    84.173778   75.273723  82.608696   \n",
       "roberta_small  59.545455  0.659552    71.683476   62.226277  72.569170   \n",
       "visualbert     62.818182  0.324973    80.837859   76.824818  83.873518   \n",
       "\n",
       "               verb_strength  verb_rigidness  \n",
       "clip               72.966102       67.799490  \n",
       "roberta            78.559322       71.452846  \n",
       "roberta_small      68.983051       64.401020  \n",
       "visualbert         80.000000       74.341546  "
      ]
     },
     "execution_count": 18,
     "metadata": {},
     "output_type": "execute_result"
    }
   ],
   "source": [
    "df.T"
   ]
  },
  {
   "cell_type": "code",
   "execution_count": 21,
   "id": "ee77e336-9244-47bf-a206-c91dbd72e174",
   "metadata": {},
   "outputs": [],
   "source": [
    "pf = df.mean(axis=1)"
   ]
  },
  {
   "cell_type": "code",
   "execution_count": 33,
   "id": "8eecce31-374b-4bb9-845d-e4820393e2a5",
   "metadata": {
    "collapsed": true,
    "jupyter": {
     "outputs_hidden": true
    },
    "tags": []
   },
   "outputs": [
    {
     "ename": "TypeError",
     "evalue": "unsupported operand type(s) for +: 'method' and 'float'",
     "output_type": "error",
     "traceback": [
      "\u001b[0;31m---------------------------------------------------------------------------\u001b[0m",
      "\u001b[0;31mTypeError\u001b[0m                                 Traceback (most recent call last)",
      "\u001b[0;32m/var/folders/nb/76jp2vmd3yg4dq6tm9mcsddh0000gn/T/ipykernel_29763/1122273076.py\u001b[0m in \u001b[0;36m<module>\u001b[0;34m\u001b[0m\n\u001b[0;32m----> 1\u001b[0;31m \u001b[0mmultimodal\u001b[0m \u001b[0;34m=\u001b[0m \u001b[0mdf\u001b[0m\u001b[0;34m.\u001b[0m\u001b[0mclip\u001b[0m \u001b[0;34m+\u001b[0m \u001b[0mdf\u001b[0m\u001b[0;34m.\u001b[0m\u001b[0mvisualbert\u001b[0m\u001b[0;34m\u001b[0m\u001b[0;34m\u001b[0m\u001b[0m\n\u001b[0m",
      "\u001b[0;32m~/Desktop/ClassesFall21/cs197/.env/lib/python3.9/site-packages/pandas/core/ops/common.py\u001b[0m in \u001b[0;36mnew_method\u001b[0;34m(self, other)\u001b[0m\n\u001b[1;32m     67\u001b[0m         \u001b[0mother\u001b[0m \u001b[0;34m=\u001b[0m \u001b[0mitem_from_zerodim\u001b[0m\u001b[0;34m(\u001b[0m\u001b[0mother\u001b[0m\u001b[0;34m)\u001b[0m\u001b[0;34m\u001b[0m\u001b[0;34m\u001b[0m\u001b[0m\n\u001b[1;32m     68\u001b[0m \u001b[0;34m\u001b[0m\u001b[0m\n\u001b[0;32m---> 69\u001b[0;31m         \u001b[0;32mreturn\u001b[0m \u001b[0mmethod\u001b[0m\u001b[0;34m(\u001b[0m\u001b[0mself\u001b[0m\u001b[0;34m,\u001b[0m \u001b[0mother\u001b[0m\u001b[0;34m)\u001b[0m\u001b[0;34m\u001b[0m\u001b[0;34m\u001b[0m\u001b[0m\n\u001b[0m\u001b[1;32m     70\u001b[0m \u001b[0;34m\u001b[0m\u001b[0m\n\u001b[1;32m     71\u001b[0m     \u001b[0;32mreturn\u001b[0m \u001b[0mnew_method\u001b[0m\u001b[0;34m\u001b[0m\u001b[0;34m\u001b[0m\u001b[0m\n",
      "\u001b[0;32m~/Desktop/ClassesFall21/cs197/.env/lib/python3.9/site-packages/pandas/core/arraylike.py\u001b[0m in \u001b[0;36m__radd__\u001b[0;34m(self, other)\u001b[0m\n\u001b[1;32m     94\u001b[0m     \u001b[0;34m@\u001b[0m\u001b[0munpack_zerodim_and_defer\u001b[0m\u001b[0;34m(\u001b[0m\u001b[0;34m\"__radd__\"\u001b[0m\u001b[0;34m)\u001b[0m\u001b[0;34m\u001b[0m\u001b[0;34m\u001b[0m\u001b[0m\n\u001b[1;32m     95\u001b[0m     \u001b[0;32mdef\u001b[0m \u001b[0m__radd__\u001b[0m\u001b[0;34m(\u001b[0m\u001b[0mself\u001b[0m\u001b[0;34m,\u001b[0m \u001b[0mother\u001b[0m\u001b[0;34m)\u001b[0m\u001b[0;34m:\u001b[0m\u001b[0;34m\u001b[0m\u001b[0;34m\u001b[0m\u001b[0m\n\u001b[0;32m---> 96\u001b[0;31m         \u001b[0;32mreturn\u001b[0m \u001b[0mself\u001b[0m\u001b[0;34m.\u001b[0m\u001b[0m_arith_method\u001b[0m\u001b[0;34m(\u001b[0m\u001b[0mother\u001b[0m\u001b[0;34m,\u001b[0m \u001b[0mroperator\u001b[0m\u001b[0;34m.\u001b[0m\u001b[0mradd\u001b[0m\u001b[0;34m)\u001b[0m\u001b[0;34m\u001b[0m\u001b[0;34m\u001b[0m\u001b[0m\n\u001b[0m\u001b[1;32m     97\u001b[0m \u001b[0;34m\u001b[0m\u001b[0m\n\u001b[1;32m     98\u001b[0m     \u001b[0;34m@\u001b[0m\u001b[0munpack_zerodim_and_defer\u001b[0m\u001b[0;34m(\u001b[0m\u001b[0;34m\"__sub__\"\u001b[0m\u001b[0;34m)\u001b[0m\u001b[0;34m\u001b[0m\u001b[0;34m\u001b[0m\u001b[0m\n",
      "\u001b[0;32m~/Desktop/ClassesFall21/cs197/.env/lib/python3.9/site-packages/pandas/core/series.py\u001b[0m in \u001b[0;36m_arith_method\u001b[0;34m(self, other, op)\u001b[0m\n\u001b[1;32m   5524\u001b[0m \u001b[0;34m\u001b[0m\u001b[0m\n\u001b[1;32m   5525\u001b[0m         \u001b[0;32mwith\u001b[0m \u001b[0mnp\u001b[0m\u001b[0;34m.\u001b[0m\u001b[0merrstate\u001b[0m\u001b[0;34m(\u001b[0m\u001b[0mall\u001b[0m\u001b[0;34m=\u001b[0m\u001b[0;34m\"ignore\"\u001b[0m\u001b[0;34m)\u001b[0m\u001b[0;34m:\u001b[0m\u001b[0;34m\u001b[0m\u001b[0;34m\u001b[0m\u001b[0m\n\u001b[0;32m-> 5526\u001b[0;31m             \u001b[0mresult\u001b[0m \u001b[0;34m=\u001b[0m \u001b[0mops\u001b[0m\u001b[0;34m.\u001b[0m\u001b[0marithmetic_op\u001b[0m\u001b[0;34m(\u001b[0m\u001b[0mlvalues\u001b[0m\u001b[0;34m,\u001b[0m \u001b[0mrvalues\u001b[0m\u001b[0;34m,\u001b[0m \u001b[0mop\u001b[0m\u001b[0;34m)\u001b[0m\u001b[0;34m\u001b[0m\u001b[0;34m\u001b[0m\u001b[0m\n\u001b[0m\u001b[1;32m   5527\u001b[0m \u001b[0;34m\u001b[0m\u001b[0m\n\u001b[1;32m   5528\u001b[0m         \u001b[0;32mreturn\u001b[0m \u001b[0mself\u001b[0m\u001b[0;34m.\u001b[0m\u001b[0m_construct_result\u001b[0m\u001b[0;34m(\u001b[0m\u001b[0mresult\u001b[0m\u001b[0;34m,\u001b[0m \u001b[0mname\u001b[0m\u001b[0;34m=\u001b[0m\u001b[0mres_name\u001b[0m\u001b[0;34m)\u001b[0m\u001b[0;34m\u001b[0m\u001b[0;34m\u001b[0m\u001b[0m\n",
      "\u001b[0;32m~/Desktop/ClassesFall21/cs197/.env/lib/python3.9/site-packages/pandas/core/ops/array_ops.py\u001b[0m in \u001b[0;36marithmetic_op\u001b[0;34m(left, right, op)\u001b[0m\n\u001b[1;32m    222\u001b[0m         \u001b[0m_bool_arith_check\u001b[0m\u001b[0;34m(\u001b[0m\u001b[0mop\u001b[0m\u001b[0;34m,\u001b[0m \u001b[0mleft\u001b[0m\u001b[0;34m,\u001b[0m \u001b[0mright\u001b[0m\u001b[0;34m)\u001b[0m\u001b[0;34m\u001b[0m\u001b[0;34m\u001b[0m\u001b[0m\n\u001b[1;32m    223\u001b[0m \u001b[0;34m\u001b[0m\u001b[0m\n\u001b[0;32m--> 224\u001b[0;31m         \u001b[0mres_values\u001b[0m \u001b[0;34m=\u001b[0m \u001b[0m_na_arithmetic_op\u001b[0m\u001b[0;34m(\u001b[0m\u001b[0mleft\u001b[0m\u001b[0;34m,\u001b[0m \u001b[0mright\u001b[0m\u001b[0;34m,\u001b[0m \u001b[0mop\u001b[0m\u001b[0;34m)\u001b[0m\u001b[0;34m\u001b[0m\u001b[0;34m\u001b[0m\u001b[0m\n\u001b[0m\u001b[1;32m    225\u001b[0m \u001b[0;34m\u001b[0m\u001b[0m\n\u001b[1;32m    226\u001b[0m     \u001b[0;32mreturn\u001b[0m \u001b[0mres_values\u001b[0m\u001b[0;34m\u001b[0m\u001b[0;34m\u001b[0m\u001b[0m\n",
      "\u001b[0;32m~/Desktop/ClassesFall21/cs197/.env/lib/python3.9/site-packages/pandas/core/ops/array_ops.py\u001b[0m in \u001b[0;36m_na_arithmetic_op\u001b[0;34m(left, right, op, is_cmp)\u001b[0m\n\u001b[1;32m    164\u001b[0m \u001b[0;34m\u001b[0m\u001b[0m\n\u001b[1;32m    165\u001b[0m     \u001b[0;32mtry\u001b[0m\u001b[0;34m:\u001b[0m\u001b[0;34m\u001b[0m\u001b[0;34m\u001b[0m\u001b[0m\n\u001b[0;32m--> 166\u001b[0;31m         \u001b[0mresult\u001b[0m \u001b[0;34m=\u001b[0m \u001b[0mfunc\u001b[0m\u001b[0;34m(\u001b[0m\u001b[0mleft\u001b[0m\u001b[0;34m,\u001b[0m \u001b[0mright\u001b[0m\u001b[0;34m)\u001b[0m\u001b[0;34m\u001b[0m\u001b[0;34m\u001b[0m\u001b[0m\n\u001b[0m\u001b[1;32m    167\u001b[0m     \u001b[0;32mexcept\u001b[0m \u001b[0mTypeError\u001b[0m\u001b[0;34m:\u001b[0m\u001b[0;34m\u001b[0m\u001b[0;34m\u001b[0m\u001b[0m\n\u001b[1;32m    168\u001b[0m         \u001b[0;32mif\u001b[0m \u001b[0mis_object_dtype\u001b[0m\u001b[0;34m(\u001b[0m\u001b[0mleft\u001b[0m\u001b[0;34m)\u001b[0m \u001b[0;32mor\u001b[0m \u001b[0mis_object_dtype\u001b[0m\u001b[0;34m(\u001b[0m\u001b[0mright\u001b[0m\u001b[0;34m)\u001b[0m \u001b[0;32mand\u001b[0m \u001b[0;32mnot\u001b[0m \u001b[0mis_cmp\u001b[0m\u001b[0;34m:\u001b[0m\u001b[0;34m\u001b[0m\u001b[0;34m\u001b[0m\u001b[0m\n",
      "\u001b[0;32m~/Desktop/ClassesFall21/cs197/.env/lib/python3.9/site-packages/pandas/core/computation/expressions.py\u001b[0m in \u001b[0;36mevaluate\u001b[0;34m(op, a, b, use_numexpr)\u001b[0m\n\u001b[1;32m    237\u001b[0m         \u001b[0;32mif\u001b[0m \u001b[0muse_numexpr\u001b[0m\u001b[0;34m:\u001b[0m\u001b[0;34m\u001b[0m\u001b[0;34m\u001b[0m\u001b[0m\n\u001b[1;32m    238\u001b[0m             \u001b[0;31m# error: \"None\" not callable\u001b[0m\u001b[0;34m\u001b[0m\u001b[0;34m\u001b[0m\u001b[0m\n\u001b[0;32m--> 239\u001b[0;31m             \u001b[0;32mreturn\u001b[0m \u001b[0m_evaluate\u001b[0m\u001b[0;34m(\u001b[0m\u001b[0mop\u001b[0m\u001b[0;34m,\u001b[0m \u001b[0mop_str\u001b[0m\u001b[0;34m,\u001b[0m \u001b[0ma\u001b[0m\u001b[0;34m,\u001b[0m \u001b[0mb\u001b[0m\u001b[0;34m)\u001b[0m  \u001b[0;31m# type: ignore[misc]\u001b[0m\u001b[0;34m\u001b[0m\u001b[0;34m\u001b[0m\u001b[0m\n\u001b[0m\u001b[1;32m    240\u001b[0m     \u001b[0;32mreturn\u001b[0m \u001b[0m_evaluate_standard\u001b[0m\u001b[0;34m(\u001b[0m\u001b[0mop\u001b[0m\u001b[0;34m,\u001b[0m \u001b[0mop_str\u001b[0m\u001b[0;34m,\u001b[0m \u001b[0ma\u001b[0m\u001b[0;34m,\u001b[0m \u001b[0mb\u001b[0m\u001b[0;34m)\u001b[0m\u001b[0;34m\u001b[0m\u001b[0;34m\u001b[0m\u001b[0m\n\u001b[1;32m    241\u001b[0m \u001b[0;34m\u001b[0m\u001b[0m\n",
      "\u001b[0;32m~/Desktop/ClassesFall21/cs197/.env/lib/python3.9/site-packages/pandas/core/computation/expressions.py\u001b[0m in \u001b[0;36m_evaluate_standard\u001b[0;34m(op, op_str, a, b)\u001b[0m\n\u001b[1;32m     67\u001b[0m     \u001b[0;32mif\u001b[0m \u001b[0m_TEST_MODE\u001b[0m\u001b[0;34m:\u001b[0m\u001b[0;34m\u001b[0m\u001b[0;34m\u001b[0m\u001b[0m\n\u001b[1;32m     68\u001b[0m         \u001b[0m_store_test_result\u001b[0m\u001b[0;34m(\u001b[0m\u001b[0;32mFalse\u001b[0m\u001b[0;34m)\u001b[0m\u001b[0;34m\u001b[0m\u001b[0;34m\u001b[0m\u001b[0m\n\u001b[0;32m---> 69\u001b[0;31m     \u001b[0;32mreturn\u001b[0m \u001b[0mop\u001b[0m\u001b[0;34m(\u001b[0m\u001b[0ma\u001b[0m\u001b[0;34m,\u001b[0m \u001b[0mb\u001b[0m\u001b[0;34m)\u001b[0m\u001b[0;34m\u001b[0m\u001b[0;34m\u001b[0m\u001b[0m\n\u001b[0m\u001b[1;32m     70\u001b[0m \u001b[0;34m\u001b[0m\u001b[0m\n\u001b[1;32m     71\u001b[0m \u001b[0;34m\u001b[0m\u001b[0m\n",
      "\u001b[0;32m~/Desktop/ClassesFall21/cs197/.env/lib/python3.9/site-packages/pandas/core/roperator.py\u001b[0m in \u001b[0;36mradd\u001b[0;34m(left, right)\u001b[0m\n\u001b[1;32m      7\u001b[0m \u001b[0;34m\u001b[0m\u001b[0m\n\u001b[1;32m      8\u001b[0m \u001b[0;32mdef\u001b[0m \u001b[0mradd\u001b[0m\u001b[0;34m(\u001b[0m\u001b[0mleft\u001b[0m\u001b[0;34m,\u001b[0m \u001b[0mright\u001b[0m\u001b[0;34m)\u001b[0m\u001b[0;34m:\u001b[0m\u001b[0;34m\u001b[0m\u001b[0;34m\u001b[0m\u001b[0m\n\u001b[0;32m----> 9\u001b[0;31m     \u001b[0;32mreturn\u001b[0m \u001b[0mright\u001b[0m \u001b[0;34m+\u001b[0m \u001b[0mleft\u001b[0m\u001b[0;34m\u001b[0m\u001b[0;34m\u001b[0m\u001b[0m\n\u001b[0m\u001b[1;32m     10\u001b[0m \u001b[0;34m\u001b[0m\u001b[0m\n\u001b[1;32m     11\u001b[0m \u001b[0;34m\u001b[0m\u001b[0m\n",
      "\u001b[0;31mTypeError\u001b[0m: unsupported operand type(s) for +: 'method' and 'float'"
     ]
    }
   ],
   "source": [
    "multimodal = df.clip + df.visualbert"
   ]
  },
  {
   "cell_type": "code",
   "execution_count": 50,
   "id": "194bb468-c33d-449f-af94-6775ea291dc9",
   "metadata": {},
   "outputs": [],
   "source": [
    "pf = pf.T"
   ]
  },
  {
   "cell_type": "code",
   "execution_count": 54,
   "id": "0f12000d-2cb0-412c-b667-a5d1adae69ec",
   "metadata": {},
   "outputs": [],
   "source": [
    "multimodal = (pf['clip'] + pf['visualbert'])/2\n",
    "unimodal = (pf['roberta'] + pf['roberta_small'])/2"
   ]
  },
  {
   "cell_type": "code",
   "execution_count": 69,
   "id": "44445d15-ac19-486c-9180-4a74d65cb2a2",
   "metadata": {},
   "outputs": [
    {
     "data": {
      "text/html": [
       "<div>\n",
       "<style scoped>\n",
       "    .dataframe tbody tr th:only-of-type {\n",
       "        vertical-align: middle;\n",
       "    }\n",
       "\n",
       "    .dataframe tbody tr th {\n",
       "        vertical-align: top;\n",
       "    }\n",
       "\n",
       "    .dataframe thead th {\n",
       "        text-align: right;\n",
       "    }\n",
       "</style>\n",
       "<table border=\"1\" class=\"dataframe\">\n",
       "  <thead>\n",
       "    <tr style=\"text-align: right;\">\n",
       "      <th></th>\n",
       "      <th>doq</th>\n",
       "      <th>prost</th>\n",
       "      <th>verb_weight</th>\n",
       "      <th>verb_speed</th>\n",
       "      <th>verb_size</th>\n",
       "      <th>verb_strength</th>\n",
       "      <th>verb_rigidness</th>\n",
       "    </tr>\n",
       "  </thead>\n",
       "  <tbody>\n",
       "    <tr>\n",
       "      <th>visual+language</th>\n",
       "      <td>64.772727</td>\n",
       "      <td>33.057631</td>\n",
       "      <td>79.674166</td>\n",
       "      <td>73.357664</td>\n",
       "      <td>81.541502</td>\n",
       "      <td>76.483051</td>\n",
       "      <td>71.070518</td>\n",
       "    </tr>\n",
       "    <tr>\n",
       "      <th>language</th>\n",
       "      <td>61.772727</td>\n",
       "      <td>65.955176</td>\n",
       "      <td>77.928627</td>\n",
       "      <td>68.750000</td>\n",
       "      <td>77.588933</td>\n",
       "      <td>73.771186</td>\n",
       "      <td>67.926933</td>\n",
       "    </tr>\n",
       "  </tbody>\n",
       "</table>\n",
       "</div>"
      ],
      "text/plain": [
       "                       doq      prost  verb_weight  verb_speed  verb_size  \\\n",
       "visual+language  64.772727  33.057631    79.674166   73.357664  81.541502   \n",
       "language         61.772727  65.955176    77.928627   68.750000  77.588933   \n",
       "\n",
       "                 verb_strength  verb_rigidness  \n",
       "visual+language      76.483051       71.070518  \n",
       "language             73.771186       67.926933  "
      ]
     },
     "execution_count": 69,
     "metadata": {},
     "output_type": "execute_result"
    }
   ],
   "source": [
    "models = pd.concat([multimodal, unimodal], axis=1)\n",
    "models.columns =['visual+language', 'language']\n",
    "models.T"
   ]
  },
  {
   "cell_type": "code",
   "execution_count": 4,
   "id": "8c6cbb87-546c-4c2a-a406-a4360b6092a4",
   "metadata": {},
   "outputs": [],
   "source": [
    "def evaluate_prost(model):\n",
    "    m = WordModel(model, try_encoder=True)\n",
    "    train_features = m.get_features(prost['train']['sents'])\n",
    "    test_features = m.get_features(prost['test']['sents'])\n",
    "    \n",
    "    lr = train_model(train_features, prost['train']['labels'])\n",
    "    acc, probs = test_model(lr, test_features, prost['test']['labels'], return_probs=True)\n",
    "    \n",
    "    assert len(probs) % 4 == 0\n",
    "    \n",
    "    correct_count = 0.0\n",
    "    \n",
    "    for i in range(0, probs.shape[0], 4):\n",
    "        example = probs[i:i+4]\n",
    "        true_pred = np.max(example, axis=0)\n",
    "        \n",
    "        for j, ex in enumerate(example):\n",
    "            if ex[1] == true_pred[1] and prost['test']['labels'][i + j]:\n",
    "                correct_count += 1\n",
    "                break\n",
    "    \n",
    "    return correct_count / (probs.shape[0] / 4) * 100"
   ]
  },
  {
   "cell_type": "code",
   "execution_count": 36,
   "id": "bbb7204c-afc4-4527-8d3f-7a33452c38b0",
   "metadata": {},
   "outputs": [
    {
     "name": "stderr",
     "output_type": "stream",
     "text": [
      "100%|███████████████████████████████████████████| 55/55 [00:01<00:00, 51.48it/s]"
     ]
    },
    {
     "name": "stdout",
     "output_type": "stream",
     "text": [
      "Expected 2D array, got 1D array instead:\n",
      "array=[-2.6959957e-11 -4.3043177e-11  2.5684849e-12 ... -1.0659615e-02\n",
      " -2.2763608e-02 -1.0907674e-02].\n",
      "Reshape your data either using array.reshape(-1, 1) if your data has a single feature or array.reshape(1, -1) if it contains a single sample.\n"
     ]
    },
    {
     "name": "stderr",
     "output_type": "stream",
     "text": [
      "\n"
     ]
    },
    {
     "ename": "NameError",
     "evalue": "name 'verb' is not defined",
     "output_type": "error",
     "traceback": [
      "\u001b[0;31m---------------------------------------------------------------------------\u001b[0m",
      "\u001b[0;31mNameError\u001b[0m                                 Traceback (most recent call last)",
      "\u001b[0;32m/var/folders/nb/76jp2vmd3yg4dq6tm9mcsddh0000gn/T/ipykernel_41672/1169996577.py\u001b[0m in \u001b[0;36m<module>\u001b[0;34m\u001b[0m\n\u001b[1;32m     22\u001b[0m     }\n\u001b[1;32m     23\u001b[0m \u001b[0;34m\u001b[0m\u001b[0m\n\u001b[0;32m---> 24\u001b[0;31m     \u001b[0;32mfor\u001b[0m \u001b[0mattr\u001b[0m \u001b[0;32min\u001b[0m \u001b[0mverb\u001b[0m\u001b[0;34m:\u001b[0m\u001b[0;34m\u001b[0m\u001b[0;34m\u001b[0m\u001b[0m\n\u001b[0m\u001b[1;32m     25\u001b[0m         \u001b[0maccs_embed\u001b[0m\u001b[0;34m[\u001b[0m\u001b[0mmodel\u001b[0m\u001b[0;34m]\u001b[0m\u001b[0;34m[\u001b[0m\u001b[0;34mf'verb_{attr}'\u001b[0m\u001b[0;34m]\u001b[0m \u001b[0;34m=\u001b[0m \u001b[0mverb_acc\u001b[0m\u001b[0;34m[\u001b[0m\u001b[0mattr\u001b[0m\u001b[0;34m]\u001b[0m\u001b[0;34m\u001b[0m\u001b[0;34m\u001b[0m\u001b[0m\n",
      "\u001b[0;31mNameError\u001b[0m: name 'verb' is not defined"
     ]
    }
   ],
   "source": [
    "accs_embed = {}\n",
    "\n",
    "# Non-pooled evaluation\n",
    "for model in ['clip', 'roberta_small']:\n",
    "    doq_acc = None\n",
    "    prost_acc = None\n",
    "    try:\n",
    "        doq_acc = run_model(model, doq['train']['labels'], doq['train']['sents'], doq['test']['labels'], doq['test']['sents'], try_encoder=False, verbose=False)\n",
    "        print(\"doq\", doq_acc)\n",
    "        verb_acc = {}\n",
    "        for attr in verb:\n",
    "            verb_acc[attr] = run_model(model, verb[attr]['train']['labels'], verb[attr]['train']['sents'], verb[attr]['test']['labels'], verb[attr]['test']['sents'], try_encoder=False, verbose=False)\n",
    "            print(f\"verb-{attr}\", verb_acc[attr])\n",
    "        prost_acc = evaluate_prost(model)\n",
    "        print(\"prost\", prost_acc)\n",
    "    except Exception as e:\n",
    "        print(e)\n",
    "    \n",
    "    accs_embed[model] = {\n",
    "        'doq': doq_acc,\n",
    "        'prost': prost_acc,\n",
    "    }\n",
    "    \n",
    "    for attr in verb:\n",
    "        accs_embed[model][f'verb_{attr}'] = verb_acc[attr]"
   ]
  },
  {
   "cell_type": "code",
   "execution_count": null,
   "id": "250c0a76-3fb9-4ee5-a1a9-a8f6e4f463ed",
   "metadata": {},
   "outputs": [],
   "source": []
  },
  {
   "cell_type": "code",
   "execution_count": null,
   "id": "08e5778f-c633-4405-b994-500b65493281",
   "metadata": {},
   "outputs": [],
   "source": []
  },
  {
   "cell_type": "code",
   "execution_count": null,
   "id": "fff07962-0321-4703-be2d-7bd18c145697",
   "metadata": {},
   "outputs": [],
   "source": []
  },
  {
   "cell_type": "code",
   "execution_count": 28,
   "id": "3e1560c7-92a5-4fd3-b9be-9dcd76d85a37",
   "metadata": {},
   "outputs": [],
   "source": [
    "accs_df = accs_df.T"
   ]
  },
  {
   "cell_type": "code",
   "execution_count": 17,
   "id": "2c7209b1-491c-424a-9518-7f910bf14fe1",
   "metadata": {},
   "outputs": [],
   "source": [
    "multimodal = (accs_df['clip'] + accs_df['lxmert'] + accs_df['visualbert'])/3\n",
    "unimodal = (accs_df['roberta'] + accs_df['t5'] + accs_df['roberta_small'])/3"
   ]
  },
  {
   "cell_type": "code",
   "execution_count": 18,
   "id": "c4392251-5b3b-4738-a3ff-b48a14cc0b89",
   "metadata": {},
   "outputs": [
    {
     "data": {
      "text/html": [
       "<div>\n",
       "<style scoped>\n",
       "    .dataframe tbody tr th:only-of-type {\n",
       "        vertical-align: middle;\n",
       "    }\n",
       "\n",
       "    .dataframe tbody tr th {\n",
       "        vertical-align: top;\n",
       "    }\n",
       "\n",
       "    .dataframe thead th {\n",
       "        text-align: right;\n",
       "    }\n",
       "</style>\n",
       "<table border=\"1\" class=\"dataframe\">\n",
       "  <thead>\n",
       "    <tr style=\"text-align: right;\">\n",
       "      <th></th>\n",
       "      <th>doq</th>\n",
       "      <th>prost</th>\n",
       "      <th>verb_weight</th>\n",
       "      <th>verb_speed</th>\n",
       "      <th>verb_size</th>\n",
       "      <th>verb_strength</th>\n",
       "      <th>verb_rigidness</th>\n",
       "    </tr>\n",
       "  </thead>\n",
       "  <tbody>\n",
       "    <tr>\n",
       "      <th>visual+language</th>\n",
       "      <td>63.484848</td>\n",
       "      <td>34.009249</td>\n",
       "      <td>81.872252</td>\n",
       "      <td>71.472019</td>\n",
       "      <td>82.29249</td>\n",
       "      <td>77.966102</td>\n",
       "      <td>71.651090</td>\n",
       "    </tr>\n",
       "    <tr>\n",
       "      <th>language</th>\n",
       "      <td>62.606061</td>\n",
       "      <td>49.501957</td>\n",
       "      <td>78.019136</td>\n",
       "      <td>68.248175</td>\n",
       "      <td>78.26087</td>\n",
       "      <td>73.389831</td>\n",
       "      <td>68.677428</td>\n",
       "    </tr>\n",
       "  </tbody>\n",
       "</table>\n",
       "</div>"
      ],
      "text/plain": [
       "                       doq      prost  verb_weight  verb_speed  verb_size  \\\n",
       "visual+language  63.484848  34.009249    81.872252   71.472019   82.29249   \n",
       "language         62.606061  49.501957    78.019136   68.248175   78.26087   \n",
       "\n",
       "                 verb_strength  verb_rigidness  \n",
       "visual+language      77.966102       71.651090  \n",
       "language             73.389831       68.677428  "
      ]
     },
     "execution_count": 18,
     "metadata": {},
     "output_type": "execute_result"
    }
   ],
   "source": [
    "models = pd.concat([multimodal, unimodal], axis=1)\n",
    "models.columns =['visual+language', 'language']\n",
    "models.T"
   ]
  },
  {
   "cell_type": "code",
   "execution_count": null,
   "id": "c143b410-1e4a-41c0-a0e8-4380c93376b1",
   "metadata": {},
   "outputs": [],
   "source": []
  },
  {
   "cell_type": "code",
   "execution_count": null,
   "id": "27cb3835-85ee-47a7-9ad3-ae9b88b08dab",
   "metadata": {},
   "outputs": [],
   "source": []
  },
  {
   "cell_type": "code",
   "execution_count": 24,
   "id": "8f91ecd8-2aa0-4c04-801a-eabca5269cfd",
   "metadata": {},
   "outputs": [],
   "source": [
    "from sklearn.decomposition import PCA\n",
    "from sklearn.linear_model import SGDClassifier\n",
    "from sklearn.preprocessing import StandardScaler\n",
    "from sklearn.pipeline import make_pipeline"
   ]
  },
  {
   "cell_type": "code",
   "execution_count": 20,
   "id": "b16ad7f0-adcd-419a-9b2e-24a8d6bccd79",
   "metadata": {
    "tags": []
   },
   "outputs": [
    {
     "name": "stderr",
     "output_type": "stream",
     "text": [
      "100%|█████████████████████████████████████████| 100/100 [01:16<00:00,  1.30it/s]\n",
      "100%|███████████████████████████████████████████| 50/50 [00:36<00:00,  1.36it/s]\n"
     ]
    }
   ],
   "source": [
    "m = WordModel('roberta', try_encoder=True)\n",
    "\n",
    "train_features = m.get_features(prost['train']['sents'])\n",
    "test_features = m.get_features(prost['test']['sents'])"
   ]
  },
  {
   "cell_type": "code",
   "execution_count": 21,
   "id": "1e4d08e7-b9c0-48f6-b26e-0d41a70b8ad4",
   "metadata": {},
   "outputs": [
    {
     "data": {
      "text/plain": [
       "(2000, 15360)"
      ]
     },
     "execution_count": 21,
     "metadata": {},
     "output_type": "execute_result"
    }
   ],
   "source": [
    "train_features.shape"
   ]
  },
  {
   "cell_type": "code",
   "execution_count": 22,
   "id": "167e1087-d1f6-45c3-9a3a-a542d471e864",
   "metadata": {},
   "outputs": [
    {
     "data": {
      "text/plain": [
       "(1000, 15360)"
      ]
     },
     "execution_count": 22,
     "metadata": {},
     "output_type": "execute_result"
    }
   ],
   "source": [
    "test_features.shape"
   ]
  },
  {
   "cell_type": "code",
   "execution_count": 25,
   "id": "258c4367-3a20-41ae-b8de-ea184e8c4e4f",
   "metadata": {},
   "outputs": [],
   "source": [
    "lr = make_pipeline(StandardScaler(), SGDClassifier(random_state=0, max_iter=1000, loss=\"log\", n_jobs=-1))\n",
    "\n",
    "with torch.no_grad():\n",
    "    lr.fit(train_features, prost['train']['labels'])"
   ]
  },
  {
   "cell_type": "code",
   "execution_count": 14,
   "id": "613b5ddb-0c18-4d76-894c-89c925394dc3",
   "metadata": {},
   "outputs": [],
   "source": []
  },
  {
   "cell_type": "code",
   "execution_count": 27,
   "id": "74d89b7b-34b7-4dc7-8b88-40d8e1a58151",
   "metadata": {},
   "outputs": [],
   "source": [
    "acc, probs = test_model(lr, test_features, prost['test']['labels'], return_probs=True, verbose=False)"
   ]
  },
  {
   "cell_type": "code",
   "execution_count": null,
   "id": "8ea0d9b9-a5fa-4e8d-ae50-3c934c634d53",
   "metadata": {},
   "outputs": [],
   "source": []
  },
  {
   "cell_type": "code",
   "execution_count": 30,
   "id": "04d9223b-05fb-4c87-9265-7b7a944f4feb",
   "metadata": {},
   "outputs": [
    {
     "name": "stdout",
     "output_type": "stream",
     "text": [
      "[1. 0.] The circle around the car takes the least amount of paint. [SEP] A person paints a circle around a car, a house, a book, and a table.\n",
      "[1. 0.] The lamps are the easiest to stack. [SEP] A person is trying to stack lamps, bottles, boxes, and eggs.\n",
      "[0. 1.] The mirror is the hardest to roll. [SEP] A person is trying to roll a mirror, a bottle, a ball, and a can.\n",
      "[1. 0.] The puck hit by the microwave slides the shortest distance. [SEP] A microwave, a brick, a leaf, and an egg moving at identical speeds each collide with a static hockey puck.\n",
      "[1. 0.] The side of the seesaw with the coin moves up. [SEP] A coin and a brick are placed in baskets on either end of a perfectly balanced seesaw.\n",
      "[1.00000000e+000 1.49446914e-161] The staircase leading to the top of the book is the easiest to walk up. [SEP] There are four staircases. The first leads to the top of a book, the second leads to the top of a mountain, the third leads to the top of a table, and the fourth leads to the top of a microwave.\n",
      "[1.39690843e-06 9.99998603e-01] The ball dropped onto the rubber bounces the fewest times. [SEP] A person is trying to bounce a rubber ball. They drop a first ball onto rubber, a second ball onto concrete, a third ball onto foam, and a fourth ball onto steel.\n",
      "[1.00000000e+000 1.37416735e-229] The ball dropped onto the snow bounces the most times. [SEP] A person is trying to bounce a rubber ball. They drop a first ball onto snow, a second ball onto concrete, a third ball onto leaves, and a fourth ball onto grass.\n",
      "[0. 1.] The ball dropped onto the leaves bounces the most times. [SEP] A person is trying to bounce a rubber ball. They drop a first ball onto rubber, a second ball onto leaves, a third ball onto grass, and a fourth ball onto carpet.\n",
      "[1. 0.] The ball dropped onto the grass bounces the most times. [SEP] A person is trying to bounce a rubber ball. They drop a first ball onto grass, a second ball onto brick, a third ball onto snow, and a fourth ball onto leaves.\n",
      "[1. 0.] The surface covered with frost is the hardest for the brick to slide across. [SEP] A person is sliding four bricks across four hard surfaces. The first surface is covered with frost, the second surface is covered with gravel, the third surface is covered with oil, and the fourth surface is covered with ice.\n",
      "[1.00000000e+000 1.64971193e-138] The eggs are the easiest to stack. [SEP] A person is trying to stack eggs, plates, flowers, and lamps.\n",
      "[1.00000000e+00 3.09562723e-91] The can is the hardest to roll. [SEP] A person is trying to roll a can, a book, an apple, and an egg.\n",
      "[1. 0.] The ball dropped onto the brick bounces the fewest times. [SEP] A person is trying to bounce a rubber ball. They drop a first ball onto brick, a second ball onto concrete, a third ball onto steel, and a fourth ball onto grass.\n",
      "[1.00000000e+00 4.74031762e-60] The lamps are the hardest to stack. [SEP] A person is trying to stack lamps, books, boxes, and coins.\n",
      "[1. 0.] The microwave takes the shortest amount of time to walk around. [SEP] Four people are walking at identical speeds. The first walks around a microwave, the second walks around a mountain, the third walks around a house, and the fourth walks around a car.\n",
      "[1. 0.] The pile of sugar is the easiest to move. [SEP] A person is trying to move a pile of sugar, a pile of salt, a pile of blocks, and a pile of flour from one side of a room to the other using only one hand.\n",
      "[1. 0.] The shirt is the most likely to break. [SEP] A person drops a shirt, a ball, an egg, and a pen from a balcony.\n",
      "[1. 0.] The pile of balls is the hardest to move. [SEP] A person is trying to move a pile of balls, a pile of books, a pile of flowers, and a pile of flour from one side of a room to the other using only one hand.\n",
      "[1. 0.] The boxes are the hardest to stack. [SEP] A person is trying to stack boxes, blocks, books, and bottles.\n",
      "[0. 1.] The ball dropped onto the asphalt bounces the most times. [SEP] A person is trying to bounce a rubber ball. They drop a first ball onto asphalt, a second ball onto foam, a third ball onto carpet, and a fourth ball onto leaves.\n",
      "[1.00000000e+000 3.42945131e-307] The surface covered with gravel is the easiest for the brick to slide across. [SEP] A person is sliding four bricks across four hard surfaces. The first surface is covered with gravel, the second surface is covered with oil, the third surface is covered with rubber, and the fourth surface is covered with carpet.\n",
      "[1. 0.] The can is the hardest to roll. [SEP] A person is trying to roll a can, a book, a ball, and an apple.\n",
      "[1.00000000e+000 9.28175572e-168] The blocks are the easiest to stack. [SEP] A person is trying to stack blocks, eggs, flowers, and balls.\n",
      "[1. 0.] The bottle is the hardest to roll. [SEP] A person is trying to roll a bottle, an egg, a block, and a ball.\n",
      "[1.00000000e+000 1.63481707e-303] The egg is the least likely to break. [SEP] A person drops an egg, a plate, a glass, and a ball from a balcony.\n",
      "[0. 1.] The pen is the most likely to break. [SEP] A person drops a pen, a coin, a glass, and a pillow from a balcony.\n",
      "[1. 0.] The ball dropped onto the concrete bounces the fewest times. [SEP] A person is trying to bounce a rubber ball. They drop a first ball onto concrete, a second ball onto brick, a third ball onto steel, and a fourth ball onto grass.\n",
      "[1. 0.] The coins are the hardest to stack. [SEP] A person is trying to stack coins, bottles, books, and boxes.\n",
      "[0. 1.] The puck hit by the apple slides the longest distance. [SEP] An apple, a leaf, an egg, and a brick moving at identical speeds each collide with a static hockey puck.\n",
      "[1. 0.] The side of the seesaw with the microwave moves down. [SEP] A microwave and a brick are placed in baskets on either end of a perfectly balanced seesaw.\n",
      "[1. 0.] The shirt is the most likely to break. [SEP] A person drops a shirt, a pillow, a pen, and a bottle from a balcony.\n",
      "[1. 0.] The ball dropped onto the brick bounces the fewest times. [SEP] A person is trying to bounce a rubber ball. They drop a first ball onto brick, a second ball onto rubber, a third ball onto concrete, and a fourth ball onto grass.\n",
      "[1. 0.] The balls are the easiest to stack. [SEP] A person is trying to stack balls, plates, eggs, and bottles.\n",
      "[1. 0.] The ball dropped onto the brick bounces the fewest times. [SEP] A person is trying to bounce a rubber ball. They drop a first ball onto brick, a second ball onto grass, a third ball onto steel, and a fourth ball onto rubber.\n",
      "[0. 1.] The pile of bottles is the hardest to move. [SEP] A person is trying to move a pile of bottles, a pile of flowers, a pile of balls, and a pile of rice from one side of a room to the other using only one hand.\n",
      "[1. 0.] The mirror is the easiest to roll. [SEP] A person is trying to roll a mirror, a ball, a block, and a book.\n",
      "[0. 1.] The surface covered with frost is the hardest for the brick to slide across. [SEP] A person is sliding four bricks across four hard surfaces. The first surface is covered with frost, the second surface is covered with frost, the third surface is covered with ice, and the fourth surface is covered with grass.\n",
      "[1. 0.] The egg is the easiest to roll. [SEP] A person is trying to roll an egg, a microwave, a mirror, and a block.\n",
      "[1. 0.] The ball dropped from the height of the car takes the shortest amount of time to fall. [SEP] Four balls are dropped. The first is dropped from the height equivalent of a car, the second is dropped from the height equivalent of a table, the third is dropped from the height equivalent of a mountain, and the fourth is dropped from the height equivalent of a book.\n",
      "[1. 0.] The surface covered with gravel is the easiest for the brick to slide across. [SEP] A person is sliding four bricks across four hard surfaces. The first surface is covered with gravel, the second surface is covered with grass, the third surface is covered with soap, and the fourth surface is covered with carpet.\n",
      "[2.20477801e-05 9.99977952e-01] The pen is the most likely to break. [SEP] A person drops a pen, an egg, a shirt, and a pillow from a balcony.\n",
      "[1. 0.] The ball dropped onto the carpet bounces the most times. [SEP] A person is trying to bounce a rubber ball. They drop a first ball onto rubber, a second ball onto carpet, a third ball onto leaves, and a fourth ball onto snow.\n",
      "[1. 0.] The circle around the table takes the most amount of paint. [SEP] A person paints a circle around a table, a mountain, a car, and a microwave.\n",
      "[1.00000000e+000 1.37416735e-229] The pile of sugar is the easiest to move. [SEP] A person is trying to move a pile of sugar, a pile of flowers, a pile of salt, and a pile of flour from one side of a room to the other using only one hand.\n",
      "[1.00000000e+00 2.26706576e-75] The surface covered with frost is the hardest for the brick to slide across. [SEP] A person is sliding four bricks across four hard surfaces. The first surface is covered with frost, the second surface is covered with oil, the third surface is covered with concrete, and the fourth surface is covered with grease.\n",
      "[1. 0.] The pile of bottles is the hardest to move. [SEP] A person is trying to move a pile of bottles, a pile of snow, a pile of flowers, and a pile of balls from one side of a room to the other using only one hand.\n",
      "[1. 0.] The pile of salt is the easiest to move. [SEP] A person is trying to move a pile of salt, a pile of blocks, a pile of snow, and a pile of rice from one side of a room to the other using only one hand.\n",
      "[1.00000000e+000 1.64971193e-138] The egg is the least likely to break. [SEP] A person drops an egg, a bottle, a ball, and a glass from a balcony.\n",
      "[0. 1.] The surface covered with carpet is the easiest for the brick to slide across. [SEP] A person is sliding four bricks across four hard surfaces. The first surface is covered with carpet, the second surface is covered with grease, the third surface is covered with gravel, and the fourth surface is covered with rubber.\n",
      "[1. 0.] The pile of sugar is the easiest to move. [SEP] A person is trying to move a pile of sugar, a pile of flour, a pile of blocks, and a pile of salt from one side of a room to the other using only one hand.\n",
      "[1. 0.] The ball dropped onto the brick bounces the fewest times. [SEP] A person is trying to bounce a rubber ball. They drop a first ball onto brick, a second ball onto leaves, a third ball onto concrete, and a fourth ball onto rubber.\n",
      "[1. 0.] The pile of blocks is the hardest to move. [SEP] A person is trying to move a pile of blocks, a pile of books, a pile of flour, and a pile of balls from one side of a room to the other using only one hand.\n",
      "[1.00000000e+000 1.63481707e-303] The pen is the least likely to break. [SEP] A person drops a pen, a glass, a bottle, and a plate from a balcony.\n",
      "[1. 0.] The ball is the most likely to break. [SEP] A person drops a ball, a mirror, a pillow, and a coin from a balcony.\n",
      "[0. 1.] The staircase leading to the top of the microwave is the hardest to walk up. [SEP] There are four staircases. The first leads to the top of a microwave, the second leads to the top of a table, the third leads to the top of a book, and the fourth leads to the top of a car.\n",
      "[0. 1.] The ball dropped onto the foam bounces the fewest times. [SEP] A person is trying to bounce a rubber ball. They drop a first ball onto foam, a second ball onto concrete, a third ball onto brick, and a fourth ball onto asphalt.\n",
      "[1. 0.] The ball dropped from the height of the table takes the shortest amount of time to fall. [SEP] Four balls are dropped. The first is dropped from the height equivalent of a table, the second is dropped from the height equivalent of a car, the third is dropped from the height equivalent of a book, and the fourth is dropped from the height equivalent of a house.\n",
      "[1. 0.] The side of the seesaw with the apple moves down. [SEP] An apple and a leaf are placed in baskets on either end of a perfectly balanced seesaw.\n",
      "[1. 0.] The ball dropped onto the grass bounces the most times. [SEP] A person is trying to bounce a rubber ball. They drop a first ball onto concrete, a second ball onto grass, a third ball onto leaves, and a fourth ball onto snow.\n",
      "[0. 1.] The pile of bottles is the hardest to move. [SEP] A person is trying to move a pile of bottles, a pile of books, a pile of rice, and a pile of flowers from one side of a room to the other using only one hand.\n",
      "[1. 0.] The ball dropped onto the concrete bounces the fewest times. [SEP] A person is trying to bounce a rubber ball. They drop a first ball onto concrete, a second ball onto asphalt, a third ball onto brick, and a fourth ball onto carpet.\n",
      "[1. 0.] The can is the hardest to roll. [SEP] A person is trying to roll a can, an egg, a block, and a ball.\n",
      "[1. 0.] The house takes the longest amount of time to walk around. [SEP] Four people are walking at identical speeds. The first walks around a house, the second walks around a book, the third walks around a microwave, and the fourth walks around a mountain.\n",
      "[1. 0.] The plates are the hardest to stack. [SEP] A person is trying to stack plates, balls, coins, and blocks.\n",
      "[1.00000000e+000 4.29626417e-182] The surface covered with grease is the hardest for the brick to slide across. [SEP] A person is sliding four bricks across four hard surfaces. The first surface is covered with grease, the second surface is covered with ice, the third surface is covered with gravel, and the fourth surface is covered with soap.\n",
      "[1.00000000e+00 8.64619441e-19] The pile of flowers is the hardest to move. [SEP] A person is trying to move a pile of flowers, a pile of salt, a pile of blocks, and a pile of books from one side of a room to the other using only one hand.\n",
      "[1.00000000e+000 8.23656948e-126] The surface covered with soap is the hardest for the brick to slide across. [SEP] A person is sliding four bricks across four hard surfaces. The first surface is covered with soap, the second surface is covered with soap, the third surface is covered with oil, and the fourth surface is covered with grass.\n",
      "[1.000000e+000 1.459335e-195] The book is the easiest to roll. [SEP] A person is trying to roll a book, a block, a microwave, and an apple.\n",
      "[1. 0.] The ball dropped from the height of the book takes the longest amount of time to fall. [SEP] Four balls are dropped. The first is dropped from the height equivalent of a book, the second is dropped from the height equivalent of a car, the third is dropped from the height equivalent of a mountain, and the fourth is dropped from the height equivalent of a table.\n",
      "[0. 1.] The surface covered with oil is the hardest for the brick to slide across. [SEP] A person is sliding four bricks across four hard surfaces. The first surface is covered with oil, the second surface is covered with frost, the third surface is covered with gravel, and the fourth surface is covered with soap.\n",
      "[1.0000000e+000 9.2830162e-143] The bottle is the hardest to roll. [SEP] A person is trying to roll a bottle, a ball, an egg, and a box.\n",
      "[1. 0.] The pile of blocks is the easiest to move. [SEP] A person is trying to move a pile of blocks, a pile of salt, a pile of sugar, and a pile of snow from one side of a room to the other using only one hand.\n",
      "[1. 0.] The staircase leading to the top of the table is the hardest to walk up. [SEP] There are four staircases. The first leads to the top of a table, the second leads to the top of a microwave, the third leads to the top of a book, and the fourth leads to the top of a house.\n",
      "[1. 0.] The ball dropped onto the asphalt bounces the fewest times. [SEP] A person is trying to bounce a rubber ball. They drop a first ball onto asphalt, a second ball onto rubber, a third ball onto steel, and a fourth ball onto foam.\n",
      "[0. 1.] The blocks are the easiest to stack. [SEP] A person is trying to stack blocks, lamps, bottles, and balls.\n",
      "[1. 0.] The books are the hardest to stack. [SEP] A person is trying to stack books, plates, coins, and lamps.\n",
      "[1. 0.] The balls are the easiest to stack. [SEP] A person is trying to stack balls, flowers, bottles, and boxes.\n",
      "[1. 0.] The surface covered with carpet is the easiest for the brick to slide across. [SEP] A person is sliding four bricks across four hard surfaces. The first surface is covered with carpet, the second surface is covered with ice, the third surface is covered with concrete, and the fourth surface is covered with gravel.\n",
      "[4.85326801e-09 9.99999995e-01] The flowers are the easiest to stack. [SEP] A person is trying to stack flowers, bottles, balls, and books.\n",
      "[0. 1.] The pile of blocks is the hardest to move. [SEP] A person is trying to move a pile of blocks, a pile of bottles, a pile of balls, and a pile of sugar from one side of a room to the other using only one hand.\n",
      "[1. 0.] The balls are the easiest to stack. [SEP] A person is trying to stack balls, plates, flowers, and bottles.\n",
      "[1. 0.] The boxes are the hardest to stack. [SEP] A person is trying to stack boxes, coins, flowers, and blocks.\n",
      "[1. 0.] The pillow is the most likely to break. [SEP] A person drops a pillow, a mirror, a coin, and a shirt from a balcony.\n",
      "[1.00000000e+000 1.38660046e-251] The staircase leading to the top of the house is the easiest to walk up. [SEP] There are four staircases. The first leads to the top of a house, the second leads to the top of a microwave, the third leads to the top of a table, and the fourth leads to the top of a car.\n",
      "[8.33559043e-07 9.99999166e-01] The ball dropped from the height of the house takes the longest amount of time to fall. [SEP] Four balls are dropped. The first is dropped from the height equivalent of a house, the second is dropped from the height equivalent of a microwave, the third is dropped from the height equivalent of a table, and the fourth is dropped from the height equivalent of a mountain.\n",
      "[1. 0.] The coins are the hardest to stack. [SEP] A person is trying to stack coins, plates, balls, and blocks.\n",
      "[1. 0.] The surface covered with ice is the hardest for the brick to slide across. [SEP] A person is sliding four bricks across four hard surfaces. The first surface is covered with ice, the second surface is covered with ice, the third surface is covered with grease, and the fourth surface is covered with carpet.\n",
      "[1.00000000e+000 1.64971193e-138] The coins are the hardest to stack. [SEP] A person is trying to stack coins, blocks, lamps, and boxes.\n",
      "[0. 1.] The plate is the least likely to break. [SEP] A person drops a plate, a ball, an egg, and a mirror from a balcony.\n",
      "[1. 0.] The surface covered with grease is the hardest for the brick to slide across. [SEP] A person is sliding four bricks across four hard surfaces. The first surface is covered with grease, the second surface is covered with grease, the third surface is covered with oil, and the fourth surface is covered with grass.\n",
      "[1. 0.] The books are the hardest to stack. [SEP] A person is trying to stack books, boxes, balls, and coins.\n",
      "[1.00000000e+000 3.54030645e-185] The ball dropped onto the concrete bounces the fewest times. [SEP] A person is trying to bounce a rubber ball. They drop a first ball onto concrete, a second ball onto rubber, a third ball onto asphalt, and a fourth ball onto foam.\n",
      "[1.00000000e+000 1.37416735e-229] The surface covered with ice is the hardest for the brick to slide across. [SEP] A person is sliding four bricks across four hard surfaces. The first surface is covered with ice, the second surface is covered with ice, the third surface is covered with frost, and the fourth surface is covered with rubber.\n",
      "[1. 0.] The ball dropped onto the rubber bounces the most times. [SEP] A person is trying to bounce a rubber ball. They drop a first ball onto rubber, a second ball onto leaves, a third ball onto carpet, and a fourth ball onto snow.\n",
      "[1.0000000e+00 2.3399788e-66] The surface covered with frost is the hardest for the brick to slide across. [SEP] A person is sliding four bricks across four hard surfaces. The first surface is covered with frost, the second surface is covered with ice, the third surface is covered with rubber, and the fourth surface is covered with oil.\n",
      "[1. 0.] The blocks are the hardest to stack. [SEP] A person is trying to stack blocks, bottles, books, and plates.\n",
      "[1. 0.] The coin is the least likely to break. [SEP] A person drops a coin, a mirror, a bottle, and a plate from a balcony.\n",
      "[0. 1.] The lamps are the easiest to stack. [SEP] A person is trying to stack lamps, blocks, bottles, and balls.\n",
      "[1. 0.] The ball is the most likely to break. [SEP] A person drops a ball, an egg, a shirt, and a pen from a balcony.\n",
      "[1.00000000e+000 1.00399126e-163] The pile of flowers is the hardest to move. [SEP] A person is trying to move a pile of flowers, a pile of sugar, a pile of bottles, and a pile of blocks from one side of a room to the other using only one hand.\n",
      "[1. 0.] The ball dropped onto the asphalt bounces the most times. [SEP] A person is trying to bounce a rubber ball. They drop a first ball onto asphalt, a second ball onto leaves, a third ball onto snow, and a fourth ball onto foam.\n",
      "[1. 0.] The lamps are the hardest to stack. [SEP] A person is trying to stack lamps, coins, boxes, and plates.\n",
      "[0. 1.] The pen is the most likely to break. [SEP] A person drops a pen, a pillow, a shirt, and a bottle from a balcony.\n",
      "[0. 1.] The surface covered with concrete is the easiest for the brick to slide across. [SEP] A person is sliding four bricks across four hard surfaces. The first surface is covered with concrete, the second surface is covered with grass, the third surface is covered with oil, and the fourth surface is covered with gravel.\n",
      "[1.00000000e+000 2.22815046e-224] The plates are the easiest to stack. [SEP] A person is trying to stack plates, eggs, flowers, and lamps.\n",
      "[1.00000000e+000 3.40909803e-150] The surface covered with ice is the easiest for the brick to slide across. [SEP] A person is sliding four bricks across four hard surfaces. The first surface is covered with ice, the second surface is covered with grass, the third surface is covered with carpet, and the fourth surface is covered with rubber.\n",
      "[1.00000000e+000 4.06342324e-234] The bottle is the hardest to roll. [SEP] A person is trying to roll a bottle, an egg, a can, and a microwave.\n",
      "[1.00000000e+000 1.63481707e-303] The pile of snow is the hardest to move. [SEP] A person is trying to move a pile of snow, a pile of blocks, a pile of flowers, and a pile of bottles from one side of a room to the other using only one hand.\n",
      "[1. 0.] The lamps are the easiest to stack. [SEP] A person is trying to stack lamps, eggs, bottles, and coins.\n",
      "[1. 0.] The bottles are the easiest to stack. [SEP] A person is trying to stack bottles, flowers, balls, and books.\n",
      "[0. 1.] The ball dropped from the height of the car takes the shortest amount of time to fall. [SEP] Four balls are dropped. The first is dropped from the height equivalent of a car, the second is dropped from the height equivalent of a microwave, the third is dropped from the height equivalent of a mountain, and the fourth is dropped from the height equivalent of a table.\n",
      "[1. 0.] The surface covered with gravel is the hardest for the brick to slide across. [SEP] A person is sliding four bricks across four hard surfaces. The first surface is covered with gravel, the second surface is covered with oil, the third surface is covered with frost, and the fourth surface is covered with soap.\n",
      "[4.85326801e-09 9.99999995e-01] The ball dropped from the height of the house takes the shortest amount of time to fall. [SEP] Four balls are dropped. The first is dropped from the height equivalent of a house, the second is dropped from the height equivalent of a mountain, the third is dropped from the height equivalent of a microwave, and the fourth is dropped from the height equivalent of a car.\n",
      "[1. 0.] The plates are the hardest to stack. [SEP] A person is trying to stack plates, boxes, blocks, and flowers.\n",
      "[1. 0.] The coin is the most likely to break. [SEP] A person drops a coin, a shirt, an egg, and a ball from a balcony.\n",
      "[8.55191355e-07 9.99999145e-01] The ball dropped onto the steel bounces the fewest times. [SEP] A person is trying to bounce a rubber ball. They drop a first ball onto steel, a second ball onto snow, a third ball onto brick, and a fourth ball onto concrete.\n",
      "[1.00000000e+000 2.61413124e-305] The surface covered with rubber is the easiest for the brick to slide across. [SEP] A person is sliding four bricks across four hard surfaces. The first surface is covered with rubber, the second surface is covered with gravel, the third surface is covered with soap, and the fourth surface is covered with grass.\n",
      "[1. 0.] The ball dropped onto the foam bounces the fewest times. [SEP] A person is trying to bounce a rubber ball. They drop a first ball onto foam, a second ball onto asphalt, a third ball onto rubber, and a fourth ball onto steel.\n",
      "[1. 0.] The surface covered with carpet is the easiest for the brick to slide across. [SEP] A person is sliding four bricks across four hard surfaces. The first surface is covered with carpet, the second surface is covered with gravel, the third surface is covered with rubber, and the fourth surface is covered with oil.\n",
      "[1.00000000e+000 1.15308202e-187] The ball dropped onto the foam bounces the most times. [SEP] A person is trying to bounce a rubber ball. They drop a first ball onto foam, a second ball onto brick, a third ball onto grass, and a fourth ball onto snow.\n",
      "[1. 0.] The surface covered with grass is the easiest for the brick to slide across. [SEP] A person is sliding four bricks across four hard surfaces. The first surface is covered with grass, the second surface is covered with soap, the third surface is covered with concrete, and the fourth surface is covered with carpet.\n",
      "[1. 0.] The circle around the car takes the most amount of paint. [SEP] A person paints a circle around a car, a house, a microwave, and a table.\n",
      "[1. 0.] The ball dropped onto the snow bounces the most times. [SEP] A person is trying to bounce a rubber ball. They drop a first ball onto snow, a second ball onto asphalt, a third ball onto carpet, and a fourth ball onto foam.\n",
      "[1.000000e+000 1.459335e-195] The staircase leading to the top of the book is the hardest to walk up. [SEP] There are four staircases. The first leads to the top of a book, the second leads to the top of a table, the third leads to the top of a house, and the fourth leads to the top of a mountain.\n",
      "[1.00000000e+000 4.38948656e-275] The circle around the table takes the least amount of paint. [SEP] A person paints a circle around a table, a car, a house, and a mountain.\n",
      "[1.0000000e+000 9.2830162e-143] The ball dropped from the height of the microwave takes the shortest amount of time to fall. [SEP] Four balls are dropped. The first is dropped from the height equivalent of a microwave, the second is dropped from the height equivalent of a mountain, the third is dropped from the height equivalent of a house, and the fourth is dropped from the height equivalent of a car.\n",
      "[0. 1.] The staircase leading to the top of the microwave is the hardest to walk up. [SEP] There are four staircases. The first leads to the top of a microwave, the second leads to the top of a mountain, the third leads to the top of a house, and the fourth leads to the top of a table.\n",
      "[1. 0.] The surface covered with oil is the easiest for the brick to slide across. [SEP] A person is sliding four bricks across four hard surfaces. The first surface is covered with oil, the second surface is covered with carpet, the third surface is covered with concrete, and the fourth surface is covered with gravel.\n",
      "[1. 0.] The pillow is the most likely to break. [SEP] A person drops a pillow, a shirt, a mirror, and a coin from a balcony.\n",
      "[1.00000000e+000 1.63481707e-303] The bottle is the least likely to break. [SEP] A person drops a bottle, a shirt, a plate, and a glass from a balcony.\n",
      "[0. 1.] The microwave is the easiest to roll. [SEP] A person is trying to roll a microwave, a ball, a mirror, and a box.\n",
      "[1.0000000e+00 2.3399788e-66] The ball dropped onto the grass bounces the most times. [SEP] A person is trying to bounce a rubber ball. They drop a first ball onto grass, a second ball onto concrete, a third ball onto carpet, and a fourth ball onto snow.\n",
      "[1.00000000e+00 2.26706576e-75] The surface covered with soap is the hardest for the brick to slide across. [SEP] A person is sliding four bricks across four hard surfaces. The first surface is covered with soap, the second surface is covered with soap, the third surface is covered with frost, and the fourth surface is covered with rubber.\n",
      "[1.00000000e+000 1.37416735e-229] The ball dropped onto the grass bounces the most times. [SEP] A person is trying to bounce a rubber ball. They drop a first ball onto asphalt, a second ball onto grass, a third ball onto leaves, and a fourth ball onto foam.\n",
      "[1.00000000e+000 1.49446914e-161] The surface covered with grass is the hardest for the brick to slide across. [SEP] A person is sliding four bricks across four hard surfaces. The first surface is covered with grass, the second surface is covered with soap, the third surface is covered with oil, and the fourth surface is covered with frost.\n",
      "[1. 0.] The apple is the hardest to roll. [SEP] A person is trying to roll an apple, an egg, a ball, and a mirror.\n",
      "[0. 1.] The mirror is the easiest to roll. [SEP] A person is trying to roll a mirror, a box, a microwave, and a can.\n",
      "[1. 0.] The ball dropped from the height of the mountain takes the longest amount of time to fall. [SEP] Four balls are dropped. The first is dropped from the height equivalent of a mountain, the second is dropped from the height equivalent of a car, the third is dropped from the height equivalent of a microwave, and the fourth is dropped from the height equivalent of a book.\n",
      "[1. 0.] The books are the hardest to stack. [SEP] A person is trying to stack books, balls, coins, and blocks.\n",
      "[1. 0.] The pile of books is the easiest to move. [SEP] A person is trying to move a pile of books, a pile of salt, a pile of snow, and a pile of rice from one side of a room to the other using only one hand.\n",
      "[1. 0.] The side of the seesaw with the microwave moves down. [SEP] A microwave and a coin are placed in baskets on either end of a perfectly balanced seesaw.\n",
      "[1. 0.] The staircase leading to the top of the mountain is the easiest to walk up. [SEP] There are four staircases. The first leads to the top of a mountain, the second leads to the top of a house, the third leads to the top of a table, and the fourth leads to the top of a car.\n",
      "[0. 1.] The pile of rice is the hardest to move. [SEP] A person is trying to move a pile of rice, a pile of flowers, a pile of blocks, and a pile of balls from one side of a room to the other using only one hand.\n",
      "[1. 0.] The pillow is the most likely to break. [SEP] A person drops a pillow, a plate, a ball, and a coin from a balcony.\n",
      "[3.4303671e-12 1.0000000e+00] The egg is the hardest to roll. [SEP] A person is trying to roll an egg, an apple, a ball, and a box.\n",
      "[1. 0.] The pile of rice is the hardest to move. [SEP] A person is trying to move a pile of rice, a pile of blocks, a pile of flowers, and a pile of books from one side of a room to the other using only one hand.\n",
      "[1. 0.] The bottle is the most likely to break. [SEP] A person drops a bottle, a coin, a pen, and a pillow from a balcony.\n",
      "[1. 0.] The staircase leading to the top of the car is the hardest to walk up. [SEP] There are four staircases. The first leads to the top of a car, the second leads to the top of a table, the third leads to the top of a mountain, and the fourth leads to the top of a microwave.\n",
      "[1. 0.] The side of the seesaw with the apple moves up. [SEP] An apple and a leaf are placed in baskets on either end of a perfectly balanced seesaw.\n",
      "[1. 0.] The shirt is the most likely to break. [SEP] A person drops a shirt, a pen, a pillow, and a bottle from a balcony.\n",
      "[1.83323308e-04 9.99816677e-01] The apple is the hardest to roll. [SEP] A person is trying to roll an apple, a can, a microwave, and a ball.\n",
      "[0. 1.] The ball is the most likely to break. [SEP] A person drops a ball, a pen, a coin, and a glass from a balcony.\n",
      "[1.00000000e+000 8.48384622e-210] The pile of sugar is the easiest to move. [SEP] A person is trying to move a pile of sugar, a pile of rice, a pile of blocks, and a pile of salt from one side of a room to the other using only one hand.\n",
      "[1. 0.] The pillow is the least likely to break. [SEP] A person drops a pillow, a glass, an egg, and a plate from a balcony.\n",
      "[1. 0.] The mirror is the hardest to roll. [SEP] A person is trying to roll a mirror, a bottle, an egg, and a can.\n",
      "[1. 0.] The puck hit by the coin slides the longest distance. [SEP] A coin, an apple, a microwave, and an egg moving at identical speeds each collide with a static hockey puck.\n",
      "[1. 0.] The ball dropped onto the concrete bounces the fewest times. [SEP] A person is trying to bounce a rubber ball. They drop a first ball onto concrete, a second ball onto brick, a third ball onto asphalt, and a fourth ball onto leaves.\n",
      "[1. 0.] The ball dropped from the height of the mountain takes the longest amount of time to fall. [SEP] Four balls are dropped. The first is dropped from the height equivalent of a mountain, the second is dropped from the height equivalent of a microwave, the third is dropped from the height equivalent of a house, and the fourth is dropped from the height equivalent of a table.\n",
      "[0. 1.] The bottle is the easiest to roll. [SEP] A person is trying to roll a bottle, a book, a microwave, and a mirror.\n",
      "[1.00000000e+000 1.38660046e-251] The circle around the table takes the most amount of paint. [SEP] A person paints a circle around a table, a car, a house, and a mountain.\n",
      "[1. 0.] The egg is the least likely to break. [SEP] A person drops an egg, a plate, a mirror, and a pillow from a balcony.\n",
      "[0.39642656 0.60357344] The box is the easiest to roll. [SEP] A person is trying to roll a box, a microwave, a block, and a bottle.\n",
      "[1. 0.] The shirt is the most likely to break. [SEP] A person drops a shirt, a coin, a ball, and a plate from a balcony.\n",
      "[0. 1.] The surface covered with rubber is the easiest for the brick to slide across. [SEP] A person is sliding four bricks across four hard surfaces. The first surface is covered with rubber, the second surface is covered with gravel, the third surface is covered with carpet, and the fourth surface is covered with soap.\n",
      "[0. 1.] The egg is the hardest to roll. [SEP] A person is trying to roll an egg, a ball, an apple, and a microwave.\n",
      "[1.00000000e+000 3.11311987e-200] The surface covered with gravel is the hardest for the brick to slide across. [SEP] A person is sliding four bricks across four hard surfaces. The first surface is covered with gravel, the second surface is covered with soap, the third surface is covered with frost, and the fourth surface is covered with ice.\n",
      "[1.00000000e+000 4.06342324e-234] The ball dropped onto the leaves bounces the fewest times. [SEP] A person is trying to bounce a rubber ball. They drop a first ball onto leaves, a second ball onto rubber, a third ball onto steel, and a fourth ball onto concrete.\n",
      "[1. 0.] The block is the easiest to roll. [SEP] A person is trying to roll a block, an egg, a microwave, and a box.\n",
      "[1. 0.] The ball dropped onto the snow bounces the most times. [SEP] A person is trying to bounce a rubber ball. They drop a first ball onto brick, a second ball onto snow, a third ball onto foam, and a fourth ball onto grass.\n",
      "[1. 0.] The ball dropped onto the carpet bounces the most times. [SEP] A person is trying to bounce a rubber ball. They drop a first ball onto carpet, a second ball onto foam, a third ball onto asphalt, and a fourth ball onto snow.\n",
      "[0. 1.] The side of the seesaw with the egg moves down. [SEP] An egg and a coin are placed in baskets on either end of a perfectly balanced seesaw.\n",
      "[1. 0.] The circle around the microwave takes the most amount of paint. [SEP] A person paints a circle around a microwave, a book, a mountain, and a car.\n",
      "[0. 1.] The pile of flowers is the hardest to move. [SEP] A person is trying to move a pile of flowers, a pile of blocks, a pile of balls, and a pile of flour from one side of a room to the other using only one hand.\n",
      "[1. 0.] The pile of bottles is the hardest to move. [SEP] A person is trying to move a pile of bottles, a pile of books, a pile of sugar, and a pile of flowers from one side of a room to the other using only one hand.\n",
      "[1. 0.] The pile of flowers is the hardest to move. [SEP] A person is trying to move a pile of flowers, a pile of balls, a pile of books, and a pile of snow from one side of a room to the other using only one hand.\n",
      "[1. 0.] The pen is the most likely to break. [SEP] A person drops a pen, a bottle, a ball, and a coin from a balcony.\n",
      "[0. 1.] The bottle is the hardest to roll. [SEP] A person is trying to roll a bottle, a microwave, a ball, and an apple.\n",
      "[1.00000000e+000 4.29626417e-182] The puck hit by the apple slides the longest distance. [SEP] An apple, a leaf, a microwave, and a brick moving at identical speeds each collide with a static hockey puck.\n",
      "[1.00000000e+000 8.23656948e-126] The ball dropped onto the grass bounces the most times. [SEP] A person is trying to bounce a rubber ball. They drop a first ball onto grass, a second ball onto concrete, a third ball onto foam, and a fourth ball onto leaves.\n",
      "[1. 0.] The surface covered with soap is the hardest for the brick to slide across. [SEP] A person is sliding four bricks across four hard surfaces. The first surface is covered with soap, the second surface is covered with oil, the third surface is covered with carpet, and the fourth surface is covered with grease.\n",
      "[1. 0.] The ball dropped onto the grass bounces the most times. [SEP] A person is trying to bounce a rubber ball. They drop a first ball onto concrete, a second ball onto grass, a third ball onto foam, and a fourth ball onto carpet.\n",
      "[0.00101284 0.99898716] The pile of snow is the easiest to move. [SEP] A person is trying to move a pile of snow, a pile of rice, a pile of books, and a pile of flour from one side of a room to the other using only one hand.\n",
      "[1. 0.] The bottle is the hardest to roll. [SEP] A person is trying to roll a bottle, a ball, a mirror, and an egg.\n",
      "[1. 0.] The pillow is the most likely to break. [SEP] A person drops a pillow, a shirt, a plate, and a pen from a balcony.\n",
      "[0. 1.] The book is the easiest to roll. [SEP] A person is trying to roll a book, a ball, a microwave, and a block.\n",
      "[1. 0.] The mountain takes the longest amount of time to walk around. [SEP] Four people are walking at identical speeds. The first walks around a mountain, the second walks around a microwave, the third walks around a book, and the fourth walks around a house.\n",
      "[1. 0.] The egg is the least likely to break. [SEP] A person drops an egg, a plate, a pillow, and a bottle from a balcony.\n",
      "[1.00000000e+000 4.29626417e-182] The pile of blocks is the hardest to move. [SEP] A person is trying to move a pile of blocks, a pile of flowers, a pile of books, and a pile of snow from one side of a room to the other using only one hand.\n",
      "[1.00000000e+00 8.64619441e-19] The mirror is the easiest to roll. [SEP] A person is trying to roll a mirror, an egg, a box, and a microwave.\n",
      "[1.00000000e+000 7.00462625e-212] The pillow is the most likely to break. [SEP] A person drops a pillow, a ball, a shirt, and an egg from a balcony.\n",
      "[1.00000000e+000 7.24718176e-154] The mirror is the least likely to break. [SEP] A person drops a mirror, a pillow, a bottle, and an egg from a balcony.\n",
      "[1.00000000e+000 1.00399126e-163] The puck hit by the microwave slides the shortest distance. [SEP] A microwave, a brick, an egg, and an apple moving at identical speeds each collide with a static hockey puck.\n",
      "[1.00000000e+000 4.24538988e-304] The balls are the easiest to stack. [SEP] A person is trying to stack balls, bottles, blocks, and eggs.\n",
      "[0. 1.] The ball dropped onto the steel bounces the fewest times. [SEP] A person is trying to bounce a rubber ball. They drop a first ball onto steel, a second ball onto rubber, a third ball onto concrete, and a fourth ball onto grass.\n",
      "[1. 0.] The bottle is the hardest to roll. [SEP] A person is trying to roll a bottle, a box, an egg, and a can.\n",
      "[1. 0.] The surface covered with grass is the easiest for the brick to slide across. [SEP] A person is sliding four bricks across four hard surfaces. The first surface is covered with grass, the second surface is covered with carpet, the third surface is covered with frost, and the fourth surface is covered with gravel.\n",
      "[1.00000000e+00 6.73953377e-27] The surface covered with carpet is the easiest for the brick to slide across. [SEP] A person is sliding four bricks across four hard surfaces. The first surface is covered with carpet, the second surface is covered with rubber, the third surface is covered with gravel, and the fourth surface is covered with oil.\n",
      "[1.00000000e+000 1.38660046e-251] The apple is the hardest to roll. [SEP] A person is trying to roll an apple, a can, a mirror, and an egg.\n",
      "[1. 0.] The puck hit by the apple slides the longest distance. [SEP] An apple, a microwave, a coin, and an egg moving at identical speeds each collide with a static hockey puck.\n",
      "[1. 0.] The circle around the car takes the least amount of paint. [SEP] A person paints a circle around a car, a microwave, a house, and a table.\n",
      "[1.00000000e+000 8.23656948e-126] The bottle is the easiest to roll. [SEP] A person is trying to roll a bottle, a box, a microwave, and a book.\n",
      "[1.00000000e+00 8.64619441e-19] The surface covered with ice is the hardest for the brick to slide across. [SEP] A person is sliding four bricks across four hard surfaces. The first surface is covered with ice, the second surface is covered with frost, the third surface is covered with rubber, and the fourth surface is covered with soap.\n",
      "[1.00000000e+000 4.29626417e-182] The staircase leading to the top of the table is the hardest to walk up. [SEP] There are four staircases. The first leads to the top of a table, the second leads to the top of a mountain, the third leads to the top of a house, and the fourth leads to the top of a car.\n",
      "[1. 0.] The bottles are the easiest to stack. [SEP] A person is trying to stack bottles, flowers, books, and balls.\n",
      "[0. 1.] The shirt is the most likely to break. [SEP] A person drops a shirt, a coin, a glass, and a pillow from a balcony.\n",
      "[1.00000000e+000 1.63481707e-303] The pile of sugar is the easiest to move. [SEP] A person is trying to move a pile of sugar, a pile of flowers, a pile of flour, and a pile of rice from one side of a room to the other using only one hand.\n",
      "[1. 0.] The surface covered with rubber is the easiest for the brick to slide across. [SEP] A person is sliding four bricks across four hard surfaces. The first surface is covered with rubber, the second surface is covered with grease, the third surface is covered with grass, and the fourth surface is covered with concrete.\n",
      "[1. 0.] The ball dropped onto the carpet bounces the most times. [SEP] A person is trying to bounce a rubber ball. They drop a first ball onto carpet, a second ball onto grass, a third ball onto concrete, and a fourth ball onto leaves.\n",
      "[1. 0.] The ball is the hardest to roll. [SEP] A person is trying to roll a ball, a block, a bottle, and an apple.\n",
      "[0. 1.] The coins are the hardest to stack. [SEP] A person is trying to stack coins, blocks, flowers, and boxes.\n",
      "[1. 0.] The ball dropped onto the grass bounces the most times. [SEP] A person is trying to bounce a rubber ball. They drop a first ball onto grass, a second ball onto carpet, a third ball onto rubber, and a fourth ball onto snow.\n",
      "[0. 1.] The balls are the easiest to stack. [SEP] A person is trying to stack balls, eggs, boxes, and flowers.\n",
      "[1. 0.] The plate is the least likely to break. [SEP] A person drops a plate, a mirror, a pillow, and a bottle from a balcony.\n",
      "[1.00000000e+00 3.07924368e-98] The blocks are the easiest to stack. [SEP] A person is trying to stack blocks, bottles, balls, and eggs.\n",
      "[1. 0.] The pile of books is the easiest to move. [SEP] A person is trying to move a pile of books, a pile of snow, a pile of flour, and a pile of sugar from one side of a room to the other using only one hand.\n",
      "[1. 0.] The plate is the most likely to break. [SEP] A person drops a plate, a pen, a pillow, and a coin from a balcony.\n",
      "[0. 1.] The side of the seesaw with the microwave moves down. [SEP] A microwave and a coin are placed in baskets on either end of a perfectly balanced seesaw.\n",
      "[1.00000000e+000 1.60660247e-233] The box is the easiest to roll. [SEP] A person is trying to roll a box, a microwave, a mirror, and a can.\n",
      "[1. 0.] The surface covered with grass is the hardest for the brick to slide across. [SEP] A person is sliding four bricks across four hard surfaces. The first surface is covered with grass, the second surface is covered with grease, the third surface is covered with oil, and the fourth surface is covered with ice.\n",
      "[1. 0.] The ball dropped onto the grass bounces the fewest times. [SEP] A person is trying to bounce a rubber ball. They drop a first ball onto grass, a second ball onto asphalt, a third ball onto rubber, and a fourth ball onto concrete.\n",
      "[1. 0.] The ball dropped onto the foam bounces the most times. [SEP] A person is trying to bounce a rubber ball. They drop a first ball onto foam, a second ball onto concrete, a third ball onto carpet, and a fourth ball onto grass.\n",
      "[1.00000000e+000 6.79482042e-169] The books are the hardest to stack. [SEP] A person is trying to stack books, bottles, coins, and plates.\n",
      "[1. 0.] The pile of sugar is the easiest to move. [SEP] A person is trying to move a pile of sugar, a pile of books, a pile of snow, and a pile of rice from one side of a room to the other using only one hand.\n",
      "[0. 1.] The staircase leading to the top of the microwave is the easiest to walk up. [SEP] There are four staircases. The first leads to the top of a microwave, the second leads to the top of a table, the third leads to the top of a house, and the fourth leads to the top of a mountain.\n",
      "[1.00000000e+000 1.63481707e-303] The ball dropped onto the brick bounces the fewest times. [SEP] A person is trying to bounce a rubber ball. They drop a first ball onto brick, a second ball onto leaves, a third ball onto concrete, and a fourth ball onto steel.\n",
      "[1. 0.] The book is the hardest to roll. [SEP] A person is trying to roll a book, a can, an egg, and an apple.\n",
      "[1. 0.] The surface covered with rubber is the hardest for the brick to slide across. [SEP] A person is sliding four bricks across four hard surfaces. The first surface is covered with rubber, the second surface is covered with soap, the third surface is covered with oil, and the fourth surface is covered with ice.\n",
      "[1. 0.] The pile of flowers is the hardest to move. [SEP] A person is trying to move a pile of flowers, a pile of books, a pile of sugar, and a pile of bottles from one side of a room to the other using only one hand.\n",
      "[1. 0.] The mirror is the easiest to roll. [SEP] A person is trying to roll a mirror, an apple, a block, and a book.\n",
      "[0. 1.] The book is the easiest to roll. [SEP] A person is trying to roll a book, an egg, a mirror, and a microwave.\n",
      "[1. 0.] The surface covered with grease is the easiest for the brick to slide across. [SEP] A person is sliding four bricks across four hard surfaces. The first surface is covered with grease, the second surface is covered with grass, the third surface is covered with gravel, and the fourth surface is covered with concrete.\n",
      "[1. 0.] The pillow is the least likely to break. [SEP] A person drops a pillow, a glass, a bottle, and an egg from a balcony.\n",
      "[1.00000e+000 3.79429e-291] The surface covered with grass is the easiest for the brick to slide across. [SEP] A person is sliding four bricks across four hard surfaces. The first surface is covered with grass, the second surface is covered with oil, the third surface is covered with rubber, and the fourth surface is covered with concrete.\n",
      "[1. 0.] The surface covered with carpet is the easiest for the brick to slide across. [SEP] A person is sliding four bricks across four hard surfaces. The first surface is covered with carpet, the second surface is covered with oil, the third surface is covered with grass, and the fourth surface is covered with rubber.\n",
      "[1. 0.] The mirror is the least likely to break. [SEP] A person drops a mirror, an egg, a shirt, and a plate from a balcony.\n",
      "[1. 0.] The bottles are the hardest to stack. [SEP] A person is trying to stack bottles, coins, books, and blocks.\n",
      "[1. 0.] The side of the seesaw with the leaf moves up. [SEP] A leaf and a microwave are placed in baskets on either end of a perfectly balanced seesaw.\n",
      "[1. 0.] The egg is the hardest to roll. [SEP] A person is trying to roll an egg, a book, a ball, and a can.\n",
      "[0. 1.] The side of the seesaw with the leaf moves up. [SEP] A leaf and an egg are placed in baskets on either end of a perfectly balanced seesaw.\n",
      "[1. 0.] The ball is the most likely to break. [SEP] A person drops a ball, a shirt, a plate, and a pillow from a balcony.\n",
      "[1. 0.] The puck hit by the apple slides the shortest distance. [SEP] An apple, a coin, an egg, and a brick moving at identical speeds each collide with a static hockey puck.\n",
      "[0. 1.] The microwave is the easiest to roll. [SEP] A person is trying to roll a microwave, a block, a mirror, and a ball.\n",
      "[1. 0.] The circle around the microwave takes the least amount of paint. [SEP] A person paints a circle around a microwave, a book, a car, and a house.\n",
      "[1.00000000e+000 1.63481707e-303] The plate is the least likely to break. [SEP] A person drops a plate, a glass, a shirt, and an egg from a balcony.\n",
      "[1. 0.] The pillow is the most likely to break. [SEP] A person drops a pillow, an egg, a pen, and a shirt from a balcony.\n",
      "[1. 0.] The ball dropped onto the brick bounces the most times. [SEP] A person is trying to bounce a rubber ball. They drop a first ball onto brick, a second ball onto carpet, a third ball onto snow, and a fourth ball onto foam.\n",
      "[0. 1.] The lamps are the easiest to stack. [SEP] A person is trying to stack lamps, bottles, eggs, and boxes.\n",
      "[1.00000000e+000 1.64971193e-138] The circle around the mountain takes the least amount of paint. [SEP] A person paints a circle around a mountain, a book, a car, and a table.\n",
      "[1. 0.] The ball is the hardest to roll. [SEP] A person is trying to roll a ball, a microwave, an apple, and a bottle.\n"
     ]
    }
   ],
   "source": [
    "l = []\n",
    "for i, s in enumerate(prost['test']['sents']):\n",
    "    if i % 4 == 0:\n",
    "        l += [s]\n",
    "\n",
    "for ex, prob in zip(l, probs):\n",
    "    print(prob, ex)"
   ]
  },
  {
   "cell_type": "code",
   "execution_count": 19,
   "id": "716b5061-d5a4-4424-8d41-83dc3edf5b2f",
   "metadata": {},
   "outputs": [
    {
     "name": "stderr",
     "output_type": "stream",
     "text": [
      "100%|█████████████████████████████████████████| 100/100 [01:15<00:00,  1.33it/s]\n",
      "100%|███████████████████████████████████████████| 50/50 [00:35<00:00,  1.41it/s]\n"
     ]
    },
    {
     "data": {
      "text/plain": [
       "91.2"
      ]
     },
     "execution_count": 19,
     "metadata": {},
     "output_type": "execute_result"
    }
   ],
   "source": [
    "evaluate_prost('roberta')"
   ]
  },
  {
   "cell_type": "code",
   "execution_count": null,
   "id": "0a9369b2-89d6-4628-a95e-a244292ef354",
   "metadata": {},
   "outputs": [],
   "source": []
  }
 ],
 "metadata": {
  "kernelspec": {
   "display_name": "cs197",
   "language": "python",
   "name": "cs197"
  },
  "language_info": {
   "codemirror_mode": {
    "name": "ipython",
    "version": 3
   },
   "file_extension": ".py",
   "mimetype": "text/x-python",
   "name": "python",
   "nbconvert_exporter": "python",
   "pygments_lexer": "ipython3",
   "version": "3.9.7"
  }
 },
 "nbformat": 4,
 "nbformat_minor": 5
}
