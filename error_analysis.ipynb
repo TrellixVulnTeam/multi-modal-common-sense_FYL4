{
 "cells": [
  {
   "cell_type": "code",
   "execution_count": 64,
   "id": "finished-arctic",
   "metadata": {},
   "outputs": [],
   "source": [
    "import pandas as pd\n",
    "import copy"
   ]
  },
  {
   "cell_type": "code",
   "execution_count": 65,
   "id": "southwest-martial",
   "metadata": {},
   "outputs": [],
   "source": [
    "def intersect(list1, list2):\n",
    "    list1 = list1.copy()\n",
    "    list2 = list2.copy()\n",
    "    return [idx for idx in list1 if idx in list2]"
   ]
  },
  {
   "cell_type": "code",
   "execution_count": 20,
   "id": "initial-archive",
   "metadata": {},
   "outputs": [
    {
     "data": {
      "text/html": [
       "<div>\n",
       "<style scoped>\n",
       "    .dataframe tbody tr th:only-of-type {\n",
       "        vertical-align: middle;\n",
       "    }\n",
       "\n",
       "    .dataframe tbody tr th {\n",
       "        vertical-align: top;\n",
       "    }\n",
       "\n",
       "    .dataframe thead th {\n",
       "        text-align: right;\n",
       "    }\n",
       "</style>\n",
       "<table border=\"1\" class=\"dataframe\">\n",
       "  <thead>\n",
       "    <tr style=\"text-align: right;\">\n",
       "      <th></th>\n",
       "      <th>dataset</th>\n",
       "      <th>clip</th>\n",
       "      <th>roberta</th>\n",
       "      <th>roberta_small</th>\n",
       "      <th>visualbert</th>\n",
       "      <th>t5</th>\n",
       "      <th>lxmert</th>\n",
       "      <th>uniter</th>\n",
       "    </tr>\n",
       "  </thead>\n",
       "  <tbody>\n",
       "    <tr>\n",
       "      <th>0</th>\n",
       "      <td>doq</td>\n",
       "      <td>[1, 9, 10, 11, 12, 14, 17, 18, 19, 20, 22, 23,...</td>\n",
       "      <td>[1, 7, 10, 11, 12, 17, 19, 20, 24, 26, 35, 38,...</td>\n",
       "      <td>[1, 6, 10, 11, 12, 14, 16, 20, 22, 24, 25, 26,...</td>\n",
       "      <td>[7, 8, 10, 12, 19, 20, 24, 28, 31, 32, 33, 34,...</td>\n",
       "      <td>[1, 2, 3, 5, 8, 10, 11, 12, 14, 17, 19, 20, 23...</td>\n",
       "      <td>[0, 1, 4, 7, 8, 9, 10, 11, 12, 14, 19, 20, 22,...</td>\n",
       "      <td>[1, 8, 9, 10, 12, 14, 20, 24, 28, 37, 38, 39, ...</td>\n",
       "    </tr>\n",
       "    <tr>\n",
       "      <th>1</th>\n",
       "      <td>prost</td>\n",
       "      <td>[1, 7, 8, 12, 13, 19, 27, 28, 29, 30, 31, 32, ...</td>\n",
       "      <td>[3, 7, 8, 15, 18, 19, 20, 31, 32, 37, 40, 47, ...</td>\n",
       "      <td>[7, 18, 19, 20, 29, 30, 32, 55, 57, 63, 67, 69...</td>\n",
       "      <td>[3, 7, 8, 10, 12, 13, 15, 19, 20, 27, 30, 31, ...</td>\n",
       "      <td>[3, 5, 6, 7, 8, 12, 13, 15, 19, 27, 29, 30, 31...</td>\n",
       "      <td>[3, 7, 8, 15, 18, 20, 31, 32, 37, 40, 47, 49, ...</td>\n",
       "      <td>[3, 7, 8, 15, 19, 27, 31, 32, 37, 42, 47, 50, ...</td>\n",
       "    </tr>\n",
       "    <tr>\n",
       "      <th>2</th>\n",
       "      <td>verb_weight</td>\n",
       "      <td>[0, 2, 7, 10, 17, 18, 26, 32, 36, 39, 58, 64, ...</td>\n",
       "      <td>[0, 7, 10, 16, 17, 18, 20, 26, 32, 36, 38, 39,...</td>\n",
       "      <td>[0, 2, 5, 7, 8, 16, 17, 18, 23, 26, 29, 32, 36...</td>\n",
       "      <td>[0, 7, 10, 16, 17, 18, 20, 26, 32, 36, 37, 38,...</td>\n",
       "      <td>[0, 7, 10, 18, 26, 29, 32, 36, 39, 58, 61, 64,...</td>\n",
       "      <td>[0, 7, 10, 17, 18, 26, 29, 32, 36, 38, 49, 58,...</td>\n",
       "      <td>[0, 2, 7, 10, 17, 26, 29, 32, 36, 37, 39, 49, ...</td>\n",
       "    </tr>\n",
       "    <tr>\n",
       "      <th>3</th>\n",
       "      <td>verb_speed</td>\n",
       "      <td>[0, 2, 7, 11, 12, 13, 18, 26, 28, 31, 37, 43, ...</td>\n",
       "      <td>[4, 7, 11, 12, 18, 26, 30, 31, 37, 45, 47, 50,...</td>\n",
       "      <td>[0, 2, 4, 7, 8, 11, 13, 16, 18, 19, 26, 30, 31...</td>\n",
       "      <td>[0, 1, 4, 7, 8, 11, 12, 13, 18, 26, 28, 31, 37...</td>\n",
       "      <td>[1, 4, 7, 12, 13, 26, 28, 30, 31, 37, 40, 47, ...</td>\n",
       "      <td>[0, 1, 7, 11, 12, 13, 26, 28, 30, 31, 37, 43, ...</td>\n",
       "      <td>[0, 4, 6, 7, 11, 12, 13, 18, 26, 28, 30, 31, 3...</td>\n",
       "    </tr>\n",
       "    <tr>\n",
       "      <th>4</th>\n",
       "      <td>verb_size</td>\n",
       "      <td>[0, 5, 7, 18, 19, 29, 33, 44, 50, 53, 55, 58, ...</td>\n",
       "      <td>[0, 2, 5, 7, 18, 19, 29, 33, 44, 50, 53, 58, 5...</td>\n",
       "      <td>[1, 2, 5, 7, 8, 17, 18, 19, 29, 33, 34, 39, 44...</td>\n",
       "      <td>[0, 1, 2, 5, 7, 18, 19, 29, 33, 34, 39, 44, 45...</td>\n",
       "      <td>[0, 1, 5, 7, 19, 29, 33, 44, 50, 53, 55, 58, 6...</td>\n",
       "      <td>[0, 5, 7, 18, 29, 34, 35, 38, 39, 44, 50, 53, ...</td>\n",
       "      <td>[0, 1, 7, 8, 18, 29, 34, 38, 50, 55, 58, 66, 7...</td>\n",
       "    </tr>\n",
       "    <tr>\n",
       "      <th>5</th>\n",
       "      <td>verb_strength</td>\n",
       "      <td>[6, 15, 16, 24, 26, 28, 31, 36, 37, 39, 45, 52...</td>\n",
       "      <td>[0, 4, 6, 14, 16, 24, 26, 28, 31, 35, 36, 39, ...</td>\n",
       "      <td>[2, 4, 6, 7, 16, 24, 26, 28, 31, 35, 36, 37, 4...</td>\n",
       "      <td>[6, 15, 16, 24, 26, 28, 31, 35, 39, 45, 47, 52...</td>\n",
       "      <td>[4, 6, 8, 16, 24, 26, 28, 31, 35, 39, 47, 52, ...</td>\n",
       "      <td>[4, 6, 8, 15, 16, 24, 26, 28, 31, 36, 39, 45, ...</td>\n",
       "      <td>[1, 2, 5, 6, 15, 16, 24, 26, 28, 31, 36, 37, 3...</td>\n",
       "    </tr>\n",
       "    <tr>\n",
       "      <th>6</th>\n",
       "      <td>verb_rigidness</td>\n",
       "      <td>[0, 1, 5, 8, 13, 14, 17, 21, 22, 23, 26, 32, 3...</td>\n",
       "      <td>[1, 5, 8, 13, 14, 21, 22, 23, 26, 28, 32, 34, ...</td>\n",
       "      <td>[0, 1, 2, 4, 5, 6, 7, 8, 14, 16, 18, 19, 21, 2...</td>\n",
       "      <td>[0, 1, 5, 8, 14, 17, 21, 23, 26, 28, 32, 33, 3...</td>\n",
       "      <td>[0, 1, 5, 8, 9, 14, 21, 22, 23, 26, 28, 30, 32...</td>\n",
       "      <td>[0, 1, 8, 9, 13, 14, 17, 21, 23, 26, 28, 32, 3...</td>\n",
       "      <td>[0, 1, 5, 8, 9, 10, 13, 17, 18, 21, 23, 26, 28...</td>\n",
       "    </tr>\n",
       "  </tbody>\n",
       "</table>\n",
       "</div>"
      ],
      "text/plain": [
       "          dataset                                               clip  \\\n",
       "0             doq  [1, 9, 10, 11, 12, 14, 17, 18, 19, 20, 22, 23,...   \n",
       "1           prost  [1, 7, 8, 12, 13, 19, 27, 28, 29, 30, 31, 32, ...   \n",
       "2     verb_weight  [0, 2, 7, 10, 17, 18, 26, 32, 36, 39, 58, 64, ...   \n",
       "3      verb_speed  [0, 2, 7, 11, 12, 13, 18, 26, 28, 31, 37, 43, ...   \n",
       "4       verb_size  [0, 5, 7, 18, 19, 29, 33, 44, 50, 53, 55, 58, ...   \n",
       "5   verb_strength  [6, 15, 16, 24, 26, 28, 31, 36, 37, 39, 45, 52...   \n",
       "6  verb_rigidness  [0, 1, 5, 8, 13, 14, 17, 21, 22, 23, 26, 32, 3...   \n",
       "\n",
       "                                             roberta  \\\n",
       "0  [1, 7, 10, 11, 12, 17, 19, 20, 24, 26, 35, 38,...   \n",
       "1  [3, 7, 8, 15, 18, 19, 20, 31, 32, 37, 40, 47, ...   \n",
       "2  [0, 7, 10, 16, 17, 18, 20, 26, 32, 36, 38, 39,...   \n",
       "3  [4, 7, 11, 12, 18, 26, 30, 31, 37, 45, 47, 50,...   \n",
       "4  [0, 2, 5, 7, 18, 19, 29, 33, 44, 50, 53, 58, 5...   \n",
       "5  [0, 4, 6, 14, 16, 24, 26, 28, 31, 35, 36, 39, ...   \n",
       "6  [1, 5, 8, 13, 14, 21, 22, 23, 26, 28, 32, 34, ...   \n",
       "\n",
       "                                       roberta_small  \\\n",
       "0  [1, 6, 10, 11, 12, 14, 16, 20, 22, 24, 25, 26,...   \n",
       "1  [7, 18, 19, 20, 29, 30, 32, 55, 57, 63, 67, 69...   \n",
       "2  [0, 2, 5, 7, 8, 16, 17, 18, 23, 26, 29, 32, 36...   \n",
       "3  [0, 2, 4, 7, 8, 11, 13, 16, 18, 19, 26, 30, 31...   \n",
       "4  [1, 2, 5, 7, 8, 17, 18, 19, 29, 33, 34, 39, 44...   \n",
       "5  [2, 4, 6, 7, 16, 24, 26, 28, 31, 35, 36, 37, 4...   \n",
       "6  [0, 1, 2, 4, 5, 6, 7, 8, 14, 16, 18, 19, 21, 2...   \n",
       "\n",
       "                                          visualbert  \\\n",
       "0  [7, 8, 10, 12, 19, 20, 24, 28, 31, 32, 33, 34,...   \n",
       "1  [3, 7, 8, 10, 12, 13, 15, 19, 20, 27, 30, 31, ...   \n",
       "2  [0, 7, 10, 16, 17, 18, 20, 26, 32, 36, 37, 38,...   \n",
       "3  [0, 1, 4, 7, 8, 11, 12, 13, 18, 26, 28, 31, 37...   \n",
       "4  [0, 1, 2, 5, 7, 18, 19, 29, 33, 34, 39, 44, 45...   \n",
       "5  [6, 15, 16, 24, 26, 28, 31, 35, 39, 45, 47, 52...   \n",
       "6  [0, 1, 5, 8, 14, 17, 21, 23, 26, 28, 32, 33, 3...   \n",
       "\n",
       "                                                  t5  \\\n",
       "0  [1, 2, 3, 5, 8, 10, 11, 12, 14, 17, 19, 20, 23...   \n",
       "1  [3, 5, 6, 7, 8, 12, 13, 15, 19, 27, 29, 30, 31...   \n",
       "2  [0, 7, 10, 18, 26, 29, 32, 36, 39, 58, 61, 64,...   \n",
       "3  [1, 4, 7, 12, 13, 26, 28, 30, 31, 37, 40, 47, ...   \n",
       "4  [0, 1, 5, 7, 19, 29, 33, 44, 50, 53, 55, 58, 6...   \n",
       "5  [4, 6, 8, 16, 24, 26, 28, 31, 35, 39, 47, 52, ...   \n",
       "6  [0, 1, 5, 8, 9, 14, 21, 22, 23, 26, 28, 30, 32...   \n",
       "\n",
       "                                              lxmert  \\\n",
       "0  [0, 1, 4, 7, 8, 9, 10, 11, 12, 14, 19, 20, 22,...   \n",
       "1  [3, 7, 8, 15, 18, 20, 31, 32, 37, 40, 47, 49, ...   \n",
       "2  [0, 7, 10, 17, 18, 26, 29, 32, 36, 38, 49, 58,...   \n",
       "3  [0, 1, 7, 11, 12, 13, 26, 28, 30, 31, 37, 43, ...   \n",
       "4  [0, 5, 7, 18, 29, 34, 35, 38, 39, 44, 50, 53, ...   \n",
       "5  [4, 6, 8, 15, 16, 24, 26, 28, 31, 36, 39, 45, ...   \n",
       "6  [0, 1, 8, 9, 13, 14, 17, 21, 23, 26, 28, 32, 3...   \n",
       "\n",
       "                                              uniter  \n",
       "0  [1, 8, 9, 10, 12, 14, 20, 24, 28, 37, 38, 39, ...  \n",
       "1  [3, 7, 8, 15, 19, 27, 31, 32, 37, 42, 47, 50, ...  \n",
       "2  [0, 2, 7, 10, 17, 26, 29, 32, 36, 37, 39, 49, ...  \n",
       "3  [0, 4, 6, 7, 11, 12, 13, 18, 26, 28, 30, 31, 3...  \n",
       "4  [0, 1, 7, 8, 18, 29, 34, 38, 50, 55, 58, 66, 7...  \n",
       "5  [1, 2, 5, 6, 15, 16, 24, 26, 28, 31, 36, 37, 3...  \n",
       "6  [0, 1, 5, 8, 9, 10, 13, 17, 18, 21, 23, 26, 28...  "
      ]
     },
     "execution_count": 20,
     "metadata": {},
     "output_type": "execute_result"
    }
   ],
   "source": [
    "error_df = pd.read_csv(\"./checkpoint_embed_errors.csv\")\n",
    "error_df"
   ]
  },
  {
   "cell_type": "code",
   "execution_count": 22,
   "id": "progressive-croatia",
   "metadata": {},
   "outputs": [
    {
     "data": {
      "text/plain": [
       "dataset                                                        doq\n",
       "clip             [1, 9, 10, 11, 12, 14, 17, 18, 19, 20, 22, 23,...\n",
       "roberta          [1, 7, 10, 11, 12, 17, 19, 20, 24, 26, 35, 38,...\n",
       "roberta_small    [1, 6, 10, 11, 12, 14, 16, 20, 22, 24, 25, 26,...\n",
       "visualbert       [7, 8, 10, 12, 19, 20, 24, 28, 31, 32, 33, 34,...\n",
       "t5               [1, 2, 3, 5, 8, 10, 11, 12, 14, 17, 19, 20, 23...\n",
       "lxmert           [0, 1, 4, 7, 8, 9, 10, 11, 12, 14, 19, 20, 22,...\n",
       "uniter           [1, 8, 9, 10, 12, 14, 20, 24, 28, 37, 38, 39, ...\n",
       "Name: 0, dtype: object"
      ]
     },
     "execution_count": 22,
     "metadata": {},
     "output_type": "execute_result"
    }
   ],
   "source": [
    "doq_df = error_df.loc[0]\n",
    "doq_df"
   ]
  },
  {
   "cell_type": "code",
   "execution_count": 49,
   "id": "worst-change",
   "metadata": {},
   "outputs": [],
   "source": [
    "def get_list(df, model):\n",
    "    lst = df.loc[model]\n",
    "    lst = lst[1:-1]\n",
    "    lst = lst.split(',')\n",
    "    lst = list(lst)\n",
    "    lst = list(map(int,lst))\n",
    "    return lst"
   ]
  },
  {
   "cell_type": "code",
   "execution_count": 77,
   "id": "driving-correlation",
   "metadata": {},
   "outputs": [],
   "source": [
    "clip = get_list(doq_df, \"clip\")\n",
    "lxmert = clip = get_list(doq_df, \"lxmert\")\n",
    "visualbert = clip = get_list(doq_df, \"visualbert\")\n",
    "uniter = clip = get_list(doq_df, \"uniter\")\n",
    "t5 = clip = get_list(doq_df, \"t5\")\n",
    "roberta = clip = get_list(doq_df, \"roberta\")\n",
    "roberta_small = clip = get_list(doq_df, \"roberta_small\")"
   ]
  },
  {
   "cell_type": "code",
   "execution_count": 87,
   "id": "outside-beijing",
   "metadata": {},
   "outputs": [
    {
     "data": {
      "text/plain": [
       "156"
      ]
     },
     "execution_count": 87,
     "metadata": {},
     "output_type": "execute_result"
    }
   ],
   "source": [
    "# multi modal\n",
    "mm_errs = intersect(clip, lxmert)\n",
    "mm_errs = intersect(mm_errs, visualbert)\n",
    "mm_errs = intersect(mm_errs, uniter)\n",
    "\n",
    "len(mm_errs)"
   ]
  },
  {
   "cell_type": "code",
   "execution_count": 88,
   "id": "graduate-distribution",
   "metadata": {},
   "outputs": [],
   "source": [
    "all_errs = intersect(mm_errs, t5)\n",
    "all_errs = intersect(all_errs, roberta)\n",
    "all_errs = intersect(all_errs, roberta_small)\n",
    "\n",
    "# all_errs = intersect(mm_errs,)"
   ]
  },
  {
   "cell_type": "code",
   "execution_count": 89,
   "id": "flexible-cyprus",
   "metadata": {},
   "outputs": [
    {
     "data": {
      "text/plain": [
       "163"
      ]
     },
     "execution_count": 89,
     "metadata": {},
     "output_type": "execute_result"
    }
   ],
   "source": [
    "# uni modal\n",
    "um_errs = intersect(t5, roberta)\n",
    "um_errs = intersect(um_errs, roberta_small)\n",
    "\n",
    "len(um_errs)"
   ]
  },
  {
   "cell_type": "code",
   "execution_count": 90,
   "id": "rotary-safety",
   "metadata": {},
   "outputs": [
    {
     "data": {
      "text/plain": [
       "52"
      ]
     },
     "execution_count": 90,
     "metadata": {},
     "output_type": "execute_result"
    }
   ],
   "source": [
    "mm_not_um_errs = [err for err in mm_errs if err not in um_errs]\n",
    "len(mm_not_um_errs)"
   ]
  },
  {
   "cell_type": "code",
   "execution_count": 91,
   "id": "conventional-drunk",
   "metadata": {},
   "outputs": [
    {
     "data": {
      "text/plain": [
       "59"
      ]
     },
     "execution_count": 91,
     "metadata": {},
     "output_type": "execute_result"
    }
   ],
   "source": [
    "um_not_mm_errs = [err for err in um_errs if err not in mm_errs]\n",
    "len(um_not_mm_errs)"
   ]
  },
  {
   "cell_type": "code",
   "execution_count": null,
   "id": "correct-dining",
   "metadata": {},
   "outputs": [],
   "source": []
  }
 ],
 "metadata": {
  "kernelspec": {
   "display_name": "Python 3",
   "language": "python",
   "name": "python3"
  },
  "language_info": {
   "codemirror_mode": {
    "name": "ipython",
    "version": 3
   },
   "file_extension": ".py",
   "mimetype": "text/x-python",
   "name": "python",
   "nbconvert_exporter": "python",
   "pygments_lexer": "ipython3",
   "version": "3.7.9"
  }
 },
 "nbformat": 4,
 "nbformat_minor": 5
}
