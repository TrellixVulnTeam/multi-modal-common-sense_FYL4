{
 "cells": [
  {
   "cell_type": "code",
   "execution_count": 1,
   "id": "ebd09a4d-7b1d-45e8-8fca-5d44cdfefc8b",
   "metadata": {},
   "outputs": [],
   "source": [
    "from data_processor import BatchProcessor\n",
    "from run import WrappedModel"
   ]
  },
  {
   "cell_type": "code",
   "execution_count": 2,
   "id": "7205563d-d560-4e26-ab28-6c17bf0e104a",
   "metadata": {},
   "outputs": [],
   "source": [
    "MODELS = {\n",
    "    \"clip\": \"openai/clip-vit-base-patch32\",\n",
    "    \"roberta\": \"roberta-base\", \n",
    "    \"roberta_small\": \"klue/roberta-small\", \n",
    "    \"visualbert\": 'uclanlp/visualbert-vqa-coco-pre',\n",
    "    # \"lxmert\": \"unc-nlp/lxmert-base-uncased\", \n",
    "    \"xlnet\": \"xlnet-base-cased\", \n",
    "}\n",
    "\n",
    "attributes = {\"size\": \"bigger\", \"weight\": \"heavier\", \"strength\": \"stronger\", \"rigidness\": \"more rigid\", \"speed\": \"faster\"}"
   ]
  },
  {
   "cell_type": "code",
   "execution_count": 13,
   "id": "7e2e37da-ec77-4e07-b06f-75646ab7d589",
   "metadata": {},
   "outputs": [
    {
     "name": "stdout",
     "output_type": "stream",
     "text": [
      "roberta_small-size-pooled=True 66.86094920899251\n",
      "roberta_small-size-pooled=False 79.35054121565362\n",
      "roberta_small-weight-pooled=True 67.58732737611697\n",
      "roberta_small-weight-pooled=False 78.79772542648253\n",
      "roberta_small-strength-pooled=True 66.96832579185521\n",
      "roberta_small-strength-pooled=False 75.38461538461539\n",
      "roberta_small-rigidness-pooled=True 65.85603112840467\n",
      "roberta_small-rigidness-pooled=False 72.66536964980544\n",
      "roberta_small-speed-pooled=True 73.93364928909952\n",
      "roberta_small-speed-pooled=False 79.62085308056872\n"
     ]
    }
   ],
   "source": [
    "# accs = {}\n",
    "\n",
    "for model in MODELS.keys():\n",
    "    for attr in attributes.keys():\n",
    "        for use_pooled in [True, False]:\n",
    "            try:\n",
    "                m = WrappedModel(attributes=attr, model=model, use_pooled=use_pooled)\n",
    "                acc = m.forward()\n",
    "            except Exception as e:\n",
    "                continue\n",
    "                \n",
    "            name = f\"{model}-{attr}-pooled={use_pooled}\"\n",
    "            accs[name] = acc\n",
    "            print(name, acc)"
   ]
  },
  {
   "cell_type": "code",
   "execution_count": 14,
   "id": "83149cd9-e652-42b9-bb7c-f02662eec68f",
   "metadata": {},
   "outputs": [
    {
     "data": {
      "text/plain": [
       "{'clip-size-pooled=True': 66.36136552872607,\n",
       " 'clip-size-pooled=False': 66.94421315570358,\n",
       " 'clip-weight-pooled=True': 66.28757108042242,\n",
       " 'clip-weight-pooled=False': 67.26238830219334,\n",
       " 'clip-strength-pooled=True': 63.16742081447964,\n",
       " 'clip-strength-pooled=False': 65.88235294117646,\n",
       " 'clip-rigidness-pooled=True': 68.28793774319067,\n",
       " 'clip-rigidness-pooled=False': 70.03891050583658,\n",
       " 'clip-speed-pooled=True': 76.18483412322274,\n",
       " 'clip-speed-pooled=False': 78.90995260663507,\n",
       " 'roberta-size-pooled=True': 54.53788509575354,\n",
       " 'roberta-size-pooled=False': 88.17651956702748,\n",
       " 'roberta-weight-pooled=True': 57.27051177904143,\n",
       " 'roberta-weight-pooled=False': 87.40861088545897,\n",
       " 'roberta-strength-pooled=True': 55.65610859728507,\n",
       " 'roberta-strength-pooled=False': 84.34389140271493,\n",
       " 'roberta-rigidness-pooled=True': 55.54474708171206,\n",
       " 'roberta-rigidness-pooled=False': 82.87937743190662,\n",
       " 'roberta-speed-pooled=True': 65.04739336492891,\n",
       " 'roberta-speed-pooled=False': 87.79620853080569,\n",
       " 'visualbert-size-pooled=True': 66.86094920899251,\n",
       " 'visualbert-size-pooled=False': 90.17485428809326,\n",
       " 'visualbert-weight-pooled=True': 66.28757108042242,\n",
       " 'visualbert-weight-pooled=False': 87.40861088545897,\n",
       " 'visualbert-strength-pooled=True': 63.07692307692308,\n",
       " 'visualbert-strength-pooled=False': 86.42533936651584,\n",
       " 'visualbert-rigidness-pooled=True': 58.268482490272376,\n",
       " 'visualbert-rigidness-pooled=False': 82.1011673151751,\n",
       " 'visualbert-speed-pooled=True': 65.63981042654028,\n",
       " 'visualbert-speed-pooled=False': 90.04739336492891,\n",
       " 'xlnet-size-pooled=False': 87.59367194004996,\n",
       " 'xlnet-weight-pooled=False': 87.08367181153534,\n",
       " 'xlnet-strength-pooled=False': 85.3393665158371,\n",
       " 'xlnet-rigidness-pooled=False': 82.29571984435798,\n",
       " 'xlnet-speed-pooled=False': 87.91469194312796,\n",
       " 'roberta_small-size-pooled=True': 66.86094920899251,\n",
       " 'roberta_small-size-pooled=False': 79.35054121565362,\n",
       " 'roberta_small-weight-pooled=True': 67.58732737611697,\n",
       " 'roberta_small-weight-pooled=False': 78.79772542648253,\n",
       " 'roberta_small-strength-pooled=True': 66.96832579185521,\n",
       " 'roberta_small-strength-pooled=False': 75.38461538461539,\n",
       " 'roberta_small-rigidness-pooled=True': 65.85603112840467,\n",
       " 'roberta_small-rigidness-pooled=False': 72.66536964980544,\n",
       " 'roberta_small-speed-pooled=True': 73.93364928909952,\n",
       " 'roberta_small-speed-pooled=False': 79.62085308056872}"
      ]
     },
     "execution_count": 14,
     "metadata": {},
     "output_type": "execute_result"
    }
   ],
   "source": [
    "accs"
   ]
  },
  {
   "cell_type": "code",
   "execution_count": 28,
   "id": "495290a6-0d73-4250-8c57-6433dc81190d",
   "metadata": {},
   "outputs": [],
   "source": [
    "accs1 = accs"
   ]
  },
  {
   "cell_type": "code",
   "execution_count": 15,
   "id": "64af9fe8-fa3b-4a52-948d-d7b624aa6e6f",
   "metadata": {},
   "outputs": [],
   "source": [
    "import pandas as pd"
   ]
  },
  {
   "cell_type": "code",
   "execution_count": 29,
   "id": "03ee1037-2852-45e3-8f4e-71d36a7173f3",
   "metadata": {},
   "outputs": [],
   "source": [
    "data = pd.DataFrame(data=accs.items(), columns=['model', 'accuracy'])"
   ]
  },
  {
   "cell_type": "code",
   "execution_count": 35,
   "id": "2f9ffa2a-1509-4cc4-b770-e65995726685",
   "metadata": {},
   "outputs": [],
   "source": [
    "table = {}\n",
    "for name in accs1:\n",
    "    raw = name.split('-')[0] + \"-\" + name.split('-')[-1]\n",
    "    if raw not in table:\n",
    "        table[raw] = []\n",
    "\n",
    "    table[raw] += [accs1[name]]"
   ]
  },
  {
   "cell_type": "code",
   "execution_count": 38,
   "id": "6693f21a-4ae5-4706-aa00-2c90c3753683",
   "metadata": {},
   "outputs": [
    {
     "data": {
      "text/plain": [
       "dict_values([[66.36136552872607, 66.28757108042242, 63.16742081447964, 68.28793774319067, 76.18483412322274], [66.94421315570358, 67.26238830219334, 65.88235294117646, 70.03891050583658, 78.90995260663507], [54.53788509575354, 57.27051177904143, 55.65610859728507, 55.54474708171206, 65.04739336492891], [88.17651956702748, 87.40861088545897, 84.34389140271493, 82.87937743190662, 87.79620853080569], [66.86094920899251, 66.28757108042242, 63.07692307692308, 58.268482490272376, 65.63981042654028], [90.17485428809326, 87.40861088545897, 86.42533936651584, 82.1011673151751, 90.04739336492891], [87.59367194004996, 87.08367181153534, 85.3393665158371, 82.29571984435798, 87.91469194312796], [66.86094920899251, 67.58732737611697, 66.96832579185521, 65.85603112840467, 73.93364928909952], [79.35054121565362, 78.79772542648253, 75.38461538461539, 72.66536964980544, 79.62085308056872]])"
      ]
     },
     "execution_count": 38,
     "metadata": {},
     "output_type": "execute_result"
    }
   ],
   "source": [
    "table.values()"
   ]
  },
  {
   "cell_type": "code",
   "execution_count": 40,
   "id": "aa365acc-6a9d-46a2-9e93-833f5a81dde9",
   "metadata": {},
   "outputs": [],
   "source": [
    "t = pd.DataFrame(index=table.keys(), data=table.values(), columns=['size', 'weight', 'strength', 'rigidness', 'speed'])"
   ]
  },
  {
   "cell_type": "code",
   "execution_count": 41,
   "id": "336cd0c5-d682-4810-8b3d-a4f71102a01d",
   "metadata": {},
   "outputs": [
    {
     "data": {
      "text/html": [
       "<div>\n",
       "<style scoped>\n",
       "    .dataframe tbody tr th:only-of-type {\n",
       "        vertical-align: middle;\n",
       "    }\n",
       "\n",
       "    .dataframe tbody tr th {\n",
       "        vertical-align: top;\n",
       "    }\n",
       "\n",
       "    .dataframe thead th {\n",
       "        text-align: right;\n",
       "    }\n",
       "</style>\n",
       "<table border=\"1\" class=\"dataframe\">\n",
       "  <thead>\n",
       "    <tr style=\"text-align: right;\">\n",
       "      <th></th>\n",
       "      <th>size</th>\n",
       "      <th>weight</th>\n",
       "      <th>strength</th>\n",
       "      <th>rigidness</th>\n",
       "      <th>speed</th>\n",
       "    </tr>\n",
       "  </thead>\n",
       "  <tbody>\n",
       "    <tr>\n",
       "      <th>clip-pooled=True</th>\n",
       "      <td>66.361366</td>\n",
       "      <td>66.287571</td>\n",
       "      <td>63.167421</td>\n",
       "      <td>68.287938</td>\n",
       "      <td>76.184834</td>\n",
       "    </tr>\n",
       "    <tr>\n",
       "      <th>clip-pooled=False</th>\n",
       "      <td>66.944213</td>\n",
       "      <td>67.262388</td>\n",
       "      <td>65.882353</td>\n",
       "      <td>70.038911</td>\n",
       "      <td>78.909953</td>\n",
       "    </tr>\n",
       "    <tr>\n",
       "      <th>roberta-pooled=True</th>\n",
       "      <td>54.537885</td>\n",
       "      <td>57.270512</td>\n",
       "      <td>55.656109</td>\n",
       "      <td>55.544747</td>\n",
       "      <td>65.047393</td>\n",
       "    </tr>\n",
       "    <tr>\n",
       "      <th>roberta-pooled=False</th>\n",
       "      <td>88.176520</td>\n",
       "      <td>87.408611</td>\n",
       "      <td>84.343891</td>\n",
       "      <td>82.879377</td>\n",
       "      <td>87.796209</td>\n",
       "    </tr>\n",
       "    <tr>\n",
       "      <th>visualbert-pooled=True</th>\n",
       "      <td>66.860949</td>\n",
       "      <td>66.287571</td>\n",
       "      <td>63.076923</td>\n",
       "      <td>58.268482</td>\n",
       "      <td>65.639810</td>\n",
       "    </tr>\n",
       "    <tr>\n",
       "      <th>visualbert-pooled=False</th>\n",
       "      <td>90.174854</td>\n",
       "      <td>87.408611</td>\n",
       "      <td>86.425339</td>\n",
       "      <td>82.101167</td>\n",
       "      <td>90.047393</td>\n",
       "    </tr>\n",
       "    <tr>\n",
       "      <th>xlnet-pooled=False</th>\n",
       "      <td>87.593672</td>\n",
       "      <td>87.083672</td>\n",
       "      <td>85.339367</td>\n",
       "      <td>82.295720</td>\n",
       "      <td>87.914692</td>\n",
       "    </tr>\n",
       "    <tr>\n",
       "      <th>roberta_small-pooled=True</th>\n",
       "      <td>66.860949</td>\n",
       "      <td>67.587327</td>\n",
       "      <td>66.968326</td>\n",
       "      <td>65.856031</td>\n",
       "      <td>73.933649</td>\n",
       "    </tr>\n",
       "    <tr>\n",
       "      <th>roberta_small-pooled=False</th>\n",
       "      <td>79.350541</td>\n",
       "      <td>78.797725</td>\n",
       "      <td>75.384615</td>\n",
       "      <td>72.665370</td>\n",
       "      <td>79.620853</td>\n",
       "    </tr>\n",
       "  </tbody>\n",
       "</table>\n",
       "</div>"
      ],
      "text/plain": [
       "                                 size     weight   strength  rigidness  \\\n",
       "clip-pooled=True            66.361366  66.287571  63.167421  68.287938   \n",
       "clip-pooled=False           66.944213  67.262388  65.882353  70.038911   \n",
       "roberta-pooled=True         54.537885  57.270512  55.656109  55.544747   \n",
       "roberta-pooled=False        88.176520  87.408611  84.343891  82.879377   \n",
       "visualbert-pooled=True      66.860949  66.287571  63.076923  58.268482   \n",
       "visualbert-pooled=False     90.174854  87.408611  86.425339  82.101167   \n",
       "xlnet-pooled=False          87.593672  87.083672  85.339367  82.295720   \n",
       "roberta_small-pooled=True   66.860949  67.587327  66.968326  65.856031   \n",
       "roberta_small-pooled=False  79.350541  78.797725  75.384615  72.665370   \n",
       "\n",
       "                                speed  \n",
       "clip-pooled=True            76.184834  \n",
       "clip-pooled=False           78.909953  \n",
       "roberta-pooled=True         65.047393  \n",
       "roberta-pooled=False        87.796209  \n",
       "visualbert-pooled=True      65.639810  \n",
       "visualbert-pooled=False     90.047393  \n",
       "xlnet-pooled=False          87.914692  \n",
       "roberta_small-pooled=True   73.933649  \n",
       "roberta_small-pooled=False  79.620853  "
      ]
     },
     "execution_count": 41,
     "metadata": {},
     "output_type": "execute_result"
    }
   ],
   "source": [
    "t"
   ]
  },
  {
   "cell_type": "code",
   "execution_count": 43,
   "id": "f4e1af38-c86f-4b7f-938e-441edc122fa2",
   "metadata": {},
   "outputs": [],
   "source": [
    "import seaborn as sns\n",
    "import matplotlib.pyplot as plt"
   ]
  },
  {
   "cell_type": "code",
   "execution_count": null,
   "id": "c35b8d0d-57c1-4a73-8b94-f2c08f799eb9",
   "metadata": {},
   "outputs": [],
   "source": []
  },
  {
   "cell_type": "code",
   "execution_count": 4,
   "id": "466f753d-493b-4ded-a4dc-34a009f04cfb",
   "metadata": {},
   "outputs": [],
   "source": [
    "m = WrappedModel(attributes='weight', model='clip', use_pooled=True)\n",
    "acc = m.forward()"
   ]
  },
  {
   "cell_type": "code",
   "execution_count": 7,
   "id": "55e25674-d740-413f-b659-a5dfc0d88b9a",
   "metadata": {},
   "outputs": [
    {
     "data": {
      "text/plain": [
       "66.28757108042242"
      ]
     },
     "execution_count": 7,
     "metadata": {},
     "output_type": "execute_result"
    }
   ],
   "source": [
    "acc"
   ]
  },
  {
   "cell_type": "code",
   "execution_count": 5,
   "id": "30611c48-852d-4b85-ae6d-903344c62a12",
   "metadata": {},
   "outputs": [],
   "source": [
    "m = WrappedModel(attributes='weight', model='clip', use_pooled=False)\n",
    "acc1 = m.forward()"
   ]
  },
  {
   "cell_type": "code",
   "execution_count": 6,
   "id": "71e3ce20-c0d5-42e8-9b69-7586593aae29",
   "metadata": {},
   "outputs": [
    {
     "data": {
      "text/plain": [
       "67.26238830219334"
      ]
     },
     "execution_count": 6,
     "metadata": {},
     "output_type": "execute_result"
    }
   ],
   "source": [
    "acc1"
   ]
  },
  {
   "cell_type": "code",
   "execution_count": null,
   "id": "427fb021-b16b-4296-9e07-7288c4dac960",
   "metadata": {},
   "outputs": [],
   "source": []
  }
 ],
 "metadata": {
  "kernelspec": {
   "display_name": "Python 3 (ipykernel)",
   "language": "python",
   "name": "python3"
  },
  "language_info": {
   "codemirror_mode": {
    "name": "ipython",
    "version": 3
   },
   "file_extension": ".py",
   "mimetype": "text/x-python",
   "name": "python",
   "nbconvert_exporter": "python",
   "pygments_lexer": "ipython3",
   "version": "3.9.6"
  }
 },
 "nbformat": 4,
 "nbformat_minor": 5
}
