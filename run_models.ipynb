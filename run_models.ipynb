{
 "cells": [
  {
   "cell_type": "code",
   "execution_count": null,
   "id": "ebd09a4d-7b1d-45e8-8fca-5d44cdfefc8b",
   "metadata": {},
   "outputs": [],
   "source": [
    "from data_processor import BatchProcessor\n",
    "from run import WrappedModel\n",
    "\n",
    "import torch"
   ]
  },
  {
   "cell_type": "code",
   "execution_count": 4,
   "id": "7205563d-d560-4e26-ab28-6c17bf0e104a",
   "metadata": {},
   "outputs": [],
   "source": [
    "MODELS = {\n",
    "    \"clip\": \"openai/clip-vit-base-patch32\",\n",
    "    \"roberta\": \"roberta-base\", \n",
    "    \"roberta_small\": \"klue/roberta-small\", \n",
    "    \"visualbert\": 'uclanlp/visualbert-vqa-coco-pre',\n",
    "    # \"lxmert\": \"unc-nlp/lxmert-base-uncased\", \n",
    "    \"xlnet\": \"xlnet-base-cased\", \n",
    "}\n",
    "\n",
    "attributes = {\"size\": \"bigger\", \"weight\": \"heavier\", \"strength\": \"stronger\", \"rigidness\": \"more rigid\", \"speed\": \"faster\"}"
   ]
  },
  {
   "cell_type": "code",
   "execution_count": 13,
   "id": "7e2e37da-ec77-4e07-b06f-75646ab7d589",
   "metadata": {},
   "outputs": [
    {
     "name": "stdout",
     "output_type": "stream",
     "text": [
      "roberta_small-size-pooled=True 66.86094920899251\n",
      "roberta_small-size-pooled=False 79.35054121565362\n",
      "roberta_small-weight-pooled=True 67.58732737611697\n",
      "roberta_small-weight-pooled=False 78.79772542648253\n",
      "roberta_small-strength-pooled=True 66.96832579185521\n",
      "roberta_small-strength-pooled=False 75.38461538461539\n",
      "roberta_small-rigidness-pooled=True 65.85603112840467\n",
      "roberta_small-rigidness-pooled=False 72.66536964980544\n",
      "roberta_small-speed-pooled=True 73.93364928909952\n",
      "roberta_small-speed-pooled=False 79.62085308056872\n"
     ]
    }
   ],
   "source": [
    "# accs = {}\n",
    "\n",
    "for model in MODELS.keys():\n",
    "    for attr in attributes.keys():\n",
    "        for use_pooled in [True, False]:\n",
    "            try:\n",
    "                m = WrappedModel(attributes=attr, model=model, use_pooled=use_pooled)\n",
    "                acc = m.forward()\n",
    "            except Exception as e:\n",
    "                continue\n",
    "                \n",
    "            name = f\"{model}-{attr}-pooled={use_pooled}\"\n",
    "            accs[name] = acc\n",
    "            print(name, acc)"
   ]
  },
  {
   "cell_type": "code",
   "execution_count": 1,
   "id": "83149cd9-e652-42b9-bb7c-f02662eec68f",
   "metadata": {},
   "outputs": [
    {
     "ename": "NameError",
     "evalue": "name 'accs' is not defined",
     "output_type": "error",
     "traceback": [
      "\u001b[0;31m---------------------------------------------------------------------------\u001b[0m",
      "\u001b[0;31mNameError\u001b[0m                                 Traceback (most recent call last)",
      "\u001b[0;32m/var/folders/nb/76jp2vmd3yg4dq6tm9mcsddh0000gn/T/ipykernel_59003/36836473.py\u001b[0m in \u001b[0;36m<module>\u001b[0;34m\u001b[0m\n\u001b[0;32m----> 1\u001b[0;31m \u001b[0maccs\u001b[0m\u001b[0;34m\u001b[0m\u001b[0;34m\u001b[0m\u001b[0m\n\u001b[0m",
      "\u001b[0;31mNameError\u001b[0m: name 'accs' is not defined"
     ]
    }
   ],
   "source": [
    "accs"
   ]
  },
  {
   "cell_type": "code",
   "execution_count": 28,
   "id": "495290a6-0d73-4250-8c57-6433dc81190d",
   "metadata": {},
   "outputs": [],
   "source": [
    "accs1 = accs"
   ]
  },
  {
   "cell_type": "code",
   "execution_count": 5,
   "id": "64af9fe8-fa3b-4a52-948d-d7b624aa6e6f",
   "metadata": {},
   "outputs": [],
   "source": [
    "import pandas as pd"
   ]
  },
  {
   "cell_type": "code",
   "execution_count": 29,
   "id": "03ee1037-2852-45e3-8f4e-71d36a7173f3",
   "metadata": {},
   "outputs": [],
   "source": [
    "data = pd.DataFrame(data=accs.items(), columns=['model', 'accuracy'])"
   ]
  },
  {
   "cell_type": "code",
   "execution_count": 35,
   "id": "2f9ffa2a-1509-4cc4-b770-e65995726685",
   "metadata": {},
   "outputs": [],
   "source": [
    "table = {}\n",
    "for name in accs1:\n",
    "    raw = name.split('-')[0] + \"-\" + name.split('-')[-1]\n",
    "    if raw not in table:\n",
    "        table[raw] = []\n",
    "\n",
    "    table[raw] += [accs1[name]]"
   ]
  },
  {
   "cell_type": "code",
   "execution_count": 38,
   "id": "6693f21a-4ae5-4706-aa00-2c90c3753683",
   "metadata": {},
   "outputs": [
    {
     "data": {
      "text/plain": [
       "dict_values([[66.36136552872607, 66.28757108042242, 63.16742081447964, 68.28793774319067, 76.18483412322274], [66.94421315570358, 67.26238830219334, 65.88235294117646, 70.03891050583658, 78.90995260663507], [54.53788509575354, 57.27051177904143, 55.65610859728507, 55.54474708171206, 65.04739336492891], [88.17651956702748, 87.40861088545897, 84.34389140271493, 82.87937743190662, 87.79620853080569], [66.86094920899251, 66.28757108042242, 63.07692307692308, 58.268482490272376, 65.63981042654028], [90.17485428809326, 87.40861088545897, 86.42533936651584, 82.1011673151751, 90.04739336492891], [87.59367194004996, 87.08367181153534, 85.3393665158371, 82.29571984435798, 87.91469194312796], [66.86094920899251, 67.58732737611697, 66.96832579185521, 65.85603112840467, 73.93364928909952], [79.35054121565362, 78.79772542648253, 75.38461538461539, 72.66536964980544, 79.62085308056872]])"
      ]
     },
     "execution_count": 38,
     "metadata": {},
     "output_type": "execute_result"
    }
   ],
   "source": [
    "table.values()"
   ]
  },
  {
   "cell_type": "code",
   "execution_count": 40,
   "id": "aa365acc-6a9d-46a2-9e93-833f5a81dde9",
   "metadata": {},
   "outputs": [],
   "source": [
    "t = pd.DataFrame(index=table.keys(), data=table.values(), columns=['size', 'weight', 'strength', 'rigidness', 'speed'])"
   ]
  },
  {
   "cell_type": "code",
   "execution_count": 41,
   "id": "336cd0c5-d682-4810-8b3d-a4f71102a01d",
   "metadata": {},
   "outputs": [
    {
     "data": {
      "text/html": [
       "<div>\n",
       "<style scoped>\n",
       "    .dataframe tbody tr th:only-of-type {\n",
       "        vertical-align: middle;\n",
       "    }\n",
       "\n",
       "    .dataframe tbody tr th {\n",
       "        vertical-align: top;\n",
       "    }\n",
       "\n",
       "    .dataframe thead th {\n",
       "        text-align: right;\n",
       "    }\n",
       "</style>\n",
       "<table border=\"1\" class=\"dataframe\">\n",
       "  <thead>\n",
       "    <tr style=\"text-align: right;\">\n",
       "      <th></th>\n",
       "      <th>size</th>\n",
       "      <th>weight</th>\n",
       "      <th>strength</th>\n",
       "      <th>rigidness</th>\n",
       "      <th>speed</th>\n",
       "    </tr>\n",
       "  </thead>\n",
       "  <tbody>\n",
       "    <tr>\n",
       "      <th>clip-pooled=True</th>\n",
       "      <td>66.361366</td>\n",
       "      <td>66.287571</td>\n",
       "      <td>63.167421</td>\n",
       "      <td>68.287938</td>\n",
       "      <td>76.184834</td>\n",
       "    </tr>\n",
       "    <tr>\n",
       "      <th>clip-pooled=False</th>\n",
       "      <td>66.944213</td>\n",
       "      <td>67.262388</td>\n",
       "      <td>65.882353</td>\n",
       "      <td>70.038911</td>\n",
       "      <td>78.909953</td>\n",
       "    </tr>\n",
       "    <tr>\n",
       "      <th>roberta-pooled=True</th>\n",
       "      <td>54.537885</td>\n",
       "      <td>57.270512</td>\n",
       "      <td>55.656109</td>\n",
       "      <td>55.544747</td>\n",
       "      <td>65.047393</td>\n",
       "    </tr>\n",
       "    <tr>\n",
       "      <th>roberta-pooled=False</th>\n",
       "      <td>88.176520</td>\n",
       "      <td>87.408611</td>\n",
       "      <td>84.343891</td>\n",
       "      <td>82.879377</td>\n",
       "      <td>87.796209</td>\n",
       "    </tr>\n",
       "    <tr>\n",
       "      <th>visualbert-pooled=True</th>\n",
       "      <td>66.860949</td>\n",
       "      <td>66.287571</td>\n",
       "      <td>63.076923</td>\n",
       "      <td>58.268482</td>\n",
       "      <td>65.639810</td>\n",
       "    </tr>\n",
       "    <tr>\n",
       "      <th>visualbert-pooled=False</th>\n",
       "      <td>90.174854</td>\n",
       "      <td>87.408611</td>\n",
       "      <td>86.425339</td>\n",
       "      <td>82.101167</td>\n",
       "      <td>90.047393</td>\n",
       "    </tr>\n",
       "    <tr>\n",
       "      <th>xlnet-pooled=False</th>\n",
       "      <td>87.593672</td>\n",
       "      <td>87.083672</td>\n",
       "      <td>85.339367</td>\n",
       "      <td>82.295720</td>\n",
       "      <td>87.914692</td>\n",
       "    </tr>\n",
       "    <tr>\n",
       "      <th>roberta_small-pooled=True</th>\n",
       "      <td>66.860949</td>\n",
       "      <td>67.587327</td>\n",
       "      <td>66.968326</td>\n",
       "      <td>65.856031</td>\n",
       "      <td>73.933649</td>\n",
       "    </tr>\n",
       "    <tr>\n",
       "      <th>roberta_small-pooled=False</th>\n",
       "      <td>79.350541</td>\n",
       "      <td>78.797725</td>\n",
       "      <td>75.384615</td>\n",
       "      <td>72.665370</td>\n",
       "      <td>79.620853</td>\n",
       "    </tr>\n",
       "  </tbody>\n",
       "</table>\n",
       "</div>"
      ],
      "text/plain": [
       "                                 size     weight   strength  rigidness  \\\n",
       "clip-pooled=True            66.361366  66.287571  63.167421  68.287938   \n",
       "clip-pooled=False           66.944213  67.262388  65.882353  70.038911   \n",
       "roberta-pooled=True         54.537885  57.270512  55.656109  55.544747   \n",
       "roberta-pooled=False        88.176520  87.408611  84.343891  82.879377   \n",
       "visualbert-pooled=True      66.860949  66.287571  63.076923  58.268482   \n",
       "visualbert-pooled=False     90.174854  87.408611  86.425339  82.101167   \n",
       "xlnet-pooled=False          87.593672  87.083672  85.339367  82.295720   \n",
       "roberta_small-pooled=True   66.860949  67.587327  66.968326  65.856031   \n",
       "roberta_small-pooled=False  79.350541  78.797725  75.384615  72.665370   \n",
       "\n",
       "                                speed  \n",
       "clip-pooled=True            76.184834  \n",
       "clip-pooled=False           78.909953  \n",
       "roberta-pooled=True         65.047393  \n",
       "roberta-pooled=False        87.796209  \n",
       "visualbert-pooled=True      65.639810  \n",
       "visualbert-pooled=False     90.047393  \n",
       "xlnet-pooled=False          87.914692  \n",
       "roberta_small-pooled=True   73.933649  \n",
       "roberta_small-pooled=False  79.620853  "
      ]
     },
     "execution_count": 41,
     "metadata": {},
     "output_type": "execute_result"
    }
   ],
   "source": [
    "t"
   ]
  },
  {
   "cell_type": "code",
   "execution_count": 6,
   "id": "f4e1af38-c86f-4b7f-938e-441edc122fa2",
   "metadata": {},
   "outputs": [],
   "source": [
    "import seaborn as sns\n",
    "import matplotlib.pyplot as plt"
   ]
  },
  {
   "cell_type": "code",
   "execution_count": null,
   "id": "c35b8d0d-57c1-4a73-8b94-f2c08f799eb9",
   "metadata": {},
   "outputs": [],
   "source": []
  },
  {
   "cell_type": "code",
   "execution_count": 4,
   "id": "466f753d-493b-4ded-a4dc-34a009f04cfb",
   "metadata": {},
   "outputs": [],
   "source": [
    "m = WrappedModel(attributes='weight', model='clip', use_pooled=True)\n",
    "acc = m.forward()"
   ]
  },
  {
   "cell_type": "code",
   "execution_count": 7,
   "id": "55e25674-d740-413f-b659-a5dfc0d88b9a",
   "metadata": {},
   "outputs": [
    {
     "data": {
      "text/plain": [
       "66.28757108042242"
      ]
     },
     "execution_count": 7,
     "metadata": {},
     "output_type": "execute_result"
    }
   ],
   "source": [
    "acc"
   ]
  },
  {
   "cell_type": "code",
   "execution_count": 5,
   "id": "30611c48-852d-4b85-ae6d-903344c62a12",
   "metadata": {},
   "outputs": [],
   "source": [
    "m = WrappedModel(attributes='weight', model='clip', use_pooled=False)\n",
    "acc1 = m.forward()"
   ]
  },
  {
   "cell_type": "code",
   "execution_count": 6,
   "id": "71e3ce20-c0d5-42e8-9b69-7586593aae29",
   "metadata": {},
   "outputs": [
    {
     "data": {
      "text/plain": [
       "67.26238830219334"
      ]
     },
     "execution_count": 6,
     "metadata": {},
     "output_type": "execute_result"
    }
   ],
   "source": [
    "acc1"
   ]
  },
  {
   "cell_type": "code",
   "execution_count": null,
   "id": "427fb021-b16b-4296-9e07-7288c4dac960",
   "metadata": {
    "collapsed": true,
    "jupyter": {
     "outputs_hidden": true
    },
    "tags": []
   },
   "outputs": [
    {
     "name": "stdout",
     "output_type": "stream",
     "text": [
      "0\n",
      "0\n",
      "0\n",
      "0\n",
      "0\n",
      "0\n",
      "0\n",
      "0\n",
      "0\n",
      "0\n",
      "0\n",
      "0\n",
      "0\n",
      "0\n",
      "0\n",
      "0\n",
      "0\n",
      "0\n",
      "0\n",
      "0\n",
      "0\n",
      "0\n",
      "0\n",
      "0\n",
      "0\n",
      "0\n",
      "0\n",
      "0\n",
      "0\n",
      "0\n",
      "0\n",
      "0\n",
      "0\n",
      "0\n",
      "0\n",
      "0\n",
      "0\n",
      "0\n",
      "0\n",
      "0\n",
      "0\n",
      "0\n",
      "0\n",
      "0\n",
      "0\n",
      "0\n",
      "0\n",
      "0\n",
      "0\n",
      "0\n",
      "0\n",
      "0\n",
      "0\n",
      "0\n",
      "0\n",
      "0\n",
      "0\n",
      "0\n",
      "0\n",
      "0\n",
      "0\n",
      "0\n",
      "0\n",
      "0\n",
      "0\n",
      "0\n",
      "0\n",
      "0\n",
      "0\n",
      "0\n",
      "0\n",
      "0\n",
      "0\n",
      "0\n",
      "0\n",
      "0\n",
      "0\n",
      "0\n",
      "0\n",
      "0\n",
      "0\n",
      "0\n",
      "0\n",
      "0\n",
      "0\n",
      "0\n",
      "0\n",
      "0\n",
      "0\n",
      "0\n",
      "0\n",
      "0\n",
      "0\n",
      "0\n",
      "0\n",
      "0\n",
      "0\n",
      "0\n",
      "0\n",
      "0\n",
      "0\n",
      "0\n"
     ]
    }
   ],
   "source": [
    "from run import WrappedModel\n",
    "\n",
    "m = WrappedModel(attributes='weight', model='lxmert', use_pooled=True, verbose=True, batch_size=20)\n",
    "acc1 = m.forward()\n",
    "acc1"
   ]
  },
  {
   "cell_type": "code",
   "execution_count": 6,
   "id": "b0afe415-8f5c-46a5-8ca3-9b8373cf11e6",
   "metadata": {},
   "outputs": [
    {
     "data": {
      "text/plain": [
       "66.66666666666667"
      ]
     },
     "execution_count": 6,
     "metadata": {},
     "output_type": "execute_result"
    }
   ],
   "source": [
    "acc1"
   ]
  },
  {
   "cell_type": "code",
   "execution_count": 1,
   "id": "79888f4e-782b-4a65-a9d5-dc0fb31e10ba",
   "metadata": {
    "tags": []
   },
   "outputs": [
    {
     "ename": "KeyError",
     "evalue": "'uniter'",
     "output_type": "error",
     "traceback": [
      "\u001b[0;31m---------------------------------------------------------------------------\u001b[0m",
      "\u001b[0;31mKeyError\u001b[0m                                  Traceback (most recent call last)",
      "\u001b[0;32m/var/folders/nb/76jp2vmd3yg4dq6tm9mcsddh0000gn/T/ipykernel_89143/1497329344.py\u001b[0m in \u001b[0;36m<module>\u001b[0;34m\u001b[0m\n\u001b[1;32m      1\u001b[0m \u001b[0;32mfrom\u001b[0m \u001b[0mrun\u001b[0m \u001b[0;32mimport\u001b[0m \u001b[0mWrappedModel\u001b[0m\u001b[0;34m\u001b[0m\u001b[0;34m\u001b[0m\u001b[0m\n\u001b[1;32m      2\u001b[0m \u001b[0;34m\u001b[0m\u001b[0m\n\u001b[0;32m----> 3\u001b[0;31m \u001b[0mm\u001b[0m \u001b[0;34m=\u001b[0m \u001b[0mWrappedModel\u001b[0m\u001b[0;34m(\u001b[0m\u001b[0mattributes\u001b[0m\u001b[0;34m=\u001b[0m\u001b[0;34m'weight'\u001b[0m\u001b[0;34m,\u001b[0m \u001b[0mmodel\u001b[0m\u001b[0;34m=\u001b[0m\u001b[0;34m'uniter'\u001b[0m\u001b[0;34m,\u001b[0m \u001b[0muse_pooled\u001b[0m\u001b[0;34m=\u001b[0m\u001b[0;32mFalse\u001b[0m\u001b[0;34m,\u001b[0m \u001b[0mverbose\u001b[0m\u001b[0;34m=\u001b[0m\u001b[0;32mFalse\u001b[0m\u001b[0;34m)\u001b[0m\u001b[0;34m\u001b[0m\u001b[0;34m\u001b[0m\u001b[0m\n\u001b[0m\u001b[1;32m      4\u001b[0m \u001b[0macc2\u001b[0m \u001b[0;34m=\u001b[0m \u001b[0mm\u001b[0m\u001b[0;34m.\u001b[0m\u001b[0mforward\u001b[0m\u001b[0;34m(\u001b[0m\u001b[0;34m)\u001b[0m\u001b[0;34m\u001b[0m\u001b[0;34m\u001b[0m\u001b[0m\n\u001b[1;32m      5\u001b[0m \u001b[0macc2\u001b[0m\u001b[0;34m\u001b[0m\u001b[0;34m\u001b[0m\u001b[0m\n",
      "\u001b[0;32m~/Desktop/ClassesFall21/cs197/multi_modal_common_sense/run.py\u001b[0m in \u001b[0;36m__init__\u001b[0;34m(self, attributes, model, use_pooled, batch_size, split, dataset_size, verbose, epochs)\u001b[0m\n\u001b[1;32m     34\u001b[0m             \u001b[0mself\u001b[0m\u001b[0;34m.\u001b[0m\u001b[0mmodel\u001b[0m \u001b[0;34m=\u001b[0m \u001b[0mCLIPTextModel\u001b[0m\u001b[0;34m.\u001b[0m\u001b[0mfrom_pretrained\u001b[0m\u001b[0;34m(\u001b[0m\u001b[0mMODELS\u001b[0m\u001b[0;34m[\u001b[0m\u001b[0mmodel\u001b[0m\u001b[0;34m]\u001b[0m\u001b[0;34m)\u001b[0m\u001b[0;34m\u001b[0m\u001b[0;34m\u001b[0m\u001b[0m\n\u001b[1;32m     35\u001b[0m         \u001b[0;32melse\u001b[0m\u001b[0;34m:\u001b[0m\u001b[0;34m\u001b[0m\u001b[0;34m\u001b[0m\u001b[0m\n\u001b[0;32m---> 36\u001b[0;31m             \u001b[0mself\u001b[0m\u001b[0;34m.\u001b[0m\u001b[0mmodel\u001b[0m \u001b[0;34m=\u001b[0m \u001b[0mAutoModel\u001b[0m\u001b[0;34m.\u001b[0m\u001b[0mfrom_pretrained\u001b[0m\u001b[0;34m(\u001b[0m\u001b[0mMODELS\u001b[0m\u001b[0;34m[\u001b[0m\u001b[0mmodel\u001b[0m\u001b[0;34m]\u001b[0m\u001b[0;34m)\u001b[0m\u001b[0;34m\u001b[0m\u001b[0;34m\u001b[0m\u001b[0m\n\u001b[0m\u001b[1;32m     37\u001b[0m             \u001b[0;32mif\u001b[0m \u001b[0mverbose\u001b[0m\u001b[0;34m:\u001b[0m\u001b[0;34m\u001b[0m\u001b[0;34m\u001b[0m\u001b[0m\n\u001b[1;32m     38\u001b[0m                 \u001b[0mprint\u001b[0m\u001b[0;34m(\u001b[0m\u001b[0mself\u001b[0m\u001b[0;34m.\u001b[0m\u001b[0mmodel\u001b[0m\u001b[0;34m)\u001b[0m\u001b[0;34m\u001b[0m\u001b[0;34m\u001b[0m\u001b[0m\n",
      "\u001b[0;32m~/Desktop/ClassesFall21/cs197/.env/lib/python3.9/site-packages/transformers/models/auto/auto_factory.py\u001b[0m in \u001b[0;36mfrom_pretrained\u001b[0;34m(cls, pretrained_model_name_or_path, *model_args, **kwargs)\u001b[0m\n\u001b[1;32m    394\u001b[0m         \u001b[0mkwargs\u001b[0m\u001b[0;34m[\u001b[0m\u001b[0;34m\"_from_auto\"\u001b[0m\u001b[0;34m]\u001b[0m \u001b[0;34m=\u001b[0m \u001b[0;32mTrue\u001b[0m\u001b[0;34m\u001b[0m\u001b[0;34m\u001b[0m\u001b[0m\n\u001b[1;32m    395\u001b[0m         \u001b[0;32mif\u001b[0m \u001b[0;32mnot\u001b[0m \u001b[0misinstance\u001b[0m\u001b[0;34m(\u001b[0m\u001b[0mconfig\u001b[0m\u001b[0;34m,\u001b[0m \u001b[0mPretrainedConfig\u001b[0m\u001b[0;34m)\u001b[0m\u001b[0;34m:\u001b[0m\u001b[0;34m\u001b[0m\u001b[0;34m\u001b[0m\u001b[0m\n\u001b[0;32m--> 396\u001b[0;31m             config, kwargs = AutoConfig.from_pretrained(\n\u001b[0m\u001b[1;32m    397\u001b[0m                 \u001b[0mpretrained_model_name_or_path\u001b[0m\u001b[0;34m,\u001b[0m \u001b[0mreturn_unused_kwargs\u001b[0m\u001b[0;34m=\u001b[0m\u001b[0;32mTrue\u001b[0m\u001b[0;34m,\u001b[0m \u001b[0;34m**\u001b[0m\u001b[0mkwargs\u001b[0m\u001b[0;34m\u001b[0m\u001b[0;34m\u001b[0m\u001b[0m\n\u001b[1;32m    398\u001b[0m             )\n",
      "\u001b[0;32m~/Desktop/ClassesFall21/cs197/.env/lib/python3.9/site-packages/transformers/models/auto/configuration_auto.py\u001b[0m in \u001b[0;36mfrom_pretrained\u001b[0;34m(cls, pretrained_model_name_or_path, **kwargs)\u001b[0m\n\u001b[1;32m    527\u001b[0m         \u001b[0mconfig_dict\u001b[0m\u001b[0;34m,\u001b[0m \u001b[0m_\u001b[0m \u001b[0;34m=\u001b[0m \u001b[0mPretrainedConfig\u001b[0m\u001b[0;34m.\u001b[0m\u001b[0mget_config_dict\u001b[0m\u001b[0;34m(\u001b[0m\u001b[0mpretrained_model_name_or_path\u001b[0m\u001b[0;34m,\u001b[0m \u001b[0;34m**\u001b[0m\u001b[0mkwargs\u001b[0m\u001b[0;34m)\u001b[0m\u001b[0;34m\u001b[0m\u001b[0;34m\u001b[0m\u001b[0m\n\u001b[1;32m    528\u001b[0m         \u001b[0;32mif\u001b[0m \u001b[0;34m\"model_type\"\u001b[0m \u001b[0;32min\u001b[0m \u001b[0mconfig_dict\u001b[0m\u001b[0;34m:\u001b[0m\u001b[0;34m\u001b[0m\u001b[0;34m\u001b[0m\u001b[0m\n\u001b[0;32m--> 529\u001b[0;31m             \u001b[0mconfig_class\u001b[0m \u001b[0;34m=\u001b[0m \u001b[0mCONFIG_MAPPING\u001b[0m\u001b[0;34m[\u001b[0m\u001b[0mconfig_dict\u001b[0m\u001b[0;34m[\u001b[0m\u001b[0;34m\"model_type\"\u001b[0m\u001b[0;34m]\u001b[0m\u001b[0;34m]\u001b[0m\u001b[0;34m\u001b[0m\u001b[0;34m\u001b[0m\u001b[0m\n\u001b[0m\u001b[1;32m    530\u001b[0m             \u001b[0;32mreturn\u001b[0m \u001b[0mconfig_class\u001b[0m\u001b[0;34m.\u001b[0m\u001b[0mfrom_dict\u001b[0m\u001b[0;34m(\u001b[0m\u001b[0mconfig_dict\u001b[0m\u001b[0;34m,\u001b[0m \u001b[0;34m**\u001b[0m\u001b[0mkwargs\u001b[0m\u001b[0;34m)\u001b[0m\u001b[0;34m\u001b[0m\u001b[0;34m\u001b[0m\u001b[0m\n\u001b[1;32m    531\u001b[0m         \u001b[0;32melse\u001b[0m\u001b[0;34m:\u001b[0m\u001b[0;34m\u001b[0m\u001b[0;34m\u001b[0m\u001b[0m\n",
      "\u001b[0;32m~/Desktop/ClassesFall21/cs197/.env/lib/python3.9/site-packages/transformers/models/auto/configuration_auto.py\u001b[0m in \u001b[0;36m__getitem__\u001b[0;34m(self, key)\u001b[0m\n\u001b[1;32m    276\u001b[0m     \u001b[0;32mdef\u001b[0m \u001b[0m__getitem__\u001b[0m\u001b[0;34m(\u001b[0m\u001b[0mself\u001b[0m\u001b[0;34m,\u001b[0m \u001b[0mkey\u001b[0m\u001b[0;34m)\u001b[0m\u001b[0;34m:\u001b[0m\u001b[0;34m\u001b[0m\u001b[0;34m\u001b[0m\u001b[0m\n\u001b[1;32m    277\u001b[0m         \u001b[0;32mif\u001b[0m \u001b[0mkey\u001b[0m \u001b[0;32mnot\u001b[0m \u001b[0;32min\u001b[0m \u001b[0mself\u001b[0m\u001b[0;34m.\u001b[0m\u001b[0m_mapping\u001b[0m\u001b[0;34m:\u001b[0m\u001b[0;34m\u001b[0m\u001b[0;34m\u001b[0m\u001b[0m\n\u001b[0;32m--> 278\u001b[0;31m             \u001b[0;32mraise\u001b[0m \u001b[0mKeyError\u001b[0m\u001b[0;34m(\u001b[0m\u001b[0mkey\u001b[0m\u001b[0;34m)\u001b[0m\u001b[0;34m\u001b[0m\u001b[0;34m\u001b[0m\u001b[0m\n\u001b[0m\u001b[1;32m    279\u001b[0m         \u001b[0mvalue\u001b[0m \u001b[0;34m=\u001b[0m \u001b[0mself\u001b[0m\u001b[0;34m.\u001b[0m\u001b[0m_mapping\u001b[0m\u001b[0;34m[\u001b[0m\u001b[0mkey\u001b[0m\u001b[0;34m]\u001b[0m\u001b[0;34m\u001b[0m\u001b[0;34m\u001b[0m\u001b[0m\n\u001b[1;32m    280\u001b[0m         \u001b[0mmodule_name\u001b[0m \u001b[0;34m=\u001b[0m \u001b[0mmodel_type_to_module_name\u001b[0m\u001b[0;34m(\u001b[0m\u001b[0mkey\u001b[0m\u001b[0;34m)\u001b[0m\u001b[0;34m\u001b[0m\u001b[0;34m\u001b[0m\u001b[0m\n",
      "\u001b[0;31mKeyError\u001b[0m: 'uniter'"
     ]
    }
   ],
   "source": [
    "from run import WrappedModel\n",
    "\n",
    "m = WrappedModel(attributes='weight', model='uniter', use_pooled=False, verbose=False)\n",
    "acc2 = m.forward()\n",
    "acc2"
   ]
  },
  {
   "cell_type": "code",
   "execution_count": null,
   "id": "c2c4acaa-7c41-45e4-9362-31c4b609b38d",
   "metadata": {},
   "outputs": [],
   "source": []
  },
  {
   "cell_type": "code",
   "execution_count": 3,
   "id": "e06ee321-7c12-476f-86d5-17887a9e1536",
   "metadata": {},
   "outputs": [],
   "source": [
    "from transformers import LxmertModel, AutoTokenizer\n",
    "import torch"
   ]
  },
  {
   "cell_type": "code",
   "execution_count": 4,
   "id": "fbbb0d66-a2f7-4fe2-a7cd-6b665bb4c803",
   "metadata": {},
   "outputs": [
    {
     "ename": "KeyboardInterrupt",
     "evalue": "",
     "output_type": "error",
     "traceback": [
      "\u001b[0;31m---------------------------------------------------------------------------\u001b[0m",
      "\u001b[0;31mKeyboardInterrupt\u001b[0m                         Traceback (most recent call last)",
      "\u001b[0;32m/var/folders/nb/76jp2vmd3yg4dq6tm9mcsddh0000gn/T/ipykernel_60465/169979399.py\u001b[0m in \u001b[0;36m<module>\u001b[0;34m\u001b[0m\n\u001b[1;32m      1\u001b[0m \u001b[0mmodel\u001b[0m \u001b[0;34m=\u001b[0m \u001b[0mLxmertModel\u001b[0m\u001b[0;34m.\u001b[0m\u001b[0mfrom_pretrained\u001b[0m\u001b[0;34m(\u001b[0m\u001b[0;34m'unc-nlp/lxmert-base-uncased'\u001b[0m\u001b[0;34m)\u001b[0m\u001b[0;34m\u001b[0m\u001b[0;34m\u001b[0m\u001b[0m\n\u001b[0;32m----> 2\u001b[0;31m \u001b[0mtokenizer\u001b[0m \u001b[0;34m=\u001b[0m \u001b[0mAutoTokenizer\u001b[0m\u001b[0;34m.\u001b[0m\u001b[0mfrom_pretrained\u001b[0m\u001b[0;34m(\u001b[0m\u001b[0;34m'unc-nlp/lxmert-base-uncased'\u001b[0m\u001b[0;34m)\u001b[0m\u001b[0;34m\u001b[0m\u001b[0;34m\u001b[0m\u001b[0m\n\u001b[0m\u001b[1;32m      3\u001b[0m ex = [\"Hello, my dog is cute\", \"boring banana man\",\n\u001b[1;32m      4\u001b[0m      \u001b[0;34m\"Hello, my dog is cute\"\u001b[0m\u001b[0;34m,\u001b[0m \u001b[0;34m\"boring banana man\"\u001b[0m\u001b[0;34m,\u001b[0m\u001b[0;34m\u001b[0m\u001b[0;34m\u001b[0m\u001b[0m\n\u001b[1;32m      5\u001b[0m       \u001b[0;34m\"Hello, my dog is cute\"\u001b[0m\u001b[0;34m,\u001b[0m \u001b[0;34m\"boring banana man\"\u001b[0m\u001b[0;34m,\u001b[0m\u001b[0;34m\u001b[0m\u001b[0;34m\u001b[0m\u001b[0m\n",
      "\u001b[0;32m~/Desktop/ClassesFall21/cs197/.env/lib/python3.9/site-packages/transformers/models/auto/tokenization_auto.py\u001b[0m in \u001b[0;36mfrom_pretrained\u001b[0;34m(cls, pretrained_model_name_or_path, *inputs, **kwargs)\u001b[0m\n\u001b[1;32m    455\u001b[0m \u001b[0;34m\u001b[0m\u001b[0m\n\u001b[1;32m    456\u001b[0m         \u001b[0;31m# Next, let's try to use the tokenizer_config file to get the tokenizer class.\u001b[0m\u001b[0;34m\u001b[0m\u001b[0;34m\u001b[0m\u001b[0;34m\u001b[0m\u001b[0m\n\u001b[0;32m--> 457\u001b[0;31m         \u001b[0mtokenizer_config\u001b[0m \u001b[0;34m=\u001b[0m \u001b[0mget_tokenizer_config\u001b[0m\u001b[0;34m(\u001b[0m\u001b[0mpretrained_model_name_or_path\u001b[0m\u001b[0;34m,\u001b[0m \u001b[0;34m**\u001b[0m\u001b[0mkwargs\u001b[0m\u001b[0;34m)\u001b[0m\u001b[0;34m\u001b[0m\u001b[0;34m\u001b[0m\u001b[0m\n\u001b[0m\u001b[1;32m    458\u001b[0m         \u001b[0mconfig_tokenizer_class\u001b[0m \u001b[0;34m=\u001b[0m \u001b[0mtokenizer_config\u001b[0m\u001b[0;34m.\u001b[0m\u001b[0mget\u001b[0m\u001b[0;34m(\u001b[0m\u001b[0;34m\"tokenizer_class\"\u001b[0m\u001b[0;34m)\u001b[0m\u001b[0;34m\u001b[0m\u001b[0;34m\u001b[0m\u001b[0m\n\u001b[1;32m    459\u001b[0m \u001b[0;34m\u001b[0m\u001b[0m\n",
      "\u001b[0;32m~/Desktop/ClassesFall21/cs197/.env/lib/python3.9/site-packages/transformers/models/auto/tokenization_auto.py\u001b[0m in \u001b[0;36mget_tokenizer_config\u001b[0;34m(pretrained_model_name_or_path, cache_dir, force_download, resume_download, proxies, use_auth_token, revision, local_files_only, **kwargs)\u001b[0m\n\u001b[1;32m    321\u001b[0m     \u001b[0;32mtry\u001b[0m\u001b[0;34m:\u001b[0m\u001b[0;34m\u001b[0m\u001b[0;34m\u001b[0m\u001b[0m\n\u001b[1;32m    322\u001b[0m         \u001b[0;31m# Load from URL or cache if already cached\u001b[0m\u001b[0;34m\u001b[0m\u001b[0;34m\u001b[0m\u001b[0;34m\u001b[0m\u001b[0m\n\u001b[0;32m--> 323\u001b[0;31m         resolved_config_file = cached_path(\n\u001b[0m\u001b[1;32m    324\u001b[0m             \u001b[0mconfig_file\u001b[0m\u001b[0;34m,\u001b[0m\u001b[0;34m\u001b[0m\u001b[0;34m\u001b[0m\u001b[0m\n\u001b[1;32m    325\u001b[0m             \u001b[0mcache_dir\u001b[0m\u001b[0;34m=\u001b[0m\u001b[0mcache_dir\u001b[0m\u001b[0;34m,\u001b[0m\u001b[0;34m\u001b[0m\u001b[0;34m\u001b[0m\u001b[0m\n",
      "\u001b[0;32m~/Desktop/ClassesFall21/cs197/.env/lib/python3.9/site-packages/transformers/file_utils.py\u001b[0m in \u001b[0;36mcached_path\u001b[0;34m(url_or_filename, cache_dir, force_download, proxies, resume_download, user_agent, extract_compressed_file, force_extract, use_auth_token, local_files_only)\u001b[0m\n\u001b[1;32m   1400\u001b[0m     \u001b[0;32mif\u001b[0m \u001b[0mis_remote_url\u001b[0m\u001b[0;34m(\u001b[0m\u001b[0murl_or_filename\u001b[0m\u001b[0;34m)\u001b[0m\u001b[0;34m:\u001b[0m\u001b[0;34m\u001b[0m\u001b[0;34m\u001b[0m\u001b[0m\n\u001b[1;32m   1401\u001b[0m         \u001b[0;31m# URL, so get it from the cache (downloading if necessary)\u001b[0m\u001b[0;34m\u001b[0m\u001b[0;34m\u001b[0m\u001b[0;34m\u001b[0m\u001b[0m\n\u001b[0;32m-> 1402\u001b[0;31m         output_path = get_from_cache(\n\u001b[0m\u001b[1;32m   1403\u001b[0m             \u001b[0murl_or_filename\u001b[0m\u001b[0;34m,\u001b[0m\u001b[0;34m\u001b[0m\u001b[0;34m\u001b[0m\u001b[0m\n\u001b[1;32m   1404\u001b[0m             \u001b[0mcache_dir\u001b[0m\u001b[0;34m=\u001b[0m\u001b[0mcache_dir\u001b[0m\u001b[0;34m,\u001b[0m\u001b[0;34m\u001b[0m\u001b[0;34m\u001b[0m\u001b[0m\n",
      "\u001b[0;32m~/Desktop/ClassesFall21/cs197/.env/lib/python3.9/site-packages/transformers/file_utils.py\u001b[0m in \u001b[0;36mget_from_cache\u001b[0;34m(url, cache_dir, force_download, proxies, etag_timeout, resume_download, user_agent, use_auth_token, local_files_only)\u001b[0m\n\u001b[1;32m   1571\u001b[0m     \u001b[0;32mif\u001b[0m \u001b[0;32mnot\u001b[0m \u001b[0mlocal_files_only\u001b[0m\u001b[0;34m:\u001b[0m\u001b[0;34m\u001b[0m\u001b[0;34m\u001b[0m\u001b[0m\n\u001b[1;32m   1572\u001b[0m         \u001b[0;32mtry\u001b[0m\u001b[0;34m:\u001b[0m\u001b[0;34m\u001b[0m\u001b[0;34m\u001b[0m\u001b[0m\n\u001b[0;32m-> 1573\u001b[0;31m             \u001b[0mr\u001b[0m \u001b[0;34m=\u001b[0m \u001b[0mrequests\u001b[0m\u001b[0;34m.\u001b[0m\u001b[0mhead\u001b[0m\u001b[0;34m(\u001b[0m\u001b[0murl\u001b[0m\u001b[0;34m,\u001b[0m \u001b[0mheaders\u001b[0m\u001b[0;34m=\u001b[0m\u001b[0mheaders\u001b[0m\u001b[0;34m,\u001b[0m \u001b[0mallow_redirects\u001b[0m\u001b[0;34m=\u001b[0m\u001b[0;32mFalse\u001b[0m\u001b[0;34m,\u001b[0m \u001b[0mproxies\u001b[0m\u001b[0;34m=\u001b[0m\u001b[0mproxies\u001b[0m\u001b[0;34m,\u001b[0m \u001b[0mtimeout\u001b[0m\u001b[0;34m=\u001b[0m\u001b[0metag_timeout\u001b[0m\u001b[0;34m)\u001b[0m\u001b[0;34m\u001b[0m\u001b[0;34m\u001b[0m\u001b[0m\n\u001b[0m\u001b[1;32m   1574\u001b[0m             \u001b[0mr\u001b[0m\u001b[0;34m.\u001b[0m\u001b[0mraise_for_status\u001b[0m\u001b[0;34m(\u001b[0m\u001b[0;34m)\u001b[0m\u001b[0;34m\u001b[0m\u001b[0;34m\u001b[0m\u001b[0m\n\u001b[1;32m   1575\u001b[0m             \u001b[0metag\u001b[0m \u001b[0;34m=\u001b[0m \u001b[0mr\u001b[0m\u001b[0;34m.\u001b[0m\u001b[0mheaders\u001b[0m\u001b[0;34m.\u001b[0m\u001b[0mget\u001b[0m\u001b[0;34m(\u001b[0m\u001b[0;34m\"X-Linked-Etag\"\u001b[0m\u001b[0;34m)\u001b[0m \u001b[0;32mor\u001b[0m \u001b[0mr\u001b[0m\u001b[0;34m.\u001b[0m\u001b[0mheaders\u001b[0m\u001b[0;34m.\u001b[0m\u001b[0mget\u001b[0m\u001b[0;34m(\u001b[0m\u001b[0;34m\"ETag\"\u001b[0m\u001b[0;34m)\u001b[0m\u001b[0;34m\u001b[0m\u001b[0;34m\u001b[0m\u001b[0m\n",
      "\u001b[0;32m~/Desktop/ClassesFall21/cs197/.env/lib/python3.9/site-packages/requests/api.py\u001b[0m in \u001b[0;36mhead\u001b[0;34m(url, **kwargs)\u001b[0m\n\u001b[1;32m    100\u001b[0m \u001b[0;34m\u001b[0m\u001b[0m\n\u001b[1;32m    101\u001b[0m     \u001b[0mkwargs\u001b[0m\u001b[0;34m.\u001b[0m\u001b[0msetdefault\u001b[0m\u001b[0;34m(\u001b[0m\u001b[0;34m'allow_redirects'\u001b[0m\u001b[0;34m,\u001b[0m \u001b[0;32mFalse\u001b[0m\u001b[0;34m)\u001b[0m\u001b[0;34m\u001b[0m\u001b[0;34m\u001b[0m\u001b[0m\n\u001b[0;32m--> 102\u001b[0;31m     \u001b[0;32mreturn\u001b[0m \u001b[0mrequest\u001b[0m\u001b[0;34m(\u001b[0m\u001b[0;34m'head'\u001b[0m\u001b[0;34m,\u001b[0m \u001b[0murl\u001b[0m\u001b[0;34m,\u001b[0m \u001b[0;34m**\u001b[0m\u001b[0mkwargs\u001b[0m\u001b[0;34m)\u001b[0m\u001b[0;34m\u001b[0m\u001b[0;34m\u001b[0m\u001b[0m\n\u001b[0m\u001b[1;32m    103\u001b[0m \u001b[0;34m\u001b[0m\u001b[0m\n\u001b[1;32m    104\u001b[0m \u001b[0;34m\u001b[0m\u001b[0m\n",
      "\u001b[0;32m~/Desktop/ClassesFall21/cs197/.env/lib/python3.9/site-packages/requests/api.py\u001b[0m in \u001b[0;36mrequest\u001b[0;34m(method, url, **kwargs)\u001b[0m\n\u001b[1;32m     59\u001b[0m     \u001b[0;31m# cases, and look like a memory leak in others.\u001b[0m\u001b[0;34m\u001b[0m\u001b[0;34m\u001b[0m\u001b[0;34m\u001b[0m\u001b[0m\n\u001b[1;32m     60\u001b[0m     \u001b[0;32mwith\u001b[0m \u001b[0msessions\u001b[0m\u001b[0;34m.\u001b[0m\u001b[0mSession\u001b[0m\u001b[0;34m(\u001b[0m\u001b[0;34m)\u001b[0m \u001b[0;32mas\u001b[0m \u001b[0msession\u001b[0m\u001b[0;34m:\u001b[0m\u001b[0;34m\u001b[0m\u001b[0;34m\u001b[0m\u001b[0m\n\u001b[0;32m---> 61\u001b[0;31m         \u001b[0;32mreturn\u001b[0m \u001b[0msession\u001b[0m\u001b[0;34m.\u001b[0m\u001b[0mrequest\u001b[0m\u001b[0;34m(\u001b[0m\u001b[0mmethod\u001b[0m\u001b[0;34m=\u001b[0m\u001b[0mmethod\u001b[0m\u001b[0;34m,\u001b[0m \u001b[0murl\u001b[0m\u001b[0;34m=\u001b[0m\u001b[0murl\u001b[0m\u001b[0;34m,\u001b[0m \u001b[0;34m**\u001b[0m\u001b[0mkwargs\u001b[0m\u001b[0;34m)\u001b[0m\u001b[0;34m\u001b[0m\u001b[0;34m\u001b[0m\u001b[0m\n\u001b[0m\u001b[1;32m     62\u001b[0m \u001b[0;34m\u001b[0m\u001b[0m\n\u001b[1;32m     63\u001b[0m \u001b[0;34m\u001b[0m\u001b[0m\n",
      "\u001b[0;32m~/Desktop/ClassesFall21/cs197/.env/lib/python3.9/site-packages/requests/sessions.py\u001b[0m in \u001b[0;36mrequest\u001b[0;34m(self, method, url, params, data, headers, cookies, files, auth, timeout, allow_redirects, proxies, hooks, stream, verify, cert, json)\u001b[0m\n\u001b[1;32m    540\u001b[0m         }\n\u001b[1;32m    541\u001b[0m         \u001b[0msend_kwargs\u001b[0m\u001b[0;34m.\u001b[0m\u001b[0mupdate\u001b[0m\u001b[0;34m(\u001b[0m\u001b[0msettings\u001b[0m\u001b[0;34m)\u001b[0m\u001b[0;34m\u001b[0m\u001b[0;34m\u001b[0m\u001b[0m\n\u001b[0;32m--> 542\u001b[0;31m         \u001b[0mresp\u001b[0m \u001b[0;34m=\u001b[0m \u001b[0mself\u001b[0m\u001b[0;34m.\u001b[0m\u001b[0msend\u001b[0m\u001b[0;34m(\u001b[0m\u001b[0mprep\u001b[0m\u001b[0;34m,\u001b[0m \u001b[0;34m**\u001b[0m\u001b[0msend_kwargs\u001b[0m\u001b[0;34m)\u001b[0m\u001b[0;34m\u001b[0m\u001b[0;34m\u001b[0m\u001b[0m\n\u001b[0m\u001b[1;32m    543\u001b[0m \u001b[0;34m\u001b[0m\u001b[0m\n\u001b[1;32m    544\u001b[0m         \u001b[0;32mreturn\u001b[0m \u001b[0mresp\u001b[0m\u001b[0;34m\u001b[0m\u001b[0;34m\u001b[0m\u001b[0m\n",
      "\u001b[0;32m~/Desktop/ClassesFall21/cs197/.env/lib/python3.9/site-packages/requests/sessions.py\u001b[0m in \u001b[0;36msend\u001b[0;34m(self, request, **kwargs)\u001b[0m\n\u001b[1;32m    653\u001b[0m \u001b[0;34m\u001b[0m\u001b[0m\n\u001b[1;32m    654\u001b[0m         \u001b[0;31m# Send the request\u001b[0m\u001b[0;34m\u001b[0m\u001b[0;34m\u001b[0m\u001b[0;34m\u001b[0m\u001b[0m\n\u001b[0;32m--> 655\u001b[0;31m         \u001b[0mr\u001b[0m \u001b[0;34m=\u001b[0m \u001b[0madapter\u001b[0m\u001b[0;34m.\u001b[0m\u001b[0msend\u001b[0m\u001b[0;34m(\u001b[0m\u001b[0mrequest\u001b[0m\u001b[0;34m,\u001b[0m \u001b[0;34m**\u001b[0m\u001b[0mkwargs\u001b[0m\u001b[0;34m)\u001b[0m\u001b[0;34m\u001b[0m\u001b[0;34m\u001b[0m\u001b[0m\n\u001b[0m\u001b[1;32m    656\u001b[0m \u001b[0;34m\u001b[0m\u001b[0m\n\u001b[1;32m    657\u001b[0m         \u001b[0;31m# Total elapsed time of the request (approximately)\u001b[0m\u001b[0;34m\u001b[0m\u001b[0;34m\u001b[0m\u001b[0;34m\u001b[0m\u001b[0m\n",
      "\u001b[0;32m~/Desktop/ClassesFall21/cs197/.env/lib/python3.9/site-packages/requests/adapters.py\u001b[0m in \u001b[0;36msend\u001b[0;34m(self, request, stream, timeout, verify, cert, proxies)\u001b[0m\n\u001b[1;32m    437\u001b[0m         \u001b[0;32mtry\u001b[0m\u001b[0;34m:\u001b[0m\u001b[0;34m\u001b[0m\u001b[0;34m\u001b[0m\u001b[0m\n\u001b[1;32m    438\u001b[0m             \u001b[0;32mif\u001b[0m \u001b[0;32mnot\u001b[0m \u001b[0mchunked\u001b[0m\u001b[0;34m:\u001b[0m\u001b[0;34m\u001b[0m\u001b[0;34m\u001b[0m\u001b[0m\n\u001b[0;32m--> 439\u001b[0;31m                 resp = conn.urlopen(\n\u001b[0m\u001b[1;32m    440\u001b[0m                     \u001b[0mmethod\u001b[0m\u001b[0;34m=\u001b[0m\u001b[0mrequest\u001b[0m\u001b[0;34m.\u001b[0m\u001b[0mmethod\u001b[0m\u001b[0;34m,\u001b[0m\u001b[0;34m\u001b[0m\u001b[0;34m\u001b[0m\u001b[0m\n\u001b[1;32m    441\u001b[0m                     \u001b[0murl\u001b[0m\u001b[0;34m=\u001b[0m\u001b[0murl\u001b[0m\u001b[0;34m,\u001b[0m\u001b[0;34m\u001b[0m\u001b[0;34m\u001b[0m\u001b[0m\n",
      "\u001b[0;32m~/Desktop/ClassesFall21/cs197/.env/lib/python3.9/site-packages/urllib3/connectionpool.py\u001b[0m in \u001b[0;36murlopen\u001b[0;34m(self, method, url, body, headers, retries, redirect, assert_same_host, timeout, pool_timeout, release_conn, chunked, body_pos, **response_kw)\u001b[0m\n\u001b[1;32m    697\u001b[0m \u001b[0;34m\u001b[0m\u001b[0m\n\u001b[1;32m    698\u001b[0m             \u001b[0;31m# Make the request on the httplib connection object.\u001b[0m\u001b[0;34m\u001b[0m\u001b[0;34m\u001b[0m\u001b[0;34m\u001b[0m\u001b[0m\n\u001b[0;32m--> 699\u001b[0;31m             httplib_response = self._make_request(\n\u001b[0m\u001b[1;32m    700\u001b[0m                 \u001b[0mconn\u001b[0m\u001b[0;34m,\u001b[0m\u001b[0;34m\u001b[0m\u001b[0;34m\u001b[0m\u001b[0m\n\u001b[1;32m    701\u001b[0m                 \u001b[0mmethod\u001b[0m\u001b[0;34m,\u001b[0m\u001b[0;34m\u001b[0m\u001b[0;34m\u001b[0m\u001b[0m\n",
      "\u001b[0;32m~/Desktop/ClassesFall21/cs197/.env/lib/python3.9/site-packages/urllib3/connectionpool.py\u001b[0m in \u001b[0;36m_make_request\u001b[0;34m(self, conn, method, url, timeout, chunked, **httplib_request_kw)\u001b[0m\n\u001b[1;32m    380\u001b[0m         \u001b[0;31m# Trigger any extra validation we need to do.\u001b[0m\u001b[0;34m\u001b[0m\u001b[0;34m\u001b[0m\u001b[0;34m\u001b[0m\u001b[0m\n\u001b[1;32m    381\u001b[0m         \u001b[0;32mtry\u001b[0m\u001b[0;34m:\u001b[0m\u001b[0;34m\u001b[0m\u001b[0;34m\u001b[0m\u001b[0m\n\u001b[0;32m--> 382\u001b[0;31m             \u001b[0mself\u001b[0m\u001b[0;34m.\u001b[0m\u001b[0m_validate_conn\u001b[0m\u001b[0;34m(\u001b[0m\u001b[0mconn\u001b[0m\u001b[0;34m)\u001b[0m\u001b[0;34m\u001b[0m\u001b[0;34m\u001b[0m\u001b[0m\n\u001b[0m\u001b[1;32m    383\u001b[0m         \u001b[0;32mexcept\u001b[0m \u001b[0;34m(\u001b[0m\u001b[0mSocketTimeout\u001b[0m\u001b[0;34m,\u001b[0m \u001b[0mBaseSSLError\u001b[0m\u001b[0;34m)\u001b[0m \u001b[0;32mas\u001b[0m \u001b[0me\u001b[0m\u001b[0;34m:\u001b[0m\u001b[0;34m\u001b[0m\u001b[0;34m\u001b[0m\u001b[0m\n\u001b[1;32m    384\u001b[0m             \u001b[0;31m# Py2 raises this as a BaseSSLError, Py3 raises it as socket timeout.\u001b[0m\u001b[0;34m\u001b[0m\u001b[0;34m\u001b[0m\u001b[0;34m\u001b[0m\u001b[0m\n",
      "\u001b[0;32m~/Desktop/ClassesFall21/cs197/.env/lib/python3.9/site-packages/urllib3/connectionpool.py\u001b[0m in \u001b[0;36m_validate_conn\u001b[0;34m(self, conn)\u001b[0m\n\u001b[1;32m   1008\u001b[0m         \u001b[0;31m# Force connect early to allow us to validate the connection.\u001b[0m\u001b[0;34m\u001b[0m\u001b[0;34m\u001b[0m\u001b[0;34m\u001b[0m\u001b[0m\n\u001b[1;32m   1009\u001b[0m         \u001b[0;32mif\u001b[0m \u001b[0;32mnot\u001b[0m \u001b[0mgetattr\u001b[0m\u001b[0;34m(\u001b[0m\u001b[0mconn\u001b[0m\u001b[0;34m,\u001b[0m \u001b[0;34m\"sock\"\u001b[0m\u001b[0;34m,\u001b[0m \u001b[0;32mNone\u001b[0m\u001b[0;34m)\u001b[0m\u001b[0;34m:\u001b[0m  \u001b[0;31m# AppEngine might not have  `.sock`\u001b[0m\u001b[0;34m\u001b[0m\u001b[0;34m\u001b[0m\u001b[0m\n\u001b[0;32m-> 1010\u001b[0;31m             \u001b[0mconn\u001b[0m\u001b[0;34m.\u001b[0m\u001b[0mconnect\u001b[0m\u001b[0;34m(\u001b[0m\u001b[0;34m)\u001b[0m\u001b[0;34m\u001b[0m\u001b[0;34m\u001b[0m\u001b[0m\n\u001b[0m\u001b[1;32m   1011\u001b[0m \u001b[0;34m\u001b[0m\u001b[0m\n\u001b[1;32m   1012\u001b[0m         \u001b[0;32mif\u001b[0m \u001b[0;32mnot\u001b[0m \u001b[0mconn\u001b[0m\u001b[0;34m.\u001b[0m\u001b[0mis_verified\u001b[0m\u001b[0;34m:\u001b[0m\u001b[0;34m\u001b[0m\u001b[0;34m\u001b[0m\u001b[0m\n",
      "\u001b[0;32m~/Desktop/ClassesFall21/cs197/.env/lib/python3.9/site-packages/urllib3/connection.py\u001b[0m in \u001b[0;36mconnect\u001b[0;34m(self)\u001b[0m\n\u001b[1;32m    356\u001b[0m     \u001b[0;32mdef\u001b[0m \u001b[0mconnect\u001b[0m\u001b[0;34m(\u001b[0m\u001b[0mself\u001b[0m\u001b[0;34m)\u001b[0m\u001b[0;34m:\u001b[0m\u001b[0;34m\u001b[0m\u001b[0;34m\u001b[0m\u001b[0m\n\u001b[1;32m    357\u001b[0m         \u001b[0;31m# Add certificate verification\u001b[0m\u001b[0;34m\u001b[0m\u001b[0;34m\u001b[0m\u001b[0;34m\u001b[0m\u001b[0m\n\u001b[0;32m--> 358\u001b[0;31m         \u001b[0mconn\u001b[0m \u001b[0;34m=\u001b[0m \u001b[0mself\u001b[0m\u001b[0;34m.\u001b[0m\u001b[0m_new_conn\u001b[0m\u001b[0;34m(\u001b[0m\u001b[0;34m)\u001b[0m\u001b[0;34m\u001b[0m\u001b[0;34m\u001b[0m\u001b[0m\n\u001b[0m\u001b[1;32m    359\u001b[0m         \u001b[0mhostname\u001b[0m \u001b[0;34m=\u001b[0m \u001b[0mself\u001b[0m\u001b[0;34m.\u001b[0m\u001b[0mhost\u001b[0m\u001b[0;34m\u001b[0m\u001b[0;34m\u001b[0m\u001b[0m\n\u001b[1;32m    360\u001b[0m         \u001b[0mtls_in_tls\u001b[0m \u001b[0;34m=\u001b[0m \u001b[0;32mFalse\u001b[0m\u001b[0;34m\u001b[0m\u001b[0;34m\u001b[0m\u001b[0m\n",
      "\u001b[0;32m~/Desktop/ClassesFall21/cs197/.env/lib/python3.9/site-packages/urllib3/connection.py\u001b[0m in \u001b[0;36m_new_conn\u001b[0;34m(self)\u001b[0m\n\u001b[1;32m    172\u001b[0m \u001b[0;34m\u001b[0m\u001b[0m\n\u001b[1;32m    173\u001b[0m         \u001b[0;32mtry\u001b[0m\u001b[0;34m:\u001b[0m\u001b[0;34m\u001b[0m\u001b[0;34m\u001b[0m\u001b[0m\n\u001b[0;32m--> 174\u001b[0;31m             conn = connection.create_connection(\n\u001b[0m\u001b[1;32m    175\u001b[0m                 \u001b[0;34m(\u001b[0m\u001b[0mself\u001b[0m\u001b[0;34m.\u001b[0m\u001b[0m_dns_host\u001b[0m\u001b[0;34m,\u001b[0m \u001b[0mself\u001b[0m\u001b[0;34m.\u001b[0m\u001b[0mport\u001b[0m\u001b[0;34m)\u001b[0m\u001b[0;34m,\u001b[0m \u001b[0mself\u001b[0m\u001b[0;34m.\u001b[0m\u001b[0mtimeout\u001b[0m\u001b[0;34m,\u001b[0m \u001b[0;34m**\u001b[0m\u001b[0mextra_kw\u001b[0m\u001b[0;34m\u001b[0m\u001b[0;34m\u001b[0m\u001b[0m\n\u001b[1;32m    176\u001b[0m             )\n",
      "\u001b[0;32m~/Desktop/ClassesFall21/cs197/.env/lib/python3.9/site-packages/urllib3/util/connection.py\u001b[0m in \u001b[0;36mcreate_connection\u001b[0;34m(address, timeout, source_address, socket_options)\u001b[0m\n\u001b[1;32m     84\u001b[0m             \u001b[0;32mif\u001b[0m \u001b[0msource_address\u001b[0m\u001b[0;34m:\u001b[0m\u001b[0;34m\u001b[0m\u001b[0;34m\u001b[0m\u001b[0m\n\u001b[1;32m     85\u001b[0m                 \u001b[0msock\u001b[0m\u001b[0;34m.\u001b[0m\u001b[0mbind\u001b[0m\u001b[0;34m(\u001b[0m\u001b[0msource_address\u001b[0m\u001b[0;34m)\u001b[0m\u001b[0;34m\u001b[0m\u001b[0;34m\u001b[0m\u001b[0m\n\u001b[0;32m---> 86\u001b[0;31m             \u001b[0msock\u001b[0m\u001b[0;34m.\u001b[0m\u001b[0mconnect\u001b[0m\u001b[0;34m(\u001b[0m\u001b[0msa\u001b[0m\u001b[0;34m)\u001b[0m\u001b[0;34m\u001b[0m\u001b[0;34m\u001b[0m\u001b[0m\n\u001b[0m\u001b[1;32m     87\u001b[0m             \u001b[0;32mreturn\u001b[0m \u001b[0msock\u001b[0m\u001b[0;34m\u001b[0m\u001b[0;34m\u001b[0m\u001b[0m\n\u001b[1;32m     88\u001b[0m \u001b[0;34m\u001b[0m\u001b[0m\n",
      "\u001b[0;31mKeyboardInterrupt\u001b[0m: "
     ]
    }
   ],
   "source": [
    "model = LxmertModel.from_pretrained('unc-nlp/lxmert-base-uncased')\n",
    "tokenizer = AutoTokenizer.from_pretrained('unc-nlp/lxmert-base-uncased')\n",
    "ex = [\"Hello, my dog is cute\", \"boring banana man\",\n",
    "     \"Hello, my dog is cute\", \"boring banana man\",\n",
    "      \"Hello, my dog is cute\", \"boring banana man\",\n",
    "      \"Hello, my dog is cute\", \"boring banana man\",\n",
    "      \"Hello, my dog is cute\", \"boring banana man\",\n",
    "      \"Hello, my dog is cute\", \"boring banana man\",\n",
    "      \"Hello, my dog is cute\", \"boring banana man\",\n",
    "      \"Hello, my dog is cute\", \"boring banana man\",\n",
    "      \"Hello, my dog is cute\", \"boring banana man\",\n",
    "      \"Hello, my dog is cute\", \"boring banana man\",\n",
    "]\n",
    "inputs = tokenizer(ex, return_tensors=\"pt\", padding=True, truncation=True)\n",
    "\n",
    "visual_feats = torch.rand(len(ex), 768, 2048)\n",
    "bounding_boxes = torch.rand(len(ex), 768, 4)\n",
    "outputs = model(**inputs, visual_feats=visual_feats, visual_pos=bounding_boxes)"
   ]
  },
  {
   "cell_type": "code",
   "execution_count": 19,
   "id": "2221a2b1-3881-44f3-88f1-2b76802c4030",
   "metadata": {},
   "outputs": [
    {
     "data": {
      "text/plain": [
       "LxmertModelOutput(language_output=tensor([[[-0.1968, -0.2681, -0.4193,  ...,  0.8773,  0.2390, -0.0064],\n",
       "         [-0.1829,  0.0691,  0.0464,  ...,  1.8175, -0.1193,  0.0105],\n",
       "         [-0.5989,  0.1893,  0.6945,  ...,  1.4537, -1.0328, -0.0374],\n",
       "         ...,\n",
       "         [-0.8681,  0.1337,  0.1647,  ...,  1.8030, -0.4397,  0.7204],\n",
       "         [-0.8205,  0.3524,  0.6470,  ...,  1.3349,  0.2801,  0.5295],\n",
       "         [-0.4154,  0.2050,  0.1255,  ...,  1.3193,  0.2739,  1.8458]],\n",
       "\n",
       "        [[ 0.6798, -0.1727,  0.2888,  ...,  1.2007,  0.0752,  0.7014],\n",
       "         [ 0.2812, -0.3506,  0.7162,  ...,  1.2011,  0.1780, -0.1038],\n",
       "         [ 1.1505, -0.0873,  0.7995,  ...,  0.0462, -0.1447,  0.5181],\n",
       "         ...,\n",
       "         [ 0.1118,  1.0017,  1.4636,  ...,  0.5721, -1.3300,  0.6858],\n",
       "         [ 0.3358,  0.9604,  1.4060,  ...,  0.5049, -1.2613,  0.8212],\n",
       "         [ 0.3765,  0.9453,  1.4174,  ...,  0.4553, -1.2070,  0.8636]],\n",
       "\n",
       "        [[-0.1909, -0.2782, -0.4477,  ...,  0.8626,  0.2952,  0.0020],\n",
       "         [-0.1886,  0.0868,  0.0238,  ...,  1.8613, -0.0976,  0.0202],\n",
       "         [-0.5725,  0.2044,  0.6770,  ...,  1.4746, -1.0200, -0.0373],\n",
       "         ...,\n",
       "         [-0.8634,  0.1823,  0.1315,  ...,  1.8465, -0.4417,  0.7278],\n",
       "         [-0.8296,  0.3475,  0.6378,  ...,  1.3512,  0.3380,  0.5244],\n",
       "         [-0.4503,  0.2346,  0.0630,  ...,  1.3782,  0.3106,  1.8349]],\n",
       "\n",
       "        ...,\n",
       "\n",
       "        [[ 0.6479, -0.1002,  0.3023,  ...,  1.2049,  0.0238,  0.6766],\n",
       "         [ 0.2756, -0.3218,  0.7289,  ...,  1.1812,  0.1559, -0.1107],\n",
       "         [ 1.1614, -0.0520,  0.8193,  ...,  0.0374, -0.1576,  0.5073],\n",
       "         ...,\n",
       "         [ 0.1188,  1.0204,  1.4659,  ...,  0.5540, -1.3514,  0.6775],\n",
       "         [ 0.3429,  0.9785,  1.4092,  ...,  0.4867, -1.2817,  0.8125],\n",
       "         [ 0.3849,  0.9677,  1.4200,  ...,  0.4381, -1.2277,  0.8561]],\n",
       "\n",
       "        [[-0.1730, -0.2552, -0.4174,  ...,  0.8598,  0.2480, -0.0364],\n",
       "         [-0.1662,  0.0776,  0.0751,  ...,  1.8040, -0.1307,  0.0155],\n",
       "         [-0.5719,  0.1927,  0.7135,  ...,  1.4063, -1.0377, -0.0375],\n",
       "         ...,\n",
       "         [-0.8531,  0.1772,  0.1721,  ...,  1.7798, -0.4590,  0.7307],\n",
       "         [-0.8018,  0.3445,  0.6720,  ...,  1.3239,  0.3050,  0.5349],\n",
       "         [-0.4223,  0.2711,  0.1302,  ...,  1.2983,  0.2868,  1.8517]],\n",
       "\n",
       "        [[ 0.6776, -0.2241,  0.2831,  ...,  1.1880,  0.0575,  0.7190],\n",
       "         [ 0.2725, -0.3548,  0.7096,  ...,  1.2238,  0.1671, -0.1420],\n",
       "         [ 1.1430, -0.1018,  0.8090,  ...,  0.0522, -0.1163,  0.5194],\n",
       "         ...,\n",
       "         [ 0.1079,  0.9933,  1.4549,  ...,  0.5539, -1.3265,  0.6701],\n",
       "         [ 0.3337,  0.9556,  1.3934,  ...,  0.4845, -1.2570,  0.7971],\n",
       "         [ 0.3700,  0.9476,  1.4050,  ...,  0.4395, -1.2045,  0.8340]]],\n",
       "       grad_fn=<NativeLayerNormBackward>), vision_output=tensor([[[-4.0563e-01, -6.0133e-01,  1.0041e+00,  ...,  1.0644e+00,\n",
       "          -5.1606e-01,  3.3234e-01],\n",
       "         [-1.6850e-01,  2.0217e-01,  8.4472e-01,  ...,  3.8146e-01,\n",
       "          -6.6354e-03,  3.6993e-01],\n",
       "         [-2.4738e-01,  1.6674e-01,  7.3594e-01,  ...,  6.6188e-01,\n",
       "          -7.5058e-03,  4.3728e-01],\n",
       "         ...,\n",
       "         [-1.3525e-01, -1.6071e-01,  4.2970e-01,  ...,  7.9692e-01,\n",
       "          -3.6608e-01,  2.3717e-01],\n",
       "         [-2.3388e-01,  2.4342e-01,  7.5370e-01,  ...,  5.2974e-01,\n",
       "           4.5011e-02,  4.1491e-01],\n",
       "         [-4.4246e-01, -7.4822e-02,  4.7541e-01,  ...,  7.6996e-01,\n",
       "           4.1302e-01,  8.3684e-01]],\n",
       "\n",
       "        [[-4.0565e-01, -5.5482e-01,  9.9986e-01,  ...,  1.1724e+00,\n",
       "          -1.6830e-01,  4.0755e-01],\n",
       "         [-2.9840e-01, -7.2765e-01,  1.1006e+00,  ...,  1.1025e+00,\n",
       "          -1.9145e-01,  4.3906e-01],\n",
       "         [-3.7122e-01, -8.8298e-01,  8.0957e-01,  ...,  8.9462e-01,\n",
       "          -2.4011e-01,  5.4210e-01],\n",
       "         ...,\n",
       "         [-1.7744e-01, -5.8190e-02,  5.1512e-01,  ...,  1.2814e+00,\n",
       "           3.9040e-01,  2.3330e-01],\n",
       "         [-3.1637e-01, -7.1223e-01,  9.6820e-01,  ...,  1.1520e+00,\n",
       "          -6.7356e-02,  5.2651e-01],\n",
       "         [-6.5326e-01, -1.4711e-01,  3.8257e-01,  ...,  1.0319e+00,\n",
       "           2.9418e-01,  5.1456e-01]],\n",
       "\n",
       "        [[-7.2443e-01, -1.4247e-03,  5.6105e-01,  ...,  7.4808e-01,\n",
       "           7.3335e-02,  9.1316e-02],\n",
       "         [-2.3249e-01,  1.6034e-01,  8.5840e-01,  ...,  5.2441e-01,\n",
       "           6.7552e-03,  3.0981e-01],\n",
       "         [-1.1953e-01, -1.3218e-03,  8.4939e-01,  ...,  6.4463e-01,\n",
       "          -1.6440e-02,  1.4974e-01],\n",
       "         ...,\n",
       "         [-3.2267e-01,  3.8405e-01,  7.5149e-01,  ...,  5.7617e-01,\n",
       "           3.2866e-02,  4.6980e-01],\n",
       "         [-3.1032e-01, -8.0579e-01,  8.7894e-01,  ...,  1.0203e+00,\n",
       "          -1.6955e-01,  7.0638e-01],\n",
       "         [-5.4535e-02,  8.6567e-02,  7.3473e-01,  ...,  3.4340e-01,\n",
       "          -1.0915e-01,  4.3545e-01]],\n",
       "\n",
       "        ...,\n",
       "\n",
       "        [[-2.0648e-01, -8.4465e-01,  9.9485e-01,  ...,  1.0107e+00,\n",
       "          -1.2753e-01,  5.2750e-01],\n",
       "         [-2.7918e-01,  3.2574e-01,  6.2792e-01,  ...,  7.4591e-01,\n",
       "           2.2737e-01,  3.8052e-01],\n",
       "         [-5.2374e-01, -4.5852e-01,  1.6973e-01,  ...,  1.3576e+00,\n",
       "          -2.1388e-02,  7.7599e-01],\n",
       "         ...,\n",
       "         [-2.9731e-01, -4.7446e-01,  3.8668e-01,  ...,  8.1531e-01,\n",
       "          -1.9617e-01, -8.8566e-02],\n",
       "         [ 1.4623e-03,  1.1797e-01,  5.9687e-01,  ...,  4.3940e-01,\n",
       "           7.6028e-02,  4.7476e-01],\n",
       "         [-2.3935e-01,  3.1599e-01,  7.4795e-01,  ...,  5.1350e-01,\n",
       "           1.6226e-01,  3.8256e-01]],\n",
       "\n",
       "        [[-1.2014e-01,  9.6864e-02,  8.2563e-01,  ...,  3.9139e-01,\n",
       "          -1.3397e-02,  3.4767e-01],\n",
       "         [-1.8183e-01,  1.6140e-01,  7.4127e-01,  ...,  5.9744e-01,\n",
       "           4.7976e-02,  2.3375e-01],\n",
       "         [-3.5536e-01,  1.0527e-01,  5.5300e-01,  ...,  8.0777e-01,\n",
       "           3.5517e-01,  7.4309e-01],\n",
       "         ...,\n",
       "         [-4.7687e-01, -7.9003e-01,  1.0225e+00,  ...,  1.1509e+00,\n",
       "          -2.9310e-01,  5.0011e-01],\n",
       "         [-3.3237e-01,  3.6258e-01,  7.1306e-01,  ...,  6.0856e-01,\n",
       "           1.6391e-02,  4.2064e-01],\n",
       "         [-2.5071e-01, -9.4905e-01,  9.8756e-01,  ...,  8.7131e-01,\n",
       "          -2.8561e-01,  5.0884e-01]],\n",
       "\n",
       "        [[-7.7545e-02,  1.7064e-01,  5.1861e-01,  ...,  6.4253e-01,\n",
       "          -2.7164e-02,  4.1952e-01],\n",
       "         [-1.4573e-03,  1.0229e-02,  4.9569e-01,  ...,  6.9960e-01,\n",
       "          -1.4720e-01,  2.5373e-01],\n",
       "         [-5.5952e-02,  7.6580e-02,  4.1795e-01,  ...,  8.3206e-01,\n",
       "          -1.6188e-01,  2.4449e-01],\n",
       "         ...,\n",
       "         [-2.7934e-01, -1.6151e-01,  3.2882e-01,  ...,  1.0630e+00,\n",
       "           2.7965e-01,  3.0187e-01],\n",
       "         [-2.5592e-01, -4.9169e-01,  5.9010e-01,  ...,  5.9552e-01,\n",
       "          -2.2202e-02,  5.0963e-01],\n",
       "         [-4.1215e-02,  2.2819e-01,  6.3872e-01,  ...,  5.4481e-01,\n",
       "           2.5339e-02,  4.3430e-01]]], grad_fn=<NativeLayerNormBackward>), pooled_output=tensor([[ 3.3377e-01, -1.7428e-01,  1.0757e-02,  ...,  4.4380e-01,\n",
       "          9.8180e-01, -1.9196e-01],\n",
       "        [-3.9401e-02, -1.8319e-01, -4.5847e-02,  ..., -2.3456e-02,\n",
       "          9.1010e-01,  1.0378e-01],\n",
       "        [ 3.2714e-01, -1.5866e-01, -3.0772e-04,  ...,  4.7013e-01,\n",
       "          9.8006e-01, -2.0390e-01],\n",
       "        ...,\n",
       "        [-6.2080e-02, -1.9162e-01, -9.7457e-02,  ...,  4.1827e-02,\n",
       "          9.0771e-01,  7.1686e-02],\n",
       "        [ 3.2334e-01, -1.4617e-01, -8.0996e-03,  ...,  4.9872e-01,\n",
       "          9.8123e-01, -2.0770e-01],\n",
       "        [-8.2309e-02, -1.4377e-01, -4.2052e-02,  ...,  4.0335e-02,\n",
       "          9.1403e-01,  7.2573e-02]], grad_fn=<TanhBackward>), language_hidden_states=None, vision_hidden_states=None, language_attentions=None, vision_attentions=None, cross_encoder_attentions=None)"
      ]
     },
     "execution_count": 19,
     "metadata": {},
     "output_type": "execute_result"
    }
   ],
   "source": [
    "outputs"
   ]
  },
  {
   "cell_type": "code",
   "execution_count": 18,
   "id": "a4bf9f7f-3555-457f-95f3-64308d34f224",
   "metadata": {},
   "outputs": [
    {
     "data": {
      "text/plain": [
       "'lxmert'"
      ]
     },
     "execution_count": 18,
     "metadata": {},
     "output_type": "execute_result"
    }
   ],
   "source": [
    "model.base_model_prefix"
   ]
  },
  {
   "cell_type": "code",
   "execution_count": null,
   "id": "86a4f8d8-21b4-4376-b3fb-68e639e48a15",
   "metadata": {},
   "outputs": [],
   "source": []
  }
 ],
 "metadata": {
  "kernelspec": {
   "display_name": "Python 3 (ipykernel)",
   "language": "python",
   "name": "python3"
  },
  "language_info": {
   "codemirror_mode": {
    "name": "ipython",
    "version": 3
   },
   "file_extension": ".py",
   "mimetype": "text/x-python",
   "name": "python",
   "nbconvert_exporter": "python",
   "pygments_lexer": "ipython3",
   "version": "3.9.7"
  }
 },
 "nbformat": 4,
 "nbformat_minor": 5
}
