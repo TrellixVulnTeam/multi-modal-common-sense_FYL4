{
 "cells": [
  {
   "cell_type": "code",
   "execution_count": 1,
   "id": "sublime-wagner",
   "metadata": {},
   "outputs": [],
   "source": [
    "from data_processor import batch_processor\n",
    "from train_model import run_model\n",
    "\n",
    "from IPython.display import display"
   ]
  },
  {
   "cell_type": "code",
   "execution_count": 5,
   "id": "vietnamese-bedroom",
   "metadata": {},
   "outputs": [],
   "source": [
    "def run(args):\n",
    "    # train data\n",
    "    train_processor = batch_processor(args[\"dataset\"], \"train\", attributes=args[\"attributes\"])\n",
    "    train_labels, _, train_sentences, _ = train_processor.forward()\n",
    "\n",
    "    # test data\n",
    "    test_processor = batch_processor(args[\"dataset\"], \"test\", attributes=args[\"attributes\"])\n",
    "    test_labels, _, test_sentences, _ = test_processor.forward()\n",
    "\n",
    "    # run model\n",
    "    accuracy, error_idxs = run_model(args[\"model\"], train_labels, train_sentences,\n",
    "                                      test_labels, test_sentences,\n",
    "                                      try_encoder=args[\"try_encoder\"], verbose=args[\"verbose\"])\n",
    "    display(f\"The model achieved {accuracy}% accuracy\")\n",
    "\n",
    "    # logging\n",
    "    curr_directory = os.path.dirname(__file__)\n",
    "    extensions = [\"./log\", f\"/{args['model']}\", f\"/{args['dataset']}\", f\"/{args['attributes']}\",\n",
    "                   f\"/encoder_{args['try_encoder']}\"]\n",
    "    for curr_dir in extensions:\n",
    "        curr_directory = curr_directory + curr_dir\n",
    "        if not os.path.isdir(curr_directory):\n",
    "            os.mkdir(curr_directory)\n",
    "    file = open(curr_directory + \"/log.txt\", \"w\")\n",
    "    file.write(f\"The model achieved {accuracy}% accuracy\\n\")\n",
    "    file.write(str(error_idxs))"
   ]
  },
  {
   "cell_type": "code",
   "execution_count": 8,
   "id": "covered-portfolio",
   "metadata": {},
   "outputs": [],
   "source": [
    "args = {}\n",
    "args[\"verbose\"] = False\n",
    "\n",
    "all_models = ['roberta', 'roberta_small', 'visualbert', 'clip'] #, 'uniter']\n",
    "# all_models = ['uniter']\n",
    "all_datasets = [\"doq\", \"verb\"] #, \"prost\"]\n",
    "dataset_attributes = {\"verb\": ['size', 'weight', 'strength', 'rigidness', 'speed'],\n",
    "                      \"prost\":['all', 'bouncing', 'breaking', 'circumference', 'directions', 'grasping',\n",
    "                               'height', 'mass', 'rolling', 'sliding', 'stacking'],\n",
    "                      \"doq\": [\"NA\"]}"
   ]
  },
  {
   "cell_type": "code",
   "execution_count": 9,
   "id": "billion-brake",
   "metadata": {},
   "outputs": [
    {
     "data": {
      "text/plain": [
       "'roberta model on doq dataset with attribute NA with encodings!!!!!!!!!!!!'"
      ]
     },
     "metadata": {},
     "output_type": "display_data"
    },
    {
     "name": "stderr",
     "output_type": "stream",
     "text": [
      "ERROR:root:Internal Python error in the inspect module.\n",
      "Below is the traceback from this internal error.\n",
      "\n",
      "\n",
      "KeyboardInterrupt\n",
      "\n"
     ]
    }
   ],
   "source": [
    "args[\"try_encoder\"] = True\n",
    "for dataset in all_datasets:\n",
    "    args[\"dataset\"] = dataset\n",
    "    for attr in dataset_attributes[dataset]:\n",
    "        args[\"attributes\"] = attr\n",
    "        for model in all_models:\n",
    "            args[\"model\"] = model\n",
    "            display(f\"{model} model on {dataset} dataset with attribute {attr} with encodings!!!!!!!!!!!!\")\n",
    "            \n",
    "            run(args)"
   ]
  },
  {
   "cell_type": "code",
   "execution_count": null,
   "id": "later-payday",
   "metadata": {},
   "outputs": [],
   "source": [
    "args = {}\n",
    "args[\"verbose\"] = False\n",
    "\n",
    "all_models = ['roberta', 'roberta_small', 'visualbert', 't5', 'lxmert', 'clip'] # , 'uniter']\n",
    "all_datasets = [\"doq\", \"verb\"] #, \"prost\"]"
   ]
  },
  {
   "cell_type": "code",
   "execution_count": null,
   "id": "exciting-combine",
   "metadata": {},
   "outputs": [],
   "source": [
    "args[\"try_encoder\"] = True\n",
    "for dataset in all_datasets:\n",
    "    args[\"dataset\"] = dataset\n",
    "    for attr in dataset_attributes[dataset]:\n",
    "        args[\"attributes\"] = attr\n",
    "        for model in all_models:\n",
    "            args[\"model\"] = model\n",
    "            display(f\"{model} model on {dataset} dataset with attribute {attr} with embeddings!!!!!!!!!!!!\")\n",
    "            \n",
    "            run(args)"
   ]
  },
  {
   "cell_type": "code",
   "execution_count": null,
   "id": "amino-motivation",
   "metadata": {},
   "outputs": [],
   "source": []
  }
 ],
 "metadata": {
  "kernelspec": {
   "display_name": "Python 3",
   "language": "python",
   "name": "python3"
  },
  "language_info": {
   "codemirror_mode": {
    "name": "ipython",
    "version": 3
   },
   "file_extension": ".py",
   "mimetype": "text/x-python",
   "name": "python",
   "nbconvert_exporter": "python",
   "pygments_lexer": "ipython3",
   "version": "3.7.9"
  }
 },
 "nbformat": 4,
 "nbformat_minor": 5
}
